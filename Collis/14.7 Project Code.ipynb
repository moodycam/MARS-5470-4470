{
 "cells": [
  {
   "cell_type": "code",
   "execution_count": 1,
   "metadata": {},
   "outputs": [],
   "source": [
    "import numpy as np\n",
    "import pandas as pd\n",
    "import matplotlib.pyplot as plt\n",
    "%matplotlib inline\n",
    "from pandas import ExcelWriter\n",
    "from pandas import ExcelFile"
   ]
  },
  {
   "cell_type": "code",
   "execution_count": 3,
   "metadata": {
    "scrolled": true
   },
   "outputs": [],
   "source": [
    "file = \"C:\\\\Users\\Bridgett\\Desktop\\MER.xlsx\"\n",
    "Major_ecoregions = pd.read_excel(file)"
   ]
  },
  {
   "cell_type": "code",
   "execution_count": 4,
   "metadata": {},
   "outputs": [],
   "source": [
    "Major_ecoregions.columns = ['Index','Major Ecoregion', 'Major_ecoreg_area', 'Major_ecoreg_percent_area']"
   ]
  },
  {
   "cell_type": "code",
   "execution_count": 5,
   "metadata": {},
   "outputs": [],
   "source": [
    "Major_ecoregions=Major_ecoregions.drop(Major_ecoregions.columns[[0]], axis=1) "
   ]
  },
  {
   "cell_type": "code",
   "execution_count": 6,
   "metadata": {},
   "outputs": [
    {
     "data": {
      "text/html": [
       "<div>\n",
       "<style scoped>\n",
       "    .dataframe tbody tr th:only-of-type {\n",
       "        vertical-align: middle;\n",
       "    }\n",
       "\n",
       "    .dataframe tbody tr th {\n",
       "        vertical-align: top;\n",
       "    }\n",
       "\n",
       "    .dataframe thead th {\n",
       "        text-align: right;\n",
       "    }\n",
       "</style>\n",
       "<table border=\"1\" class=\"dataframe\">\n",
       "  <thead>\n",
       "    <tr style=\"text-align: right;\">\n",
       "      <th></th>\n",
       "      <th>Major Ecoregion</th>\n",
       "      <th>Major_ecoreg_area</th>\n",
       "      <th>Major_ecoreg_percent_area</th>\n",
       "    </tr>\n",
       "  </thead>\n",
       "  <tbody>\n",
       "    <tr>\n",
       "      <th>0</th>\n",
       "      <td>Tamaulipan Mixed Deciduous Thornscrub</td>\n",
       "      <td>6.187106e+08</td>\n",
       "      <td>5.327991</td>\n",
       "    </tr>\n",
       "    <tr>\n",
       "      <th>1</th>\n",
       "      <td>Tamaulipan Savanna Grassland</td>\n",
       "      <td>2.467284e+09</td>\n",
       "      <td>21.246872</td>\n",
       "    </tr>\n",
       "    <tr>\n",
       "      <th>2</th>\n",
       "      <td>Tamaulipan Calcareous Thornscrub</td>\n",
       "      <td>4.422166e+08</td>\n",
       "      <td>3.808123</td>\n",
       "    </tr>\n",
       "    <tr>\n",
       "      <th>3</th>\n",
       "      <td>Tamaulipan Floodplain</td>\n",
       "      <td>2.022538e+08</td>\n",
       "      <td>1.741697</td>\n",
       "    </tr>\n",
       "    <tr>\n",
       "      <th>4</th>\n",
       "      <td>Tamulipan Ramadero</td>\n",
       "      <td>1.765012e+08</td>\n",
       "      <td>1.519930</td>\n",
       "    </tr>\n",
       "    <tr>\n",
       "      <th>5</th>\n",
       "      <td>Mainly Natural Azonal Mapped Types</td>\n",
       "      <td>1.821777e+09</td>\n",
       "      <td>15.688131</td>\n",
       "    </tr>\n",
       "    <tr>\n",
       "      <th>6</th>\n",
       "      <td>Agricultural and other Human-related Mapped Types</td>\n",
       "      <td>3.570055e+09</td>\n",
       "      <td>30.743329</td>\n",
       "    </tr>\n",
       "    <tr>\n",
       "      <th>7</th>\n",
       "      <td>Tamaulipan Closed Depression Wetland</td>\n",
       "      <td>1.499307e+07</td>\n",
       "      <td>0.129112</td>\n",
       "    </tr>\n",
       "    <tr>\n",
       "      <th>8</th>\n",
       "      <td>Texas Saline Coastal Prairie</td>\n",
       "      <td>5.357306e+08</td>\n",
       "      <td>4.613413</td>\n",
       "    </tr>\n",
       "    <tr>\n",
       "      <th>9</th>\n",
       "      <td>Texas Coast Salt and Brackish Tidal Marsh</td>\n",
       "      <td>2.595099e+08</td>\n",
       "      <td>2.234754</td>\n",
       "    </tr>\n",
       "    <tr>\n",
       "      <th>10</th>\n",
       "      <td>Texas Coast Dune and Coastal Grassland</td>\n",
       "      <td>2.321518e+07</td>\n",
       "      <td>0.199916</td>\n",
       "    </tr>\n",
       "    <tr>\n",
       "      <th>11</th>\n",
       "      <td>Rio Grande Delta Thorn Woodland and Shrubland</td>\n",
       "      <td>1.637675e+06</td>\n",
       "      <td>0.014103</td>\n",
       "    </tr>\n",
       "    <tr>\n",
       "      <th>12</th>\n",
       "      <td>Texas Coastal Beach</td>\n",
       "      <td>7.274650e+08</td>\n",
       "      <td>6.264523</td>\n",
       "    </tr>\n",
       "    <tr>\n",
       "      <th>13</th>\n",
       "      <td>Central and South Texas Coastal Fringe Forest ...</td>\n",
       "      <td>8.874322e+06</td>\n",
       "      <td>0.076421</td>\n",
       "    </tr>\n",
       "    <tr>\n",
       "      <th>14</th>\n",
       "      <td>Southeastern Coastal Plain Interdunal Wetland</td>\n",
       "      <td>3.764550e+08</td>\n",
       "      <td>3.241821</td>\n",
       "    </tr>\n",
       "    <tr>\n",
       "      <th>15</th>\n",
       "      <td>South Texas Salt and Brackish Tidal Flats</td>\n",
       "      <td>6.835801e+07</td>\n",
       "      <td>0.588661</td>\n",
       "    </tr>\n",
       "    <tr>\n",
       "      <th>16</th>\n",
       "      <td>Tamaulipan Lomas</td>\n",
       "      <td>6.491596e+05</td>\n",
       "      <td>0.005590</td>\n",
       "    </tr>\n",
       "    <tr>\n",
       "      <th>17</th>\n",
       "      <td>Tamaulipan Palm Grove Riparian Forest</td>\n",
       "      <td>1.377513e+07</td>\n",
       "      <td>0.118624</td>\n",
       "    </tr>\n",
       "    <tr>\n",
       "      <th>18</th>\n",
       "      <td>Tamaulipan Saline Lake</td>\n",
       "      <td>1.591856e+08</td>\n",
       "      <td>1.370818</td>\n",
       "    </tr>\n",
       "    <tr>\n",
       "      <th>19</th>\n",
       "      <td>Tamaulipan Saline Thornscrub</td>\n",
       "      <td>1.075489e+08</td>\n",
       "      <td>0.926151</td>\n",
       "    </tr>\n",
       "    <tr>\n",
       "      <th>20</th>\n",
       "      <td>Tamaulipan Caliche Grassland</td>\n",
       "      <td>1.625977e+07</td>\n",
       "      <td>0.140020</td>\n",
       "    </tr>\n",
       "  </tbody>\n",
       "</table>\n",
       "</div>"
      ],
      "text/plain": [
       "                                      Major Ecoregion  Major_ecoreg_area  \\\n",
       "0               Tamaulipan Mixed Deciduous Thornscrub       6.187106e+08   \n",
       "1                        Tamaulipan Savanna Grassland       2.467284e+09   \n",
       "2                    Tamaulipan Calcareous Thornscrub       4.422166e+08   \n",
       "3                               Tamaulipan Floodplain       2.022538e+08   \n",
       "4                                  Tamulipan Ramadero       1.765012e+08   \n",
       "5                  Mainly Natural Azonal Mapped Types       1.821777e+09   \n",
       "6   Agricultural and other Human-related Mapped Types       3.570055e+09   \n",
       "7                Tamaulipan Closed Depression Wetland       1.499307e+07   \n",
       "8                        Texas Saline Coastal Prairie       5.357306e+08   \n",
       "9           Texas Coast Salt and Brackish Tidal Marsh       2.595099e+08   \n",
       "10             Texas Coast Dune and Coastal Grassland       2.321518e+07   \n",
       "11      Rio Grande Delta Thorn Woodland and Shrubland       1.637675e+06   \n",
       "12                                Texas Coastal Beach       7.274650e+08   \n",
       "13  Central and South Texas Coastal Fringe Forest ...       8.874322e+06   \n",
       "14      Southeastern Coastal Plain Interdunal Wetland       3.764550e+08   \n",
       "15          South Texas Salt and Brackish Tidal Flats       6.835801e+07   \n",
       "16                                   Tamaulipan Lomas       6.491596e+05   \n",
       "17              Tamaulipan Palm Grove Riparian Forest       1.377513e+07   \n",
       "18                             Tamaulipan Saline Lake       1.591856e+08   \n",
       "19                       Tamaulipan Saline Thornscrub       1.075489e+08   \n",
       "20                       Tamaulipan Caliche Grassland       1.625977e+07   \n",
       "\n",
       "    Major_ecoreg_percent_area  \n",
       "0                    5.327991  \n",
       "1                   21.246872  \n",
       "2                    3.808123  \n",
       "3                    1.741697  \n",
       "4                    1.519930  \n",
       "5                   15.688131  \n",
       "6                   30.743329  \n",
       "7                    0.129112  \n",
       "8                    4.613413  \n",
       "9                    2.234754  \n",
       "10                   0.199916  \n",
       "11                   0.014103  \n",
       "12                   6.264523  \n",
       "13                   0.076421  \n",
       "14                   3.241821  \n",
       "15                   0.588661  \n",
       "16                   0.005590  \n",
       "17                   0.118624  \n",
       "18                   1.370818  \n",
       "19                   0.926151  \n",
       "20                   0.140020  "
      ]
     },
     "execution_count": 6,
     "metadata": {},
     "output_type": "execute_result"
    }
   ],
   "source": [
    "Major_ecoregions "
   ]
  },
  {
   "cell_type": "code",
   "execution_count": null,
   "metadata": {},
   "outputs": [],
   "source": [
    "Major_ecoregions"
   ]
  },
  {
   "cell_type": "code",
   "execution_count": null,
   "metadata": {},
   "outputs": [],
   "source": [
    "file1 = \"C:\\\\Users\\Bridgett\\Desktop\\Sub_Ecoregions.xlsx\"\n",
    "Sub_ecoregions = pd.read_excel(file1)"
   ]
  },
  {
   "cell_type": "code",
   "execution_count": null,
   "metadata": {},
   "outputs": [],
   "source": [
    "Sub_ecoregions.columns = ['Index','Veg_ID', 'Sub_ecoreg_area', 'Sub_ecoreg_percent_area']"
   ]
  },
  {
   "cell_type": "code",
   "execution_count": null,
   "metadata": {},
   "outputs": [],
   "source": [
    "Sub_ecoregions=Sub_ecoregions.drop(Sub_ecoregions.columns[[0]], axis=1) "
   ]
  },
  {
   "cell_type": "code",
   "execution_count": null,
   "metadata": {
    "scrolled": true
   },
   "outputs": [],
   "source": [
    "Sub_ecoregions"
   ]
  },
  {
   "cell_type": "code",
   "execution_count": null,
   "metadata": {},
   "outputs": [],
   "source": [
    "ax = Major_ecoregions.plot(kind='barh', figsize=(8, 10), color='#86bf91', zorder=2, width=0.85)\n",
    "\n",
    "# Despine\n",
    "ax.spines['right'].set_visible(False)\n",
    "ax.spines['top'].set_visible(False)\n",
    "ax.spines['left'].set_visible(False)\n",
    "ax.spines['bottom'].set_visible(False)\n",
    "\n",
    "  # Switch off ticks\n",
    "ax.tick_params(axis=\"both\", which=\"both\", bottom=\"off\", top=\"off\", labelbottom=\"on\", left=\"off\", right=\"off\", labelleft=\"on\")\n",
    "\n",
    "  # Draw vertical axis lines\n",
    "vals = ax.get_xticks()\n",
    "for tick in vals:\n",
    "    ax.axvline(x=tick, linestyle='dashed', alpha=0.4, color='#eeeeee', zorder=1)\n",
    "\n",
    "  # Set x-axis label\n",
    "ax.set_xlabel(\"Total Area (Meters)\", labelpad=20, weight='bold', size=12)\n",
    "\n",
    "  # Set y-axis label\n",
    "ax.set_ylabel(\"Major Ecoregions\", labelpad=20, weight='bold', size=12)\n"
   ]
  },
  {
   "cell_type": "code",
   "execution_count": null,
   "metadata": {},
   "outputs": [],
   "source": [
    "sorted_by_ascending = Major_ecoregions.sort_values(['Major_ecoreg_percent_area'], ascending=False)"
   ]
  },
  {
   "cell_type": "code",
   "execution_count": null,
   "metadata": {},
   "outputs": [],
   "source": [
    "sorted_by_ascending[\"Major_ecoreg_percent_area\"]"
   ]
  },
  {
   "cell_type": "code",
   "execution_count": null,
   "metadata": {},
   "outputs": [],
   "source": [
    "sorted_by_ascending[\"Major_ecoreg_percent_area\"].plot(kind=\"barh\")\n",
    "plt.show()"
   ]
  },
  {
   "cell_type": "code",
   "execution_count": null,
   "metadata": {},
   "outputs": [],
   "source": [
    "Major_ecoregions.plot.(kind=\"barh\",x='Major_ecoreg_percent_area', y='Major Ecoregion', rot=0)"
   ]
  },
  {
   "cell_type": "code",
   "execution_count": null,
   "metadata": {},
   "outputs": [],
   "source": [
    "df=pd.sorted_by_ascending[\"Major_ecoreg_percent_area\"]"
   ]
  },
  {
   "cell_type": "code",
   "execution_count": null,
   "metadata": {},
   "outputs": [],
   "source": [
    "ax = Major_ecoregions[['Major_ecoreg_percent_area','Major Ecoregion']].plot(kind='bar', title =\"Major Ecoregions by %Area in the RGV\", figsize=(15, 10), legend=True, fontsize=12)\n",
    "ax.set_xlabel(\"Hour\", fontsize=12)\n",
    "ax.set_ylabel(\"Percent\", fontsize=12)\n",
    "plt.show()"
   ]
  },
  {
   "cell_type": "code",
   "execution_count": null,
   "metadata": {},
   "outputs": [],
   "source": [
    "Area=Major_ecoregions['Major_ecoreg_percent_area']\n",
    "Label=Major_ecoregions['Major Ecoregion']\n",
    "y_pos = np.arange(len(Label))\n",
    "\n",
    "# Create horizontal bars\n",
    "plt.barh(y_pos, Area)\n",
    " \n",
    "# Create names on the y-axis\n",
    "plt.yticks(y_pos, Label)\n",
    " \n",
    "# Show graphic\n",
    "plt.show()"
   ]
  },
  {
   "cell_type": "code",
   "execution_count": null,
   "metadata": {},
   "outputs": [],
   "source": [
    "Major_Ecoregions=sorted_by_ascending"
   ]
  },
  {
   "cell_type": "code",
   "execution_count": null,
   "metadata": {},
   "outputs": [],
   "source": [
    "Area=Major_Ecoregions['Major_ecoreg_percent_area']\n",
    "Label=Major_Ecoregions['Major Ecoregion']\n",
    "y_pos = np.arange(len(Label))\n",
    "\n",
    "# Create horizontal bars\n",
    "plt.barh(y_pos, Area)\n",
    " \n",
    "# Create names on the y-axis\n",
    "plt.yticks(y_pos, Label)\n",
    " \n",
    "# Show graphic\n",
    "plt.show()\n"
   ]
  },
  {
   "cell_type": "code",
   "execution_count": null,
   "metadata": {},
   "outputs": [],
   "source": [
    "ax = Major_Ecoregions[['Major Ecoregion', 'Major_ecoreg_percent_area']].plot(kind='bar', title =\"Major Ecoregions by %Area in the RGV\", figsize=(15, 10), legend=True, fontsize=12)\n",
    "ax.set_xlabel(\" Maj_Eco\", fontsize=12)\n",
    "ax.set_ylabel(\"Percent\", fontsize=12)\n",
    "\n",
    "plt.show()"
   ]
  },
  {
   "cell_type": "code",
   "execution_count": null,
   "metadata": {},
   "outputs": [],
   "source": [
    "Major_Ecoregions = Major_ecoregions.sort_values(['Major_ecoreg_percent_area'], ascending=True)"
   ]
  },
  {
   "cell_type": "code",
   "execution_count": null,
   "metadata": {},
   "outputs": [],
   "source": [
    "plt.barh?"
   ]
  },
  {
   "cell_type": "code",
   "execution_count": null,
   "metadata": {},
   "outputs": [],
   "source": [
    "fig, ax = plt.subplots(figsize=(15, 10))\n",
    "Label=Major_Ecoregions['Major Ecoregion']\n",
    "y = np.arange(len(Label))\n",
    "Area=Major_Ecoregions['Major_ecoreg_percent_area']\n",
    "x=[5,10,15,20,25,30]\n",
    "\n",
    "\n",
    "ax.barh(y, Area, align='center',\n",
    "        color='kyr', ecolor='black')\n",
    "ax.set_yticks(y)\n",
    "ax.set_xticks(x)\n",
    "ax.set_yticklabels(Label, fontsize=16)\n",
    "ax.set_xticklabels(x, fontsize=14)\n",
    "ax.invert_yaxis()\n",
    "ax.set_xlabel('% Area(Meters)',fontsize=16)\n",
    "ax.set_title('Major Ecoregions by % Area in the RGV (Meters)',fontsize=24)\n",
    "plt.show()"
   ]
  },
  {
   "cell_type": "code",
   "execution_count": null,
   "metadata": {},
   "outputs": [],
   "source": [
    "Major_Ecoregions.tail(5)"
   ]
  },
  {
   "cell_type": "code",
   "execution_count": null,
   "metadata": {
    "scrolled": true
   },
   "outputs": [],
   "source": [
    "Sub_ecoregions"
   ]
  },
  {
   "cell_type": "code",
   "execution_count": null,
   "metadata": {},
   "outputs": [],
   "source": [
    "Major_ecoregions"
   ]
  },
  {
   "cell_type": "code",
   "execution_count": null,
   "metadata": {},
   "outputs": [],
   "source": [
    "TMDT=[7004,7005]\n",
    "TSG=[7103,7104,7105,7107]\n",
    "TCT=[7204,7205,7207]\n",
    "TF=[7402,7403,7404,7405,7406,7417,7407]\n",
    "TR=[7602,7604,7605,7606,7607]\n",
    "MNAMT=[9000,9007,9187,9600,9104,9106,9124,9107,9128,9116,9204]\n",
    "AHRMT=[9304,9307,9410,9411,9317]\n",
    "TCDW=[10004,10006,10017]\n",
    "TSCP=[2206,2207]\n",
    "TCSBTM=[5600,5605,5617,5606,5616]\n",
    "RGDTWS=[7802,7804,7805]\n",
    "TCB=[6100]\n",
    "TCDCG=[6200,6306,6307]\n",
    "SCPIW=[6507]\n",
    "STSBTF=[6600,6610]\n",
    "TL=[7305,7306,7307]\n",
    "TPGRF=[7502]\n",
    "TSL=[7700,7707]\n",
    "TST=[6806]\n",
    "CSTCFFW=[6402,6403,6405]\n",
    "TCG=[6707]"
   ]
  },
  {
   "cell_type": "code",
   "execution_count": null,
   "metadata": {},
   "outputs": [],
   "source": [
    "#In order to correspond with MER\n",
    "\n",
    "0. TMDT=[7004,7005]\n",
    "1. TSG=[7103,7104,7105,7107]\n",
    "2. TCT=[7204,7205,7207]\n",
    "3. TF=[7402,7403,7404,7405,7406,7417,7407]\n",
    "4. TR=[7602,7604,7605,7606,7607]\n",
    "5. MNAMT=[9000,9007,9187,9600,9104,9106,9124,9107,9128,9116,9204]\n",
    "6. AHRMT=[9304,9307,9410,9411,9317]\n",
    "7. TCDW=[10004,10006,10017]\n",
    "8. TSCP=[2206,2207]\n",
    "9. TCSBTM=[5600,5605,5617,5606,5616]\n",
    "10. TCDCG=[6200,6306,6307]\n",
    "11. RGDTWS=[7802,7804,7805]\n",
    "12. TCB=[6100]\n",
    "13. CSTCFFW=[6402,6403,6405]\n",
    "14. SCPIW=[6507]\n",
    "15. STSBTF=[6600,6610]\n",
    "16. TL=[7305,7306,7307]\n",
    "17. TPGRF=[7502]\n",
    "18. TSL=[7700,7707]\n",
    "19. TST=[6806]\n",
    "20. TCG=[6707]"
   ]
  },
  {
   "cell_type": "code",
   "execution_count": null,
   "metadata": {},
   "outputs": [],
   "source": [
    "df2 = []\n",
    "\n",
    "for i in Sub_ecoregions['Veg_ID']:\n",
    "    if i in TMDT:\n",
    "        df2.append(0)\n",
    "    elif i in TSG:\n",
    "        df2.append(1)\n",
    "    elif i in TCT:\n",
    "        df2.append(2)\n",
    "    elif i in TF:\n",
    "        df2.append(3)\n",
    "    elif i in TR:\n",
    "        df2.append(4)\n",
    "    elif i in MNAMT:\n",
    "        df2.append(5)\n",
    "    elif i in AHRMT:\n",
    "        df2.append(6)\n",
    "    elif i in TCDW:\n",
    "        df2.append(7)\n",
    "    elif i in TSCP:\n",
    "        df2.append(8)\n",
    "    elif i in TCSBTM:\n",
    "        df2.append(9)\n",
    "    elif i in RGDTWS:\n",
    "        df2.append(10)\n",
    "    elif i in TCB:\n",
    "        df2.append(11)\n",
    "    elif i in TCDCG:\n",
    "        df2.append(12)\n",
    "    elif i in SCPIW:\n",
    "        df2.append(13)\n",
    "    elif i in STSBTF:\n",
    "        df2.append(14)\n",
    "    elif i in TL:\n",
    "        df2.append(15)\n",
    "    elif i in TPGRF:\n",
    "        df2.append(16)\n",
    "    elif i in TSL:\n",
    "        df2.append(17)\n",
    "    elif i in TST:\n",
    "        df2.append(18)\n",
    "    elif i in CSTCFFW:\n",
    "        df2.append(19)\n",
    "    elif i in TCG:\n",
    "        df2.append(20)      \n",
    "    else:\n",
    "        break\n",
    "\n",
    "Sub_ecoregions['Maj_ER'] = df2"
   ]
  },
  {
   "cell_type": "code",
   "execution_count": null,
   "metadata": {
    "scrolled": true
   },
   "outputs": [],
   "source": [
    "Sub_ecoregions"
   ]
  },
  {
   "cell_type": "code",
   "execution_count": null,
   "metadata": {},
   "outputs": [],
   "source": [
    "Sub_ecoregions.to_excel('Desktop/Sub_ecoregions1.xlsx')"
   ]
  },
  {
   "cell_type": "code",
   "execution_count": null,
   "metadata": {
    "scrolled": true
   },
   "outputs": [],
   "source": [
    "# libraries\n",
    "import numpy as np\n",
    "import matplotlib.pyplot as plt\n",
    "from matplotlib import rc\n",
    "import pandas as pd\n",
    " \n",
    "# y-axis in bold\n",
    "rc('font', weight='bold')\n",
    " \n",
    "# Values of each group\n",
    "bars1 = [12, 28, 1, 8, 22]\n",
    "bars2 = [28, 7, 16, 4, 10]\n",
    "bars3 = [25, 3, 23, 25, 17]\n",
    " \n",
    "# Heights of bars1 + bars2\n",
    "bars = np.add(bars1, bars2).tolist()\n",
    " \n",
    "# The position of the bars on the x-axis\n",
    "r = [0,1,2,3,4]\n",
    " \n",
    "# Names of group and bar width\n",
    "names = ['A','B','C','D','E']\n",
    "barWidth = 1\n",
    " \n",
    "# Create brown bars\n",
    "plt.bar(r, bars1, color='#7f6d5f', edgecolor='white', width=barWidth)\n",
    "# Create green bars (middle), on top of the firs ones\n",
    "plt.bar(r, bars2, bottom=bars1, color='#557f2d', edgecolor='white', width=barWidth)\n",
    "# Create green bars (top)\n",
    "plt.bar(r, bars3, bottom=bars, color='#2d7f5e', edgecolor='white', width=barWidth)\n",
    " \n",
    "# Custom X axis\n",
    "plt.xticks(r, names, fontweight='bold')\n",
    "plt.xlabel(\"group\")\n",
    " \n",
    "# Show graphic\n",
    "plt.show()"
   ]
  },
  {
   "cell_type": "code",
   "execution_count": null,
   "metadata": {
    "scrolled": true
   },
   "outputs": [],
   "source": [
    "# libraries\n",
    "import numpy as np\n",
    "import matplotlib.pyplot as plt\n",
    "from matplotlib import rc\n",
    "import pandas as pd\n",
    " \n",
    "# y-axis in bold\n",
    "rc('font', weight='bold')\n",
    " \n",
    "# Values of each group\n",
    "bars1 = [12]\n",
    "bars2 = [28]\n",
    "bars3 = [25]\n",
    " \n",
    "# Heights of bars1 + bars2\n",
    "bars = np.add(bars1, bars2).tolist()\n",
    " \n",
    "# The position of the bars on the x-axis\n",
    "r = [0,1,2,3,4]\n",
    " \n",
    "# Names of group and bar width\n",
    "names = ['A','B','C','D','E']\n",
    "barWidth = 1\n",
    " \n",
    "# Create brown bars\n",
    "plt.bar(r, bars1, color='#7f6d5f', edgecolor='white', width=barWidth)\n",
    "# Create green bars (middle), on top of the firs ones\n",
    "plt.bar(r, bars2, bottom=bars1, color='#557f2d', edgecolor='white', width=barWidth)\n",
    "# Create green bars (top)\n",
    "plt.bar(r, bars3, bottom=bars, color='#2d7f5e', edgecolor='white', width=barWidth)\n",
    " \n",
    "# Custom X axis\n",
    "plt.xticks(r, names, fontweight='bold')\n",
    "plt.xlabel(\"group\")\n",
    " \n",
    "# Show graphic\n",
    "plt.show()"
   ]
  },
  {
   "cell_type": "code",
   "execution_count": null,
   "metadata": {},
   "outputs": [],
   "source": [
    "%matplotlib inline\n",
    "\n",
    "import pandas as pd\n",
    "import numpy as np\n",
    "import matplotlib.pyplot as plt\n",
    "import matplotlib\n",
    "\n",
    "matplotlib.style.use('ggplot')\n",
    "\n",
    "\n",
    "data = [[2000, 2000, 2000, 2001, 2001, 2001, 2002, 2002, 2002], #MER\n",
    "        ['Jan', 'Feb', 'Mar', 'Jan', 'Feb', 'Mar', 'Jan', 'Feb', 'Mar'], #SER\n",
    "        [1, 2, 3, 4, 5, 6, 7, 8, 9]] #Area\n",
    "\n",
    "rows = zip(data[0], data[1], data[2])\n",
    "headers = ['Year', 'Month', 'Value']\n",
    "\n",
    "\n",
    "df = pd.DataFrame(rows, columns=headers)\n",
    "\n",
    "df"
   ]
  },
  {
   "cell_type": "code",
   "execution_count": null,
   "metadata": {},
   "outputs": [],
   "source": [
    "fig, ax = plt.subplots(figsize=(10,7))  \n",
    "\n",
    "months = df['Month'].drop_duplicates()\n",
    "margin_bottom = np.zeros(len(df['Year'].drop_duplicates()))\n",
    "colors = [\"#006D2C\", \"#31A354\",\"#74C476\"]\n",
    "\n",
    "for num, month in enumerate(months):\n",
    "    values = list(df[df['Month'] == month].loc[:, 'Value'])\n",
    "\n",
    "    df[df['Month'] == month].plot.bar(x='Year',y='Value', ax=ax, stacked=True, \n",
    "                                    bottom = margin_bottom, color=colors[num], label=month)\n",
    "    margin_bottom += values\n",
    "\n",
    "plt.show()"
   ]
  },
  {
   "cell_type": "code",
   "execution_count": null,
   "metadata": {
    "scrolled": true
   },
   "outputs": [],
   "source": [
    "Sub_ecoregions"
   ]
  },
  {
   "cell_type": "code",
   "execution_count": null,
   "metadata": {},
   "outputs": [],
   "source": [
    "MER=Sub_ecoregions['Maj_ER'].unique()\n",
    "MER"
   ]
  },
  {
   "cell_type": "code",
   "execution_count": null,
   "metadata": {},
   "outputs": [],
   "source": [
    "SER=Sub_ecoregions['Veg_ID'].unique()\n",
    "SER"
   ]
  },
  {
   "cell_type": "code",
   "execution_count": null,
   "metadata": {},
   "outputs": [],
   "source": []
  },
  {
   "cell_type": "markdown",
   "metadata": {},
   "source": []
  },
  {
   "cell_type": "code",
   "execution_count": null,
   "metadata": {},
   "outputs": [],
   "source": [
    "\n",
    "\n",
    "\n",
    "\n",
    "fig, ax = plt.subplots(figsize=(10,7))  \n",
    "\n",
    "months = df['Month'].drop_duplicates()\n",
    "margin_bottom = np.zeros(len(df['Year'].drop_duplicates()))\n",
    "colors = [\"#006D2C\", \"#31A354\",\"#74C476\"]\n",
    "\n",
    "for num, month in enumerate(months):\n",
    "    values = list(df[df['Month'] == month].loc[:, 'Value'])\n",
    "\n",
    "    df[df['Month'] == month].plot.bar(x='MER',y='SER', ax=ax, stacked=True, \n",
    "                                    bottom = margin_bottom, color=colors[num], label=month)\n",
    "    margin_bottom += values\n",
    "\n",
    "plt.show()"
   ]
  },
  {
   "cell_type": "code",
   "execution_count": null,
   "metadata": {
    "scrolled": true
   },
   "outputs": [],
   "source": [
    "fig, ax = plt.subplots(figsize=(10,7))  \n",
    "\n",
    "Sub_ERs = Sub_ecoregions['Veg_ID'].drop_duplicates()\n",
    "margin_bottom = np.zeros(len(Sub_ecoregions['Maj_ER'].drop_duplicates()))\n",
    "colors = [\"#006D2C\", \"#31A354\",\"#74C476\"]\n",
    "\n",
    "for num, vegid in enumerate(Sub_ERs):\n",
    "    area = list(Sub_ecoregions[Sub_ecoregions['Veg_ID'] == vegid].loc[:, 'Sub_ecoreg_percent_area'])\n",
    "\n",
    "    Sub_ecoregions[Sub_ecoregions['Veg_ID'] == vegid].plot.bar(x='Maj_ER',y='Veg_ID', ax=ax, stacked=True, \n",
    "                                    bottom = margin_bottom, color=colors[num], label=vegid)\n",
    "    margin_bottom += values\n",
    "\n",
    "plt.show()"
   ]
  },
  {
   "cell_type": "code",
   "execution_count": null,
   "metadata": {},
   "outputs": [],
   "source": []
  },
  {
   "cell_type": "code",
   "execution_count": null,
   "metadata": {},
   "outputs": [],
   "source": [
    "N=6\n",
    "\n",
    "y1=[3,9,11,2,6,4]\n",
    "\n",
    "y2=[6,4,7,8,3,4]\n",
    "\n",
    "xvalues = np.arange(N)\n",
    "\n",
    "plt.bar(xvalues,y1,color='b', label ='Team1')\n",
    "plt.bar(xvalues,y2, color='r', bottom =y1, label = 'Team2')\n",
    "plt.xticks(xvalues, ('V1', 'V2', 'V3', 'V4', 'V5'))\n",
    "\n",
    "plt.xlabel('Teams')\n",
    "plt.ylabel('Scores')\n",
    "plt.title('Stacked Bar Graphs')\n",
    "plt.legend()"
   ]
  },
  {
   "cell_type": "code",
   "execution_count": null,
   "metadata": {},
   "outputs": [],
   "source": [
    "N=1 #I need 5 columns\n",
    "\n",
    "y1=[3] #7004 SER\n",
    "\n",
    "y2=[6] #7005 SER\n",
    "\n",
    "xvalues = np.arange(N)\n",
    "\n",
    "plt.bar(xvalues,y1,color='b', label ='Team1')\n",
    "plt.bar(xvalues,y2, color='r', bottom =y1, label = 'Team2')\n",
    "plt.xticks(xvalues, ('V1'))\n",
    "\n",
    "plt.xlabel('Teams')\n",
    "plt.ylabel('Scores')\n",
    "plt.title('Stacked Bar Graphs')\n",
    "plt.legend()"
   ]
  },
  {
   "cell_type": "code",
   "execution_count": null,
   "metadata": {},
   "outputs": [],
   "source": [
    "N=1 #I need 5 columns\n",
    "\n",
    "y1=[3.471420] #Area of 7004 SER\n",
    "\n",
    "y2=[1.856571] #Area of 7005 SER\n",
    "\n",
    "xvalues = np.arange(N)\n",
    "\n",
    "plt.bar(xvalues,y1,color='b', label ='Team1')\n",
    "plt.bar(xvalues,y2, color='r', bottom =y1, label = 'Team2')\n",
    "plt.xticks(xvalues, ('Y'))\n",
    "\n",
    "plt.xlabel('Teams')\n",
    "plt.ylabel('Scores')\n",
    "plt.title('Stacked Bar Graphs')\n",
    "plt.legend()"
   ]
  },
  {
   "cell_type": "code",
   "execution_count": null,
   "metadata": {},
   "outputs": [],
   "source": [
    "N=1 #I need 5 columns\n",
    "\n",
    "#Assigning Area of Subecoregion to a Variable\n",
    "a1=[3.471420] #Area of 7004 SER\n",
    "a2=[1.856571] #Area of 7005 SER\n",
    "\n",
    "#Second Bar\n",
    "b1=\n",
    "b2=\n",
    "\n",
    "#Plotting the area of the SubEcoregion in a bar\n",
    "plt.bar(xvalues,a1,color='b', label ='Team1')\n",
    "plt.bar(xvalues,a2, color='r', bottom =y1, label = 'Team2')\n",
    "\n",
    "#Second Bar\n",
    "\n",
    "\n",
    "#plot\n",
    "xvalues = np.arange(N)\n",
    "plt.xticks(xvalues, ('A'))\n",
    "plt.xlabel('Teams')\n",
    "plt.ylabel('Scores')\n",
    "plt.title('Stacked Bar Graphs')\n",
    "plt.legend()"
   ]
  },
  {
   "cell_type": "code",
   "execution_count": null,
   "metadata": {
    "scrolled": true
   },
   "outputs": [],
   "source": [
    "Sub_ecoregions"
   ]
  },
  {
   "cell_type": "code",
   "execution_count": null,
   "metadata": {},
   "outputs": [],
   "source": [
    "Veg_ID=Sub_ecoregions['Veg_ID']\n",
    "Maj_ER=Sub_ecoregions['Maj_ER']\n"
   ]
  },
  {
   "cell_type": "code",
   "execution_count": null,
   "metadata": {},
   "outputs": [],
   "source": [
    "Sub_ecoregions.Veg_ID[Sub_ecoregions.Maj_ER == 12]"
   ]
  },
  {
   "cell_type": "code",
   "execution_count": null,
   "metadata": {},
   "outputs": [],
   "source": []
  },
  {
   "cell_type": "code",
   "execution_count": null,
   "metadata": {},
   "outputs": [],
   "source": []
  },
  {
   "cell_type": "code",
   "execution_count": null,
   "metadata": {},
   "outputs": [],
   "source": []
  },
  {
   "cell_type": "code",
   "execution_count": null,
   "metadata": {},
   "outputs": [],
   "source": []
  },
  {
   "cell_type": "code",
   "execution_count": null,
   "metadata": {},
   "outputs": [],
   "source": []
  },
  {
   "cell_type": "code",
   "execution_count": null,
   "metadata": {},
   "outputs": [],
   "source": []
  },
  {
   "cell_type": "code",
   "execution_count": null,
   "metadata": {},
   "outputs": [],
   "source": []
  },
  {
   "cell_type": "code",
   "execution_count": null,
   "metadata": {},
   "outputs": [],
   "source": []
  },
  {
   "cell_type": "code",
   "execution_count": null,
   "metadata": {},
   "outputs": [],
   "source": []
  },
  {
   "cell_type": "code",
   "execution_count": null,
   "metadata": {},
   "outputs": [],
   "source": [
    "Top_Maj_ER=Major_Ecoregions.tail(5)"
   ]
  },
  {
   "cell_type": "code",
   "execution_count": null,
   "metadata": {},
   "outputs": [],
   "source": [
    "Top_Maj_ER"
   ]
  },
  {
   "cell_type": "code",
   "execution_count": null,
   "metadata": {},
   "outputs": [],
   "source": []
  },
  {
   "cell_type": "code",
   "execution_count": null,
   "metadata": {},
   "outputs": [],
   "source": []
  },
  {
   "cell_type": "code",
   "execution_count": null,
   "metadata": {},
   "outputs": [],
   "source": []
  }
 ],
 "metadata": {
  "kernelspec": {
   "display_name": "Python 3",
   "language": "python",
   "name": "python3"
  },
  "language_info": {
   "codemirror_mode": {
    "name": "ipython",
    "version": 3
   },
   "file_extension": ".py",
   "mimetype": "text/x-python",
   "name": "python",
   "nbconvert_exporter": "python",
   "pygments_lexer": "ipython3",
   "version": "3.7.0"
  }
 },
 "nbformat": 4,
 "nbformat_minor": 1
}
