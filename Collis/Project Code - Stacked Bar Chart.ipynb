{
 "cells": [
  {
   "cell_type": "code",
   "execution_count": 1,
   "metadata": {},
   "outputs": [],
   "source": [
    "import numpy as np\n",
    "import pandas as pd\n",
    "import matplotlib.pyplot as plt\n",
    "%matplotlib inline\n",
    "from pandas import ExcelWriter\n",
    "from pandas import ExcelFile"
   ]
  },
  {
   "cell_type": "code",
   "execution_count": 2,
   "metadata": {},
   "outputs": [],
   "source": [
    "file = \"C:\\\\Users\\Bridgett\\Desktop\\MER.xlsx\"\n",
    "MER= pd.read_excel(file)"
   ]
  },
  {
   "cell_type": "code",
   "execution_count": 7,
   "metadata": {
    "scrolled": true
   },
   "outputs": [
    {
     "data": {
      "text/html": [
       "<div>\n",
       "<style scoped>\n",
       "    .dataframe tbody tr th:only-of-type {\n",
       "        vertical-align: middle;\n",
       "    }\n",
       "\n",
       "    .dataframe tbody tr th {\n",
       "        vertical-align: top;\n",
       "    }\n",
       "\n",
       "    .dataframe thead th {\n",
       "        text-align: right;\n",
       "    }\n",
       "</style>\n",
       "<table border=\"1\" class=\"dataframe\">\n",
       "  <thead>\n",
       "    <tr style=\"text-align: right;\">\n",
       "      <th></th>\n",
       "      <th>MER</th>\n",
       "      <th>MER_PA</th>\n",
       "    </tr>\n",
       "  </thead>\n",
       "  <tbody>\n",
       "    <tr>\n",
       "      <th>0</th>\n",
       "      <td>Tamaulipan Mixed Deciduous Thornscrub</td>\n",
       "      <td>5.327991</td>\n",
       "    </tr>\n",
       "    <tr>\n",
       "      <th>1</th>\n",
       "      <td>Tamaulipan Savanna Grassland</td>\n",
       "      <td>21.246872</td>\n",
       "    </tr>\n",
       "    <tr>\n",
       "      <th>2</th>\n",
       "      <td>Tamaulipan Calcareous Thornscrub</td>\n",
       "      <td>3.808123</td>\n",
       "    </tr>\n",
       "    <tr>\n",
       "      <th>3</th>\n",
       "      <td>Tamaulipan Floodplain</td>\n",
       "      <td>1.741697</td>\n",
       "    </tr>\n",
       "    <tr>\n",
       "      <th>4</th>\n",
       "      <td>Tamulipan Ramadero</td>\n",
       "      <td>1.519930</td>\n",
       "    </tr>\n",
       "    <tr>\n",
       "      <th>5</th>\n",
       "      <td>Mainly Natural Azonal Mapped Types</td>\n",
       "      <td>15.688131</td>\n",
       "    </tr>\n",
       "    <tr>\n",
       "      <th>6</th>\n",
       "      <td>Agricultural and other Human-related Mapped Types</td>\n",
       "      <td>30.743329</td>\n",
       "    </tr>\n",
       "    <tr>\n",
       "      <th>7</th>\n",
       "      <td>Tamaulipan Closed Depression Wetland</td>\n",
       "      <td>0.129112</td>\n",
       "    </tr>\n",
       "    <tr>\n",
       "      <th>8</th>\n",
       "      <td>Texas Saline Coastal Prairie</td>\n",
       "      <td>4.613413</td>\n",
       "    </tr>\n",
       "    <tr>\n",
       "      <th>9</th>\n",
       "      <td>Texas Coast Salt and Brackish Tidal Marsh</td>\n",
       "      <td>2.234754</td>\n",
       "    </tr>\n",
       "    <tr>\n",
       "      <th>10</th>\n",
       "      <td>Texas Coast Dune and Coastal Grassland</td>\n",
       "      <td>6.264523</td>\n",
       "    </tr>\n",
       "    <tr>\n",
       "      <th>11</th>\n",
       "      <td>Rio Grande Delta Thorn Woodland and Shrubland</td>\n",
       "      <td>0.199916</td>\n",
       "    </tr>\n",
       "    <tr>\n",
       "      <th>12</th>\n",
       "      <td>Texas Coastal Beach</td>\n",
       "      <td>0.014103</td>\n",
       "    </tr>\n",
       "    <tr>\n",
       "      <th>13</th>\n",
       "      <td>Central and South Texas Coastal Fringe Forest ...</td>\n",
       "      <td>0.926151</td>\n",
       "    </tr>\n",
       "    <tr>\n",
       "      <th>14</th>\n",
       "      <td>Southeastern Coastal Plain Interdunal Wetland</td>\n",
       "      <td>0.076421</td>\n",
       "    </tr>\n",
       "    <tr>\n",
       "      <th>15</th>\n",
       "      <td>South Texas Salt and Brackish Tidal Flats</td>\n",
       "      <td>3.241821</td>\n",
       "    </tr>\n",
       "    <tr>\n",
       "      <th>16</th>\n",
       "      <td>Tamaulipan Lomas</td>\n",
       "      <td>0.588661</td>\n",
       "    </tr>\n",
       "    <tr>\n",
       "      <th>17</th>\n",
       "      <td>Tamaulipan Palm Grove Riparian Forest</td>\n",
       "      <td>0.005590</td>\n",
       "    </tr>\n",
       "    <tr>\n",
       "      <th>18</th>\n",
       "      <td>Tamaulipan Saline Lake</td>\n",
       "      <td>0.118624</td>\n",
       "    </tr>\n",
       "    <tr>\n",
       "      <th>19</th>\n",
       "      <td>Tamaulipan Saline Thornscrub</td>\n",
       "      <td>1.370818</td>\n",
       "    </tr>\n",
       "    <tr>\n",
       "      <th>20</th>\n",
       "      <td>Tamaulipan Caliche Grassland</td>\n",
       "      <td>0.140020</td>\n",
       "    </tr>\n",
       "  </tbody>\n",
       "</table>\n",
       "</div>"
      ],
      "text/plain": [
       "                                                  MER     MER_PA\n",
       "0               Tamaulipan Mixed Deciduous Thornscrub   5.327991\n",
       "1                        Tamaulipan Savanna Grassland  21.246872\n",
       "2                    Tamaulipan Calcareous Thornscrub   3.808123\n",
       "3                               Tamaulipan Floodplain   1.741697\n",
       "4                                  Tamulipan Ramadero   1.519930\n",
       "5                  Mainly Natural Azonal Mapped Types  15.688131\n",
       "6   Agricultural and other Human-related Mapped Types  30.743329\n",
       "7                Tamaulipan Closed Depression Wetland   0.129112\n",
       "8                        Texas Saline Coastal Prairie   4.613413\n",
       "9           Texas Coast Salt and Brackish Tidal Marsh   2.234754\n",
       "10             Texas Coast Dune and Coastal Grassland   6.264523\n",
       "11      Rio Grande Delta Thorn Woodland and Shrubland   0.199916\n",
       "12                                Texas Coastal Beach   0.014103\n",
       "13  Central and South Texas Coastal Fringe Forest ...   0.926151\n",
       "14      Southeastern Coastal Plain Interdunal Wetland   0.076421\n",
       "15          South Texas Salt and Brackish Tidal Flats   3.241821\n",
       "16                                   Tamaulipan Lomas   0.588661\n",
       "17              Tamaulipan Palm Grove Riparian Forest   0.005590\n",
       "18                             Tamaulipan Saline Lake   0.118624\n",
       "19                       Tamaulipan Saline Thornscrub   1.370818\n",
       "20                       Tamaulipan Caliche Grassland   0.140020"
      ]
     },
     "execution_count": 7,
     "metadata": {},
     "output_type": "execute_result"
    }
   ],
   "source": [
    "MER"
   ]
  },
  {
   "cell_type": "code",
   "execution_count": 3,
   "metadata": {},
   "outputs": [],
   "source": [
    "MER=MER.drop(MER.columns[[0]], axis=1) "
   ]
  },
  {
   "cell_type": "code",
   "execution_count": 4,
   "metadata": {},
   "outputs": [],
   "source": [
    "file1 = \"C:\\\\Users\\Bridgett\\Desktop\\SER.xlsx\"\n",
    "SER= pd.read_excel(file1)"
   ]
  },
  {
   "cell_type": "code",
   "execution_count": 5,
   "metadata": {},
   "outputs": [],
   "source": [
    "SER=SER.drop(SER.columns[[0]], axis=1) "
   ]
  },
  {
   "cell_type": "code",
   "execution_count": 14,
   "metadata": {},
   "outputs": [
    {
     "name": "stdout",
     "output_type": "stream",
     "text": [
      "                                                  MER     MER_PA\n",
      "0               Tamaulipan Mixed Deciduous Thornscrub   5.327991\n",
      "10             Texas Coast Dune and Coastal Grassland   6.264523\n",
      "5                  Mainly Natural Azonal Mapped Types  15.688131\n",
      "1                        Tamaulipan Savanna Grassland  21.246872\n",
      "6   Agricultural and other Human-related Mapped Types  30.743329\n"
     ]
    }
   ],
   "source": [
    "MERA = MER.sort_values(['MER_PA'], ascending=True)\n",
    "MERA_top5=MERA.tail(5)\n",
    "MERA_top5=pd.DataFrame(data=MERA_top5)\n",
    "print(MERA_top5)"
   ]
  },
  {
   "cell_type": "code",
   "execution_count": 27,
   "metadata": {},
   "outputs": [
    {
     "data": {
      "text/html": [
       "<div>\n",
       "<style scoped>\n",
       "    .dataframe tbody tr th:only-of-type {\n",
       "        vertical-align: middle;\n",
       "    }\n",
       "\n",
       "    .dataframe tbody tr th {\n",
       "        vertical-align: top;\n",
       "    }\n",
       "\n",
       "    .dataframe thead th {\n",
       "        text-align: right;\n",
       "    }\n",
       "</style>\n",
       "<table border=\"1\" class=\"dataframe\">\n",
       "  <thead>\n",
       "    <tr style=\"text-align: right;\">\n",
       "      <th></th>\n",
       "      <th>Veg_ID</th>\n",
       "      <th>SERN</th>\n",
       "      <th>SER_PA</th>\n",
       "      <th>MER</th>\n",
       "    </tr>\n",
       "  </thead>\n",
       "  <tbody>\n",
       "    <tr>\n",
       "      <th>0</th>\n",
       "      <td>7004</td>\n",
       "      <td>0.1</td>\n",
       "      <td>3.471420</td>\n",
       "      <td>0</td>\n",
       "    </tr>\n",
       "    <tr>\n",
       "      <th>1</th>\n",
       "      <td>7005</td>\n",
       "      <td>0.2</td>\n",
       "      <td>1.856571</td>\n",
       "      <td>0</td>\n",
       "    </tr>\n",
       "  </tbody>\n",
       "</table>\n",
       "</div>"
      ],
      "text/plain": [
       "   Veg_ID  SERN    SER_PA  MER\n",
       "0    7004   0.1  3.471420    0\n",
       "1    7005   0.2  1.856571    0"
      ]
     },
     "execution_count": 27,
     "metadata": {},
     "output_type": "execute_result"
    }
   ],
   "source": [
    "#Major Ecoregion 0 _ Sub Ecoregion Percent Areas of RGV\n",
    "M0_SPAR=SER.loc[SER['MER'] == 0] \n",
    "M0_SPAR"
   ]
  },
  {
   "cell_type": "code",
   "execution_count": 20,
   "metadata": {},
   "outputs": [
    {
     "data": {
      "text/html": [
       "<div>\n",
       "<style scoped>\n",
       "    .dataframe tbody tr th:only-of-type {\n",
       "        vertical-align: middle;\n",
       "    }\n",
       "\n",
       "    .dataframe tbody tr th {\n",
       "        vertical-align: top;\n",
       "    }\n",
       "\n",
       "    .dataframe thead th {\n",
       "        text-align: right;\n",
       "    }\n",
       "</style>\n",
       "<table border=\"1\" class=\"dataframe\">\n",
       "  <thead>\n",
       "    <tr style=\"text-align: right;\">\n",
       "      <th></th>\n",
       "      <th>Veg_ID</th>\n",
       "      <th>SERN</th>\n",
       "      <th>SER_PA</th>\n",
       "      <th>MER</th>\n",
       "    </tr>\n",
       "  </thead>\n",
       "  <tbody>\n",
       "    <tr>\n",
       "      <th>0</th>\n",
       "      <td>7004</td>\n",
       "      <td>0.1</td>\n",
       "      <td>3.471420</td>\n",
       "      <td>0</td>\n",
       "    </tr>\n",
       "    <tr>\n",
       "      <th>1</th>\n",
       "      <td>7005</td>\n",
       "      <td>0.2</td>\n",
       "      <td>1.856571</td>\n",
       "      <td>0</td>\n",
       "    </tr>\n",
       "  </tbody>\n",
       "</table>\n",
       "</div>"
      ],
      "text/plain": [
       "   Veg_ID  SERN    SER_PA  MER\n",
       "0    7004   0.1  3.471420    0\n",
       "1    7005   0.2  1.856571    0"
      ]
     },
     "execution_count": 20,
     "metadata": {},
     "output_type": "execute_result"
    }
   ],
   "source": [
    "#Major Ecoregion 0 _ Sub Ecoregion Percent Areas of RGV\n",
    "#In Ascending Order\n",
    "M0_SPAR_A = M0_SPAR.sort_values(['SER_PA'], ascending=False)\n",
    "M0_SPAR_A"
   ]
  },
  {
   "cell_type": "code",
   "execution_count": 17,
   "metadata": {},
   "outputs": [
    {
     "data": {
      "text/plain": [
       "5.327990842308019"
      ]
     },
     "execution_count": 17,
     "metadata": {},
     "output_type": "execute_result"
    }
   ],
   "source": [
    "#Major Ecoregion 0 _ Sub Ecoregion Total Percent Area of RGV\n",
    "M0_STPAR=np.sum(M0_SPAR['SER_PA'])\n",
    "M0_STPAR"
   ]
  },
  {
   "cell_type": "markdown",
   "metadata": {},
   "source": [
    "The value of M0_STPAR Matches its MER_PA value."
   ]
  },
  {
   "cell_type": "code",
   "execution_count": 21,
   "metadata": {},
   "outputs": [
    {
     "data": {
      "text/plain": [
       "0    3.471420\n",
       "1    1.856571\n",
       "Name: SER_PA, dtype: float64"
      ]
     },
     "execution_count": 21,
     "metadata": {},
     "output_type": "execute_result"
    }
   ],
   "source": [
    "M0_SPAR_A['SER_PA']"
   ]
  },
  {
   "cell_type": "code",
   "execution_count": 22,
   "metadata": {},
   "outputs": [
    {
     "data": {
      "text/plain": [
       "[3.471419676117136, 1.856571166190883]"
      ]
     },
     "execution_count": 22,
     "metadata": {},
     "output_type": "execute_result"
    }
   ],
   "source": [
    "#List Version! \n",
    "M0_SPAR_AL=M0_SPAR_A.SER_PA.tolist()\n",
    "M0_SPAR_AL"
   ]
  },
  {
   "cell_type": "code",
   "execution_count": 23,
   "metadata": {},
   "outputs": [
    {
     "name": "stdout",
     "output_type": "stream",
     "text": [
      "65.15438518684391\n",
      "34.8456148131561\n",
      "100.0\n"
     ]
    }
   ],
   "source": [
    "Total_Percent=0\n",
    "# Major Ecoregion 0 _ Sub Ecoregions Percent area of Major Ecoregion 0\n",
    "M0_SPA=[] \n",
    "\n",
    "for Area in M0_SPAR_AL:\n",
    "    Percent=(Area/M0_STPAR)*100\n",
    "    print(Percent)\n",
    "    M0_SPA.append(Percent)\n",
    "    Total_Percent=Total_Percent+Percent\n",
    "    \n",
    "print(Total_Percent)"
   ]
  },
  {
   "cell_type": "markdown",
   "metadata": {},
   "source": [
    "I will do the same procedure on the Next values to get the Total percentage of that the subecoregions make of the Major Ecoregion to understand the makeup of the Major Ecoregion. "
   ]
  },
  {
   "cell_type": "code",
   "execution_count": 26,
   "metadata": {},
   "outputs": [
    {
     "data": {
      "text/html": [
       "<div>\n",
       "<style scoped>\n",
       "    .dataframe tbody tr th:only-of-type {\n",
       "        vertical-align: middle;\n",
       "    }\n",
       "\n",
       "    .dataframe tbody tr th {\n",
       "        vertical-align: top;\n",
       "    }\n",
       "\n",
       "    .dataframe thead th {\n",
       "        text-align: right;\n",
       "    }\n",
       "</style>\n",
       "<table border=\"1\" class=\"dataframe\">\n",
       "  <thead>\n",
       "    <tr style=\"text-align: right;\">\n",
       "      <th></th>\n",
       "      <th>Veg_ID</th>\n",
       "      <th>SERN</th>\n",
       "      <th>SER_PA</th>\n",
       "      <th>MER</th>\n",
       "    </tr>\n",
       "  </thead>\n",
       "  <tbody>\n",
       "    <tr>\n",
       "      <th>38</th>\n",
       "      <td>6307</td>\n",
       "      <td>10.3</td>\n",
       "      <td>6.153547</td>\n",
       "      <td>10</td>\n",
       "    </tr>\n",
       "    <tr>\n",
       "      <th>49</th>\n",
       "      <td>6200</td>\n",
       "      <td>10.1</td>\n",
       "      <td>0.110249</td>\n",
       "      <td>10</td>\n",
       "    </tr>\n",
       "    <tr>\n",
       "      <th>50</th>\n",
       "      <td>6306</td>\n",
       "      <td>10.2</td>\n",
       "      <td>0.000727</td>\n",
       "      <td>10</td>\n",
       "    </tr>\n",
       "  </tbody>\n",
       "</table>\n",
       "</div>"
      ],
      "text/plain": [
       "    Veg_ID  SERN    SER_PA  MER\n",
       "38    6307  10.3  6.153547   10\n",
       "49    6200  10.1  0.110249   10\n",
       "50    6306  10.2  0.000727   10"
      ]
     },
     "execution_count": 26,
     "metadata": {},
     "output_type": "execute_result"
    }
   ],
   "source": [
    "#Major Ecoregion 10 _ Sub Ecoregion Percent Areas of RGV\n",
    "M10_SPAR=SER.loc[SER['MER'] == 10] \n",
    "M10_SPAR"
   ]
  },
  {
   "cell_type": "code",
   "execution_count": 28,
   "metadata": {},
   "outputs": [
    {
     "data": {
      "text/html": [
       "<div>\n",
       "<style scoped>\n",
       "    .dataframe tbody tr th:only-of-type {\n",
       "        vertical-align: middle;\n",
       "    }\n",
       "\n",
       "    .dataframe tbody tr th {\n",
       "        vertical-align: top;\n",
       "    }\n",
       "\n",
       "    .dataframe thead th {\n",
       "        text-align: right;\n",
       "    }\n",
       "</style>\n",
       "<table border=\"1\" class=\"dataframe\">\n",
       "  <thead>\n",
       "    <tr style=\"text-align: right;\">\n",
       "      <th></th>\n",
       "      <th>Veg_ID</th>\n",
       "      <th>SERN</th>\n",
       "      <th>SER_PA</th>\n",
       "      <th>MER</th>\n",
       "    </tr>\n",
       "  </thead>\n",
       "  <tbody>\n",
       "    <tr>\n",
       "      <th>38</th>\n",
       "      <td>6307</td>\n",
       "      <td>10.3</td>\n",
       "      <td>6.153547</td>\n",
       "      <td>10</td>\n",
       "    </tr>\n",
       "    <tr>\n",
       "      <th>49</th>\n",
       "      <td>6200</td>\n",
       "      <td>10.1</td>\n",
       "      <td>0.110249</td>\n",
       "      <td>10</td>\n",
       "    </tr>\n",
       "    <tr>\n",
       "      <th>50</th>\n",
       "      <td>6306</td>\n",
       "      <td>10.2</td>\n",
       "      <td>0.000727</td>\n",
       "      <td>10</td>\n",
       "    </tr>\n",
       "  </tbody>\n",
       "</table>\n",
       "</div>"
      ],
      "text/plain": [
       "    Veg_ID  SERN    SER_PA  MER\n",
       "38    6307  10.3  6.153547   10\n",
       "49    6200  10.1  0.110249   10\n",
       "50    6306  10.2  0.000727   10"
      ]
     },
     "execution_count": 28,
     "metadata": {},
     "output_type": "execute_result"
    }
   ],
   "source": [
    "#Major Ecoregion 10 _ Sub Ecoregion Percent Areas of RGV\n",
    "#In Ascending Order\n",
    "M10_SPAR_A = M10_SPAR.sort_values(['SER_PA'], ascending=False)\n",
    "M10_SPAR_A"
   ]
  },
  {
   "cell_type": "code",
   "execution_count": 29,
   "metadata": {},
   "outputs": [
    {
     "data": {
      "text/plain": [
       "6.264523126251958"
      ]
     },
     "execution_count": 29,
     "metadata": {},
     "output_type": "execute_result"
    }
   ],
   "source": [
    "#Major Ecoregion 10 _ Sub Ecoregion Total Percent Area of RGV\n",
    "M10_STPAR=np.sum(M10_SPAR['SER_PA'])\n",
    "M10_STPAR"
   ]
  },
  {
   "cell_type": "markdown",
   "metadata": {},
   "source": [
    "This Value matches with the MER dataframe!"
   ]
  },
  {
   "cell_type": "code",
   "execution_count": 31,
   "metadata": {},
   "outputs": [
    {
     "data": {
      "text/plain": [
       "[6.153547067870665, 0.1102492895479555, 0.0007267688333364971]"
      ]
     },
     "execution_count": 31,
     "metadata": {},
     "output_type": "execute_result"
    }
   ],
   "source": [
    "#List Version! \n",
    "M10_SPAR_AL=M10_SPAR_A.SER_PA.tolist()\n",
    "M10_SPAR_AL"
   ]
  },
  {
   "cell_type": "code",
   "execution_count": 37,
   "metadata": {},
   "outputs": [
    {
     "name": "stdout",
     "output_type": "stream",
     "text": [
      "98.22849950196147\n",
      "1.759899154748867\n",
      "0.011601343289657872\n",
      "99.99999999999999\n"
     ]
    }
   ],
   "source": [
    "Total_Percent=0\n",
    "# Major Ecoregion 10 _ Sub Ecoregions Percent area of Major Ecoregion 10\n",
    "M10_SPA=[] \n",
    "\n",
    "for Area in M10_SPAR_AL:\n",
    "    Percent=(Area/M10_STPAR)*100\n",
    "    print(Percent)\n",
    "    M10_SPA.append(Percent)\n",
    "    Total_Percent=Total_Percent+Percent\n",
    "    \n",
    "print(Total_Percent)"
   ]
  },
  {
   "cell_type": "code",
   "execution_count": null,
   "metadata": {},
   "outputs": [],
   "source": []
  },
  {
   "cell_type": "code",
   "execution_count": 33,
   "metadata": {},
   "outputs": [
    {
     "data": {
      "text/html": [
       "<div>\n",
       "<style scoped>\n",
       "    .dataframe tbody tr th:only-of-type {\n",
       "        vertical-align: middle;\n",
       "    }\n",
       "\n",
       "    .dataframe tbody tr th {\n",
       "        vertical-align: top;\n",
       "    }\n",
       "\n",
       "    .dataframe thead th {\n",
       "        text-align: right;\n",
       "    }\n",
       "</style>\n",
       "<table border=\"1\" class=\"dataframe\">\n",
       "  <thead>\n",
       "    <tr style=\"text-align: right;\">\n",
       "      <th></th>\n",
       "      <th>Veg_ID</th>\n",
       "      <th>SERN</th>\n",
       "      <th>SER_PA</th>\n",
       "      <th>MER</th>\n",
       "    </tr>\n",
       "  </thead>\n",
       "  <tbody>\n",
       "    <tr>\n",
       "      <th>18</th>\n",
       "      <td>9000</td>\n",
       "      <td>5.10</td>\n",
       "      <td>0.392101</td>\n",
       "      <td>5</td>\n",
       "    </tr>\n",
       "    <tr>\n",
       "      <th>19</th>\n",
       "      <td>9007</td>\n",
       "      <td>5.20</td>\n",
       "      <td>0.196841</td>\n",
       "      <td>5</td>\n",
       "    </tr>\n",
       "    <tr>\n",
       "      <th>20</th>\n",
       "      <td>9104</td>\n",
       "      <td>5.50</td>\n",
       "      <td>0.021109</td>\n",
       "      <td>5</td>\n",
       "    </tr>\n",
       "    <tr>\n",
       "      <th>21</th>\n",
       "      <td>9106</td>\n",
       "      <td>5.60</td>\n",
       "      <td>0.025796</td>\n",
       "      <td>5</td>\n",
       "    </tr>\n",
       "    <tr>\n",
       "      <th>22</th>\n",
       "      <td>9124</td>\n",
       "      <td>5.70</td>\n",
       "      <td>0.012898</td>\n",
       "      <td>5</td>\n",
       "    </tr>\n",
       "    <tr>\n",
       "      <th>23</th>\n",
       "      <td>9187</td>\n",
       "      <td>5.30</td>\n",
       "      <td>13.516917</td>\n",
       "      <td>5</td>\n",
       "    </tr>\n",
       "    <tr>\n",
       "      <th>28</th>\n",
       "      <td>9600</td>\n",
       "      <td>5.40</td>\n",
       "      <td>1.483373</td>\n",
       "      <td>5</td>\n",
       "    </tr>\n",
       "    <tr>\n",
       "      <th>43</th>\n",
       "      <td>9107</td>\n",
       "      <td>5.80</td>\n",
       "      <td>0.013270</td>\n",
       "      <td>5</td>\n",
       "    </tr>\n",
       "    <tr>\n",
       "      <th>44</th>\n",
       "      <td>9128</td>\n",
       "      <td>5.90</td>\n",
       "      <td>0.009337</td>\n",
       "      <td>5</td>\n",
       "    </tr>\n",
       "    <tr>\n",
       "      <th>61</th>\n",
       "      <td>9204</td>\n",
       "      <td>5.11</td>\n",
       "      <td>0.011086</td>\n",
       "      <td>5</td>\n",
       "    </tr>\n",
       "    <tr>\n",
       "      <th>67</th>\n",
       "      <td>9116</td>\n",
       "      <td>5.01</td>\n",
       "      <td>0.005402</td>\n",
       "      <td>5</td>\n",
       "    </tr>\n",
       "  </tbody>\n",
       "</table>\n",
       "</div>"
      ],
      "text/plain": [
       "    Veg_ID  SERN     SER_PA  MER\n",
       "18    9000  5.10   0.392101    5\n",
       "19    9007  5.20   0.196841    5\n",
       "20    9104  5.50   0.021109    5\n",
       "21    9106  5.60   0.025796    5\n",
       "22    9124  5.70   0.012898    5\n",
       "23    9187  5.30  13.516917    5\n",
       "28    9600  5.40   1.483373    5\n",
       "43    9107  5.80   0.013270    5\n",
       "44    9128  5.90   0.009337    5\n",
       "61    9204  5.11   0.011086    5\n",
       "67    9116  5.01   0.005402    5"
      ]
     },
     "execution_count": 33,
     "metadata": {},
     "output_type": "execute_result"
    }
   ],
   "source": [
    "#Major Ecoregion 5 _ Sub Ecoregion Percent Areas of RGV\n",
    "M5_SPAR=SER.loc[SER['MER'] == 5] \n",
    "M5_SPAR"
   ]
  },
  {
   "cell_type": "code",
   "execution_count": 34,
   "metadata": {},
   "outputs": [
    {
     "data": {
      "text/html": [
       "<div>\n",
       "<style scoped>\n",
       "    .dataframe tbody tr th:only-of-type {\n",
       "        vertical-align: middle;\n",
       "    }\n",
       "\n",
       "    .dataframe tbody tr th {\n",
       "        vertical-align: top;\n",
       "    }\n",
       "\n",
       "    .dataframe thead th {\n",
       "        text-align: right;\n",
       "    }\n",
       "</style>\n",
       "<table border=\"1\" class=\"dataframe\">\n",
       "  <thead>\n",
       "    <tr style=\"text-align: right;\">\n",
       "      <th></th>\n",
       "      <th>Veg_ID</th>\n",
       "      <th>SERN</th>\n",
       "      <th>SER_PA</th>\n",
       "      <th>MER</th>\n",
       "    </tr>\n",
       "  </thead>\n",
       "  <tbody>\n",
       "    <tr>\n",
       "      <th>23</th>\n",
       "      <td>9187</td>\n",
       "      <td>5.30</td>\n",
       "      <td>13.516917</td>\n",
       "      <td>5</td>\n",
       "    </tr>\n",
       "    <tr>\n",
       "      <th>28</th>\n",
       "      <td>9600</td>\n",
       "      <td>5.40</td>\n",
       "      <td>1.483373</td>\n",
       "      <td>5</td>\n",
       "    </tr>\n",
       "    <tr>\n",
       "      <th>18</th>\n",
       "      <td>9000</td>\n",
       "      <td>5.10</td>\n",
       "      <td>0.392101</td>\n",
       "      <td>5</td>\n",
       "    </tr>\n",
       "    <tr>\n",
       "      <th>19</th>\n",
       "      <td>9007</td>\n",
       "      <td>5.20</td>\n",
       "      <td>0.196841</td>\n",
       "      <td>5</td>\n",
       "    </tr>\n",
       "    <tr>\n",
       "      <th>21</th>\n",
       "      <td>9106</td>\n",
       "      <td>5.60</td>\n",
       "      <td>0.025796</td>\n",
       "      <td>5</td>\n",
       "    </tr>\n",
       "    <tr>\n",
       "      <th>20</th>\n",
       "      <td>9104</td>\n",
       "      <td>5.50</td>\n",
       "      <td>0.021109</td>\n",
       "      <td>5</td>\n",
       "    </tr>\n",
       "    <tr>\n",
       "      <th>43</th>\n",
       "      <td>9107</td>\n",
       "      <td>5.80</td>\n",
       "      <td>0.013270</td>\n",
       "      <td>5</td>\n",
       "    </tr>\n",
       "    <tr>\n",
       "      <th>22</th>\n",
       "      <td>9124</td>\n",
       "      <td>5.70</td>\n",
       "      <td>0.012898</td>\n",
       "      <td>5</td>\n",
       "    </tr>\n",
       "    <tr>\n",
       "      <th>61</th>\n",
       "      <td>9204</td>\n",
       "      <td>5.11</td>\n",
       "      <td>0.011086</td>\n",
       "      <td>5</td>\n",
       "    </tr>\n",
       "    <tr>\n",
       "      <th>44</th>\n",
       "      <td>9128</td>\n",
       "      <td>5.90</td>\n",
       "      <td>0.009337</td>\n",
       "      <td>5</td>\n",
       "    </tr>\n",
       "    <tr>\n",
       "      <th>67</th>\n",
       "      <td>9116</td>\n",
       "      <td>5.01</td>\n",
       "      <td>0.005402</td>\n",
       "      <td>5</td>\n",
       "    </tr>\n",
       "  </tbody>\n",
       "</table>\n",
       "</div>"
      ],
      "text/plain": [
       "    Veg_ID  SERN     SER_PA  MER\n",
       "23    9187  5.30  13.516917    5\n",
       "28    9600  5.40   1.483373    5\n",
       "18    9000  5.10   0.392101    5\n",
       "19    9007  5.20   0.196841    5\n",
       "21    9106  5.60   0.025796    5\n",
       "20    9104  5.50   0.021109    5\n",
       "43    9107  5.80   0.013270    5\n",
       "22    9124  5.70   0.012898    5\n",
       "61    9204  5.11   0.011086    5\n",
       "44    9128  5.90   0.009337    5\n",
       "67    9116  5.01   0.005402    5"
      ]
     },
     "execution_count": 34,
     "metadata": {},
     "output_type": "execute_result"
    }
   ],
   "source": [
    "#Major Ecoregion 5 _ Sub Ecoregion Percent Areas of RGV\n",
    "#In Ascending Order\n",
    "M5_SPAR_A = M5_SPAR.sort_values(['SER_PA'], ascending=False)\n",
    "M5_SPAR_A"
   ]
  },
  {
   "cell_type": "code",
   "execution_count": 35,
   "metadata": {},
   "outputs": [
    {
     "data": {
      "text/plain": [
       "15.688131134242276"
      ]
     },
     "execution_count": 35,
     "metadata": {},
     "output_type": "execute_result"
    }
   ],
   "source": [
    "#Major Ecoregion 5 _ Sub Ecoregion Total Percent Area of RGV\n",
    "M5_STPAR=np.sum(M5_SPAR['SER_PA'])\n",
    "M5_STPAR"
   ]
  },
  {
   "cell_type": "code",
   "execution_count": 36,
   "metadata": {},
   "outputs": [
    {
     "data": {
      "text/plain": [
       "[13.51691673885062,\n",
       " 1.483372864102048,\n",
       " 0.3921010968245485,\n",
       " 0.1968411540462081,\n",
       " 0.02579623379436367,\n",
       " 0.02110936029818571,\n",
       " 0.01326984856951572,\n",
       " 0.01289827617496456,\n",
       " 0.01108591312045547,\n",
       " 0.009337219047287565,\n",
       " 0.005402429414077039]"
      ]
     },
     "execution_count": 36,
     "metadata": {},
     "output_type": "execute_result"
    }
   ],
   "source": [
    "#List Version! \n",
    "M5_SPAR_AL=M5_SPAR_A.SER_PA.tolist()\n",
    "M5_SPAR_AL"
   ]
  },
  {
   "cell_type": "code",
   "execution_count": 38,
   "metadata": {},
   "outputs": [
    {
     "name": "stdout",
     "output_type": "stream",
     "text": [
      "86.1601463118027\n",
      "9.455382871349856\n",
      "2.499348669827948\n",
      "1.254713849354341\n",
      "0.1644315283549522\n",
      "0.13455624584951734\n",
      "0.0845852731339796\n",
      "0.08221677945317313\n",
      "0.07066433232610093\n",
      "0.05951772691973068\n",
      "0.03443641162767456\n",
      "100.00000000000001\n"
     ]
    }
   ],
   "source": [
    "Total_Percent=0\n",
    "# Major Ecoregion 5 _ Sub Ecoregions Percent area of Major Ecoregion 5\n",
    "M5_SPA=[] \n",
    "\n",
    "for Area in M5_SPAR_AL:\n",
    "    Percent=(Area/M5_STPAR)*100\n",
    "    print(Percent)\n",
    "    M5_SPA.append(Percent)\n",
    "    Total_Percent=Total_Percent+Percent\n",
    "    \n",
    "print(Total_Percent)"
   ]
  },
  {
   "cell_type": "code",
   "execution_count": null,
   "metadata": {},
   "outputs": [],
   "source": []
  },
  {
   "cell_type": "code",
   "execution_count": 51,
   "metadata": {},
   "outputs": [
    {
     "data": {
      "text/html": [
       "<div>\n",
       "<style scoped>\n",
       "    .dataframe tbody tr th:only-of-type {\n",
       "        vertical-align: middle;\n",
       "    }\n",
       "\n",
       "    .dataframe tbody tr th {\n",
       "        vertical-align: top;\n",
       "    }\n",
       "\n",
       "    .dataframe thead th {\n",
       "        text-align: right;\n",
       "    }\n",
       "</style>\n",
       "<table border=\"1\" class=\"dataframe\">\n",
       "  <thead>\n",
       "    <tr style=\"text-align: right;\">\n",
       "      <th></th>\n",
       "      <th>Veg_ID</th>\n",
       "      <th>SERN</th>\n",
       "      <th>SER_PA</th>\n",
       "      <th>MER</th>\n",
       "    </tr>\n",
       "  </thead>\n",
       "  <tbody>\n",
       "    <tr>\n",
       "      <th>2</th>\n",
       "      <td>7103</td>\n",
       "      <td>1.1</td>\n",
       "      <td>0.778934</td>\n",
       "      <td>1</td>\n",
       "    </tr>\n",
       "    <tr>\n",
       "      <th>3</th>\n",
       "      <td>7104</td>\n",
       "      <td>1.2</td>\n",
       "      <td>12.499605</td>\n",
       "      <td>1</td>\n",
       "    </tr>\n",
       "    <tr>\n",
       "      <th>4</th>\n",
       "      <td>7105</td>\n",
       "      <td>1.3</td>\n",
       "      <td>2.263467</td>\n",
       "      <td>1</td>\n",
       "    </tr>\n",
       "    <tr>\n",
       "      <th>5</th>\n",
       "      <td>7107</td>\n",
       "      <td>1.4</td>\n",
       "      <td>5.704866</td>\n",
       "      <td>1</td>\n",
       "    </tr>\n",
       "  </tbody>\n",
       "</table>\n",
       "</div>"
      ],
      "text/plain": [
       "   Veg_ID  SERN     SER_PA  MER\n",
       "2    7103   1.1   0.778934    1\n",
       "3    7104   1.2  12.499605    1\n",
       "4    7105   1.3   2.263467    1\n",
       "5    7107   1.4   5.704866    1"
      ]
     },
     "execution_count": 51,
     "metadata": {},
     "output_type": "execute_result"
    }
   ],
   "source": [
    "#Major Ecoregion 1 _ Sub Ecoregion Percent Areas of RGV\n",
    "M1_SPAR=SER.loc[SER['MER'] == 1] \n",
    "M1_SPAR"
   ]
  },
  {
   "cell_type": "code",
   "execution_count": 52,
   "metadata": {},
   "outputs": [
    {
     "data": {
      "text/html": [
       "<div>\n",
       "<style scoped>\n",
       "    .dataframe tbody tr th:only-of-type {\n",
       "        vertical-align: middle;\n",
       "    }\n",
       "\n",
       "    .dataframe tbody tr th {\n",
       "        vertical-align: top;\n",
       "    }\n",
       "\n",
       "    .dataframe thead th {\n",
       "        text-align: right;\n",
       "    }\n",
       "</style>\n",
       "<table border=\"1\" class=\"dataframe\">\n",
       "  <thead>\n",
       "    <tr style=\"text-align: right;\">\n",
       "      <th></th>\n",
       "      <th>Veg_ID</th>\n",
       "      <th>SERN</th>\n",
       "      <th>SER_PA</th>\n",
       "      <th>MER</th>\n",
       "    </tr>\n",
       "  </thead>\n",
       "  <tbody>\n",
       "    <tr>\n",
       "      <th>3</th>\n",
       "      <td>7104</td>\n",
       "      <td>1.2</td>\n",
       "      <td>12.499605</td>\n",
       "      <td>1</td>\n",
       "    </tr>\n",
       "    <tr>\n",
       "      <th>5</th>\n",
       "      <td>7107</td>\n",
       "      <td>1.4</td>\n",
       "      <td>5.704866</td>\n",
       "      <td>1</td>\n",
       "    </tr>\n",
       "    <tr>\n",
       "      <th>4</th>\n",
       "      <td>7105</td>\n",
       "      <td>1.3</td>\n",
       "      <td>2.263467</td>\n",
       "      <td>1</td>\n",
       "    </tr>\n",
       "    <tr>\n",
       "      <th>2</th>\n",
       "      <td>7103</td>\n",
       "      <td>1.1</td>\n",
       "      <td>0.778934</td>\n",
       "      <td>1</td>\n",
       "    </tr>\n",
       "  </tbody>\n",
       "</table>\n",
       "</div>"
      ],
      "text/plain": [
       "   Veg_ID  SERN     SER_PA  MER\n",
       "3    7104   1.2  12.499605    1\n",
       "5    7107   1.4   5.704866    1\n",
       "4    7105   1.3   2.263467    1\n",
       "2    7103   1.1   0.778934    1"
      ]
     },
     "execution_count": 52,
     "metadata": {},
     "output_type": "execute_result"
    }
   ],
   "source": [
    "#Major Ecoregion 1 _ Sub Ecoregion Percent Areas of RGV\n",
    "#In Ascending Order\n",
    "M1_SPAR_A = M1_SPAR.sort_values(['SER_PA'], ascending=False)\n",
    "M1_SPAR_A"
   ]
  },
  {
   "cell_type": "code",
   "execution_count": 53,
   "metadata": {},
   "outputs": [
    {
     "data": {
      "text/plain": [
       "21.246871815418103"
      ]
     },
     "execution_count": 53,
     "metadata": {},
     "output_type": "execute_result"
    }
   ],
   "source": [
    "#Major Ecoregion 1 _ Sub Ecoregion Total Percent Area of RGV\n",
    "M1_STPAR=np.sum(M1_SPAR['SER_PA'])\n",
    "M1_STPAR"
   ]
  },
  {
   "cell_type": "code",
   "execution_count": 55,
   "metadata": {},
   "outputs": [
    {
     "data": {
      "text/plain": [
       "[12.49960468956886, 5.704865896037129, 2.263467156440615, 0.7789340733715006]"
      ]
     },
     "execution_count": 55,
     "metadata": {},
     "output_type": "execute_result"
    }
   ],
   "source": [
    "#List Version! \n",
    "M1_SPAR_AL=M1_SPAR_A.SER_PA.tolist()\n",
    "M1_SPAR_AL"
   ]
  },
  {
   "cell_type": "code",
   "execution_count": 56,
   "metadata": {},
   "outputs": [
    {
     "name": "stdout",
     "output_type": "stream",
     "text": [
      "58.83032946289223\n",
      "26.850380355273334\n",
      "10.653178388350312\n",
      "3.6661117934841383\n",
      "100.00000000000001\n"
     ]
    }
   ],
   "source": [
    "Total_Percent=0\n",
    "# Major Ecoregion 1 _ Sub Ecoregions Percent area of Major Ecoregion 1\n",
    "M1_SPA=[] \n",
    "\n",
    "for Area in M1_SPAR_AL:\n",
    "    Percent=(Area/M1_STPAR)*100\n",
    "    print(Percent)\n",
    "    M1_SPA.append(Percent)\n",
    "    Total_Percent=Total_Percent+Percent\n",
    "    \n",
    "print(Total_Percent)"
   ]
  },
  {
   "cell_type": "code",
   "execution_count": null,
   "metadata": {},
   "outputs": [],
   "source": []
  },
  {
   "cell_type": "code",
   "execution_count": 60,
   "metadata": {},
   "outputs": [
    {
     "data": {
      "text/html": [
       "<div>\n",
       "<style scoped>\n",
       "    .dataframe tbody tr th:only-of-type {\n",
       "        vertical-align: middle;\n",
       "    }\n",
       "\n",
       "    .dataframe tbody tr th {\n",
       "        vertical-align: top;\n",
       "    }\n",
       "\n",
       "    .dataframe thead th {\n",
       "        text-align: right;\n",
       "    }\n",
       "</style>\n",
       "<table border=\"1\" class=\"dataframe\">\n",
       "  <thead>\n",
       "    <tr style=\"text-align: right;\">\n",
       "      <th></th>\n",
       "      <th>Veg_ID</th>\n",
       "      <th>SERN</th>\n",
       "      <th>SER_PA</th>\n",
       "      <th>MER</th>\n",
       "    </tr>\n",
       "  </thead>\n",
       "  <tbody>\n",
       "    <tr>\n",
       "      <th>24</th>\n",
       "      <td>9304</td>\n",
       "      <td>6.1</td>\n",
       "      <td>0.227684</td>\n",
       "      <td>6</td>\n",
       "    </tr>\n",
       "    <tr>\n",
       "      <th>25</th>\n",
       "      <td>9307</td>\n",
       "      <td>6.2</td>\n",
       "      <td>22.698033</td>\n",
       "      <td>6</td>\n",
       "    </tr>\n",
       "    <tr>\n",
       "      <th>26</th>\n",
       "      <td>9410</td>\n",
       "      <td>6.3</td>\n",
       "      <td>1.407953</td>\n",
       "      <td>6</td>\n",
       "    </tr>\n",
       "    <tr>\n",
       "      <th>27</th>\n",
       "      <td>9411</td>\n",
       "      <td>6.4</td>\n",
       "      <td>6.344335</td>\n",
       "      <td>6</td>\n",
       "    </tr>\n",
       "    <tr>\n",
       "      <th>45</th>\n",
       "      <td>9317</td>\n",
       "      <td>6.5</td>\n",
       "      <td>0.065323</td>\n",
       "      <td>6</td>\n",
       "    </tr>\n",
       "  </tbody>\n",
       "</table>\n",
       "</div>"
      ],
      "text/plain": [
       "    Veg_ID  SERN     SER_PA  MER\n",
       "24    9304   6.1   0.227684    6\n",
       "25    9307   6.2  22.698033    6\n",
       "26    9410   6.3   1.407953    6\n",
       "27    9411   6.4   6.344335    6\n",
       "45    9317   6.5   0.065323    6"
      ]
     },
     "execution_count": 60,
     "metadata": {},
     "output_type": "execute_result"
    }
   ],
   "source": [
    "#Major Ecoregion 6 _ Sub Ecoregion Percent Areas of RGV\n",
    "M6_SPAR=SER.loc[SER['MER'] == 6] \n",
    "M6_SPAR"
   ]
  },
  {
   "cell_type": "code",
   "execution_count": 61,
   "metadata": {},
   "outputs": [
    {
     "data": {
      "text/html": [
       "<div>\n",
       "<style scoped>\n",
       "    .dataframe tbody tr th:only-of-type {\n",
       "        vertical-align: middle;\n",
       "    }\n",
       "\n",
       "    .dataframe tbody tr th {\n",
       "        vertical-align: top;\n",
       "    }\n",
       "\n",
       "    .dataframe thead th {\n",
       "        text-align: right;\n",
       "    }\n",
       "</style>\n",
       "<table border=\"1\" class=\"dataframe\">\n",
       "  <thead>\n",
       "    <tr style=\"text-align: right;\">\n",
       "      <th></th>\n",
       "      <th>Veg_ID</th>\n",
       "      <th>SERN</th>\n",
       "      <th>SER_PA</th>\n",
       "      <th>MER</th>\n",
       "    </tr>\n",
       "  </thead>\n",
       "  <tbody>\n",
       "    <tr>\n",
       "      <th>25</th>\n",
       "      <td>9307</td>\n",
       "      <td>6.2</td>\n",
       "      <td>22.698033</td>\n",
       "      <td>6</td>\n",
       "    </tr>\n",
       "    <tr>\n",
       "      <th>27</th>\n",
       "      <td>9411</td>\n",
       "      <td>6.4</td>\n",
       "      <td>6.344335</td>\n",
       "      <td>6</td>\n",
       "    </tr>\n",
       "    <tr>\n",
       "      <th>26</th>\n",
       "      <td>9410</td>\n",
       "      <td>6.3</td>\n",
       "      <td>1.407953</td>\n",
       "      <td>6</td>\n",
       "    </tr>\n",
       "    <tr>\n",
       "      <th>24</th>\n",
       "      <td>9304</td>\n",
       "      <td>6.1</td>\n",
       "      <td>0.227684</td>\n",
       "      <td>6</td>\n",
       "    </tr>\n",
       "    <tr>\n",
       "      <th>45</th>\n",
       "      <td>9317</td>\n",
       "      <td>6.5</td>\n",
       "      <td>0.065323</td>\n",
       "      <td>6</td>\n",
       "    </tr>\n",
       "  </tbody>\n",
       "</table>\n",
       "</div>"
      ],
      "text/plain": [
       "    Veg_ID  SERN     SER_PA  MER\n",
       "25    9307   6.2  22.698033    6\n",
       "27    9411   6.4   6.344335    6\n",
       "26    9410   6.3   1.407953    6\n",
       "24    9304   6.1   0.227684    6\n",
       "45    9317   6.5   0.065323    6"
      ]
     },
     "execution_count": 61,
     "metadata": {},
     "output_type": "execute_result"
    }
   ],
   "source": [
    "#Major Ecoregion 6 _ Sub Ecoregion Percent Areas of RGV\n",
    "#In Ascending Order\n",
    "M6_SPAR_A = M6_SPAR.sort_values(['SER_PA'], ascending=False)\n",
    "M6_SPAR_A"
   ]
  },
  {
   "cell_type": "code",
   "execution_count": 62,
   "metadata": {},
   "outputs": [
    {
     "data": {
      "text/plain": [
       "30.743328549872682"
      ]
     },
     "execution_count": 62,
     "metadata": {},
     "output_type": "execute_result"
    }
   ],
   "source": [
    "#Major Ecoregion 6 _ Sub Ecoregion Total Percent Area of RGV\n",
    "M6_STPAR=np.sum(M6_SPAR['SER_PA'])\n",
    "M6_STPAR"
   ]
  },
  {
   "cell_type": "code",
   "execution_count": 63,
   "metadata": {},
   "outputs": [
    {
     "data": {
      "text/plain": [
       "[22.69803300724316,\n",
       " 6.344335148347521,\n",
       " 1.407952584870943,\n",
       " 0.227684339224381,\n",
       " 0.06532347018667209]"
      ]
     },
     "execution_count": 63,
     "metadata": {},
     "output_type": "execute_result"
    }
   ],
   "source": [
    "#List Version! \n",
    "M6_SPAR_AL=M6_SPAR_A.SER_PA.tolist()\n",
    "M6_SPAR_AL"
   ]
  },
  {
   "cell_type": "code",
   "execution_count": 64,
   "metadata": {},
   "outputs": [
    {
     "name": "stdout",
     "output_type": "stream",
     "text": [
      "73.83075964081696\n",
      "20.6364614620553\n",
      "4.579701194641053\n",
      "0.7405975538888873\n",
      "0.21248014859777642\n",
      "99.99999999999997\n"
     ]
    }
   ],
   "source": [
    "Total_Percent=0\n",
    "# Major Ecoregion 6 _ Sub Ecoregions Percent area of Major Ecoregion 6\n",
    "M6_SPA=[] \n",
    "\n",
    "for Area in M6_SPAR_AL:\n",
    "    Percent=(Area/M6_STPAR)*100\n",
    "    print(Percent)\n",
    "    M6_SPA.append(Percent)\n",
    "    Total_Percent=Total_Percent+Percent\n",
    "    \n",
    "print(Total_Percent)"
   ]
  },
  {
   "cell_type": "code",
   "execution_count": 54,
   "metadata": {},
   "outputs": [
    {
     "data": {
      "text/html": [
       "<div>\n",
       "<style scoped>\n",
       "    .dataframe tbody tr th:only-of-type {\n",
       "        vertical-align: middle;\n",
       "    }\n",
       "\n",
       "    .dataframe tbody tr th {\n",
       "        vertical-align: top;\n",
       "    }\n",
       "\n",
       "    .dataframe thead th {\n",
       "        text-align: right;\n",
       "    }\n",
       "</style>\n",
       "<table border=\"1\" class=\"dataframe\">\n",
       "  <thead>\n",
       "    <tr style=\"text-align: right;\">\n",
       "      <th></th>\n",
       "      <th>MER</th>\n",
       "      <th>MER_PA</th>\n",
       "    </tr>\n",
       "  </thead>\n",
       "  <tbody>\n",
       "    <tr>\n",
       "      <th>0</th>\n",
       "      <td>Tamaulipan Mixed Deciduous Thornscrub</td>\n",
       "      <td>5.327991</td>\n",
       "    </tr>\n",
       "    <tr>\n",
       "      <th>10</th>\n",
       "      <td>Texas Coast Dune and Coastal Grassland</td>\n",
       "      <td>6.264523</td>\n",
       "    </tr>\n",
       "    <tr>\n",
       "      <th>5</th>\n",
       "      <td>Mainly Natural Azonal Mapped Types</td>\n",
       "      <td>15.688131</td>\n",
       "    </tr>\n",
       "    <tr>\n",
       "      <th>1</th>\n",
       "      <td>Tamaulipan Savanna Grassland</td>\n",
       "      <td>21.246872</td>\n",
       "    </tr>\n",
       "    <tr>\n",
       "      <th>6</th>\n",
       "      <td>Agricultural and other Human-related Mapped Types</td>\n",
       "      <td>30.743329</td>\n",
       "    </tr>\n",
       "  </tbody>\n",
       "</table>\n",
       "</div>"
      ],
      "text/plain": [
       "                                                  MER     MER_PA\n",
       "0               Tamaulipan Mixed Deciduous Thornscrub   5.327991\n",
       "10             Texas Coast Dune and Coastal Grassland   6.264523\n",
       "5                  Mainly Natural Azonal Mapped Types  15.688131\n",
       "1                        Tamaulipan Savanna Grassland  21.246872\n",
       "6   Agricultural and other Human-related Mapped Types  30.743329"
      ]
     },
     "execution_count": 54,
     "metadata": {},
     "output_type": "execute_result"
    }
   ],
   "source": [
    "MERA_top5"
   ]
  },
  {
   "cell_type": "code",
   "execution_count": null,
   "metadata": {},
   "outputs": [],
   "source": []
  },
  {
   "cell_type": "code",
   "execution_count": 66,
   "metadata": {},
   "outputs": [
    {
     "data": {
      "text/plain": [
       "100"
      ]
     },
     "execution_count": 66,
     "metadata": {},
     "output_type": "execute_result"
    }
   ],
   "source": [
    "74+21+4+1"
   ]
  },
  {
   "cell_type": "code",
   "execution_count": 70,
   "metadata": {},
   "outputs": [
    {
     "data": {
      "image/png": "[encoded data removed]",
      "text/plain": [
       "<Figure size 432x288 with 1 Axes>"
      ]
     },
     "metadata": {
      "needs_background": "light"
     },
     "output_type": "display_data"
    },
    {
     "data": {
      "image/png": "[encoded data removed]",
      "text/plain": [
       "<Figure size 72x72 with 1 Axes>"
      ]
     },
     "metadata": {
      "needs_background": "light"
     },
     "output_type": "display_data"
    }
   ],
   "source": [
    "# libraries\n",
    "import numpy as np\n",
    "import matplotlib.pyplot as plt\n",
    "from matplotlib import rc\n",
    "import pandas as pd\n",
    " \n",
    "# Data\n",
    "r = [0,1,2,3,4]\n",
    "\n",
    "#I am filling in the Percent areas of SER of the MER\n",
    "#I am rounding the nearest whole number\n",
    "\n",
    "#greenBars = [7004 , 6307, 7, 10, 5]\n",
    "#orangeBars = [7005 , 6200 , 5, 10, 15]\n",
    "#blueBars = [----, 6306, 0, 5, 10]\n",
    "#blackBars = [----, ----, 0, 5, 10]\n",
    "#etc!\n",
    "\n",
    "aBars =  [65, 98, 86, 59, 74]\n",
    "bBars =  [35, 2, 10, 27, 21]\n",
    "cBars =  [0, 0, 3, 10, 4] \n",
    "dBars =  [0, 0, 1, 4, 1]\n",
    "\n",
    "#X axis tick Labels\n",
    "\n",
    "names=\n",
    "\n",
    "\n",
    "# plot\n",
    "barWidth = 0.85\n",
    "names = ('A','B','C','D','E')\n",
    "# Create a Bars\n",
    "plt.bar(r, aBars,color='#234d20', edgecolor='white', width=barWidth)\n",
    "# Create b Bars\n",
    "plt.bar(r, bBars, bottom=aBars,color='#36802d', edgecolor='white', width=barWidth)\n",
    "# Create c Bars\n",
    "plt.bar(r, cBars, bottom=[a+b for a,b in zip(aBars, bBars)],color='#77ab59', edgecolor='white', width=barWidth)\n",
    "# Create d Bars\n",
    "plt.bar(r, dBars, bottom=[a+b+c for a,b,c in zip(aBars, bBars, cBars)],color='#c9df8a', edgecolor='white', width=barWidth)\n",
    "\n",
    "# Custom x axis\n",
    "plt.xticks(r, names)\n",
    "plt.xlabel(\"group\")\n",
    " \n",
    "# Show graphic\n",
    "plt.show()"
   ]
  },
  {
   "cell_type": "code",
   "execution_count": null,
   "metadata": {},
   "outputs": [],
   "source": []
  },
  {
   "cell_type": "code",
   "execution_count": 84,
   "metadata": {},
   "outputs": [
    {
     "data": {
      "image/png": "[encoded data removed]",
      "text/plain": [
       "<Figure size 1080x720 with 1 Axes>"
      ]
     },
     "metadata": {
      "needs_background": "light"
     },
     "output_type": "display_data"
    }
   ],
   "source": [
    "fig, ax = plt.subplots(figsize=(15, 10))\n",
    "Label=MERA_top5['MER']\n",
    "y = np.arange(len(Label))\n",
    "\n",
    "x=[0,10,20,40,60,80,100]\n",
    "\n",
    "aBars =  [65, 98, 86, 59, 74]\n",
    "bBars =  [35, 2, 10, 27, 21]\n",
    "cBars =  [0, 0, 3, 10, 4] \n",
    "dBars =  [0, 0, 1, 4, 1]\n",
    "\n",
    "\n",
    "# plot\n",
    "barWidth = 0.85\n",
    "names = ('A','B','C','D','E')\n",
    "# Create a Bars\n",
    "ax.barh(r, aBars,color='#234d20', edgecolor='white')\n",
    "# Create b Bars\n",
    "ax.barh(r, bBars, left=aBars,color='#36802d', edgecolor='white')\n",
    "# Create c Bars\n",
    "ax.barh(r, cBars, left=[a+b for a,b in zip(aBars, bBars)],color='#77ab59', edgecolor='white')\n",
    "# Create d Bars\n",
    "ax.barh(r, dBars, left=[a+b+c for a,b,c in zip(aBars, bBars, cBars)],color='#c9df8a', edgecolor='white')\n",
    "\n",
    "\n",
    "ax.set_yticks(y)\n",
    "ax.set_xticks(x)\n",
    "ax.set_yticklabels(Label, fontsize=20)\n",
    "ax.set_xticklabels(x, fontsize=14)\n",
    "ax.invert_yaxis()\n",
    "ax.set_xlabel('% Area(Meters)',fontsize=20)\n",
    "ax.set_title('Subecoregions by % area of Major Ecoregion (Meters)',fontsize=24)\n",
    "plt.show()"
   ]
  },
  {
   "cell_type": "code",
   "execution_count": 121,
   "metadata": {},
   "outputs": [
    {
     "data": {
      "image/png": "[encoded data removed]",
      "text/plain": [
       "<Figure size 1080x864 with 1 Axes>"
      ]
     },
     "metadata": {
      "needs_background": "light"
     },
     "output_type": "display_data"
    }
   ],
   "source": [
    "fig, ax = plt.subplots(figsize=(15, 12))\n",
    "Label=MERA_top5['MER']\n",
    "y = np.arange(len(Label))\n",
    "\n",
    "x=[0,10,20,40,60,80,100]\n",
    "\n",
    "aBars =  [65, 98, 86, 59, 74]\n",
    "bBars =  [35, 2, 10, 27, 21]\n",
    "cBars =  [0, 0, 3, 10, 4] \n",
    "dBars =  [0, 0, 1, 4, 1]\n",
    "\n",
    "\n",
    "# plot\n",
    "barWidth = 0.85\n",
    "names = ('A','B','C','D','E')\n",
    "# Create a Bars\n",
    "ax.barh(r, aBars,color='#234d20', edgecolor='white')\n",
    "# Create b Bars\n",
    "ax.barh(r, bBars, left=aBars,color='#36802d', edgecolor='white')\n",
    "# Create c Bars\n",
    "ax.barh(r, cBars, left=[a+b for a,b in zip(aBars, bBars)],color='#77ab59', edgecolor='white')\n",
    "# Create d Bars\n",
    "ax.barh(r, dBars, left=[a+b+c for a,b,c in zip(aBars, bBars, cBars)],color='#c9df8a', edgecolor='white')\n",
    "\n",
    "\n",
    "ax.set_yticks(y)\n",
    "ax.set_xticks(x)\n",
    "ax.set_yticklabels(Label, fontsize=20)\n",
    "ax.set_xticklabels(x, fontsize=20)\n",
    "ax.invert_yaxis()\n",
    "ax.set_xlabel('% Area(Meters)',fontsize=24)\n",
    "ax.set_title('Subecoregions by % area of Major Ecoregion (Meters)',fontsize=24)\n",
    "plt.show()"
   ]
  },
  {
   "cell_type": "code",
   "execution_count": null,
   "metadata": {},
   "outputs": [],
   "source": []
  },
  {
   "cell_type": "code",
   "execution_count": null,
   "metadata": {},
   "outputs": [],
   "source": []
  },
  {
   "cell_type": "code",
   "execution_count": null,
   "metadata": {},
   "outputs": [],
   "source": []
  },
  {
   "cell_type": "code",
   "execution_count": null,
   "metadata": {},
   "outputs": [],
   "source": []
  },
  {
   "cell_type": "code",
   "execution_count": null,
   "metadata": {},
   "outputs": [],
   "source": []
  },
  {
   "cell_type": "code",
   "execution_count": null,
   "metadata": {},
   "outputs": [],
   "source": []
  },
  {
   "cell_type": "code",
   "execution_count": null,
   "metadata": {},
   "outputs": [],
   "source": []
  },
  {
   "cell_type": "code",
   "execution_count": null,
   "metadata": {},
   "outputs": [],
   "source": []
  },
  {
   "cell_type": "code",
   "execution_count": null,
   "metadata": {},
   "outputs": [],
   "source": []
  },
  {
   "cell_type": "code",
   "execution_count": null,
   "metadata": {},
   "outputs": [],
   "source": []
  },
  {
   "cell_type": "code",
   "execution_count": 71,
   "metadata": {},
   "outputs": [
    {
     "data": {
      "text/html": [
       "<div>\n",
       "<style scoped>\n",
       "    .dataframe tbody tr th:only-of-type {\n",
       "        vertical-align: middle;\n",
       "    }\n",
       "\n",
       "    .dataframe tbody tr th {\n",
       "        vertical-align: top;\n",
       "    }\n",
       "\n",
       "    .dataframe thead th {\n",
       "        text-align: right;\n",
       "    }\n",
       "</style>\n",
       "<table border=\"1\" class=\"dataframe\">\n",
       "  <thead>\n",
       "    <tr style=\"text-align: right;\">\n",
       "      <th></th>\n",
       "      <th>MER</th>\n",
       "      <th>MER_PA</th>\n",
       "    </tr>\n",
       "  </thead>\n",
       "  <tbody>\n",
       "    <tr>\n",
       "      <th>0</th>\n",
       "      <td>Tamaulipan Mixed Deciduous Thornscrub</td>\n",
       "      <td>5.327991</td>\n",
       "    </tr>\n",
       "    <tr>\n",
       "      <th>10</th>\n",
       "      <td>Texas Coast Dune and Coastal Grassland</td>\n",
       "      <td>6.264523</td>\n",
       "    </tr>\n",
       "    <tr>\n",
       "      <th>5</th>\n",
       "      <td>Mainly Natural Azonal Mapped Types</td>\n",
       "      <td>15.688131</td>\n",
       "    </tr>\n",
       "    <tr>\n",
       "      <th>1</th>\n",
       "      <td>Tamaulipan Savanna Grassland</td>\n",
       "      <td>21.246872</td>\n",
       "    </tr>\n",
       "    <tr>\n",
       "      <th>6</th>\n",
       "      <td>Agricultural and other Human-related Mapped Types</td>\n",
       "      <td>30.743329</td>\n",
       "    </tr>\n",
       "  </tbody>\n",
       "</table>\n",
       "</div>"
      ],
      "text/plain": [
       "                                                  MER     MER_PA\n",
       "0               Tamaulipan Mixed Deciduous Thornscrub   5.327991\n",
       "10             Texas Coast Dune and Coastal Grassland   6.264523\n",
       "5                  Mainly Natural Azonal Mapped Types  15.688131\n",
       "1                        Tamaulipan Savanna Grassland  21.246872\n",
       "6   Agricultural and other Human-related Mapped Types  30.743329"
      ]
     },
     "execution_count": 71,
     "metadata": {},
     "output_type": "execute_result"
    }
   ],
   "source": [
    "MERA_top5"
   ]
  },
  {
   "cell_type": "code",
   "execution_count": null,
   "metadata": {},
   "outputs": [],
   "source": []
  },
  {
   "cell_type": "code",
   "execution_count": null,
   "metadata": {},
   "outputs": [],
   "source": []
  },
  {
   "cell_type": "code",
   "execution_count": null,
   "metadata": {},
   "outputs": [],
   "source": []
  },
  {
   "cell_type": "code",
   "execution_count": null,
   "metadata": {},
   "outputs": [],
   "source": []
  },
  {
   "cell_type": "code",
   "execution_count": null,
   "metadata": {},
   "outputs": [],
   "source": []
  },
  {
   "cell_type": "code",
   "execution_count": 68,
   "metadata": {},
   "outputs": [
    {
     "data": {
      "image/png": "[encoded data removed]",
      "text/plain": [
       "<Figure size 432x288 with 1 Axes>"
      ]
     },
     "metadata": {
      "needs_background": "light"
     },
     "output_type": "display_data"
    }
   ],
   "source": [
    "# libraries\n",
    "import numpy as np\n",
    "import matplotlib.pyplot as plt\n",
    "from matplotlib import rc\n",
    "import pandas as pd\n",
    " \n",
    "# Data\n",
    "r = [0,1,2,3,4]\n",
    "raw_data = {'greenBars': [20, 1.5, 7, 10, 5], 'orangeBars': [5, 15, 5, 10, 15],'blueBars': [2, 15, 18, 5, 10]}\n",
    "df = pd.DataFrame(raw_data)\n",
    " \n",
    "# From raw value to percentage\n",
    "totals = [i+j+k for i,j,k in zip(df['greenBars'], df['orangeBars'], df['blueBars'])]\n",
    "greenBars = [i / j * 100 for i,j in zip(df['greenBars'], totals)]\n",
    "orangeBars = [i / j * 100 for i,j in zip(df['orangeBars'], totals)]\n",
    "blueBars = [i / j * 100 for i,j in zip(df['blueBars'], totals)]\n",
    " \n",
    "# plot\n",
    "barWidth = 0.85\n",
    "names = ('A','B','C','D','E')\n",
    "# Create green Bars\n",
    "plt.bar(r, greenBars, color='#b5ffb9', edgecolor='white', width=barWidth)\n",
    "# Create orange Bars\n",
    "plt.bar(r, orangeBars, bottom=greenBars, color='#f9bc86', edgecolor='white', width=barWidth)\n",
    "# Create blue Bars\n",
    "plt.bar(r, blueBars, bottom=[i+j for i,j in zip(greenBars, orangeBars)], color='#a3acff', edgecolor='white', width=barWidth)\n",
    " \n",
    "# Custom x axis\n",
    "plt.xticks(r, names)\n",
    "plt.xlabel(\"group\")\n",
    " \n",
    "# Show graphic\n",
    "plt.show()"
   ]
  },
  {
   "cell_type": "code",
   "execution_count": null,
   "metadata": {},
   "outputs": [],
   "source": []
  },
  {
   "cell_type": "code",
   "execution_count": null,
   "metadata": {},
   "outputs": [],
   "source": []
  },
  {
   "cell_type": "code",
   "execution_count": null,
   "metadata": {},
   "outputs": [],
   "source": []
  },
  {
   "cell_type": "code",
   "execution_count": null,
   "metadata": {},
   "outputs": [],
   "source": []
  },
  {
   "cell_type": "code",
   "execution_count": null,
   "metadata": {},
   "outputs": [],
   "source": []
  },
  {
   "cell_type": "code",
   "execution_count": null,
   "metadata": {},
   "outputs": [],
   "source": []
  },
  {
   "cell_type": "code",
   "execution_count": null,
   "metadata": {},
   "outputs": [],
   "source": []
  },
  {
   "cell_type": "code",
   "execution_count": null,
   "metadata": {},
   "outputs": [],
   "source": []
  },
  {
   "cell_type": "code",
   "execution_count": null,
   "metadata": {},
   "outputs": [],
   "source": []
  }
 ],
 "metadata": {
  "kernelspec": {
   "display_name": "Python 3",
   "language": "python",
   "name": "python3"
  },
  "language_info": {
   "codemirror_mode": {
    "name": "ipython",
    "version": 3
   },
   "file_extension": ".py",
   "mimetype": "text/x-python",
   "name": "python",
   "nbconvert_exporter": "python",
   "pygments_lexer": "ipython3",
   "version": "3.7.0"
  }
 },
 "nbformat": 4,
 "nbformat_minor": 2
}
