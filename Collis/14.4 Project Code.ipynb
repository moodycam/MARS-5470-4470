{
 "cells": [
  {
   "cell_type": "code",
   "execution_count": 1,
   "metadata": {},
   "outputs": [],
   "source": [
    "import numpy as np\n",
    "import pandas as pd\n",
    "import matplotlib.pyplot as plt\n",
    "%matplotlib inline\n",
    "from pandas import ExcelWriter\n",
    "from pandas import ExcelFile"
   ]
  },
  {
   "cell_type": "code",
   "execution_count": 15,
   "metadata": {},
   "outputs": [],
   "source": [
    "file = \"C:\\\\Users\\Bridgett\\Desktop\\Major_Ecoregions.xlsx\"\n",
    "Major_ecoregions = pd.read_excel(file)"
   ]
  },
  {
   "cell_type": "code",
   "execution_count": 16,
   "metadata": {
    "scrolled": true
   },
   "outputs": [
    {
     "ename": "AttributeError",
     "evalue": "'list' object has no attribute 'columns'",
     "output_type": "error",
     "traceback": [
      "\u001b[1;31m---------------------------------------------------------------------------\u001b[0m",
      "\u001b[1;31mAttributeError\u001b[0m                            Traceback (most recent call last)",
      "\u001b[1;32m<ipython-input-16-899df8f94c44>\u001b[0m in \u001b[0;36m<module>\u001b[1;34m()\u001b[0m\n\u001b[1;32m----> 1\u001b[1;33m \u001b[0mMajor_ecoregions\u001b[0m\u001b[1;33m=\u001b[0m\u001b[0mMajor_ecoregions\u001b[0m\u001b[1;33m.\u001b[0m\u001b[0mcolumns\u001b[0m \u001b[1;33m=\u001b[0m \u001b[1;33m[\u001b[0m\u001b[1;34m'Index'\u001b[0m\u001b[1;33m,\u001b[0m\u001b[1;34m'Major_Ecoreg'\u001b[0m\u001b[1;33m,\u001b[0m \u001b[1;34m'Maj_ecoreg_area'\u001b[0m\u001b[1;33m,\u001b[0m \u001b[1;34m'Maj_ecoreg_percent_area'\u001b[0m\u001b[1;33m]\u001b[0m\u001b[1;33m\u001b[0m\u001b[0m\n\u001b[0m\u001b[0;32m      2\u001b[0m \u001b[0mMajor_ecoregions\u001b[0m\u001b[1;33m=\u001b[0m\u001b[0mMajor_ecoregions\u001b[0m\u001b[1;33m.\u001b[0m\u001b[0mdrop\u001b[0m\u001b[1;33m(\u001b[0m\u001b[0mMajor_ecoregions\u001b[0m\u001b[1;33m.\u001b[0m\u001b[0mcolumns\u001b[0m\u001b[1;33m[\u001b[0m\u001b[1;33m[\u001b[0m\u001b[1;36m0\u001b[0m\u001b[1;33m]\u001b[0m\u001b[1;33m]\u001b[0m\u001b[1;33m,\u001b[0m \u001b[0maxis\u001b[0m\u001b[1;33m=\u001b[0m\u001b[1;36m1\u001b[0m\u001b[1;33m)\u001b[0m\u001b[1;33m\u001b[0m\u001b[0m\n",
      "\u001b[1;31mAttributeError\u001b[0m: 'list' object has no attribute 'columns'"
     ]
    }
   ],
   "source": [
    "Major_ecoregions=Major_ecoregions.drop(Major_ecoregions.columns[[0]], axis=1) "
   ]
  },
  {
   "cell_type": "code",
   "execution_count": 17,
   "metadata": {},
   "outputs": [
    {
     "ename": "AttributeError",
     "evalue": "'list' object has no attribute 'columns'",
     "output_type": "error",
     "traceback": [
      "\u001b[1;31m---------------------------------------------------------------------------\u001b[0m",
      "\u001b[1;31mAttributeError\u001b[0m                            Traceback (most recent call last)",
      "\u001b[1;32m<ipython-input-17-31960ce8dff0>\u001b[0m in \u001b[0;36m<module>\u001b[1;34m()\u001b[0m\n\u001b[1;32m----> 1\u001b[1;33m \u001b[0mMajor_ecoregions\u001b[0m\u001b[1;33m=\u001b[0m\u001b[0mMajor_ecoregions\u001b[0m\u001b[1;33m.\u001b[0m\u001b[0mcolumns\u001b[0m \u001b[1;33m=\u001b[0m \u001b[1;33m[\u001b[0m\u001b[1;34m'Index'\u001b[0m\u001b[1;33m,\u001b[0m\u001b[1;34m'Major_Ecoreg'\u001b[0m\u001b[1;33m,\u001b[0m \u001b[1;34m'Maj_ecoreg_area'\u001b[0m\u001b[1;33m,\u001b[0m \u001b[1;34m'Maj_ecoreg_percent_area'\u001b[0m\u001b[1;33m]\u001b[0m\u001b[1;33m\u001b[0m\u001b[0m\n\u001b[0m",
      "\u001b[1;31mAttributeError\u001b[0m: 'list' object has no attribute 'columns'"
     ]
    }
   ],
   "source": [
    "Major_ecoregions=Major_ecoregions.columns = ['Index','Major_Ecoreg', 'Maj_ecoreg_area', 'Maj_ecoreg_percent_area']"
   ]
  },
  {
   "cell_type": "code",
   "execution_count": 9,
   "metadata": {},
   "outputs": [],
   "source": [
    "file1 = \"C:\\\\Users\\Bridgett\\Desktop\\Sub_Ecoregions.xlsx\"\n",
    "Sub_ecoregions = pd.read_excel(file1)"
   ]
  },
  {
   "cell_type": "code",
   "execution_count": 10,
   "metadata": {},
   "outputs": [],
   "source": [
    "Sub_ecoregions=Sub_ecoregions.drop(Sub_ecoregions.columns[[0]], axis=1) "
   ]
  },
  {
   "cell_type": "code",
   "execution_count": 13,
   "metadata": {},
   "outputs": [
    {
     "data": {
      "text/html": [
       "<div>\n",
       "<style scoped>\n",
       "    .dataframe tbody tr th:only-of-type {\n",
       "        vertical-align: middle;\n",
       "    }\n",
       "\n",
       "    .dataframe tbody tr th {\n",
       "        vertical-align: top;\n",
       "    }\n",
       "\n",
       "    .dataframe thead th {\n",
       "        text-align: right;\n",
       "    }\n",
       "</style>\n",
       "<table border=\"1\" class=\"dataframe\">\n",
       "  <thead>\n",
       "    <tr style=\"text-align: right;\">\n",
       "      <th></th>\n",
       "      <th>0</th>\n",
       "      <th>Major_ecoreg_area</th>\n",
       "      <th>Major_ecoreg_percent_area</th>\n",
       "    </tr>\n",
       "  </thead>\n",
       "  <tbody>\n",
       "    <tr>\n",
       "      <th>0</th>\n",
       "      <td>Tamaulipan Mixed Deciduous Thornscrub</td>\n",
       "      <td>6.187106e+08</td>\n",
       "      <td>5.327991</td>\n",
       "    </tr>\n",
       "    <tr>\n",
       "      <th>1</th>\n",
       "      <td>Tamaulipan Savanna Grassland</td>\n",
       "      <td>2.467284e+09</td>\n",
       "      <td>21.246872</td>\n",
       "    </tr>\n",
       "    <tr>\n",
       "      <th>2</th>\n",
       "      <td>Tamaulipan Calcareous Thornscrub</td>\n",
       "      <td>4.422166e+08</td>\n",
       "      <td>3.808123</td>\n",
       "    </tr>\n",
       "    <tr>\n",
       "      <th>3</th>\n",
       "      <td>Tamaulipan Floodplain</td>\n",
       "      <td>2.022538e+08</td>\n",
       "      <td>1.741697</td>\n",
       "    </tr>\n",
       "    <tr>\n",
       "      <th>4</th>\n",
       "      <td>Tamulipan Ramadero</td>\n",
       "      <td>1.765012e+08</td>\n",
       "      <td>1.519930</td>\n",
       "    </tr>\n",
       "    <tr>\n",
       "      <th>5</th>\n",
       "      <td>Mainly Natural Azonal Mapped Types</td>\n",
       "      <td>1.821777e+09</td>\n",
       "      <td>15.688131</td>\n",
       "    </tr>\n",
       "    <tr>\n",
       "      <th>6</th>\n",
       "      <td>Agricultural and other Human-related Mapped Types</td>\n",
       "      <td>3.570055e+09</td>\n",
       "      <td>30.743329</td>\n",
       "    </tr>\n",
       "    <tr>\n",
       "      <th>7</th>\n",
       "      <td>Tamaulipan Closed Depression Wetland</td>\n",
       "      <td>1.499307e+07</td>\n",
       "      <td>0.129112</td>\n",
       "    </tr>\n",
       "    <tr>\n",
       "      <th>8</th>\n",
       "      <td>Texas Saline Coastal Prairie</td>\n",
       "      <td>5.357306e+08</td>\n",
       "      <td>4.613413</td>\n",
       "    </tr>\n",
       "    <tr>\n",
       "      <th>9</th>\n",
       "      <td>Texas Coast Salt and Brackish Tidal Marsh</td>\n",
       "      <td>2.595099e+08</td>\n",
       "      <td>2.234754</td>\n",
       "    </tr>\n",
       "    <tr>\n",
       "      <th>10</th>\n",
       "      <td>Texas Coast Dune and Coastal Grassland</td>\n",
       "      <td>2.321518e+07</td>\n",
       "      <td>0.199916</td>\n",
       "    </tr>\n",
       "    <tr>\n",
       "      <th>11</th>\n",
       "      <td>Rio Grande Delta Thorn Woodland and Shrubland</td>\n",
       "      <td>1.637675e+06</td>\n",
       "      <td>0.014103</td>\n",
       "    </tr>\n",
       "    <tr>\n",
       "      <th>12</th>\n",
       "      <td>Texas Coastal Beach</td>\n",
       "      <td>7.274650e+08</td>\n",
       "      <td>6.264523</td>\n",
       "    </tr>\n",
       "    <tr>\n",
       "      <th>13</th>\n",
       "      <td>Central and South Texas Coastal Fringe Forest ...</td>\n",
       "      <td>8.874322e+06</td>\n",
       "      <td>0.076421</td>\n",
       "    </tr>\n",
       "    <tr>\n",
       "      <th>14</th>\n",
       "      <td>Southeastern Coastal Plain Interdunal Wetland</td>\n",
       "      <td>3.764550e+08</td>\n",
       "      <td>3.241821</td>\n",
       "    </tr>\n",
       "    <tr>\n",
       "      <th>15</th>\n",
       "      <td>South Texas Salt and Brackish Tidal Flats</td>\n",
       "      <td>6.835801e+07</td>\n",
       "      <td>0.588661</td>\n",
       "    </tr>\n",
       "    <tr>\n",
       "      <th>16</th>\n",
       "      <td>Tamaulipan Lomas</td>\n",
       "      <td>6.491596e+05</td>\n",
       "      <td>0.005590</td>\n",
       "    </tr>\n",
       "    <tr>\n",
       "      <th>17</th>\n",
       "      <td>Tamaulipan Palm Grove Riparian Forest</td>\n",
       "      <td>1.377513e+07</td>\n",
       "      <td>0.118624</td>\n",
       "    </tr>\n",
       "    <tr>\n",
       "      <th>18</th>\n",
       "      <td>Tamaulipan Saline Lake</td>\n",
       "      <td>1.591856e+08</td>\n",
       "      <td>1.370818</td>\n",
       "    </tr>\n",
       "    <tr>\n",
       "      <th>19</th>\n",
       "      <td>Tamaulipan Saline Thornscrub</td>\n",
       "      <td>1.075489e+08</td>\n",
       "      <td>0.926151</td>\n",
       "    </tr>\n",
       "    <tr>\n",
       "      <th>20</th>\n",
       "      <td>Tamaulipan Caliche Grassland</td>\n",
       "      <td>1.625977e+07</td>\n",
       "      <td>0.140020</td>\n",
       "    </tr>\n",
       "  </tbody>\n",
       "</table>\n",
       "</div>"
      ],
      "text/plain": [
       "                                                    0  Major_ecoreg_area  \\\n",
       "0               Tamaulipan Mixed Deciduous Thornscrub       6.187106e+08   \n",
       "1                        Tamaulipan Savanna Grassland       2.467284e+09   \n",
       "2                    Tamaulipan Calcareous Thornscrub       4.422166e+08   \n",
       "3                               Tamaulipan Floodplain       2.022538e+08   \n",
       "4                                  Tamulipan Ramadero       1.765012e+08   \n",
       "5                  Mainly Natural Azonal Mapped Types       1.821777e+09   \n",
       "6   Agricultural and other Human-related Mapped Types       3.570055e+09   \n",
       "7                Tamaulipan Closed Depression Wetland       1.499307e+07   \n",
       "8                        Texas Saline Coastal Prairie       5.357306e+08   \n",
       "9           Texas Coast Salt and Brackish Tidal Marsh       2.595099e+08   \n",
       "10             Texas Coast Dune and Coastal Grassland       2.321518e+07   \n",
       "11      Rio Grande Delta Thorn Woodland and Shrubland       1.637675e+06   \n",
       "12                                Texas Coastal Beach       7.274650e+08   \n",
       "13  Central and South Texas Coastal Fringe Forest ...       8.874322e+06   \n",
       "14      Southeastern Coastal Plain Interdunal Wetland       3.764550e+08   \n",
       "15          South Texas Salt and Brackish Tidal Flats       6.835801e+07   \n",
       "16                                   Tamaulipan Lomas       6.491596e+05   \n",
       "17              Tamaulipan Palm Grove Riparian Forest       1.377513e+07   \n",
       "18                             Tamaulipan Saline Lake       1.591856e+08   \n",
       "19                       Tamaulipan Saline Thornscrub       1.075489e+08   \n",
       "20                       Tamaulipan Caliche Grassland       1.625977e+07   \n",
       "\n",
       "    Major_ecoreg_percent_area  \n",
       "0                    5.327991  \n",
       "1                   21.246872  \n",
       "2                    3.808123  \n",
       "3                    1.741697  \n",
       "4                    1.519930  \n",
       "5                   15.688131  \n",
       "6                   30.743329  \n",
       "7                    0.129112  \n",
       "8                    4.613413  \n",
       "9                    2.234754  \n",
       "10                   0.199916  \n",
       "11                   0.014103  \n",
       "12                   6.264523  \n",
       "13                   0.076421  \n",
       "14                   3.241821  \n",
       "15                   0.588661  \n",
       "16                   0.005590  \n",
       "17                   0.118624  \n",
       "18                   1.370818  \n",
       "19                   0.926151  \n",
       "20                   0.140020  "
      ]
     },
     "execution_count": 13,
     "metadata": {},
     "output_type": "execute_result"
    }
   ],
   "source": [
    "Major_ecoregions"
   ]
  },
  {
   "cell_type": "code",
   "execution_count": null,
   "metadata": {},
   "outputs": [],
   "source": []
  }
 ],
 "metadata": {
  "kernelspec": {
   "display_name": "Python 3",
   "language": "python",
   "name": "python3"
  },
  "language_info": {
   "codemirror_mode": {
    "name": "ipython",
    "version": 3
   },
   "file_extension": ".py",
   "mimetype": "text/x-python",
   "name": "python",
   "nbconvert_exporter": "python",
   "pygments_lexer": "ipython3",
   "version": "3.7.0"
  }
 },
 "nbformat": 4,
 "nbformat_minor": 2
}
