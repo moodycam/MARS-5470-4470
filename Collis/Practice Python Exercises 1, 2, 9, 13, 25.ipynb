{
 "cells": [
  {
   "cell_type": "markdown",
   "metadata": {},
   "source": [
    "# Practice Python Exercises 1, 2, 9, 13, 25\n",
    "    https://www.practicepython.org/"
   ]
  },
  {
   "cell_type": "markdown",
   "metadata": {},
   "source": [
    "**Problem #1: Character Input**\n",
    "    - Create a program that asks the user to enter their name and their age \n",
    "    - Print out a message addressed to them that tells them the year that \n",
    "      they will turn 100 years old."
   ]
  },
  {
   "cell_type": "code",
   "execution_count": null,
   "metadata": {},
   "outputs": [
    {
     "name": "stdout",
     "output_type": "stream",
     "text": [
      "Please enter your name: lola\n"
     ]
    }
   ],
   "source": [
    "#Create a program that asks the user to enter their name and their age. \n",
    "#Print out a message addressed to them that tells them the year that they will turn 100 years old.\n",
    "#%%\n",
    "#Pseudocode:\n",
    "#First I need to create an variable that asks the user to imput enter their name.\n",
    "\n",
    "name= input('Please enter your name: ')\n",
    "\n",
    "#Now create a variable that asks the user for their age. This variable will be of type string.\n",
    "\n",
    "age= input('Please enter your age: ')\n",
    "\n",
    "#%%\n",
    "\n",
    "#Now make a function that determines what year they will turn 100 years old.\n",
    "\n",
    "#Age-100= the number of years left for the person to turn 100 years old.\n",
    "#To do math with the variable age we need to convert it into an integer.\n",
    "\n",
    "y= 100- int(age)\n",
    "print(y)\n",
    "#%%\n",
    "#Once you know how many years it will take them to turn 100, add that number to 2019.\n",
    "\n",
    "z= y+2019\n",
    "print(z)\n",
    "#%%\n",
    "\n",
    "#Now print a message that tells the user that they will turn 100 in x year.\n",
    "\n",
    "print(name + ', you will be turning 100 in the year ' + str(z) + '.')\n"
   ]
  },
  {
   "cell_type": "code",
   "execution_count": 1,
   "metadata": {},
   "outputs": [
    {
     "name": "stdout",
     "output_type": "stream",
     "text": [
      "Please enter your name: Lola\n",
      "Please enter your age: 20\n",
      "Lola, you will be turning 100 in the year 2099.\n"
     ]
    }
   ],
   "source": [
    "name= input('Please enter your name: ')\n",
    "age= input('Please enter your age: ')\n",
    "y= 100- int(age)\n",
    "z= y+2019\n",
    "print(name + ', you will be turning 100 in the year ' + str(z) + '.')"
   ]
  },
  {
   "cell_type": "code",
   "execution_count": 2,
   "metadata": {},
   "outputs": [
    {
     "name": "stdout",
     "output_type": "stream",
     "text": [
      "What is your name: Lola\n",
      "How old are you: 20\n",
      "Lola will be 100 years old in the year 2094\n"
     ]
    }
   ],
   "source": [
    "\n",
    "# This is the solution from Practice Python\n",
    "\n",
    "name = input(\"What is your name: \") \n",
    "age = int(input(\"How old are you: \")) \n",
    "year = str((2014 - age)+100) \n",
    "print(name + \" will be 100 years old in the year \" + year) \n",
    "\n",
    "#This gave me 2094. The number I got was 2099.\n"
   ]
  },
  {
   "cell_type": "code",
   "execution_count": 3,
   "metadata": {},
   "outputs": [
    {
     "name": "stdout",
     "output_type": "stream",
     "text": [
      "What is your name: Lola\n",
      "How old are you: 20\n",
      "Lola will be 100 years old in the year 2099\n"
     ]
    }
   ],
   "source": [
    "\n",
    "# It gave me different numbers because the year in practice python is 2014. It should be 2019.\n",
    "\n",
    "name = input(\"What is your name: \") \n",
    "age = int(input(\"How old are you: \")) \n",
    "year = str((2019 - age)+100) \n",
    "print(name + \" will be 100 years old in the year \" + year) \n",
    "\n"
   ]
  },
  {
   "cell_type": "markdown",
   "metadata": {},
   "source": [
    "**Problem #2: Odd Or Even**\n",
    "    - Ask the user for a number. \n",
    "    - Determine whether the number is even or odd\n",
    "    - print out an appropriate message to the user"
   ]
  },
  {
   "cell_type": "code",
   "execution_count": null,
   "metadata": {},
   "outputs": [],
   "source": [
    "x=input('Is this number odd or even? ')\n",
    "if x % 2 = 0:\n",
    "    print('That is an even number.')"
   ]
  },
  {
   "cell_type": "code",
   "execution_count": null,
   "metadata": {},
   "outputs": [],
   "source": []
  }
 ],
 "metadata": {
  "kernelspec": {
   "display_name": "Python 3",
   "language": "python",
   "name": "python3"
  },
  "language_info": {
   "codemirror_mode": {
    "name": "ipython",
    "version": 3
   },
   "file_extension": ".py",
   "mimetype": "text/x-python",
   "name": "python",
   "nbconvert_exporter": "python",
   "pygments_lexer": "ipython3",
   "version": "3.7.0"
  }
 },
 "nbformat": 4,
 "nbformat_minor": 2
}
