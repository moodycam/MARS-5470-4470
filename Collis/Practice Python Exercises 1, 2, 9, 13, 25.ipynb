{
 "cells": [
  {
   "cell_type": "markdown",
   "metadata": {},
   "source": [
    "# Practice Python Exercises 1, 2, 9, 13, 25\n",
    "    https://www.practicepython.org/"
   ]
  },
  {
   "cell_type": "markdown",
   "metadata": {},
   "source": [
    "**Problem #1: Character Input**\n",
    "    - Create a program that asks the user to enter their name and their age \n",
    "    - Print out a message addressed to them that tells them the year that \n",
    "      they will turn 100 years old."
   ]
  },
  {
   "cell_type": "code",
   "execution_count": null,
   "metadata": {},
   "outputs": [
    {
     "name": "stdout",
     "output_type": "stream",
     "text": [
      "Please enter your name: lola\n"
     ]
    }
   ],
   "source": [
    "#Create a program that asks the user to enter their name and their age. \n",
    "#Print out a message addressed to them that tells them the year that they will turn 100 years old.\n",
    "#%%\n",
    "#Pseudocode:\n",
    "#First I need to create an variable that asks the user to imput enter their name.\n",
    "\n",
    "name= input('Please enter your name: ')\n",
    "\n",
    "#Now create a variable that asks the user for their age. This variable will be of type string.\n",
    "\n",
    "age= input('Please enter your age: ')\n",
    "\n",
    "#%%\n",
    "\n",
    "#Now make a function that determines what year they will turn 100 years old.\n",
    "\n",
    "#Age-100= the number of years left for the person to turn 100 years old.\n",
    "#To do math with the variable age we need to convert it into an integer.\n",
    "\n",
    "y= 100- int(age)\n",
    "print(y)\n",
    "#%%\n",
    "#Once you know how many years it will take them to turn 100, add that number to 2019.\n",
    "\n",
    "z= y+2019\n",
    "print(z)\n",
    "#%%\n",
    "\n",
    "#Now print a message that tells the user that they will turn 100 in x year.\n",
    "\n",
    "print(name + ', you will be turning 100 in the year ' + str(z) + '.')\n"
   ]
  },
  {
   "cell_type": "code",
   "execution_count": 1,
   "metadata": {},
   "outputs": [
    {
     "name": "stdout",
     "output_type": "stream",
     "text": [
      "Please enter your name: Lola\n",
      "Please enter your age: 20\n",
      "Lola, you will be turning 100 in the year 2099.\n"
     ]
    }
   ],
   "source": [
    "name= input('Please enter your name: ')\n",
    "age= input('Please enter your age: ')\n",
    "y= 100- int(age)\n",
    "z= y+2019\n",
    "print(name + ', you will be turning 100 in the year ' + str(z) + '.')"
   ]
  },
  {
   "cell_type": "code",
   "execution_count": 2,
   "metadata": {},
   "outputs": [
    {
     "name": "stdout",
     "output_type": "stream",
     "text": [
      "What is your name: Lola\n",
      "How old are you: 20\n",
      "Lola will be 100 years old in the year 2094\n"
     ]
    }
   ],
   "source": [
    "\n",
    "# This is the solution from Practice Python\n",
    "\n",
    "name = input(\"What is your name: \") \n",
    "age = int(input(\"How old are you: \")) \n",
    "year = str((2014 - age)+100) \n",
    "print(name + \" will be 100 years old in the year \" + year) \n",
    "\n",
    "#This gave me 2094. The number I got was 2099.\n"
   ]
  },
  {
   "cell_type": "code",
   "execution_count": 3,
   "metadata": {},
   "outputs": [
    {
     "name": "stdout",
     "output_type": "stream",
     "text": [
      "What is your name: Lola\n",
      "How old are you: 20\n",
      "Lola will be 100 years old in the year 2099\n"
     ]
    }
   ],
   "source": [
    "\n",
    "# It gave me different numbers because the year in practice python is 2014. It should be 2019.\n",
    "\n",
    "name = input(\"What is your name: \") \n",
    "age = int(input(\"How old are you: \")) \n",
    "year = str((2019 - age)+100) \n",
    "print(name + \" will be 100 years old in the year \" + year) \n",
    "\n"
   ]
  },
  {
   "cell_type": "markdown",
   "metadata": {},
   "source": [
    "-----------------------------------------------------------------------------------------------------------------------"
   ]
  },
  {
   "cell_type": "markdown",
   "metadata": {},
   "source": [
    "**Problem #2: Odd Or Even**\n",
    "    - Ask the user for a number. \n",
    "    - Determine whether the number is even or odd\n",
    "    - print out an appropriate message to the user"
   ]
  },
  {
   "cell_type": "code",
   "execution_count": 14,
   "metadata": {
    "scrolled": true
   },
   "outputs": [
    {
     "name": "stdout",
     "output_type": "stream",
     "text": [
      "Is this number odd or even? 20\n",
      "That is an odd number.\n"
     ]
    }
   ],
   "source": [
    "x=input('Is this number odd or even? ')\n",
    "z= int(x)%2\n",
    "if z>0:\n",
    "    print('That is an odd number.')\n",
    "else:\n",
    "    print('That is an odd number.')"
   ]
  },
  {
   "cell_type": "code",
   "execution_count": 16,
   "metadata": {},
   "outputs": [
    {
     "name": "stdout",
     "output_type": "stream",
     "text": [
      "Is this number odd or even? 20\n",
      "0\n",
      "That is an even number.\n"
     ]
    }
   ],
   "source": [
    "x=input('Is this number odd or even? ')\n",
    "z= int(x)%2\n",
    "print(z)\n",
    "if z>0:\n",
    "    print('That is an odd number.')\n",
    "else:\n",
    "    print('That is an even number.')"
   ]
  },
  {
   "cell_type": "markdown",
   "metadata": {},
   "source": [
    "-----------------------------------------------------------------------------------------------------------------------"
   ]
  },
  {
   "cell_type": "markdown",
   "metadata": {},
   "source": [
    "**Problem #9: Guessing Game One**\n",
    "    - Generate a random number between 1 and 9 (including 1 and 9).\n",
    "    - Ask the user to guess the number, then tell them whether they guessed too low, too high, or exactly right."
   ]
  },
  {
   "cell_type": "code",
   "execution_count": 18,
   "metadata": {},
   "outputs": [],
   "source": [
    "import random"
   ]
  },
  {
   "cell_type": "code",
   "execution_count": 20,
   "metadata": {},
   "outputs": [
    {
     "data": {
      "text/plain": [
       "9"
      ]
     },
     "execution_count": 20,
     "metadata": {},
     "output_type": "execute_result"
    }
   ],
   "source": [
    "a=random.randint(1,9)\n",
    "a\n"
   ]
  },
  {
   "cell_type": "code",
   "execution_count": 32,
   "metadata": {},
   "outputs": [
    {
     "name": "stdout",
     "output_type": "stream",
     "text": [
      "Guess a number: 1\n"
     ]
    },
    {
     "data": {
      "text/plain": [
       "1"
      ]
     },
     "execution_count": 32,
     "metadata": {},
     "output_type": "execute_result"
    }
   ],
   "source": [
    "b=int(input('Guess a number: '))\n",
    "b"
   ]
  },
  {
   "cell_type": "code",
   "execution_count": 33,
   "metadata": {},
   "outputs": [
    {
     "name": "stdout",
     "output_type": "stream",
     "text": [
      "Too low, better luck next time.\n"
     ]
    }
   ],
   "source": [
    "if b>a:\n",
    "    print('Too high, try again.')\n",
    "elif b<a:\n",
    "    print('Too low, better luck next time.')\n",
    "else:\n",
    "    print('Thats exactly right!')"
   ]
  },
  {
   "cell_type": "markdown",
   "metadata": {},
   "source": [
    "-----------------------------------------------------------------------------------------------------------------------"
   ]
  },
  {
   "cell_type": "markdown",
   "metadata": {},
   "source": [
    "**Problem #13: Fibonacci **\n",
    "    - Write a program that asks the user how many Fibonnaci numbers to generate and then generates them.\n",
    "    - Hint: The Fibonnaci seqence is a sequence of numbers where the next number in the sequence is the sum of the previous two numbers in the sequence. The sequence looks like this: 1, 1, 2, 3, 5, 8, 13, …"
   ]
  },
  {
   "cell_type": "code",
   "execution_count": 38,
   "metadata": {},
   "outputs": [
    {
     "name": "stdout",
     "output_type": "stream",
     "text": [
      "How many Fibonnaci numbers do you fancy?12\n",
      "1\n",
      "1\n",
      "2\n",
      "3\n",
      "5\n",
      "8\n",
      "13\n",
      "21\n",
      "34\n",
      "55\n",
      "89\n",
      "144\n"
     ]
    }
   ],
   "source": [
    "\n",
    "fib1 = 0\n",
    "\n",
    "fib2 = 1\n",
    "\n",
    "counter = int(input('How many Fibonnaci numbers do you fancy?'))\n",
    "\n",
    "print(fib2)\n",
    "while counter > 1:\n",
    "    #print('counter =' + str(counter))\n",
    "    #print('fib1 =' + str(fib1))\n",
    "    #print('fib2 =' + str(fib2))\n",
    "    print(fib1+fib2)\n",
    "    # replace number for next loop\n",
    "    # save the new number to go into fib2\n",
    "    temp = fib2 + fib1\n",
    "    # put fib2 into fib1\n",
    "    fib1 = fib2\n",
    "    # put new number in fib2\n",
    "    fib2 = temp\n",
    "    counter = counter-1 "
   ]
  },
  {
   "cell_type": "markdown",
   "metadata": {},
   "source": [
    "0+1=1\n",
    "\n",
    "1+1=2\n",
    "\n",
    "1+2=3\n",
    "\n",
    "2+3=5\n",
    "\n",
    "3+5=8\n",
    "\n",
    "5+8=13\n",
    "\n",
    "Why should there be two ones at the start?\n",
    "\n",
    "**We want:**\n",
    "\n",
    "fib1+fib2=fib3\n",
    "\n",
    "make fib1=fib2\n",
    "\n",
    "fib2=fib3\n",
    "\n",
    "fib1+fib2=fib3\n",
    "\n"
   ]
  },
  {
   "cell_type": "code",
   "execution_count": 46,
   "metadata": {},
   "outputs": [
    {
     "name": "stdout",
     "output_type": "stream",
     "text": [
      "How many fibs do you want?10\n",
      "1\n",
      "3\n",
      "4\n",
      "4\n",
      "4\n",
      "4\n",
      "4\n",
      "4\n",
      "4\n"
     ]
    }
   ],
   "source": [
    "counter= int(input('How many fibs do you want?'))\n",
    "fib1=0\n",
    "fib2=1\n",
    "while counter>1:\n",
    "    fibx=fib1+fib2\n",
    "    print(fibx)\n",
    "    fib1=fib2\n",
    "    fib2=fib3\n",
    "    counter=counter-1"
   ]
  },
  {
   "cell_type": "code",
   "execution_count": null,
   "metadata": {},
   "outputs": [
    {
     "name": "stdout",
     "output_type": "stream",
     "text": [
      "1\n",
      "1\n",
      "2\n",
      "3\n",
      "5\n",
      "8\n"
     ]
    }
   ],
   "source": [
    "#What are Fibonnaci numbers? \n",
    "# 0 (invisible)\n",
    "# 1\n",
    "# 1\n",
    "# 1+1=2\n",
    "# 2+1=3\n",
    "# 3+2=5\n",
    "#%%\n",
    "\n",
    "fib1=0; fib2=1\n",
    "\n",
    "counter=5\n",
    "\n",
    "print(fib2)\n",
    "while counter>0:\n",
    "    print(fib2+fib1)\n",
    "    temp= fib2+fib1\n",
    "    fib1=fib2\n",
    "    fib2=temp\n",
    "    counter -= 1\n",
    "#%%\n",
    "\n",
    "counter=input('Choose a number: ')\n",
    "fib1=0; fib2=1 \n",
    "print(fib2)\n",
    "while int(counter)>0:\n",
    "    print('counter= '+ str(counter))\n",
    "    print('fib1= '+ str(fib1))\n",
    "    print('fib2= '+ str(fib2))\n",
    "    print(fib2+fib1)\n",
    "    temp= fib2+fib1\n",
    "    fib1=fib2\n",
    "    fib2=temp\n",
    "counter -= 1"
   ]
  },
  {
   "cell_type": "code",
   "execution_count": null,
   "metadata": {},
   "outputs": [],
   "source": []
  }
 ],
 "metadata": {
  "kernelspec": {
   "display_name": "Python 3",
   "language": "python",
   "name": "python3"
  },
  "language_info": {
   "codemirror_mode": {
    "name": "ipython",
    "version": 3
   },
   "file_extension": ".py",
   "mimetype": "text/x-python",
   "name": "python",
   "nbconvert_exporter": "python",
   "pygments_lexer": "ipython3",
   "version": "3.7.0"
  }
 },
 "nbformat": 4,
 "nbformat_minor": 2
}
