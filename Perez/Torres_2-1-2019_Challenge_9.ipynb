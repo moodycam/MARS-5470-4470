{
 "cells": [
  {
   "cell_type": "code",
   "execution_count": 3,
   "metadata": {},
   "outputs": [],
   "source": [
    "import random"
   ]
  },
  {
   "cell_type": "code",
   "execution_count": 31,
   "metadata": {},
   "outputs": [
    {
     "name": "stdout",
     "output_type": "stream",
     "text": [
      "your guess between 1-9: -1\n",
      "my number: 1\n",
      "Not a valid number\n"
     ]
    }
   ],
   "source": [
    "inp = int(input('your guess between 1-9: '))\n",
    "\n",
    "ran = random.randint(1,9)\n",
    "print('my number: ' + str(ran))\n",
    "\n",
    "if inp > 9 or inp < 1:\n",
    "    print('Not a valid number')\n",
    "elif ran == inp:\n",
    "    print('congratulations you guessed right!')\n",
    "elif inp > ran:\n",
    "    print('you are too high')\n",
    "else:\n",
    "    print('you are too low')\n"
   ]
  },
  {
   "cell_type": "code",
   "execution_count": null,
   "metadata": {},
   "outputs": [],
   "source": []
  },
  {
   "cell_type": "code",
   "execution_count": null,
   "metadata": {},
   "outputs": [],
   "source": []
  }
 ],
 "metadata": {
  "kernelspec": {
   "display_name": "Python 3",
   "language": "python",
   "name": "python3"
  },
  "language_info": {
   "codemirror_mode": {
    "name": "ipython",
    "version": 3
   },
   "file_extension": ".py",
   "mimetype": "text/x-python",
   "name": "python",
   "nbconvert_exporter": "python",
   "pygments_lexer": "ipython3",
   "version": "3.7.0"
  }
 },
 "nbformat": 4,
 "nbformat_minor": 2
}
