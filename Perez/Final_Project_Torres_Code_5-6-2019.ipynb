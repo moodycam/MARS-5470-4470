{
 "cells": [
  {
   "cell_type": "code",
   "execution_count": 1,
   "metadata": {},
   "outputs": [],
   "source": [
    "from ipywidgets import widgets as wg  #These two are the libraries that let me create widgets for interactive \n",
    "from ipywidgets import HBox, VBox\n",
    "import numpy as np\n",
    "import pandas as pd\n",
    "import matplotlib.pyplot as plt\n",
    "import cartopy as cpy\n",
    "import geopandas as gpd\n",
    "import cartopy.crs as ccrs\n",
    "import cartopy.feature as cfeature\n",
    "import cartopy.mpl.ticker as cticker\n"
   ]
  },
  {
   "cell_type": "code",
   "execution_count": 2,
   "metadata": {},
   "outputs": [],
   "source": [
    "def set_up_map(ax, x0, x1, y0, y1):\n",
    "    \"\"\"\n",
    "    Adds coastline, etc.\n",
    "    \n",
    "    x0, x1: longitude bounds to zoom into\n",
    "    y0, y1: latitude bounds to zoom into\n",
    "    \"\"\"\n",
    "    \n",
    "    # set up land overlay\n",
    "    ax.add_feature(cfeature.LAND, facecolor='green')\n",
    "    \n",
    "    # set up ocean overlay\n",
    "    ax.add_feature(cfeature.OCEAN)\n",
    "    \n",
    "    # zoom in on region of interest\n",
    "    ax.set_extent([x0, x1, y0, y1])\n",
    "    \n",
    "    # set nicer looking ticks\n",
    "    ax.set_xticks(np.arange(x0, x1, 10), crs=ccrs.PlateCarree())\n",
    "    ax.set_yticks(np.arange(y0, y1, 10), crs=ccrs.PlateCarree())\n",
    "    lat_lon_formatter(ax)\n",
    "def lat_lon_formatter(ax):\n",
    "    \"\"\"\n",
    "    Creates nice latitude/longitude labels\n",
    "    for maps\n",
    "    \"\"\"\n",
    "    lon_formatter = cticker.LongitudeFormatter()\n",
    "    lat_formatter = cticker.LatitudeFormatter()\n",
    "    ax.xaxis.set_major_formatter(lon_formatter)\n",
    "    ax.yaxis.set_major_formatter(lat_formatter)\n",
    "    ax.tick_params(labelsize=16)"
   ]
  },
  {
   "cell_type": "markdown",
   "metadata": {},
   "source": [
    "# Original Table"
   ]
  },
  {
   "cell_type": "code",
   "execution_count": 3,
   "metadata": {},
   "outputs": [
    {
     "name": "stdout",
     "output_type": "stream",
     "text": [
      "Enter file name: Iso_data.xlsx\n",
      "Enter column name for Carbon: d13Corganic (permil, VPDB)\n",
      "Enter column name for Nitrogen: d15N (permil, AIR)\n",
      "Enter Latitude column name: Latitude\n",
      "Enter Longitude column name: Longitude\n"
     ]
    },
    {
     "data": {
      "text/html": [
       "<div>\n",
       "<style scoped>\n",
       "    .dataframe tbody tr th:only-of-type {\n",
       "        vertical-align: middle;\n",
       "    }\n",
       "\n",
       "    .dataframe tbody tr th {\n",
       "        vertical-align: top;\n",
       "    }\n",
       "\n",
       "    .dataframe thead th {\n",
       "        text-align: right;\n",
       "    }\n",
       "</style>\n",
       "<table border=\"1\" class=\"dataframe\">\n",
       "  <thead>\n",
       "    <tr style=\"text-align: right;\">\n",
       "      <th></th>\n",
       "      <th>Species</th>\n",
       "      <th>Sample ID</th>\n",
       "      <th>Size (in inches)</th>\n",
       "      <th>d15N (permil, AIR)</th>\n",
       "      <th>d13Corganic (permil, VPDB)</th>\n",
       "      <th>%N</th>\n",
       "      <th>TOC (%)</th>\n",
       "      <th>Latitude</th>\n",
       "      <th>Longitude</th>\n",
       "    </tr>\n",
       "  </thead>\n",
       "  <tbody>\n",
       "    <tr>\n",
       "      <th>0</th>\n",
       "      <td>Red Snapper</td>\n",
       "      <td>HB-1-1</td>\n",
       "      <td>15.50</td>\n",
       "      <td>12.95</td>\n",
       "      <td>-17.45</td>\n",
       "      <td>14.50</td>\n",
       "      <td>45.17</td>\n",
       "      <td>-96.60</td>\n",
       "      <td>26.90</td>\n",
       "    </tr>\n",
       "    <tr>\n",
       "      <th>1</th>\n",
       "      <td>G. Amberjack</td>\n",
       "      <td>HB-1-2</td>\n",
       "      <td>34.00</td>\n",
       "      <td>13.85</td>\n",
       "      <td>-17.43</td>\n",
       "      <td>14.22</td>\n",
       "      <td>45.12</td>\n",
       "      <td>-96.60</td>\n",
       "      <td>26.90</td>\n",
       "    </tr>\n",
       "    <tr>\n",
       "      <th>2</th>\n",
       "      <td>Red Snapper</td>\n",
       "      <td>HB-2-3</td>\n",
       "      <td>24.00</td>\n",
       "      <td>11.44</td>\n",
       "      <td>-18.53</td>\n",
       "      <td>14.07</td>\n",
       "      <td>46.44</td>\n",
       "      <td>-96.56</td>\n",
       "      <td>26.68</td>\n",
       "    </tr>\n",
       "    <tr>\n",
       "      <th>3</th>\n",
       "      <td>G. Amberjack</td>\n",
       "      <td>HB-3-4</td>\n",
       "      <td>25.75</td>\n",
       "      <td>13.58</td>\n",
       "      <td>-17.49</td>\n",
       "      <td>14.21</td>\n",
       "      <td>44.65</td>\n",
       "      <td>-96.53</td>\n",
       "      <td>26.67</td>\n",
       "    </tr>\n",
       "    <tr>\n",
       "      <th>4</th>\n",
       "      <td>Blackfin Tuna</td>\n",
       "      <td>HB-4-5</td>\n",
       "      <td>25.00</td>\n",
       "      <td>11.40</td>\n",
       "      <td>-17.55</td>\n",
       "      <td>14.09</td>\n",
       "      <td>46.41</td>\n",
       "      <td>-96.61</td>\n",
       "      <td>26.63</td>\n",
       "    </tr>\n",
       "    <tr>\n",
       "      <th>5</th>\n",
       "      <td>Red Snapper</td>\n",
       "      <td>HB-4-6</td>\n",
       "      <td>23.00</td>\n",
       "      <td>11.11</td>\n",
       "      <td>-18.81</td>\n",
       "      <td>13.81</td>\n",
       "      <td>45.81</td>\n",
       "      <td>-96.61</td>\n",
       "      <td>26.63</td>\n",
       "    </tr>\n",
       "    <tr>\n",
       "      <th>6</th>\n",
       "      <td>Red Snapper</td>\n",
       "      <td>HB-4-7</td>\n",
       "      <td>26.00</td>\n",
       "      <td>11.35</td>\n",
       "      <td>-17.59</td>\n",
       "      <td>14.20</td>\n",
       "      <td>46.49</td>\n",
       "      <td>-96.61</td>\n",
       "      <td>26.63</td>\n",
       "    </tr>\n",
       "    <tr>\n",
       "      <th>7</th>\n",
       "      <td>Red Snapper</td>\n",
       "      <td>HB-5-8</td>\n",
       "      <td>23.00</td>\n",
       "      <td>10.84</td>\n",
       "      <td>-18.76</td>\n",
       "      <td>14.10</td>\n",
       "      <td>45.35</td>\n",
       "      <td>-96.77</td>\n",
       "      <td>26.90</td>\n",
       "    </tr>\n",
       "    <tr>\n",
       "      <th>8</th>\n",
       "      <td>Red Snapper</td>\n",
       "      <td>HB-5-9</td>\n",
       "      <td>22.00</td>\n",
       "      <td>10.96</td>\n",
       "      <td>-18.51</td>\n",
       "      <td>14.53</td>\n",
       "      <td>45.00</td>\n",
       "      <td>-96.77</td>\n",
       "      <td>26.90</td>\n",
       "    </tr>\n",
       "    <tr>\n",
       "      <th>9</th>\n",
       "      <td>G. Amberjack</td>\n",
       "      <td>HB-6-10</td>\n",
       "      <td>33.00</td>\n",
       "      <td>13.94</td>\n",
       "      <td>-17.35</td>\n",
       "      <td>14.50</td>\n",
       "      <td>45.19</td>\n",
       "      <td>-96.60</td>\n",
       "      <td>26.63</td>\n",
       "    </tr>\n",
       "    <tr>\n",
       "      <th>10</th>\n",
       "      <td>Red Snapper</td>\n",
       "      <td>HB-6-11</td>\n",
       "      <td>24.00</td>\n",
       "      <td>11.78</td>\n",
       "      <td>-18.16</td>\n",
       "      <td>14.29</td>\n",
       "      <td>44.28</td>\n",
       "      <td>-96.60</td>\n",
       "      <td>26.63</td>\n",
       "    </tr>\n",
       "    <tr>\n",
       "      <th>11</th>\n",
       "      <td>G. Amberjack</td>\n",
       "      <td>HB-7-12</td>\n",
       "      <td>33.00</td>\n",
       "      <td>14.70</td>\n",
       "      <td>-16.98</td>\n",
       "      <td>14.24</td>\n",
       "      <td>45.80</td>\n",
       "      <td>-96.61</td>\n",
       "      <td>26.68</td>\n",
       "    </tr>\n",
       "    <tr>\n",
       "      <th>12</th>\n",
       "      <td>Red Snapper</td>\n",
       "      <td>CL-1-13</td>\n",
       "      <td>13.50</td>\n",
       "      <td>13.29</td>\n",
       "      <td>-18.00</td>\n",
       "      <td>13.85</td>\n",
       "      <td>45.31</td>\n",
       "      <td>-96.86</td>\n",
       "      <td>26.19</td>\n",
       "    </tr>\n",
       "    <tr>\n",
       "      <th>13</th>\n",
       "      <td>Red Snapper</td>\n",
       "      <td>CL-1-14</td>\n",
       "      <td>17.00</td>\n",
       "      <td>13.73</td>\n",
       "      <td>-17.70</td>\n",
       "      <td>14.51</td>\n",
       "      <td>45.30</td>\n",
       "      <td>-96.86</td>\n",
       "      <td>26.19</td>\n",
       "    </tr>\n",
       "    <tr>\n",
       "      <th>14</th>\n",
       "      <td>Red Snapper</td>\n",
       "      <td>CL-1-16</td>\n",
       "      <td>18.00</td>\n",
       "      <td>13.56</td>\n",
       "      <td>-18.02</td>\n",
       "      <td>13.93</td>\n",
       "      <td>44.44</td>\n",
       "      <td>-96.86</td>\n",
       "      <td>26.19</td>\n",
       "    </tr>\n",
       "    <tr>\n",
       "      <th>15</th>\n",
       "      <td>Red Snapper</td>\n",
       "      <td>CL-1-17</td>\n",
       "      <td>21.75</td>\n",
       "      <td>14.15</td>\n",
       "      <td>-17.56</td>\n",
       "      <td>14.33</td>\n",
       "      <td>44.58</td>\n",
       "      <td>-96.86</td>\n",
       "      <td>26.19</td>\n",
       "    </tr>\n",
       "    <tr>\n",
       "      <th>16</th>\n",
       "      <td>Red Snapper</td>\n",
       "      <td>CL-1-18</td>\n",
       "      <td>18.00</td>\n",
       "      <td>13.73</td>\n",
       "      <td>-17.87</td>\n",
       "      <td>13.99</td>\n",
       "      <td>45.56</td>\n",
       "      <td>-96.86</td>\n",
       "      <td>26.19</td>\n",
       "    </tr>\n",
       "    <tr>\n",
       "      <th>17</th>\n",
       "      <td>Red Snapper</td>\n",
       "      <td>CL-1-19</td>\n",
       "      <td>12.50</td>\n",
       "      <td>13.55</td>\n",
       "      <td>-17.70</td>\n",
       "      <td>14.31</td>\n",
       "      <td>45.81</td>\n",
       "      <td>-96.86</td>\n",
       "      <td>26.19</td>\n",
       "    </tr>\n",
       "    <tr>\n",
       "      <th>18</th>\n",
       "      <td>Red Snapper</td>\n",
       "      <td>CL-1-20</td>\n",
       "      <td>18.00</td>\n",
       "      <td>13.81</td>\n",
       "      <td>-17.94</td>\n",
       "      <td>13.73</td>\n",
       "      <td>45.31</td>\n",
       "      <td>-96.86</td>\n",
       "      <td>26.19</td>\n",
       "    </tr>\n",
       "    <tr>\n",
       "      <th>19</th>\n",
       "      <td>Red Snapper</td>\n",
       "      <td>CL-1-21</td>\n",
       "      <td>13.00</td>\n",
       "      <td>13.84</td>\n",
       "      <td>-17.50</td>\n",
       "      <td>14.42</td>\n",
       "      <td>44.93</td>\n",
       "      <td>-96.86</td>\n",
       "      <td>26.19</td>\n",
       "    </tr>\n",
       "    <tr>\n",
       "      <th>20</th>\n",
       "      <td>Red Snapper</td>\n",
       "      <td>CL-1-22</td>\n",
       "      <td>17.00</td>\n",
       "      <td>13.46</td>\n",
       "      <td>-17.78</td>\n",
       "      <td>13.98</td>\n",
       "      <td>43.99</td>\n",
       "      <td>-96.86</td>\n",
       "      <td>26.19</td>\n",
       "    </tr>\n",
       "  </tbody>\n",
       "</table>\n",
       "</div>"
      ],
      "text/plain": [
       "          Species Sample ID  Size (in inches)  d15N (permil, AIR)  \\\n",
       "0     Red Snapper    HB-1-1             15.50               12.95   \n",
       "1    G. Amberjack    HB-1-2             34.00               13.85   \n",
       "2     Red Snapper    HB-2-3             24.00               11.44   \n",
       "3    G. Amberjack    HB-3-4             25.75               13.58   \n",
       "4   Blackfin Tuna    HB-4-5             25.00               11.40   \n",
       "5     Red Snapper    HB-4-6             23.00               11.11   \n",
       "6     Red Snapper    HB-4-7             26.00               11.35   \n",
       "7     Red Snapper    HB-5-8             23.00               10.84   \n",
       "8     Red Snapper    HB-5-9             22.00               10.96   \n",
       "9    G. Amberjack   HB-6-10             33.00               13.94   \n",
       "10    Red Snapper   HB-6-11             24.00               11.78   \n",
       "11   G. Amberjack   HB-7-12             33.00               14.70   \n",
       "12    Red Snapper   CL-1-13             13.50               13.29   \n",
       "13    Red Snapper   CL-1-14             17.00               13.73   \n",
       "14    Red Snapper   CL-1-16             18.00               13.56   \n",
       "15    Red Snapper   CL-1-17             21.75               14.15   \n",
       "16    Red Snapper   CL-1-18             18.00               13.73   \n",
       "17    Red Snapper   CL-1-19             12.50               13.55   \n",
       "18    Red Snapper   CL-1-20             18.00               13.81   \n",
       "19    Red Snapper   CL-1-21             13.00               13.84   \n",
       "20    Red Snapper   CL-1-22             17.00               13.46   \n",
       "\n",
       "    d13Corganic (permil, VPDB)     %N  TOC (%)  Latitude  Longitude  \n",
       "0                       -17.45  14.50    45.17    -96.60      26.90  \n",
       "1                       -17.43  14.22    45.12    -96.60      26.90  \n",
       "2                       -18.53  14.07    46.44    -96.56      26.68  \n",
       "3                       -17.49  14.21    44.65    -96.53      26.67  \n",
       "4                       -17.55  14.09    46.41    -96.61      26.63  \n",
       "5                       -18.81  13.81    45.81    -96.61      26.63  \n",
       "6                       -17.59  14.20    46.49    -96.61      26.63  \n",
       "7                       -18.76  14.10    45.35    -96.77      26.90  \n",
       "8                       -18.51  14.53    45.00    -96.77      26.90  \n",
       "9                       -17.35  14.50    45.19    -96.60      26.63  \n",
       "10                      -18.16  14.29    44.28    -96.60      26.63  \n",
       "11                      -16.98  14.24    45.80    -96.61      26.68  \n",
       "12                      -18.00  13.85    45.31    -96.86      26.19  \n",
       "13                      -17.70  14.51    45.30    -96.86      26.19  \n",
       "14                      -18.02  13.93    44.44    -96.86      26.19  \n",
       "15                      -17.56  14.33    44.58    -96.86      26.19  \n",
       "16                      -17.87  13.99    45.56    -96.86      26.19  \n",
       "17                      -17.70  14.31    45.81    -96.86      26.19  \n",
       "18                      -17.94  13.73    45.31    -96.86      26.19  \n",
       "19                      -17.50  14.42    44.93    -96.86      26.19  \n",
       "20                      -17.78  13.98    43.99    -96.86      26.19  "
      ]
     },
     "execution_count": 3,
     "metadata": {},
     "output_type": "execute_result"
    }
   ],
   "source": [
    "\"\"\"\n",
    "This first part allows the user input the name of their Excel file,\n",
    "the file name should be exact and it should include the file extension\n",
    "it returns the original excel table with pandas\n",
    "\"\"\"\n",
    "file = input('Enter file name: ') # Iso_data.xlsx\n",
    "df = pd.read_excel(file)\n",
    "Car = df[input('Enter column name for Carbon: ')] # d13Corganic (permil, VPDB)\n",
    "Nit = df[input('Enter column name for Nitrogen: ')] # d15N (permil, AIR)\n",
    "Lat = df[input('Enter Latitude column name: ')] # Latitude\n",
    "Lon = df[input('Enter Longitude column name: ')] # Longitude\n",
    "\n",
    "df\n"
   ]
  },
  {
   "cell_type": "markdown",
   "metadata": {},
   "source": [
    "# Corrected values and uncorrected values"
   ]
  },
  {
   "cell_type": "code",
   "execution_count": 4,
   "metadata": {},
   "outputs": [
    {
     "data": {
      "text/html": [
       "<div>\n",
       "<style scoped>\n",
       "    .dataframe tbody tr th:only-of-type {\n",
       "        vertical-align: middle;\n",
       "    }\n",
       "\n",
       "    .dataframe tbody tr th {\n",
       "        vertical-align: top;\n",
       "    }\n",
       "\n",
       "    .dataframe thead th {\n",
       "        text-align: right;\n",
       "    }\n",
       "</style>\n",
       "<table border=\"1\" class=\"dataframe\">\n",
       "  <thead>\n",
       "    <tr style=\"text-align: right;\">\n",
       "      <th></th>\n",
       "      <th>Corrected</th>\n",
       "      <th>d13Corganic (permil, VPDB)</th>\n",
       "    </tr>\n",
       "  </thead>\n",
       "  <tbody>\n",
       "    <tr>\n",
       "      <th>0</th>\n",
       "      <td>-22.104015</td>\n",
       "      <td>-17.45</td>\n",
       "    </tr>\n",
       "    <tr>\n",
       "      <th>1</th>\n",
       "      <td>-21.995899</td>\n",
       "      <td>-17.43</td>\n",
       "    </tr>\n",
       "    <tr>\n",
       "      <th>2</th>\n",
       "      <td>-23.453558</td>\n",
       "      <td>-18.53</td>\n",
       "    </tr>\n",
       "    <tr>\n",
       "      <th>3</th>\n",
       "      <td>-22.085044</td>\n",
       "      <td>-17.49</td>\n",
       "    </tr>\n",
       "    <tr>\n",
       "      <th>4</th>\n",
       "      <td>-22.394079</td>\n",
       "      <td>-17.55</td>\n",
       "    </tr>\n",
       "    <tr>\n",
       "      <th>5</th>\n",
       "      <td>-23.806139</td>\n",
       "      <td>-18.81</td>\n",
       "    </tr>\n",
       "    <tr>\n",
       "      <th>6</th>\n",
       "      <td>-22.444282</td>\n",
       "      <td>-17.59</td>\n",
       "    </tr>\n",
       "    <tr>\n",
       "      <th>7</th>\n",
       "      <td>-23.793321</td>\n",
       "      <td>-18.76</td>\n",
       "    </tr>\n",
       "    <tr>\n",
       "      <th>8</th>\n",
       "      <td>-23.501980</td>\n",
       "      <td>-18.51</td>\n",
       "    </tr>\n",
       "    <tr>\n",
       "      <th>9</th>\n",
       "      <td>-21.902174</td>\n",
       "      <td>-17.35</td>\n",
       "    </tr>\n",
       "    <tr>\n",
       "      <th>10</th>\n",
       "      <td>-23.006180</td>\n",
       "      <td>-18.16</td>\n",
       "    </tr>\n",
       "    <tr>\n",
       "      <th>11</th>\n",
       "      <td>-21.443551</td>\n",
       "      <td>-16.98</td>\n",
       "    </tr>\n",
       "    <tr>\n",
       "      <th>12</th>\n",
       "      <td>-22.660858</td>\n",
       "      <td>-18.00</td>\n",
       "    </tr>\n",
       "    <tr>\n",
       "      <th>13</th>\n",
       "      <td>-22.296256</td>\n",
       "      <td>-17.70</td>\n",
       "    </tr>\n",
       "    <tr>\n",
       "      <th>14</th>\n",
       "      <td>-22.655619</td>\n",
       "      <td>-18.02</td>\n",
       "    </tr>\n",
       "    <tr>\n",
       "      <th>15</th>\n",
       "      <td>-22.108580</td>\n",
       "      <td>-17.56</td>\n",
       "    </tr>\n",
       "    <tr>\n",
       "      <th>16</th>\n",
       "      <td>-22.478514</td>\n",
       "      <td>-17.87</td>\n",
       "    </tr>\n",
       "    <tr>\n",
       "      <th>17</th>\n",
       "      <td>-22.313210</td>\n",
       "      <td>-17.70</td>\n",
       "    </tr>\n",
       "    <tr>\n",
       "      <th>18</th>\n",
       "      <td>-22.546068</td>\n",
       "      <td>-17.94</td>\n",
       "    </tr>\n",
       "    <tr>\n",
       "      <th>19</th>\n",
       "      <td>-22.071806</td>\n",
       "      <td>-17.50</td>\n",
       "    </tr>\n",
       "    <tr>\n",
       "      <th>20</th>\n",
       "      <td>-22.407741</td>\n",
       "      <td>-17.78</td>\n",
       "    </tr>\n",
       "  </tbody>\n",
       "</table>\n",
       "</div>"
      ],
      "text/plain": [
       "    Corrected  d13Corganic (permil, VPDB)\n",
       "0  -22.104015                      -17.45\n",
       "1  -21.995899                      -17.43\n",
       "2  -23.453558                      -18.53\n",
       "3  -22.085044                      -17.49\n",
       "4  -22.394079                      -17.55\n",
       "5  -23.806139                      -18.81\n",
       "6  -22.444282                      -17.59\n",
       "7  -23.793321                      -18.76\n",
       "8  -23.501980                      -18.51\n",
       "9  -21.902174                      -17.35\n",
       "10 -23.006180                      -18.16\n",
       "11 -21.443551                      -16.98\n",
       "12 -22.660858                      -18.00\n",
       "13 -22.296256                      -17.70\n",
       "14 -22.655619                      -18.02\n",
       "15 -22.108580                      -17.56\n",
       "16 -22.478514                      -17.87\n",
       "17 -22.313210                      -17.70\n",
       "18 -22.546068                      -17.94\n",
       "19 -22.071806                      -17.50\n",
       "20 -22.407741                      -17.78"
      ]
     },
     "execution_count": 4,
     "metadata": {},
     "output_type": "execute_result"
    }
   ],
   "source": [
    "# This corrects the data and adds a new column to the excel sheet with the corrected carbon values\n",
    "Corr = df['Corrected'] = Car - 3.32 + 0.99 * (Car/Nit)\n",
    "# Shows the new column with the new values vs the old column\n",
    "CorrvCar= df[['Corrected', 'd13Corganic (permil, VPDB)']]\n",
    "CorrvCar"
   ]
  },
  {
   "cell_type": "code",
   "execution_count": 5,
   "metadata": {},
   "outputs": [],
   "source": [
    "'''Here we start building the basic GUI, where in each slider we define\n",
    "the starting value in the slider, the minimum and maximum values and by\n",
    "how much does the value increases when you move the slider\n",
    "'''\n",
    "x0_slider = wg.FloatSlider(value = 0., min =-180., max = 180.0,step = 0.01,\n",
    "                           description = 'x1',readout_format = '.1f',)\n",
    "\n",
    "x1_slider = wg.FloatSlider(value = 0.,min =-180., max = 180.0, step = 0.01,\n",
    "    description = 'x2', readout_format = '.1f',)\n",
    "\n",
    "y0_slider = wg.FloatSlider(value = 0., min =-90., max = 90.0, step = 0.01,\n",
    "    description = 'y1', readout_format = '.1f',)  \n",
    "y1_slider = wg.FloatSlider(value = 0., min =-90., max = 90.0, step = 0.01,\n",
    "    description = 'y2', readout_format = '.1f',)"
   ]
  },
  {
   "cell_type": "code",
   "execution_count": 6,
   "metadata": {},
   "outputs": [],
   "source": [
    "'''\n",
    "Here we assign the sliders into variables and this function is defined\n",
    "so it is easier to call back everything later on.\n",
    "'''\n",
    "def map_it(b=None):\n",
    "    '''these variables will be defined by the value reflected on the sliders\n",
    "    they will change if the slider changes'''\n",
    "    x0= x0_slider.value\n",
    "    x1 = x1_slider.value\n",
    "    y0 = y0_slider.value\n",
    "    y1 = y1_slider.value\n",
    "    '''\n",
    "    The following is the actual plot for the map,\n",
    "    the ccrs.PlateCarre() term is the map projection from Cartopy'''\n",
    "   \n",
    "    f, ax = plt.subplots(ncols=1, figsize=(6,6),\n",
    "                     subplot_kw=dict(projection=ccrs.PlateCarree()))\n",
    "    '''\n",
    "    We then call back the set_up_map function, when the variables\n",
    "    controlled with the sliders change, it also changes where the\n",
    "    map will zoom in.\n",
    "    '''\n",
    "    set_up_map(ax, x0, x1, y0, y1)\n",
    "    # In this case it just complementary, it shows sampling sites in map\n",
    "    ax.scatter(Lat,Lon)\n",
    "    \n",
    "    \n",
    "button = wg.Button(description = 'Map it!',)\n",
    "\n",
    "@button.on_click\n",
    "def plot_on_click(b):\n",
    "    map_it()"
   ]
  },
  {
   "cell_type": "code",
   "execution_count": 7,
   "metadata": {},
   "outputs": [],
   "source": [
    "# Here we are storing the sliders into a virtual box\n",
    "tab1 = VBox([x0_slider, x1_slider, y0_slider, y1_slider])\n",
    "tab2 = wg.Output()"
   ]
  },
  {
   "cell_type": "code",
   "execution_count": 8,
   "metadata": {},
   "outputs": [
    {
     "data": {
      "application/vnd.jupyter.widget-view+json": {
       "model_id": "59f63bb9ee1e43828a5f3f9ed0d27ac0",
       "version_major": 2,
       "version_minor": 0
      },
      "text/plain": [
       "VBox(children=(Tab(children=(VBox(children=(FloatSlider(value=0.0, description='x1', max=180.0, min=-180.0, re…"
      ]
     },
     "metadata": {},
     "output_type": "display_data"
    },
    {
     "data": {
      "image/png": "[encoded data removed]",
      "text/plain": [
       "<Figure size 432x432 with 1 Axes>"
      ]
     },
     "metadata": {
      "needs_background": "light"
     },
     "output_type": "display_data"
    }
   ],
   "source": [
    "%matplotlib inline\n",
    "tab = wg.Tab(children =[tab1, tab2]) # we introduce tab 1 and 2 into the tab widget\n",
    "# Setting the titles of the tabs\n",
    "tab.set_title(0,'Map')\n",
    "tab.set_title(1, 'Plot')\n",
    "\n",
    "with tab2:\n",
    "    data = [Car, Corr]\n",
    "    fig, ax = plt.subplots()\n",
    "    ax.set_title('Raw vs Corrected d13 C')\n",
    "    ax.set_ylabel('d13 Carbon')\n",
    "\n",
    "    ax.yaxis.grid(True, linestyle ='-', which = 'major', color = 'lightgrey',\n",
    "                 alpha = 0.5)\n",
    "    ax.boxplot(data)\n",
    "    plt.show()\n",
    "    '''fig, ax = plt.subplots(figsize = (6,6), nrows = 1, ncols = 2, sharey = True)\n",
    "\n",
    "\n",
    "# plot and titles for the scatter plot for corrected Carbon values\n",
    "    ax[0].scatter(Corr, Nit)\n",
    "    ax[0].set_title('Corrected d13 C Values')\n",
    "    ax[0].set(xlabel = 'd13 C (Corrected)')\n",
    "    ax[0].plot(np.unique(Corr), np.poly1d(np.polyfit(Corr, Nit, 1))(np.unique(Corr)))\n",
    "# plots share y label\n",
    "    ax[0].set(ylabel = 'd15 N')\n",
    "\n",
    "    ax[1].scatter(Car, Nit)\n",
    "    ax[1].set(xlabel = 'd13 C')\n",
    "    ax[1].set_title('Raw d13 C Values')\n",
    "    ax[1].plot(np.unique(Car), np.poly1d(np.polyfit(Car, Nit, 1))(np.unique(Car)))\n",
    "    plt.show(fig)'''\n",
    "    \n",
    "\n",
    "    \n",
    "\n",
    "VBox(children = [tab, button])"
   ]
  },
  {
   "cell_type": "markdown",
   "metadata": {},
   "source": []
  },
  {
   "cell_type": "code",
   "execution_count": null,
   "metadata": {},
   "outputs": [],
   "source": []
  }
 ],
 "metadata": {
  "kernelspec": {
   "display_name": "Python 3",
   "language": "python",
   "name": "python3"
  },
  "language_info": {
   "codemirror_mode": {
    "name": "ipython",
    "version": 3
   },
   "file_extension": ".py",
   "mimetype": "text/x-python",
   "name": "python",
   "nbconvert_exporter": "python",
   "pygments_lexer": "ipython3",
   "version": "3.6.8"
  },
  "widgets": {
   "application/vnd.jupyter.widget-state+json": {
    "state": {
     "086314bdb9584dfca54204728b951757": {
      "model_module": "@jupyter-widgets/base",
      "model_module_version": "1.1.0",
      "model_name": "LayoutModel",
      "state": {}
     },
     "14f6e58760e647858bde13fabd3c9699": {
      "model_module": "@jupyter-widgets/controls",
      "model_module_version": "1.4.0",
      "model_name": "VBoxModel",
      "state": {
       "children": [
        "IPY_MODEL_76e0d872bdcd42e9b37ea190d6eeac61",
        "IPY_MODEL_ad7b9ccd59bc4fbaa36b9c1aa58c82bf"
       ],
       "layout": "IPY_MODEL_eb0422404c494627820a5a5e2ac9628f"
      }
     },
     "150a0eb789f5488f8801335c59c83253": {
      "model_module": "@jupyter-widgets/controls",
      "model_module_version": "1.4.0",
      "model_name": "SliderStyleModel",
      "state": {
       "description_width": ""
      }
     },
     "15f423845072438c8c3f0c707a3bd900": {
      "model_module": "@jupyter-widgets/base",
      "model_module_version": "1.1.0",
      "model_name": "LayoutModel",
      "state": {}
     },
     "25d8ba00522f4fa8ae74a538e3707bf1": {
      "model_module": "@jupyter-widgets/controls",
      "model_module_version": "1.4.0",
      "model_name": "SliderStyleModel",
      "state": {
       "description_width": ""
      }
     },
     "267ab95fcd4f4045bd62818387c14882": {
      "model_module": "@jupyter-widgets/base",
      "model_module_version": "1.1.0",
      "model_name": "LayoutModel",
      "state": {}
     },
     "287ccdc80926472ab487aa233174b2b7": {
      "model_module": "@jupyter-widgets/base",
      "model_module_version": "1.1.0",
      "model_name": "LayoutModel",
      "state": {}
     },
     "2c25e70d22184638a5fc5e9ec795a32e": {
      "model_module": "@jupyter-widgets/base",
      "model_module_version": "1.1.0",
      "model_name": "LayoutModel",
      "state": {}
     },
     "2de7132af6aa43b0b514b6eeb814e7b2": {
      "model_module": "@jupyter-widgets/controls",
      "model_module_version": "1.4.0",
      "model_name": "VBoxModel",
      "state": {
       "children": [
        "IPY_MODEL_5154419eafb34878915e920acddd8558",
        "IPY_MODEL_328a47776bfb46e7a9c899a92a18bd94",
        "IPY_MODEL_ad1dd2574cb0480abe32f96f103bd175",
        "IPY_MODEL_fb1d5f80dfcb4ab796c8d2e76546e648"
       ],
       "layout": "IPY_MODEL_2c25e70d22184638a5fc5e9ec795a32e"
      }
     },
     "2f230392e18344e3aa171104a832aaa7": {
      "model_module": "@jupyter-widgets/output",
      "model_module_version": "1.0.0",
      "model_name": "OutputModel",
      "state": {
       "layout": "IPY_MODEL_15f423845072438c8c3f0c707a3bd900",
       "outputs": [
        {
         "ename": "NameError",
         "evalue": "name 'Corr' is not defined",
         "output_type": "error",
         "traceback": [
          "\u001b[1;31m---------------------------------------------------------------------------\u001b[0m",
          "\u001b[1;31mNameError\u001b[0m                                 Traceback (most recent call last)",
          "\u001b[1;32m<ipython-input-7-443e82b574b3>\u001b[0m in \u001b[0;36m<module>\u001b[1;34m\u001b[0m\n\u001b[0;32m      6\u001b[0m \u001b[1;33m\u001b[0m\u001b[0m\n\u001b[0;32m      7\u001b[0m \u001b[1;32mwith\u001b[0m \u001b[0mtab2\u001b[0m\u001b[1;33m:\u001b[0m\u001b[1;33m\u001b[0m\u001b[1;33m\u001b[0m\u001b[0m\n\u001b[1;32m----> 8\u001b[1;33m     \u001b[0mdata\u001b[0m \u001b[1;33m=\u001b[0m \u001b[1;33m[\u001b[0m\u001b[0mCar\u001b[0m\u001b[1;33m,\u001b[0m \u001b[0mCorr\u001b[0m\u001b[1;33m]\u001b[0m\u001b[1;33m\u001b[0m\u001b[1;33m\u001b[0m\u001b[0m\n\u001b[0m\u001b[0;32m      9\u001b[0m     \u001b[0mfig\u001b[0m\u001b[1;33m,\u001b[0m \u001b[0max\u001b[0m \u001b[1;33m=\u001b[0m \u001b[0mplt\u001b[0m\u001b[1;33m.\u001b[0m\u001b[0msubplots\u001b[0m\u001b[1;33m(\u001b[0m\u001b[1;33m)\u001b[0m\u001b[1;33m\u001b[0m\u001b[1;33m\u001b[0m\u001b[0m\n\u001b[0;32m     10\u001b[0m     \u001b[0max\u001b[0m\u001b[1;33m.\u001b[0m\u001b[0mset_title\u001b[0m\u001b[1;33m(\u001b[0m\u001b[1;34m'Raw vs Corrected d13 C'\u001b[0m\u001b[1;33m)\u001b[0m\u001b[1;33m\u001b[0m\u001b[1;33m\u001b[0m\u001b[0m\n",
          "\u001b[1;31mNameError\u001b[0m: name 'Corr' is not defined"
         ]
        },
        {
         "data": {
          "image/png": "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\n",
          "text/plain": "<Figure size 432x288 with 1 Axes>"
         },
         "metadata": {
          "needs_background": "light"
         },
         "output_type": "display_data"
        }
       ]
      }
     },
     "328a47776bfb46e7a9c899a92a18bd94": {
      "model_module": "@jupyter-widgets/controls",
      "model_module_version": "1.4.0",
      "model_name": "FloatSliderModel",
      "state": {
       "description": "x2",
       "layout": "IPY_MODEL_287ccdc80926472ab487aa233174b2b7",
       "max": 180,
       "min": -180,
       "readout_format": ".1f",
       "step": 0.01,
       "style": "IPY_MODEL_d0c8d63791f445c5b7867373554b47ab",
       "value": -80.13
      }
     },
     "36bcc41d5ab64fadb28a23a3280ba4c8": {
      "model_module": "@jupyter-widgets/base",
      "model_module_version": "1.1.0",
      "model_name": "LayoutModel",
      "state": {}
     },
     "3717ad514aa945e0baca8cb05b53871f": {
      "model_module": "@jupyter-widgets/base",
      "model_module_version": "1.1.0",
      "model_name": "LayoutModel",
      "state": {}
     },
     "3913e63a389941e088daecb3dda9fef5": {
      "model_module": "@jupyter-widgets/controls",
      "model_module_version": "1.4.0",
      "model_name": "TabModel",
      "state": {
       "_titles": {
        "0": "Map",
        "1": "Plot"
       },
       "children": [
        "IPY_MODEL_2de7132af6aa43b0b514b6eeb814e7b2",
        "IPY_MODEL_b83647afb0a34ebea515a35ddd67b374"
       ],
       "layout": "IPY_MODEL_837e5f0388c5417ba80df33196125d8f"
      }
     },
     "4ea9014fe487468b813a1ec58dca0fa9": {
      "model_module": "@jupyter-widgets/controls",
      "model_module_version": "1.4.0",
      "model_name": "SliderStyleModel",
      "state": {
       "description_width": ""
      }
     },
     "5154419eafb34878915e920acddd8558": {
      "model_module": "@jupyter-widgets/controls",
      "model_module_version": "1.4.0",
      "model_name": "FloatSliderModel",
      "state": {
       "description": "x1",
       "layout": "IPY_MODEL_f751dec0537241619a7a0d6206da5b30",
       "max": 180,
       "min": -180,
       "readout_format": ".1f",
       "step": 0.01,
       "style": "IPY_MODEL_c0c462a68caf41d383972e3bad432773",
       "value": -100.45
      }
     },
     "53a4fee2cf22476b898ed056a2b3a340": {
      "model_module": "@jupyter-widgets/base",
      "model_module_version": "1.1.0",
      "model_name": "LayoutModel",
      "state": {}
     },
     "59f63bb9ee1e43828a5f3f9ed0d27ac0": {
      "model_module": "@jupyter-widgets/controls",
      "model_module_version": "1.4.0",
      "model_name": "VBoxModel",
      "state": {
       "children": [
        "IPY_MODEL_3913e63a389941e088daecb3dda9fef5",
        "IPY_MODEL_6e56e093835742e7ab5078b57f136841"
       ],
       "layout": "IPY_MODEL_36bcc41d5ab64fadb28a23a3280ba4c8"
      }
     },
     "5ca966019b14457b89ebcb3737797ea2": {
      "model_module": "@jupyter-widgets/base",
      "model_module_version": "1.1.0",
      "model_name": "LayoutModel",
      "state": {}
     },
     "64ba1201e3b84441961f9384787b7c88": {
      "model_module": "@jupyter-widgets/base",
      "model_module_version": "1.1.0",
      "model_name": "LayoutModel",
      "state": {}
     },
     "656d8184883a4f528e14a55158313ab0": {
      "model_module": "@jupyter-widgets/base",
      "model_module_version": "1.1.0",
      "model_name": "LayoutModel",
      "state": {}
     },
     "68d565b13935451985b294e07a54091a": {
      "model_module": "@jupyter-widgets/controls",
      "model_module_version": "1.4.0",
      "model_name": "FloatSliderModel",
      "state": {
       "description": "x1",
       "layout": "IPY_MODEL_d316c6b05c5d4b34b2e0d57d802d4c8b",
       "max": 180,
       "min": -180,
       "readout_format": ".1f",
       "step": 0.01,
       "style": "IPY_MODEL_150a0eb789f5488f8801335c59c83253",
       "value": -100.45
      }
     },
     "69b56a4693e443d3aae6f15a64d0098c": {
      "model_module": "@jupyter-widgets/base",
      "model_module_version": "1.1.0",
      "model_name": "LayoutModel",
      "state": {}
     },
     "6e56e093835742e7ab5078b57f136841": {
      "model_module": "@jupyter-widgets/controls",
      "model_module_version": "1.4.0",
      "model_name": "ButtonModel",
      "state": {
       "description": "Map it!",
       "layout": "IPY_MODEL_da21bae653fd4e3c9488897c5d0782db",
       "style": "IPY_MODEL_78a92c54cb6b4f6cb755eef4aea9cbf3"
      }
     },
     "76e0d872bdcd42e9b37ea190d6eeac61": {
      "model_module": "@jupyter-widgets/controls",
      "model_module_version": "1.4.0",
      "model_name": "TabModel",
      "state": {
       "_titles": {
        "0": "Map",
        "1": "Plot"
       },
       "children": [
        "IPY_MODEL_89ba6ae4d3174875869ebec42165e27c",
        "IPY_MODEL_2f230392e18344e3aa171104a832aaa7"
       ],
       "layout": "IPY_MODEL_53a4fee2cf22476b898ed056a2b3a340"
      }
     },
     "78a92c54cb6b4f6cb755eef4aea9cbf3": {
      "model_module": "@jupyter-widgets/controls",
      "model_module_version": "1.4.0",
      "model_name": "ButtonStyleModel",
      "state": {}
     },
     "837e5f0388c5417ba80df33196125d8f": {
      "model_module": "@jupyter-widgets/base",
      "model_module_version": "1.1.0",
      "model_name": "LayoutModel",
      "state": {}
     },
     "89ba6ae4d3174875869ebec42165e27c": {
      "model_module": "@jupyter-widgets/controls",
      "model_module_version": "1.4.0",
      "model_name": "VBoxModel",
      "state": {
       "children": [
        "IPY_MODEL_68d565b13935451985b294e07a54091a",
        "IPY_MODEL_c1375f25d6354cdb9c797b755f74b2e1",
        "IPY_MODEL_a993739a026545bc8c5cc7df7e31d0e2",
        "IPY_MODEL_90cce1e55c714b27afacbc720e924e6a"
       ],
       "layout": "IPY_MODEL_3717ad514aa945e0baca8cb05b53871f"
      }
     },
     "90cce1e55c714b27afacbc720e924e6a": {
      "model_module": "@jupyter-widgets/controls",
      "model_module_version": "1.4.0",
      "model_name": "FloatSliderModel",
      "state": {
       "description": "y2",
       "layout": "IPY_MODEL_086314bdb9584dfca54204728b951757",
       "max": 90,
       "min": -90,
       "readout_format": ".1f",
       "step": 0.01,
       "style": "IPY_MODEL_4ea9014fe487468b813a1ec58dca0fa9",
       "value": 31.06
      }
     },
     "9798ead93da54bebbe53ad7966df5a6d": {
      "model_module": "@jupyter-widgets/controls",
      "model_module_version": "1.4.0",
      "model_name": "SliderStyleModel",
      "state": {
       "description_width": ""
      }
     },
     "a993739a026545bc8c5cc7df7e31d0e2": {
      "model_module": "@jupyter-widgets/controls",
      "model_module_version": "1.4.0",
      "model_name": "FloatSliderModel",
      "state": {
       "description": "y1",
       "layout": "IPY_MODEL_5ca966019b14457b89ebcb3737797ea2",
       "max": 90,
       "min": -90,
       "readout_format": ".1f",
       "step": 0.01,
       "style": "IPY_MODEL_d4f1bdc8847e4961a7e44f95dedb3c12",
       "value": 13.65
      }
     },
     "ad1dd2574cb0480abe32f96f103bd175": {
      "model_module": "@jupyter-widgets/controls",
      "model_module_version": "1.4.0",
      "model_name": "FloatSliderModel",
      "state": {
       "description": "y1",
       "layout": "IPY_MODEL_b6cd996befe04bff8255046f07dd358c",
       "max": 90,
       "min": -90,
       "readout_format": ".1f",
       "step": 0.01,
       "style": "IPY_MODEL_dbdac09b01864614bb3a8eccafbdfc48",
       "value": 13.65
      }
     },
     "ad7b9ccd59bc4fbaa36b9c1aa58c82bf": {
      "model_module": "@jupyter-widgets/controls",
      "model_module_version": "1.4.0",
      "model_name": "ButtonModel",
      "state": {
       "description": "Map it!",
       "layout": "IPY_MODEL_69b56a4693e443d3aae6f15a64d0098c",
       "style": "IPY_MODEL_b105e874a38841ebaffeb0f56b5d8009"
      }
     },
     "b105e874a38841ebaffeb0f56b5d8009": {
      "model_module": "@jupyter-widgets/controls",
      "model_module_version": "1.4.0",
      "model_name": "ButtonStyleModel",
      "state": {}
     },
     "b6cd996befe04bff8255046f07dd358c": {
      "model_module": "@jupyter-widgets/base",
      "model_module_version": "1.1.0",
      "model_name": "LayoutModel",
      "state": {}
     },
     "b83647afb0a34ebea515a35ddd67b374": {
      "model_module": "@jupyter-widgets/output",
      "model_module_version": "1.0.0",
      "model_name": "OutputModel",
      "state": {
       "layout": "IPY_MODEL_f08639bce5ee4874b2a80d3b1093aff9",
       "outputs": [
        {
         "data": {
          "image/png": "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\n",
          "text/plain": "<Figure size 432x288 with 1 Axes>"
         },
         "metadata": {
          "needs_background": "light"
         },
         "output_type": "display_data"
        }
       ]
      }
     },
     "c0c462a68caf41d383972e3bad432773": {
      "model_module": "@jupyter-widgets/controls",
      "model_module_version": "1.4.0",
      "model_name": "SliderStyleModel",
      "state": {
       "description_width": ""
      }
     },
     "c1375f25d6354cdb9c797b755f74b2e1": {
      "model_module": "@jupyter-widgets/controls",
      "model_module_version": "1.4.0",
      "model_name": "FloatSliderModel",
      "state": {
       "description": "x2",
       "layout": "IPY_MODEL_267ab95fcd4f4045bd62818387c14882",
       "max": 180,
       "min": -180,
       "readout_format": ".1f",
       "step": 0.01,
       "style": "IPY_MODEL_25d8ba00522f4fa8ae74a538e3707bf1",
       "value": -62.71
      }
     },
     "d0c8d63791f445c5b7867373554b47ab": {
      "model_module": "@jupyter-widgets/controls",
      "model_module_version": "1.4.0",
      "model_name": "SliderStyleModel",
      "state": {
       "description_width": ""
      }
     },
     "d316c6b05c5d4b34b2e0d57d802d4c8b": {
      "model_module": "@jupyter-widgets/base",
      "model_module_version": "1.1.0",
      "model_name": "LayoutModel",
      "state": {}
     },
     "d4f1bdc8847e4961a7e44f95dedb3c12": {
      "model_module": "@jupyter-widgets/controls",
      "model_module_version": "1.4.0",
      "model_name": "SliderStyleModel",
      "state": {
       "description_width": ""
      }
     },
     "da21bae653fd4e3c9488897c5d0782db": {
      "model_module": "@jupyter-widgets/base",
      "model_module_version": "1.1.0",
      "model_name": "LayoutModel",
      "state": {}
     },
     "dbdac09b01864614bb3a8eccafbdfc48": {
      "model_module": "@jupyter-widgets/controls",
      "model_module_version": "1.4.0",
      "model_name": "SliderStyleModel",
      "state": {
       "description_width": ""
      }
     },
     "e0b38b58f1cc4af0a19c64c661c86e2f": {
      "model_module": "@jupyter-widgets/base",
      "model_module_version": "1.1.0",
      "model_name": "LayoutModel",
      "state": {}
     },
     "eb0422404c494627820a5a5e2ac9628f": {
      "model_module": "@jupyter-widgets/base",
      "model_module_version": "1.1.0",
      "model_name": "LayoutModel",
      "state": {}
     },
     "f08639bce5ee4874b2a80d3b1093aff9": {
      "model_module": "@jupyter-widgets/base",
      "model_module_version": "1.1.0",
      "model_name": "LayoutModel",
      "state": {}
     },
     "f1ecd6c2e20e4366bae12a22eeee012a": {
      "model_module": "@jupyter-widgets/controls",
      "model_module_version": "1.4.0",
      "model_name": "VBoxModel",
      "state": {
       "children": [
        "IPY_MODEL_fe579fbaef954b5fb2d2089e5dff8af7",
        "IPY_MODEL_ad7b9ccd59bc4fbaa36b9c1aa58c82bf"
       ],
       "layout": "IPY_MODEL_656d8184883a4f528e14a55158313ab0"
      }
     },
     "f751dec0537241619a7a0d6206da5b30": {
      "model_module": "@jupyter-widgets/base",
      "model_module_version": "1.1.0",
      "model_name": "LayoutModel",
      "state": {}
     },
     "fb1d5f80dfcb4ab796c8d2e76546e648": {
      "model_module": "@jupyter-widgets/controls",
      "model_module_version": "1.4.0",
      "model_name": "FloatSliderModel",
      "state": {
       "description": "y2",
       "layout": "IPY_MODEL_e0b38b58f1cc4af0a19c64c661c86e2f",
       "max": 90,
       "min": -90,
       "readout_format": ".1f",
       "step": 0.01,
       "style": "IPY_MODEL_9798ead93da54bebbe53ad7966df5a6d",
       "value": 31.06
      }
     },
     "fe579fbaef954b5fb2d2089e5dff8af7": {
      "model_module": "@jupyter-widgets/controls",
      "model_module_version": "1.4.0",
      "model_name": "TabModel",
      "state": {
       "_titles": {
        "0": "Map",
        "1": "Plot"
       },
       "children": [
        "IPY_MODEL_89ba6ae4d3174875869ebec42165e27c",
        "IPY_MODEL_2f230392e18344e3aa171104a832aaa7"
       ],
       "layout": "IPY_MODEL_64ba1201e3b84441961f9384787b7c88"
      }
     }
    },
    "version_major": 2,
    "version_minor": 0
   }
  }
 },
 "nbformat": 4,
 "nbformat_minor": 2
}
