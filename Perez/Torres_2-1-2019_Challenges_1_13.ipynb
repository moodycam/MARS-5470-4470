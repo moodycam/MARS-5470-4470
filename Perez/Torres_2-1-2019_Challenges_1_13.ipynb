{
 "cells": [
  {
   "cell_type": "code",
   "execution_count": 1,
   "metadata": {},
   "outputs": [
    {
     "name": "stdout",
     "output_type": "stream",
     "text": [
      "Hello, What is your name: German\n"
     ]
    }
   ],
   "source": [
    "name = input('Hello, What is your name: ')"
   ]
  },
  {
   "cell_type": "code",
   "execution_count": 2,
   "metadata": {},
   "outputs": [
    {
     "name": "stdout",
     "output_type": "stream",
     "text": [
      "What is your age? 24\n"
     ]
    }
   ],
   "source": [
    "age = int(input('What is your age? '))"
   ]
  },
  {
   "cell_type": "code",
   "execution_count": 3,
   "metadata": {},
   "outputs": [
    {
     "data": {
      "text/plain": [
       "int"
      ]
     },
     "execution_count": 3,
     "metadata": {},
     "output_type": "execute_result"
    }
   ],
   "source": [
    "type(age)"
   ]
  },
  {
   "cell_type": "code",
   "execution_count": 4,
   "metadata": {},
   "outputs": [],
   "source": [
    "birthd = (2018-age)\n",
    "\n",
    "if (age<100):\n",
    "    hund = (birthd + 100)\n",
    "\n",
    "\n",
    "   \n",
    "    \n",
    "\n",
    " "
   ]
  },
  {
   "cell_type": "code",
   "execution_count": 5,
   "metadata": {},
   "outputs": [
    {
     "name": "stdout",
     "output_type": "stream",
     "text": [
      "German you wil be a 100 in 2094\n"
     ]
    }
   ],
   "source": [
    "print(name + ' you wil be a 100 in ' + str(hund))"
   ]
  },
  {
   "cell_type": "code",
   "execution_count": 17,
   "metadata": {},
   "outputs": [
    {
     "name": "stdout",
     "output_type": "stream",
     "text": [
      "6\n"
     ]
    }
   ],
   "source": []
  },
  {
   "cell_type": "markdown",
   "metadata": {},
   "source": [
    "## Challenge2"
   ]
  },
  {
   "cell_type": "code",
   "execution_count": 6,
   "metadata": {},
   "outputs": [
    {
     "name": "stdout",
     "output_type": "stream",
     "text": [
      "12\n"
     ]
    }
   ],
   "source": [
    "num = int(input())"
   ]
  },
  {
   "cell_type": "code",
   "execution_count": 7,
   "metadata": {},
   "outputs": [],
   "source": [
    "x = num % 2"
   ]
  },
  {
   "cell_type": "code",
   "execution_count": 8,
   "metadata": {},
   "outputs": [
    {
     "name": "stdout",
     "output_type": "stream",
     "text": [
      "Even\n"
     ]
    }
   ],
   "source": [
    "if x > 0:\n",
    "    print(\"Odd\")\n",
    "else:\n",
    "    print(\"Even\")"
   ]
  },
  {
   "cell_type": "code",
   "execution_count": null,
   "metadata": {},
   "outputs": [],
   "source": []
  },
  {
   "cell_type": "code",
   "execution_count": null,
   "metadata": {},
   "outputs": [],
   "source": []
  },
  {
   "cell_type": "markdown",
   "metadata": {},
   "source": [
    "# scratch"
   ]
  },
  {
   "cell_type": "code",
   "execution_count": 21,
   "metadata": {},
   "outputs": [],
   "source": [
    "test = 6.0/2"
   ]
  },
  {
   "cell_type": "code",
   "execution_count": 22,
   "metadata": {},
   "outputs": [
    {
     "data": {
      "text/plain": [
       "float"
      ]
     },
     "execution_count": 22,
     "metadata": {},
     "output_type": "execute_result"
    }
   ],
   "source": [
    "type(test)"
   ]
  },
  {
   "cell_type": "code",
   "execution_count": 23,
   "metadata": {},
   "outputs": [
    {
     "data": {
      "text/plain": [
       "3.0"
      ]
     },
     "execution_count": 23,
     "metadata": {},
     "output_type": "execute_result"
    }
   ],
   "source": [
    "test"
   ]
  },
  {
   "cell_type": "code",
   "execution_count": null,
   "metadata": {},
   "outputs": [],
   "source": []
  },
  {
   "cell_type": "code",
   "execution_count": null,
   "metadata": {},
   "outputs": [],
   "source": []
  },
  {
   "cell_type": "code",
   "execution_count": null,
   "metadata": {},
   "outputs": [],
   "source": []
  },
  {
   "cell_type": "code",
   "execution_count": null,
   "metadata": {},
   "outputs": [],
   "source": []
  },
  {
   "cell_type": "code",
   "execution_count": null,
   "metadata": {},
   "outputs": [],
   "source": []
  },
  {
   "cell_type": "code",
   "execution_count": null,
   "metadata": {},
   "outputs": [],
   "source": []
  },
  {
   "cell_type": "code",
   "execution_count": null,
   "metadata": {},
   "outputs": [],
   "source": []
  },
  {
   "cell_type": "code",
   "execution_count": null,
   "metadata": {},
   "outputs": [],
   "source": []
  },
  {
   "cell_type": "markdown",
   "metadata": {},
   "source": [
    "## Challenge 13 (Fibanocci)"
   ]
  },
  {
   "cell_type": "markdown",
   "metadata": {},
   "source": [
    "Fibanocci Problem:\n",
    "    print out first n fibonacci numbers\n",
    "    \n",
    "    Plan:\n",
    "        have the user enter a number of numbers to print our\n",
    "        have a while loop that counts down and prints out a number each time"
   ]
  },
  {
   "cell_type": "code",
   "execution_count": 17,
   "metadata": {},
   "outputs": [
    {
     "name": "stdout",
     "output_type": "stream",
     "text": [
      "16\n",
      "1\n",
      "counter = 16\n",
      "fib1 = 0\n",
      "fib2 = 1\n",
      "1\n",
      "counter = 15\n",
      "fib1 = 1\n",
      "fib2 = 1\n",
      "2\n",
      "counter = 14\n",
      "fib1 = 1\n",
      "fib2 = 2\n",
      "3\n",
      "counter = 13\n",
      "fib1 = 2\n",
      "fib2 = 3\n",
      "5\n",
      "counter = 12\n",
      "fib1 = 3\n",
      "fib2 = 5\n",
      "8\n",
      "counter = 11\n",
      "fib1 = 5\n",
      "fib2 = 8\n",
      "13\n",
      "counter = 10\n",
      "fib1 = 8\n",
      "fib2 = 13\n",
      "21\n",
      "counter = 9\n",
      "fib1 = 13\n",
      "fib2 = 21\n",
      "34\n",
      "counter = 8\n",
      "fib1 = 21\n",
      "fib2 = 34\n",
      "55\n",
      "counter = 7\n",
      "fib1 = 34\n",
      "fib2 = 55\n",
      "89\n",
      "counter = 6\n",
      "fib1 = 55\n",
      "fib2 = 89\n",
      "144\n",
      "counter = 5\n",
      "fib1 = 89\n",
      "fib2 = 144\n",
      "233\n",
      "counter = 4\n",
      "fib1 = 144\n",
      "fib2 = 233\n",
      "377\n",
      "counter = 3\n",
      "fib1 = 233\n",
      "fib2 = 377\n",
      "610\n",
      "counter = 2\n",
      "fib1 = 377\n",
      "fib2 = 610\n",
      "987\n"
     ]
    }
   ],
   "source": [
    "\n",
    "fib1 = 0; fib2 = 1;\n",
    "\n",
    "counter = int(input())\n",
    "\n",
    "print(fib2)\n",
    "while counter>1:\n",
    "    print('counter = ' + str(counter))\n",
    "    print('fib1 = ' + str(fib1))\n",
    "    print('fib2 = ' + str(fib2))\n",
    "    # add the previous two numbers and print\n",
    "    print(fib1+fib2)\n",
    "    # replace numbers for next loop\n",
    "    # save the new number to go into fib2\n",
    "    temp = fib2 + fib1\n",
    "    #put fib2 into fib1\n",
    "    fib1 = fib2\n",
    "    # put new number in fib2\n",
    "    fib2 = temp\n",
    "    #counter = counter - 1\n",
    "    counter -= 1\n"
   ]
  },
  {
   "cell_type": "code",
   "execution_count": null,
   "metadata": {},
   "outputs": [],
   "source": []
  }
 ],
 "metadata": {
  "kernelspec": {
   "display_name": "Python 3",
   "language": "python",
   "name": "python3"
  },
  "language_info": {
   "codemirror_mode": {
    "name": "ipython",
    "version": 3
   },
   "file_extension": ".py",
   "mimetype": "text/x-python",
   "name": "python",
   "nbconvert_exporter": "python",
   "pygments_lexer": "ipython3",
   "version": "3.7.0"
  }
 },
 "nbformat": 4,
 "nbformat_minor": 2
}
