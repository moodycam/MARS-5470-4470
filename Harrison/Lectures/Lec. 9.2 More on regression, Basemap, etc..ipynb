{
 "cells": [
  {
   "cell_type": "markdown",
   "metadata": {},
   "source": [
    "# Agenda:"
   ]
  },
  {
   "cell_type": "markdown",
   "metadata": {},
   "source": [
    "- Project management (Cameron)"
   ]
  },
  {
   "cell_type": "markdown",
   "metadata": {},
   "source": [
    "- Board lecture on RMSE, R^2\n",
    "\n",
    "    RMSE\n",
    "\n",
    "    https://www.statisticshowto.datasciencecentral.com/rmse/\n",
    "\n",
    "\n",
    "    R^2 is the \"coefficient of determination\"\n",
    "\n",
    "    https://en.wikipedia.org/wiki/Coefficient_of_determination\n"
   ]
  },
  {
   "cell_type": "markdown",
   "metadata": {},
   "source": [
    "- Introduction to Zotero and Overleaf"
   ]
  },
  {
   "cell_type": "markdown",
   "metadata": {},
   "source": [
    "- Working with shapefiles "
   ]
  },
  {
   "cell_type": "markdown",
   "metadata": {},
   "source": [
    "## Making a second python environment"
   ]
  },
  {
   "cell_type": "markdown",
   "metadata": {},
   "source": [
    "We will install gdal in a second python version 2.7 environment"
   ]
  },
  {
   "cell_type": "markdown",
   "metadata": {},
   "source": [
    "Creating a python 2 evironment in anaconda \n",
    "http://docs.anaconda.com/anaconda/user-guide/tasks/switch-environment/?highlight=python%20environment\n",
    "\n",
    "https://docs.anaconda.com/anaconda/navigator/tutorials/manage-environments/#creating-a-new-environment"
   ]
  },
  {
   "cell_type": "markdown",
   "metadata": {},
   "source": [
    "Information on gdal and arcpy, which works with shapefiles and run on Python 2:\n",
    "\n",
    "https://pcjericks.github.io/py-gdalogr-cookbook/\n",
    "\n",
    "https://pypi.org/project/GDAL/\n",
    "\n",
    "https://pcjericks.github.io/py-gdalogr-cookbook/"
   ]
  },
  {
   "cell_type": "markdown",
   "metadata": {},
   "source": [
    "## Working with shapefile data"
   ]
  },
  {
   "cell_type": "markdown",
   "metadata": {},
   "source": [
    "E1. install geopandas and play around with it (http://geopandas.org/). Download a shapefile from http://www.marineregions.org/ and play around with it"
   ]
  },
  {
   "cell_type": "markdown",
   "metadata": {},
   "source": [
    "This tutorial might be helpful: https://automating-gis-processes.github.io/2016/index.html"
   ]
  },
  {
   "cell_type": "code",
   "execution_count": null,
   "metadata": {},
   "outputs": [],
   "source": []
  }
 ],
 "metadata": {
  "kernelspec": {
   "display_name": "Python 2",
   "language": "python",
   "name": "python2"
  },
  "language_info": {
   "codemirror_mode": {
    "name": "ipython",
    "version": 2
   },
   "file_extension": ".py",
   "mimetype": "text/x-python",
   "name": "python",
   "nbconvert_exporter": "python",
   "pygments_lexer": "ipython2",
   "version": "2.7.15"
  }
 },
 "nbformat": 4,
 "nbformat_minor": 2
}
