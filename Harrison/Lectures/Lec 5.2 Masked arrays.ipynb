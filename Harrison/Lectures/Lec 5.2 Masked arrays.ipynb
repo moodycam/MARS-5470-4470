{
 "cells": [
  {
   "cell_type": "markdown",
   "metadata": {},
   "source": [
    "# Introduction to Scientific Computing Lecture 5.2\n",
    "\n",
    "## Introduction to masked arrays"
   ]
  },
  {
   "cell_type": "markdown",
   "metadata": {},
   "source": [
    "Masking arrays is very useful in analysing subsets of data. Numpy has a masked array subpackage and tons of associated functions"
   ]
  },
  {
   "cell_type": "markdown",
   "metadata": {},
   "source": [
    "Examples from: http://scipy-lectures.org/intro/numpy/elaborate_arrays.html#maskedarray-dealing-with-propagation-of-missing-data\n",
    "and\n",
    "http://scipy-lectures.org/advanced/advanced_numpy/index.html#masked-array-missing-data"
   ]
  },
  {
   "cell_type": "code",
   "execution_count": null,
   "metadata": {
    "collapsed": true
   },
   "outputs": [],
   "source": [
    "%matplotlib inline\n",
    "import numpy as np\n",
    "import matplotlib.pyplot as plt"
   ]
  },
  {
   "cell_type": "code",
   "execution_count": null,
   "metadata": {
    "collapsed": true
   },
   "outputs": [],
   "source": [
    "# this changes the default plotting for matplotlib\n",
    "import matplotlib as mpl\n",
    "mpl.rcParams['figure.figsize'] = [6.0, 4.0]\n",
    "mpl.rcParams['figure.dpi'] = 200\n",
    "mpl.rcParams['savefig.dpi'] = 200\n",
    "\n",
    "mpl.rcParams['font.size'] = 14\n",
    "mpl.rcParams['legend.fontsize'] = 'large'\n",
    "mpl.rcParams['figure.titlesize'] = 'medium'\n",
    "mpl.rcParams['lines.linewidth']= 2.0"
   ]
  },
  {
   "cell_type": "code",
   "execution_count": null,
   "metadata": {
    "collapsed": true
   },
   "outputs": [],
   "source": [
    "# suppose you have some data and one of the values is bad\n",
    "x = np.array([1, 2, 3, -99, 5])"
   ]
  },
  {
   "cell_type": "code",
   "execution_count": null,
   "metadata": {},
   "outputs": [],
   "source": [
    "# if we take the average we get something very wrong\n",
    "x.mean()"
   ]
  },
  {
   "cell_type": "code",
   "execution_count": null,
   "metadata": {},
   "outputs": [],
   "source": [
    "# you can mask the missing data\n",
    "mx = np.ma.masked_array(x, mask=[0, 0, 0, 1, 0])\n",
    "mx"
   ]
  },
  {
   "cell_type": "code",
   "execution_count": null,
   "metadata": {},
   "outputs": [],
   "source": [
    "# then the mean works\n",
    "mx.mean()"
   ]
  },
  {
   "cell_type": "markdown",
   "metadata": {},
   "source": [
    "There are a lot of useful functions to work with masks"
   ]
  },
  {
   "cell_type": "code",
   "execution_count": null,
   "metadata": {},
   "outputs": [],
   "source": [
    "# mask the data where a certain logical statement is true\n",
    "mx2 = np.ma.masked_where(x < 0, x)\n",
    "mx2"
   ]
  },
  {
   "cell_type": "code",
   "execution_count": null,
   "metadata": {},
   "outputs": [],
   "source": [
    "# note this syntax is the same result as above\n",
    "np.mean(mx2)"
   ]
  },
  {
   "cell_type": "code",
   "execution_count": null,
   "metadata": {
    "collapsed": true
   },
   "outputs": [],
   "source": []
  },
  {
   "cell_type": "markdown",
   "metadata": {},
   "source": [
    "## Example from tutorial: Masked statistics"
   ]
  },
  {
   "cell_type": "markdown",
   "metadata": {},
   "source": [
    "This is using the same data that was introduced previously"
   ]
  },
  {
   "cell_type": "markdown",
   "metadata": {},
   "source": [
    "### Getting and playing with the data"
   ]
  },
  {
   "cell_type": "code",
   "execution_count": null,
   "metadata": {
    "collapsed": true
   },
   "outputs": [],
   "source": [
    "data = np.loadtxt('populations.txt')"
   ]
  },
  {
   "cell_type": "code",
   "execution_count": null,
   "metadata": {},
   "outputs": [],
   "source": [
    "# note the data is year, pop1, pop2, pop3\n",
    "data"
   ]
  },
  {
   "cell_type": "code",
   "execution_count": null,
   "metadata": {},
   "outputs": [],
   "source": [
    "data.shape\n",
    "# this is time x variables"
   ]
  },
  {
   "cell_type": "code",
   "execution_count": null,
   "metadata": {},
   "outputs": [],
   "source": [
    "# extract all times (all elements in first dim) and all years (first index in second dim)\n",
    "data[:,0]"
   ]
  },
  {
   "cell_type": "code",
   "execution_count": null,
   "metadata": {},
   "outputs": [],
   "source": [
    "# time vs population plots\n",
    "#plt.figure(figsize=(8, 6))\n",
    "plt.plot(data[:,0], data[:,1])\n",
    "plt.plot(data[:,0], data[:,2])\n",
    "plt.plot(data[:,0], data[:,3])\n",
    "plt.xlabel('Year')\n",
    "plt.ylabel('Population')\n",
    "plt.legend(['Hares', 'Lynxes', 'Carrots'], loc = 'upper right')"
   ]
  },
  {
   "cell_type": "code",
   "execution_count": null,
   "metadata": {},
   "outputs": [],
   "source": [
    "help(plt.legend)"
   ]
  },
  {
   "cell_type": "markdown",
   "metadata": {},
   "source": [
    "We may want to rename the data to make it easier to deal with\n"
   ]
  },
  {
   "cell_type": "code",
   "execution_count": null,
   "metadata": {},
   "outputs": [],
   "source": [
    "data.T\n",
    "# now we have years as a row"
   ]
  },
  {
   "cell_type": "code",
   "execution_count": null,
   "metadata": {
    "collapsed": true
   },
   "outputs": [],
   "source": [
    "# make vectors of the variables\n",
    "year, hares, lynxes, carrots = data.T  # trick: columns to variables\n",
    "# the last .T transposes the data"
   ]
  },
  {
   "cell_type": "code",
   "execution_count": null,
   "metadata": {},
   "outputs": [],
   "source": [
    "year"
   ]
  },
  {
   "cell_type": "code",
   "execution_count": null,
   "metadata": {},
   "outputs": [],
   "source": [
    "hares"
   ]
  },
  {
   "cell_type": "code",
   "execution_count": null,
   "metadata": {},
   "outputs": [],
   "source": [
    "lynxes"
   ]
  },
  {
   "cell_type": "code",
   "execution_count": null,
   "metadata": {},
   "outputs": [],
   "source": [
    "# note this is the same as above\n",
    "plt.plot(year, hares)\n",
    "plt.plot(year, lynxes)\n",
    "plt.plot(year, carrots)\n",
    "plt.xlabel('Year')\n",
    "plt.ylabel('Population')\n",
    "plt.legend(['Hares', 'Lynxes', 'Carrots'], loc = 'upper right')"
   ]
  },
  {
   "cell_type": "code",
   "execution_count": null,
   "metadata": {},
   "outputs": [],
   "source": [
    "# how about a boxplot?\n",
    "# see:\n",
    "# https://matplotlib.org/gallery/pyplots/boxplot_demo_pyplot.html#sphx-glr-gallery-pyplots-boxplot-demo-pyplot-py\n",
    "\n",
    "plt.boxplot([hares, lynxes, carrots])\n",
    "plt.xlabel('hares, lynxes, carrots')\n",
    "plt.ylabel('Populations (thousands)')\n",
    ";\n",
    "# orange line is median"
   ]
  },
  {
   "cell_type": "markdown",
   "metadata": {},
   "source": [
    "### New problem with this data (1.3.5.3)"
   ]
  },
  {
   "cell_type": "markdown",
   "metadata": {},
   "source": [
    "Canadian rangers were distracted when counting hares and lynxes in 1903-1910 and 1917-1918, and got the numbers are wrong. (Carrot farmers stayed alert, though.) Compute the mean populations over time, ignoring the invalid numbers."
   ]
  },
  {
   "cell_type": "markdown",
   "metadata": {},
   "source": [
    "So the problem is that the hare and lynx data are bad in these years. So we need to mask these dates before we take the averages. \n",
    "\n",
    "Let's take the averages of the data first, before we mask. We either need to use the separate data vectors, or we need to be clever about taking the average of the matrix along the correct axis"
   ]
  },
  {
   "cell_type": "code",
   "execution_count": null,
   "metadata": {},
   "outputs": [],
   "source": [
    "data.mean()\n",
    "# this just gives us the mean of the whole array, which is not helpful\n",
    "# remember that the data is time x variables, so we want to average over the time index"
   ]
  },
  {
   "cell_type": "code",
   "execution_count": null,
   "metadata": {},
   "outputs": [],
   "source": [
    "np.mean(data, axis = 0)"
   ]
  },
  {
   "cell_type": "code",
   "execution_count": null,
   "metadata": {},
   "outputs": [],
   "source": [
    "data.mean(axis = 0)"
   ]
  },
  {
   "cell_type": "code",
   "execution_count": null,
   "metadata": {},
   "outputs": [],
   "source": [
    "# similarly\n",
    "print(hares.mean())\n",
    "print(lynxes.mean())\n",
    "print(carrots.mean())"
   ]
  },
  {
   "cell_type": "markdown",
   "metadata": {},
   "source": [
    "Now let's mask out the bad years and recalculate the averages\n",
    "\n",
    "We want to mask 1903-1910 and 1917-1918"
   ]
  },
  {
   "cell_type": "code",
   "execution_count": null,
   "metadata": {},
   "outputs": [],
   "source": [
    "year"
   ]
  },
  {
   "cell_type": "code",
   "execution_count": null,
   "metadata": {},
   "outputs": [],
   "source": [
    "(year > 1903)\n",
    "# is this right?"
   ]
  },
  {
   "cell_type": "code",
   "execution_count": null,
   "metadata": {},
   "outputs": [],
   "source": [
    "(year >= 1903)\n",
    "# is this right? Is 1903 true?"
   ]
  },
  {
   "cell_type": "code",
   "execution_count": null,
   "metadata": {},
   "outputs": [],
   "source": [
    "(year >= 1903) & (year <= 1910)"
   ]
  },
  {
   "cell_type": "code",
   "execution_count": null,
   "metadata": {
    "scrolled": true
   },
   "outputs": [],
   "source": [
    "# note this doesn't work:\n",
    "(year >= 1903) and (year <= 1910)"
   ]
  },
  {
   "cell_type": "code",
   "execution_count": null,
   "metadata": {},
   "outputs": [],
   "source": [
    "# we need to add on the other range as well: 1917-1918\n",
    "# is this an and or an or question?\n",
    "# note \"or\" is |\n",
    "((year >= 1903) & (year <= 1910)) |((year >= 1917) & (year <= 1918)) "
   ]
  },
  {
   "cell_type": "code",
   "execution_count": null,
   "metadata": {
    "collapsed": true
   },
   "outputs": [],
   "source": [
    "mask = ((year >= 1903) & (year <= 1910)) |((year >= 1917) & (year <= 1918)) "
   ]
  },
  {
   "cell_type": "code",
   "execution_count": null,
   "metadata": {
    "collapsed": true
   },
   "outputs": [],
   "source": [
    "# now we are ready to mask\n",
    "lynxes_masked = np.ma.masked_where(mask,lynxes)"
   ]
  },
  {
   "cell_type": "code",
   "execution_count": null,
   "metadata": {},
   "outputs": [],
   "source": [
    "lynxes_masked"
   ]
  },
  {
   "cell_type": "code",
   "execution_count": null,
   "metadata": {
    "collapsed": true
   },
   "outputs": [],
   "source": [
    "hares_masked = np.ma.masked_where(mask,hares)\n",
    "# note carrots are fine"
   ]
  },
  {
   "cell_type": "code",
   "execution_count": null,
   "metadata": {},
   "outputs": [],
   "source": [
    "# note this is the same as above\n",
    "plt.plot(year, hares_masked)\n",
    "plt.plot(year, lynxes_masked)\n",
    "plt.plot(year, carrots)\n",
    "plt.xlabel('Year')\n",
    "plt.ylabel('Population')\n",
    "plt.legend(['Hares', 'Lynxes', 'Carrots'], loc = 'upper right')"
   ]
  },
  {
   "cell_type": "code",
   "execution_count": null,
   "metadata": {},
   "outputs": [],
   "source": [
    "print(hares.mean())\n",
    "print(hares_masked.mean())"
   ]
  },
  {
   "cell_type": "code",
   "execution_count": null,
   "metadata": {},
   "outputs": [],
   "source": [
    "print(lynxes.mean())\n",
    "print(lynxes_masked.mean())"
   ]
  },
  {
   "cell_type": "code",
   "execution_count": null,
   "metadata": {},
   "outputs": [],
   "source": [
    "plt.boxplot([hares,hares_masked, lynxes, lynxes_masked, carrots])\n",
    "plt.xlabel('hares, hares masked, lynxes, lynxes masked, carrots')\n",
    "plt.ylabel('Populations (thousands)')\n",
    ";\n",
    "# didn't change the statistics signifigantly"
   ]
  },
  {
   "cell_type": "code",
   "execution_count": null,
   "metadata": {
    "collapsed": true
   },
   "outputs": [],
   "source": []
  },
  {
   "cell_type": "code",
   "execution_count": null,
   "metadata": {
    "collapsed": true
   },
   "outputs": [],
   "source": []
  }
 ],
 "metadata": {
  "kernelspec": {
   "display_name": "Python 3",
   "language": "python",
   "name": "python3"
  },
  "language_info": {
   "codemirror_mode": {
    "name": "ipython",
    "version": 3
   },
   "file_extension": ".py",
   "mimetype": "text/x-python",
   "name": "python",
   "nbconvert_exporter": "python",
   "pygments_lexer": "ipython3",
   "version": "3.6.3"
  }
 },
 "nbformat": 4,
 "nbformat_minor": 2
}
