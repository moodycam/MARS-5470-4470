{
 "cells": [
  {
   "cell_type": "markdown",
   "metadata": {},
   "source": [
    "# Lec 6.2\n",
    "\n",
    "- Go over #3 from Monday (6.1)\n",
    "- Do #4 as an exercise\n",
    "\n",
    "- Finding indices of interest with np.where\n",
    "\n",
    "- Meshgrids"
   ]
  },
  {
   "cell_type": "markdown",
   "metadata": {},
   "source": [
    "3 . Mask out regions outside of the tropics (google definition of tropics) and plot the annual mean again. Adjust the font size of your axes labels and title. Adjust the axis limits to be constrained to the data (i.e. no whitespace)."
   ]
  },
  {
   "cell_type": "code",
   "execution_count": null,
   "metadata": {
    "collapsed": true
   },
   "outputs": [],
   "source": [
    "import numpy as np\n",
    "import matplotlib.pyplot as plt\n",
    "%matplotlib inline\n",
    "import xarray as xr"
   ]
  },
  {
   "cell_type": "code",
   "execution_count": null,
   "metadata": {
    "collapsed": true
   },
   "outputs": [],
   "source": [
    "data = xr.open_dataset('/Users/chha5666/Documents/Teaching/Intro_computing/Data/CESM.003.SST.1980.nc')\n",
    "\n",
    "# extract variables from the above netcdf file\n",
    "lat = np.array(data.lat)\n",
    "#lat\n",
    "lon = np.array(data.lon)\n",
    "# monthly sea surface temperature anamoly\n",
    "sst = np.array(data.SST)"
   ]
  },
  {
   "cell_type": "code",
   "execution_count": null,
   "metadata": {
    "collapsed": true
   },
   "outputs": [],
   "source": [
    "sst_mean = np.mean(sst, axis = 0)"
   ]
  },
  {
   "cell_type": "code",
   "execution_count": null,
   "metadata": {},
   "outputs": [],
   "source": [
    "lat.shape"
   ]
  },
  {
   "cell_type": "code",
   "execution_count": null,
   "metadata": {},
   "outputs": [],
   "source": [
    "lat"
   ]
  },
  {
   "cell_type": "code",
   "execution_count": null,
   "metadata": {},
   "outputs": [],
   "source": [
    "# make a mask using the lat array\n",
    "\n",
    "trop = 23.4368\n",
    "\n",
    "(lat> trop) | (lat< (-1*trop))"
   ]
  },
  {
   "cell_type": "code",
   "execution_count": null,
   "metadata": {},
   "outputs": [],
   "source": [
    "# the easiest way to do this is to make a mask array that is the same size as the mean sst array\n",
    "mask = np.zeros_like(sst_mean)\n",
    "mask.shape"
   ]
  },
  {
   "cell_type": "code",
   "execution_count": null,
   "metadata": {},
   "outputs": [],
   "source": [
    "plt.pcolormesh(mask)\n",
    "plt.colorbar()"
   ]
  },
  {
   "cell_type": "code",
   "execution_count": null,
   "metadata": {
    "collapsed": true
   },
   "outputs": [],
   "source": [
    "# we want every longitude, all 360, to have the same mask we just created\n",
    "for i in range(360):\n",
    "    mask[:,i] = (lat> trop) | (lat< (-1*trop))"
   ]
  },
  {
   "cell_type": "code",
   "execution_count": null,
   "metadata": {},
   "outputs": [],
   "source": [
    "plt.pcolormesh(mask)\n",
    "plt.colorbar()"
   ]
  },
  {
   "cell_type": "code",
   "execution_count": null,
   "metadata": {
    "collapsed": true
   },
   "outputs": [],
   "source": [
    "# take the mean SST and mask\n",
    "sst_trop = np.ma.masked_where(mask,sst_mean)\n"
   ]
  },
  {
   "cell_type": "code",
   "execution_count": null,
   "metadata": {},
   "outputs": [],
   "source": [
    "plt.figure(figsize=(18,5))\n",
    "plt.pcolormesh(lon,lat,sst_trop)\n",
    "plt.xlabel('Lon (Degrees E)', fontsize = 14)\n",
    "plt.ylabel('Lat', fontsize = 14)\n",
    "plt.colorbar()\n",
    "plt.title('1980 Annual Mean SST ($^o$C)', fontsize = 14)\n",
    "plt.ylim([-trop,trop+1])\n"
   ]
  },
  {
   "cell_type": "code",
   "execution_count": null,
   "metadata": {
    "collapsed": true
   },
   "outputs": [],
   "source": [
    "# if I want to change all of my plots:\n",
    "import matplotlib as mpl\n",
    "mpl.rcParams['font.size'] = 14\n",
    "# note this method changes tick mark font sizes as well"
   ]
  },
  {
   "cell_type": "code",
   "execution_count": null,
   "metadata": {},
   "outputs": [],
   "source": [
    "# now I don't have to put in all of the fontsize commands\n",
    "plt.figure(figsize=(17,5))\n",
    "plt.pcolormesh(lon,lat,sst_trop)\n",
    "plt.xlabel('Lon (Degrees E)')\n",
    "plt.ylabel('Lat')\n",
    "plt.colorbar()\n",
    "plt.title('1980 Annual Mean SST ($^o$C)')\n",
    "plt.ylim([-trop,trop+1])"
   ]
  },
  {
   "cell_type": "markdown",
   "metadata": {},
   "source": [
    "Exercise (#4 from last time): Mask out the tropics and plot again."
   ]
  },
  {
   "cell_type": "code",
   "execution_count": null,
   "metadata": {
    "collapsed": true
   },
   "outputs": [],
   "source": []
  },
  {
   "cell_type": "code",
   "execution_count": null,
   "metadata": {
    "collapsed": true
   },
   "outputs": [],
   "source": []
  },
  {
   "cell_type": "markdown",
   "metadata": {},
   "source": [
    "## Part 2: Finding data"
   ]
  },
  {
   "cell_type": "markdown",
   "metadata": {},
   "source": [
    "From #5: Find the grid cell closest to us. Plot the seasonal cycle of SST. "
   ]
  },
  {
   "cell_type": "markdown",
   "metadata": {},
   "source": [
    "The latitude of South Padre Island is 26.1118° N, 97.1681° W"
   ]
  },
  {
   "cell_type": "code",
   "execution_count": null,
   "metadata": {},
   "outputs": [],
   "source": [
    "lat"
   ]
  },
  {
   "cell_type": "code",
   "execution_count": null,
   "metadata": {},
   "outputs": [],
   "source": [
    "# use np.where to find elements that are greater than a given value\n",
    "np.where(lat>26.1118)\n",
    "# these are all the elements that are greater than 26"
   ]
  },
  {
   "cell_type": "code",
   "execution_count": null,
   "metadata": {},
   "outputs": [],
   "source": [
    "lat[116] # yes this is gerater than 26.1118"
   ]
  },
  {
   "cell_type": "markdown",
   "metadata": {},
   "source": [
    "### aside: finding values in a 2D array"
   ]
  },
  {
   "cell_type": "code",
   "execution_count": null,
   "metadata": {},
   "outputs": [],
   "source": [
    "# if we had a 2D array it would give us two arrays, one for each dimension\n",
    "np.where(sst_mean > 20)"
   ]
  },
  {
   "cell_type": "code",
   "execution_count": null,
   "metadata": {},
   "outputs": [],
   "source": [
    "# we can assign arrays to these indices where the constraint is true\n",
    "xind, yind = np.where(sst_mean > 20)"
   ]
  },
  {
   "cell_type": "code",
   "execution_count": null,
   "metadata": {},
   "outputs": [],
   "source": [
    "xind"
   ]
  },
  {
   "cell_type": "code",
   "execution_count": null,
   "metadata": {},
   "outputs": [],
   "source": [
    "yind"
   ]
  },
  {
   "cell_type": "code",
   "execution_count": null,
   "metadata": {},
   "outputs": [],
   "source": [
    "sst_mean[53,21] # yes this is greater than 20"
   ]
  },
  {
   "cell_type": "markdown",
   "metadata": {},
   "source": [
    "### back to the main problem"
   ]
  },
  {
   "cell_type": "code",
   "execution_count": null,
   "metadata": {},
   "outputs": [],
   "source": [
    "# where is better at nD arrays rather than 1D arrays, where it gives weirdly formatted output\n",
    "np.where(lat>26.1118)"
   ]
  },
  {
   "cell_type": "code",
   "execution_count": null,
   "metadata": {
    "collapsed": true
   },
   "outputs": [],
   "source": [
    "xind= np.where(lat>26.1118)"
   ]
  },
  {
   "cell_type": "code",
   "execution_count": null,
   "metadata": {
    "collapsed": true
   },
   "outputs": [],
   "source": [
    "# what kind of thing is xind?\n",
    "xind?"
   ]
  },
  {
   "cell_type": "code",
   "execution_count": null,
   "metadata": {},
   "outputs": [],
   "source": [
    "xind[0]\n",
    "# now we have an array"
   ]
  },
  {
   "cell_type": "code",
   "execution_count": null,
   "metadata": {},
   "outputs": [],
   "source": [
    "xind[0][0]"
   ]
  },
  {
   "cell_type": "code",
   "execution_count": null,
   "metadata": {},
   "outputs": [],
   "source": [
    "lat[xind[0][0]]"
   ]
  },
  {
   "cell_type": "code",
   "execution_count": null,
   "metadata": {},
   "outputs": [],
   "source": [
    "# note lon is 0 to 360 East\n",
    "# we want  97.1681° W = 360 - 97.1681 E\n",
    "mylon = 360 - 97.1681\n",
    "mylon"
   ]
  },
  {
   "cell_type": "code",
   "execution_count": null,
   "metadata": {},
   "outputs": [],
   "source": [
    "# same thing for lon\n",
    "np.where(lon > 262.8319)[0][0]"
   ]
  },
  {
   "cell_type": "code",
   "execution_count": null,
   "metadata": {},
   "outputs": [],
   "source": [
    "sst_mean.shape\n",
    "# remember this is lat by lon"
   ]
  },
  {
   "cell_type": "code",
   "execution_count": null,
   "metadata": {},
   "outputs": [],
   "source": [
    "sst_mean[116,263]\n",
    "# what is wrong here?"
   ]
  },
  {
   "cell_type": "code",
   "execution_count": null,
   "metadata": {},
   "outputs": [],
   "source": [
    "# let's try some investigative plotting\n",
    "plt.pcolormesh(lon,lat,sst_mean)\n",
    "plt.scatter(lon[263],lat[116])\n",
    "plt.xlim(250,300)\n",
    "plt.ylim(20,40)\n",
    "#yeah, that's on land"
   ]
  },
  {
   "cell_type": "code",
   "execution_count": null,
   "metadata": {},
   "outputs": [],
   "source": [
    "sst_mean[116,264]\n",
    "# move over one to offshore"
   ]
  },
  {
   "cell_type": "markdown",
   "metadata": {},
   "source": [
    "Exercise: Make a line plot of the montly temperature at this location\n",
    "\n",
    "1. Which month is it hottest? How hot is it?\n",
    "2. Which is it coldest? How cold is it?\n",
    "3. Now use max and min functions with np.where to find the above values"
   ]
  },
  {
   "cell_type": "code",
   "execution_count": null,
   "metadata": {
    "collapsed": true
   },
   "outputs": [],
   "source": []
  },
  {
   "cell_type": "markdown",
   "metadata": {},
   "source": [
    "## Part 3: Meshes"
   ]
  },
  {
   "cell_type": "markdown",
   "metadata": {},
   "source": [
    "See https://docs.scipy.org/doc/numpy/reference/generated/numpy.meshgrid.html"
   ]
  },
  {
   "cell_type": "markdown",
   "metadata": {},
   "source": [
    "Suppose we want to plot a 2D function. When we wanted to plot a 1D function we used an np.arange or np.linspace"
   ]
  },
  {
   "cell_type": "code",
   "execution_count": null,
   "metadata": {},
   "outputs": [],
   "source": [
    "x = np.linspace(-np.pi*2, np.pi*2, 50) # the x values to evaluate a function at\n",
    "\n",
    "# we can use the x values above to evaluate any function\n",
    "y1 = np.sin(x)\n",
    "y2 = 0.1* x**2 -1\n",
    "\n",
    "plt.plot(x,x, '.k')\n",
    "plt.plot(x,y1)\n",
    "plt.plot(x,y2)"
   ]
  },
  {
   "cell_type": "code",
   "execution_count": null,
   "metadata": {},
   "outputs": [],
   "source": [
    "# similarly\n",
    "#x = np.linspace(-np.pi*2, np.pi*2, 100) # the x values to evaluate a function at\n",
    "x = np.arange(-np.pi*2, np.pi*2, 0.5) # the x values to evaluate a function at\n",
    "\n",
    "# we can use the x values above to evaluate any function\n",
    "y1 = np.sin(x)\n",
    "y2 = 0.1* x**2 -1\n",
    "\n",
    "plt.plot(x,x,'k.')\n",
    "plt.plot(x,y1)\n",
    "plt.plot(x,y2)"
   ]
  },
  {
   "cell_type": "markdown",
   "metadata": {},
   "source": [
    "Exercise: In words, what is different about the arange and linspace x arrays? "
   ]
  },
  {
   "cell_type": "code",
   "execution_count": null,
   "metadata": {
    "collapsed": true
   },
   "outputs": [],
   "source": []
  },
  {
   "cell_type": "markdown",
   "metadata": {},
   "source": [
    "Now we want to plot a 2D function, so we need a point x and a point y to evaluate for every location on the 2D grid. "
   ]
  },
  {
   "cell_type": "code",
   "execution_count": null,
   "metadata": {
    "collapsed": true
   },
   "outputs": [],
   "source": [
    "x = np.linspace(-np.pi*2, np.pi*2, 50)\n",
    "y = np.linspace(-1,1,50)\n",
    "X,Y = np.meshgrid(x,y)"
   ]
  },
  {
   "cell_type": "markdown",
   "metadata": {},
   "source": [
    "Exercise: what are X and Y? Plot them"
   ]
  },
  {
   "cell_type": "code",
   "execution_count": null,
   "metadata": {
    "collapsed": true
   },
   "outputs": [],
   "source": []
  },
  {
   "cell_type": "markdown",
   "metadata": {},
   "source": [
    "We can use X and Y to evaluate a function"
   ]
  },
  {
   "cell_type": "code",
   "execution_count": null,
   "metadata": {},
   "outputs": [],
   "source": [
    "z = np.sin(X*Y)\n",
    "plt.pcolormesh(x,y,z) \n",
    "plt.colorbar()"
   ]
  },
  {
   "cell_type": "markdown",
   "metadata": {},
   "source": [
    "Note that in the above, x and y were used to plot z. We can also use X and Y"
   ]
  },
  {
   "cell_type": "code",
   "execution_count": null,
   "metadata": {},
   "outputs": [],
   "source": [
    "z = np.sin(X*Y)\n",
    "plt.pcolormesh(X,Y,z) \n",
    "plt.colorbar()"
   ]
  },
  {
   "cell_type": "markdown",
   "metadata": {},
   "source": [
    "Exercise: Could we use x and y to define z above? Why or why not?"
   ]
  },
  {
   "cell_type": "code",
   "execution_count": null,
   "metadata": {
    "collapsed": true
   },
   "outputs": [],
   "source": []
  },
  {
   "cell_type": "markdown",
   "metadata": {},
   "source": [
    "Exercise: Do exercises 3 and 4 above using meshgrids instead of for loops"
   ]
  },
  {
   "cell_type": "code",
   "execution_count": null,
   "metadata": {
    "collapsed": true
   },
   "outputs": [],
   "source": []
  }
 ],
 "metadata": {
  "kernelspec": {
   "display_name": "Python 3",
   "language": "python",
   "name": "python3"
  },
  "language_info": {
   "codemirror_mode": {
    "name": "ipython",
    "version": 3
   },
   "file_extension": ".py",
   "mimetype": "text/x-python",
   "name": "python",
   "nbconvert_exporter": "python",
   "pygments_lexer": "ipython3",
   "version": "3.6.3"
  }
 },
 "nbformat": 4,
 "nbformat_minor": 2
}
