{
 "cells": [
  {
   "cell_type": "markdown",
   "metadata": {},
   "source": [
    "# Lec 10.2 plotting shapefiles"
   ]
  },
  {
   "cell_type": "markdown",
   "metadata": {},
   "source": [
    "## Shape File Demo\n",
    "\n",
    "---\n",
    "\n",
    "Creator: Riley Brady\n",
    "Contact: riley.brady@colorado.edu\n",
    "\n",
    "---\n",
    "\n",
    "Download LME shapefiles here: http://lme.edc.uri.edu/index.php/digital-data/113-lme-polygon-boundaries\n",
    "\n",
    "---\n",
    "\n",
    "Package requirements:\n",
    "* numpy\n",
    "* geopandas\n",
    "* matplotlib\n",
    "* cartopy\n",
    "* descartes"
   ]
  },
  {
   "cell_type": "code",
   "execution_count": null,
   "metadata": {},
   "outputs": [],
   "source": [
    "import numpy as np\n",
    "import matplotlib.pyplot as plt\n",
    "%matplotlib inline\n",
    "import cartopy.crs as ccrs\n",
    "import cartopy.feature as cfeature\n",
    "import cartopy.mpl.ticker as cticker\n",
    "import geopandas as gpd"
   ]
  },
  {
   "cell_type": "markdown",
   "metadata": {},
   "source": [
    "### E1. Make sure the above packages all load in your environment"
   ]
  },
  {
   "cell_type": "markdown",
   "metadata": {},
   "source": [
    "all good? continue..."
   ]
  },
  {
   "cell_type": "markdown",
   "metadata": {},
   "source": [
    "## 1. Loading shapefiles in geopandas"
   ]
  },
  {
   "cell_type": "markdown",
   "metadata": {},
   "source": [
    "First we will load in a shapefile and look at the information in it"
   ]
  },
  {
   "cell_type": "code",
   "execution_count": null,
   "metadata": {},
   "outputs": [],
   "source": [
    "# function to load shapfiles in as a geopandas object\n",
    "def load_shape_file(filepath):\n",
    "    \"\"\"Loads the shape file desired to mask a grid.\n",
    "    Args:\n",
    "        filepath: Path to *.shp file\n",
    "    \"\"\"\n",
    "    shpfile = gpd.read_file(filepath)\n",
    "    return shpfile"
   ]
  },
  {
   "cell_type": "code",
   "execution_count": null,
   "metadata": {},
   "outputs": [],
   "source": [
    "shp = load_shape_file('/Users/chha5666/Documents/Clim_var/Fisheries_metric/Data/LME66/LMEs66.shp')\n",
    "shp.head() # .head gives you the first few lines, aka shapes"
   ]
  },
  {
   "cell_type": "code",
   "execution_count": null,
   "metadata": {},
   "outputs": [],
   "source": [
    "shp # this gives you all the shapes\n",
    "\n",
    "# watch out, #4 is a multi-polygon (a few separte polygons making up one shape)"
   ]
  },
  {
   "cell_type": "code",
   "execution_count": null,
   "metadata": {},
   "outputs": [],
   "source": [
    "# another way to view the same data (not as pretty)\n",
    "print(shp)"
   ]
  },
  {
   "cell_type": "markdown",
   "metadata": {},
   "source": [
    "### E2. What type of object is shp?"
   ]
  },
  {
   "cell_type": "code",
   "execution_count": null,
   "metadata": {},
   "outputs": [],
   "source": []
  },
  {
   "cell_type": "markdown",
   "metadata": {},
   "source": [
    "## 2. Plotting shapefiles using basemap"
   ]
  },
  {
   "cell_type": "markdown",
   "metadata": {},
   "source": [
    "Basemap is a mapping package in python that has been around for a while. It is being replaced by Cartopy, but the latter does not have all of the functionality yet. Your instructor uses it often to plot model data\n",
    "\n",
    "https://matplotlib.org/basemap/\n",
    "\n",
    "https://basemaptutorial.readthedocs.io/en/latest/\n",
    "\n"
   ]
  },
  {
   "cell_type": "code",
   "execution_count": null,
   "metadata": {},
   "outputs": [],
   "source": [
    "from mpl_toolkits.basemap import Basemap"
   ]
  },
  {
   "cell_type": "code",
   "execution_count": null,
   "metadata": {},
   "outputs": [],
   "source": [
    "# Basic plot in basemap\n",
    "\n",
    "ax = plt.figure(figsize=(16,20), facecolor = 'w')\n",
    "\n",
    "# limits of plot\n",
    "limN, limS, limE, limW = 84.,-80.,180,-180\n",
    "\n",
    "#m = Basemap(projection='hammer',lon_0=0)\n",
    "m = Basemap(projection='cyl', llcrnrlon=limW, \\\n",
    "      urcrnrlon=limE, llcrnrlat=limS, urcrnrlat=limN, resolution='c')\n",
    "m.drawcoastlines()\n",
    "m.drawmapboundary()\n",
    "m.fillcontinents(color='#BDA973', lake_color='#BDA973');"
   ]
  },
  {
   "cell_type": "code",
   "execution_count": null,
   "metadata": {},
   "outputs": [],
   "source": [
    "# add in some lat lon lines\n",
    "\n",
    "ax = plt.figure(figsize=(16,20), facecolor = 'w')\n",
    "\n",
    "# limits of plot\n",
    "limN, limS, limE, limW = 84.,-80.,180,-180\n",
    "\n",
    "#m = Basemap(projection='hammer',lon_0=0)\n",
    "m = Basemap(projection='cyl', llcrnrlon=limW, \\\n",
    "      urcrnrlon=limE, llcrnrlat=limS, urcrnrlat=limN, resolution='c')\n",
    "m.drawcoastlines()\n",
    "m.drawmapboundary()\n",
    "m.fillcontinents(color='#BDA973', lake_color='#BDA973');\n",
    "\n",
    "parallels = np.arange(-90.,90,20.)\n",
    "m.drawparallels(parallels,labels=[1,0,0,0],fontsize=10)\n",
    "# draw meridians\n",
    "meridians = np.arange(-180.,180.,20.)\n",
    "m.drawmeridians(meridians,labels=[0,0,0,1],fontsize=10);"
   ]
  },
  {
   "cell_type": "markdown",
   "metadata": {},
   "source": [
    "### E3. One at a time: a) Change the color of the land. b) Make the lakes blue. c) Change the resolution of the map. d) Zoom into Gulf of Mexico and make the lat lon grid better resolution for this region.\n",
    "\n",
    "\n",
    "see https://matplotlib.org/examples/color/named_colors.html for all the color names\n",
    "\n",
    "\n",
    "alternately you can use hex colors (which is what is used above): \n",
    "\n",
    "https://www.color-hex.com/color-palettes/\n",
    "\n",
    "http://colorbrewer2.org/#type=sequential&scheme=YlGnBu&n=6\n"
   ]
  },
  {
   "cell_type": "code",
   "execution_count": null,
   "metadata": {},
   "outputs": [],
   "source": []
  },
  {
   "cell_type": "markdown",
   "metadata": {},
   "source": [
    "### Plotting the shapefile"
   ]
  },
  {
   "cell_type": "code",
   "execution_count": null,
   "metadata": {},
   "outputs": [],
   "source": [
    "# for plotting the entire shapefile, we want the file name without the .shp extension\n",
    "sppath= '/Users/chha5666/Documents/Clim_var/Fisheries_metric/Data/LME66/LMEs66'"
   ]
  },
  {
   "cell_type": "code",
   "execution_count": null,
   "metadata": {},
   "outputs": [],
   "source": [
    "# plot in basemap with LME boundaries\n",
    "\n",
    "ax = plt.figure(figsize=(16,20), facecolor = 'w')\n",
    "\n",
    "# limits of plot\n",
    "limN, limS, limE, limW = 84.,-80.,180,-180\n",
    "\n",
    "\n",
    "#m = Basemap(projection='hammer',lon_0=0)\n",
    "m = Basemap(projection='cyl', llcrnrlon=limW, \\\n",
    "      urcrnrlon=limE, llcrnrlat=limS, urcrnrlat=limN, resolution='c')\n",
    "m.drawcoastlines()\n",
    "m.drawmapboundary()\n",
    "m.fillcontinents(color='#d8b365', lake_color='w')\n",
    "\n",
    "m.readshapefile(sppath, 'LME') # the second argument is a name for the shapefile data inside the shapefile \n",
    "\n",
    "# plot all the shapes in the shapefile (magic black box code off of stack exchange):\n",
    "for info, shape in zip(m.LME_info, m.LME):\n",
    "        x, y = zip(*shape) \n",
    "        m.plot(x, y, marker=None,color='k', linewidth = '2')       "
   ]
  },
  {
   "cell_type": "markdown",
   "metadata": {},
   "source": [
    "### E4. Change the color and the linewidth of the shapefile lines. "
   ]
  },
  {
   "cell_type": "code",
   "execution_count": null,
   "metadata": {},
   "outputs": [],
   "source": []
  },
  {
   "cell_type": "markdown",
   "metadata": {},
   "source": [
    "## 3. Plotting shapfile polygons using cartopy and descartes"
   ]
  },
  {
   "cell_type": "markdown",
   "metadata": {},
   "source": [
    "Cartopy is replacing Basemap as the map plotting package for python. It doesn't have all the functionality yet, but it is what the community is moving to so it's worth putting the time in to learn\n",
    "\n",
    "https://scitools.org.uk/cartopy/docs/latest/index.html\n",
    "\n",
    "https://scitools.org.uk/cartopy/docs/latest/gallery/index.html\n",
    "\n"
   ]
  },
  {
   "cell_type": "code",
   "execution_count": null,
   "metadata": {},
   "outputs": [],
   "source": [
    "# function to pick out one shape from the shapefile\n",
    "def select_shape(shpfile, category, name):\n",
    "    \"\"\"Select the submask of interest from the shapefile.\n",
    "    Args:\n",
    "        geopandas shpfile object: (from *.shp) loaded through `load_shape_file`\n",
    "        category: (str) header of shape file from which to filter shape.\n",
    "            (Run print(shpfile) to see options)\n",
    "        name: (str) name of shape relative to category.\n",
    "        plot: (optional bool) if True, plot the polygon that will be masking.\n",
    "    Returns:\n",
    "        shapely polygon\n",
    "    Example:\n",
    "        from esmask.mask import load_shape_file, select_shape\n",
    "        LME = load_shape_file('LMEs.shp')\n",
    "        CalCS = select_shape(LME, 'LME_NAME', 'California Current')\n",
    "    \"\"\"\n",
    "    s = shpfile\n",
    "    polygon = s[s[category] == name]\n",
    "    polygon = polygon.geometry[:].unary_union #magic black box off of stack exchange (should paste link), concatinating polygons\n",
    "    return polygon"
   ]
  },
  {
   "cell_type": "code",
   "execution_count": null,
   "metadata": {},
   "outputs": [],
   "source": [
    "# note the is using the \"LME_NAME\" category from the geopandas shapefile object\n",
    "CalCS_shp = select_shape(shp, 'LME_NAME', 'California Current')\n",
    "CalCS_shp"
   ]
  },
  {
   "cell_type": "markdown",
   "metadata": {},
   "source": [
    "### E5. What kind of object is CalCS_shp?"
   ]
  },
  {
   "cell_type": "code",
   "execution_count": null,
   "metadata": {},
   "outputs": [],
   "source": []
  },
  {
   "cell_type": "markdown",
   "metadata": {},
   "source": [
    "### E6. Make the same plot as above for a) the Gulf of Alaska and b) Labrador - Newfoundland LMEs"
   ]
  },
  {
   "cell_type": "code",
   "execution_count": null,
   "metadata": {},
   "outputs": [],
   "source": []
  },
  {
   "cell_type": "markdown",
   "metadata": {},
   "source": [
    "### Plot a single polygon in the shapefile as a patch on a map"
   ]
  },
  {
   "cell_type": "code",
   "execution_count": null,
   "metadata": {},
   "outputs": [],
   "source": [
    "# Riley's functions for making pretty map plots\n",
    "\n",
    "\n",
    "def lat_lon_formatter(ax):\n",
    "    \"\"\"\n",
    "    Creates nice latitude/longitude labels\n",
    "    for maps\n",
    "    \"\"\"\n",
    "    lon_formatter = cticker.LongitudeFormatter()\n",
    "    lat_formatter = cticker.LatitudeFormatter()\n",
    "    ax.xaxis.set_major_formatter(lon_formatter)\n",
    "    ax.yaxis.set_major_formatter(lat_formatter)\n",
    "    ax.tick_params(labelsize=16)\n",
    "    \n",
    "# the below function uses lat_lon_formatter above\n",
    "def set_up_map(ax, x0, x1, y0, y1):\n",
    "    \"\"\"\n",
    "    Adds coastline, etc.\n",
    "    \n",
    "    x0, x1: longitude bounds to zoom into\n",
    "    y0, y1: latitude bounds to zoom into\n",
    "    \"\"\"\n",
    "    # set up land overlay\n",
    "    ax.add_feature(cfeature.LAND, facecolor='k')\n",
    "    \n",
    "    # zoom in on region of interest\n",
    "    ax.set_extent([x0, x1, y0, y1])\n",
    "    \n",
    "    # set nicer looking ticks\n",
    "    ax.set_xticks(np.arange(x0, x1, 10), crs=ccrs.PlateCarree())\n",
    "    ax.set_yticks(np.arange(y0, y1, 10), crs=ccrs.PlateCarree())\n",
    "    lat_lon_formatter(ax)"
   ]
  },
  {
   "cell_type": "markdown",
   "metadata": {},
   "source": [
    "## California Current Demo"
   ]
  },
  {
   "cell_type": "markdown",
   "metadata": {},
   "source": [
    "First plot a basic map of the US west coast using cartopy"
   ]
  },
  {
   "cell_type": "code",
   "execution_count": null,
   "metadata": {},
   "outputs": [],
   "source": [
    "f, ax = plt.subplots(ncols=2, figsize=(10,5),\n",
    "                     subplot_kw=dict(projection=ccrs.PlateCarree())) # this last bit is the map projection from Cartopy\n",
    "set_up_map(ax[0], -140, -107, 20, 50)\n",
    "set_up_map(ax[1], -140, -107, 20, 50)"
   ]
  },
  {
   "cell_type": "markdown",
   "metadata": {},
   "source": [
    "### E7. How would you change the color of the land in the above? Try it"
   ]
  },
  {
   "cell_type": "code",
   "execution_count": null,
   "metadata": {},
   "outputs": [],
   "source": []
  },
  {
   "cell_type": "markdown",
   "metadata": {},
   "source": [
    "### Plot the California Current Large Marine Ecosystem polygon two ways"
   ]
  },
  {
   "cell_type": "code",
   "execution_count": null,
   "metadata": {},
   "outputs": [],
   "source": [
    "from descartes import PolygonPatch"
   ]
  },
  {
   "cell_type": "markdown",
   "metadata": {},
   "source": [
    "Descartes is an extension of shapely that allows one to plot shapefile objects as polygon patches in matplotlib plots\n",
    "\n",
    "https://pypi.org/project/descartes/"
   ]
  },
  {
   "cell_type": "code",
   "execution_count": null,
   "metadata": {},
   "outputs": [],
   "source": [
    "# look at the help files for PolygonPatch\n",
    "help(PolygonPatch)\n",
    "\n",
    "# here alpha is the transparency"
   ]
  },
  {
   "cell_type": "code",
   "execution_count": null,
   "metadata": {},
   "outputs": [],
   "source": [
    "f, ax = plt.subplots(ncols=2, figsize=(10,5),\n",
    "                     subplot_kw=dict(projection=ccrs.PlateCarree()))\n",
    "set_up_map(ax[0], -140, -107, 20, 50)\n",
    "set_up_map(ax[1], -140, -107, 20, 50)\n",
    "\n",
    "# add shapefile to map\n",
    "ax[0].add_patch(PolygonPatch(CalCS_shp, fc='#add8e6')) # Note PolygonPatch takes all the matplotlib commands\n",
    "# some other attributes to play around with\n",
    "ax[1].add_patch(PolygonPatch(CalCS_shp, fc='None', ec='r', linewidth=2,\n",
    "                             linestyle=':')) # fc= \"None is needed to make the inside of the shape transparent\""
   ]
  },
  {
   "cell_type": "code",
   "execution_count": null,
   "metadata": {},
   "outputs": [],
   "source": [
    "# let's plot them on top of each other\n",
    "\n",
    "fig= plt.figure(figsize=(5,5))\n",
    "ax = fig.add_subplot(1, 1, 1, projection=ccrs.PlateCarree())\n",
    "set_up_map(ax, -140, -107, 20, 50)\n",
    "\n",
    "# plot the shapefile in blue with a red dotted boundary\n",
    "ax.add_patch(PolygonPatch(CalCS_shp, fc='None', ec='r', linewidth=2,\n",
    "                             linestyle=':'))\n",
    "ax.add_patch(PolygonPatch(CalCS_shp, fc='#add8e6', ec = 'None', alpha = 1, zorder = 0))"
   ]
  },
  {
   "cell_type": "markdown",
   "metadata": {},
   "source": [
    "### E8. Change zorder to 10 in the last line above, and omit the ec statement. What changes? What happened?"
   ]
  },
  {
   "cell_type": "code",
   "execution_count": null,
   "metadata": {},
   "outputs": [],
   "source": []
  },
  {
   "cell_type": "markdown",
   "metadata": {},
   "source": [
    "### E9. Find the four East Pacific LMES and plot them in different colors on the same map"
   ]
  },
  {
   "cell_type": "code",
   "execution_count": null,
   "metadata": {},
   "outputs": [],
   "source": []
  },
  {
   "cell_type": "markdown",
   "metadata": {},
   "source": []
  }
 ],
 "metadata": {
  "kernelspec": {
   "display_name": "Python 3",
   "language": "python",
   "name": "python3"
  },
  "language_info": {
   "codemirror_mode": {
    "name": "ipython",
    "version": 3
   },
   "file_extension": ".py",
   "mimetype": "text/x-python",
   "name": "python",
   "nbconvert_exporter": "python",
   "pygments_lexer": "ipython3",
   "version": "3.7.2"
  },
  "toc": {
   "base_numbering": 1,
   "nav_menu": {},
   "number_sections": true,
   "sideBar": true,
   "skip_h1_title": false,
   "title_cell": "Table of Contents",
   "title_sidebar": "Contents",
   "toc_cell": false,
   "toc_position": {},
   "toc_section_display": true,
   "toc_window_display": false
  },
  "varInspector": {
   "cols": {
    "lenName": 16,
    "lenType": 16,
    "lenVar": 40
   },
   "kernels_config": {
    "python": {
     "delete_cmd_postfix": "",
     "delete_cmd_prefix": "del ",
     "library": "var_list.py",
     "varRefreshCmd": "print(var_dic_list())"
    },
    "r": {
     "delete_cmd_postfix": ") ",
     "delete_cmd_prefix": "rm(",
     "library": "var_list.r",
     "varRefreshCmd": "cat(var_dic_list()) "
    }
   },
   "types_to_exclude": [
    "module",
    "function",
    "builtin_function_or_method",
    "instance",
    "_Feature"
   ],
   "window_display": false
  }
 },
 "nbformat": 4,
 "nbformat_minor": 2
}
