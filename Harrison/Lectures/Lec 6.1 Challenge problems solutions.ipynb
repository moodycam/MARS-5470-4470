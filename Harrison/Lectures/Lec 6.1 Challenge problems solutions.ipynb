{
 "cells": [
  {
   "cell_type": "markdown",
   "metadata": {},
   "source": [
    "Lec 6.1 All Challenge Problems"
   ]
  },
  {
   "cell_type": "markdown",
   "metadata": {},
   "source": [
    "Using the 1980 monthly SST netcdf file we used last time:\n",
    "\n",
    "1. Take the annual mean and plot it with the correct lat and lon. Use a different colormap than the default. Add axes labels, a colorbar and title. In the title, include what the plotted variable is and the units.\n",
    "\n",
    "2. Take seasonal averages: DJF, etc. Plot the four seasons in a 2x2 plot of subplots, label each plot and put on one colorbar for all the plots, ends extended, with a min value of 0 and a max of 30. Make a descriptive supertitle (suptitle) for all the plots. Would it be correct to label these plots Winter, etc?\n",
    "\n",
    "3. Mask out regions outside of the tropics (google definition of tropics) and plot the annual mean again. Adjust the font size of your axes labels and title. Adjust the axis limits to be constrained to the data (i.e. no whitespace).\n",
    "\n",
    "4. Mask out the tropics and plot again.\n",
    "\n",
    "5. (Advanced) Find the grid cell closest to us. How big is this cell in square km and miles? Plot the seasonal cycle of SST. What are our local seasonal averages, according to this model? Annual Mean? Are they realistic? What data sources could you use to validate this?\n",
    "\n"
   ]
  },
  {
   "cell_type": "code",
   "execution_count": null,
   "metadata": {
    "collapsed": true
   },
   "outputs": [],
   "source": [
    "import numpy as np\n",
    "import matplotlib.pyplot as plt\n",
    "%matplotlib inline\n",
    "import xarray as xr"
   ]
  },
  {
   "cell_type": "code",
   "execution_count": null,
   "metadata": {
    "collapsed": true
   },
   "outputs": [],
   "source": [
    "data = xr.open_dataset('/Users/chha5666/Documents/Teaching/Intro_computing/Data/CESM.003.SST.1980.nc')\n",
    "\n",
    "# extract variables from the above netcdf file\n",
    "lat = np.array(data.lat)\n",
    "#lat\n",
    "lon = np.array(data.lon)\n",
    "# monthly sea surface temperature anamoly\n",
    "sst = np.array(data.SST)"
   ]
  },
  {
   "cell_type": "code",
   "execution_count": null,
   "metadata": {},
   "outputs": [],
   "source": [
    "data"
   ]
  },
  {
   "cell_type": "markdown",
   "metadata": {},
   "source": [
    "## 1. Annual Mean"
   ]
  },
  {
   "cell_type": "code",
   "execution_count": null,
   "metadata": {},
   "outputs": [],
   "source": [
    "# 1 take annual mean = mean over time\n",
    "sst_mean = np.mean(sst, axis = 0)"
   ]
  },
  {
   "cell_type": "code",
   "execution_count": null,
   "metadata": {
    "collapsed": true
   },
   "outputs": [],
   "source": [
    "np.mean?"
   ]
  },
  {
   "cell_type": "code",
   "execution_count": null,
   "metadata": {},
   "outputs": [],
   "source": [
    "plt.pcolormesh(lon,lat,sst_mean, cmap = 'jet')\n",
    "plt.xlabel('Lon (Degrees E)')\n",
    "plt.ylabel('Lat')\n",
    "plt.colorbar()\n",
    "plt.title('1980 Annual Mean SST ($^o$C)')"
   ]
  },
  {
   "cell_type": "markdown",
   "metadata": {},
   "source": [
    "## 2. Seasonal Averages"
   ]
  },
  {
   "cell_type": "markdown",
   "metadata": {},
   "source": [
    "We want four seasonal averages, starting with DJF = Dec,Jan, Feb"
   ]
  },
  {
   "cell_type": "code",
   "execution_count": null,
   "metadata": {},
   "outputs": [],
   "source": [
    "sst.shape"
   ]
  },
  {
   "cell_type": "code",
   "execution_count": null,
   "metadata": {},
   "outputs": [],
   "source": [
    "# december is the last index\n",
    "sst[(0,1,11),:,:].shape"
   ]
  },
  {
   "cell_type": "code",
   "execution_count": null,
   "metadata": {},
   "outputs": [],
   "source": [
    "winter_m = np.mean(sst[(0,1,11),:,:], axis = 0)"
   ]
  },
  {
   "cell_type": "code",
   "execution_count": null,
   "metadata": {},
   "outputs": [],
   "source": [
    "# check that this gets three months\n",
    "sst[3:3+3,:,:].shape"
   ]
  },
  {
   "cell_type": "code",
   "execution_count": null,
   "metadata": {},
   "outputs": [],
   "source": [
    "spring_m = np.mean(sst[2:2+3,:,:], axis = 0)\n",
    "summer_m = np.mean(sst[5:5+3,:,:], axis = 0)\n",
    "fall_m = np.mean(sst[8:8+3,:,:], axis = 0)"
   ]
  },
  {
   "cell_type": "code",
   "execution_count": null,
   "metadata": {},
   "outputs": [],
   "source": [
    "sstmin = 0\n",
    "sstmax = 30\n",
    "mycolor = 'Spectral_r'\n",
    "\n",
    "\n",
    "fig, myax = plt.subplots(figsize=(12,8), nrows=2, ncols=2, sharex=True,sharey=True)\n",
    "im = myax[0,0].pcolormesh(lon,lat,winter_m, vmin = sstmin, vmax = sstmax, cmap = mycolor)\n",
    "myax[0,0].set_title('DJF SST')\n",
    "\n",
    "im = myax[0,1].pcolormesh(lon,lat,spring_m, vmin = sstmin, vmax = sstmax, cmap = mycolor)\n",
    "myax[0,1].set_title('MAM SST')\n",
    "\n",
    "im = myax[1,0].pcolormesh(lon,lat,summer_m, vmin = sstmin, vmax = sstmax, cmap = mycolor)\n",
    "myax[1,0].set_title('JJA SST')\n",
    "\n",
    "im = myax[1,1].pcolormesh(lon,lat,fall_m, vmin = sstmin, vmax = sstmax, cmap = mycolor)\n",
    "myax[1,1].set_title('SON SST')\n",
    "\n",
    "fig.colorbar(im, ax = myax, extend = 'both')\n",
    "\n",
    "fig.suptitle('1980 Seasonal Sea Surface Temperature ($^o$C)')"
   ]
  },
  {
   "cell_type": "markdown",
   "metadata": {},
   "source": [
    "## 3. Mask out regions outside the tropics"
   ]
  },
  {
   "cell_type": "markdown",
   "metadata": {},
   "source": [
    "The tropics are north and south of 23.4368° (Wikipedia)"
   ]
  },
  {
   "cell_type": "code",
   "execution_count": null,
   "metadata": {},
   "outputs": [],
   "source": [
    "lat.shape"
   ]
  },
  {
   "cell_type": "code",
   "execution_count": null,
   "metadata": {},
   "outputs": [],
   "source": [
    "lat"
   ]
  },
  {
   "cell_type": "code",
   "execution_count": null,
   "metadata": {},
   "outputs": [],
   "source": [
    "# make a mask using the lat array\n",
    "\n",
    "trop = 23.4368\n",
    "\n",
    "(lat> trop) | (lat< (-1*trop))"
   ]
  },
  {
   "cell_type": "code",
   "execution_count": null,
   "metadata": {
    "collapsed": true
   },
   "outputs": [],
   "source": [
    "# the easiest way to do this is to make a mask array that is the same size as the mean sst array\n",
    "mask = np.zeros_like(sst_mean)"
   ]
  },
  {
   "cell_type": "code",
   "execution_count": null,
   "metadata": {},
   "outputs": [],
   "source": [
    "mask.shape\n",
    "# we want every longitude, all 360, to have the same mask we just created"
   ]
  },
  {
   "cell_type": "code",
   "execution_count": null,
   "metadata": {},
   "outputs": [],
   "source": [
    "for i in range(360):\n",
    "    mask[:,i] = (lat> trop) | (lat< (-1*trop))"
   ]
  },
  {
   "cell_type": "code",
   "execution_count": null,
   "metadata": {},
   "outputs": [],
   "source": [
    "plt.pcolormesh(mask)\n",
    "plt.colorbar()"
   ]
  },
  {
   "cell_type": "code",
   "execution_count": null,
   "metadata": {},
   "outputs": [],
   "source": [
    "# take the mean SST and mask\n",
    "\n",
    "sst_trop = np.ma.masked_where(mask,sst_mean)"
   ]
  },
  {
   "cell_type": "code",
   "execution_count": null,
   "metadata": {},
   "outputs": [],
   "source": [
    "plt.figure(figsize=(17,5))\n",
    "plt.pcolormesh(lon,lat,sst_trop)\n",
    "plt.xlabel('Lon (Degrees E)', fontsize = 14)\n",
    "plt.ylabel('Lat', fontsize = 14)\n",
    "plt.colorbar()\n",
    "plt.title('1980 Annual Mean SST ($^o$C)', fontsize = 14)\n",
    "plt.ylim([-trop,trop+1])"
   ]
  },
  {
   "cell_type": "code",
   "execution_count": null,
   "metadata": {
    "collapsed": true
   },
   "outputs": [],
   "source": [
    "import matplotlib as mpl\n",
    "mpl.rcParams['font.size'] = 14\n",
    "# note this method changes tick mark font sizes as well"
   ]
  },
  {
   "cell_type": "code",
   "execution_count": null,
   "metadata": {},
   "outputs": [],
   "source": [
    "plt.figure(figsize=(17,5))\n",
    "plt.pcolormesh(lon,lat,sst_trop)\n",
    "plt.xlabel('Lon (Degrees E)')\n",
    "plt.ylabel('Lat')\n",
    "plt.colorbar()\n",
    "plt.title('1980 Annual Mean SST ($^o$C)')\n",
    "plt.ylim([-trop,trop+1])"
   ]
  },
  {
   "cell_type": "markdown",
   "metadata": {},
   "source": [
    "## 4. Mask out the tropics and plot again"
   ]
  },
  {
   "cell_type": "code",
   "execution_count": null,
   "metadata": {
    "collapsed": true
   },
   "outputs": [],
   "source": [
    "mask2 = np.zeros_like (mask)\n",
    "for i in range(360):\n",
    "    mask2[:,i] = (lat< trop) & (lat> (-1*trop))"
   ]
  },
  {
   "cell_type": "code",
   "execution_count": null,
   "metadata": {},
   "outputs": [],
   "source": [
    "plt.pcolormesh(mask2)\n",
    "plt.colorbar()"
   ]
  },
  {
   "cell_type": "code",
   "execution_count": null,
   "metadata": {},
   "outputs": [],
   "source": [
    "#plt.figure(figsize=(17,5))\n",
    "plt.pcolormesh(lon,lat,np.ma.masked_where(mask2,sst_mean))\n",
    "plt.xlabel('Lon (Degrees E)')\n",
    "plt.ylabel('Lat')\n",
    "plt.colorbar()\n",
    "plt.title('1980 Annual Mean SST ($^o$C)')"
   ]
  },
  {
   "cell_type": "code",
   "execution_count": null,
   "metadata": {
    "collapsed": true
   },
   "outputs": [],
   "source": []
  }
 ],
 "metadata": {
  "kernelspec": {
   "display_name": "Python 3",
   "language": "python",
   "name": "python3"
  },
  "language_info": {
   "codemirror_mode": {
    "name": "ipython",
    "version": 3
   },
   "file_extension": ".py",
   "mimetype": "text/x-python",
   "name": "python",
   "nbconvert_exporter": "python",
   "pygments_lexer": "ipython3",
   "version": "3.6.3"
  }
 },
 "nbformat": 4,
 "nbformat_minor": 2
}
