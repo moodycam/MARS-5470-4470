{
 "cells": [
  {
   "cell_type": "markdown",
   "metadata": {},
   "source": [
    "# Lec 11.1 Machine learning 1"
   ]
  },
  {
   "cell_type": "markdown",
   "metadata": {},
   "source": [
    "# Introduction"
   ]
  },
  {
   "cell_type": "markdown",
   "metadata": {},
   "source": [
    "Machine Learning has emerged as an important tool accross the scientific diciplines. We allready have encountered machine learning in fitting lines to data in Lec 9.1. In the tutorial we covered, we split the data into a training set and a prediction set, a very common methodology in machine learning.\n",
    "\n",
    "The most commonly used package for machine learning is scikit-learn, which we will play around with this week.\n",
    "\n",
    "There are a number of types of machine learning algorithms, aka \"estimators\". Click on this link:\n",
    "https://scikit-learn.org/stable/tutorial/machine_learning_map/\n",
    "\n",
    "These can be divided up into:\n",
    "\n",
    "1) Regression, which we did with line fitting. This involves finding the best fit parameters for some model.\n",
    "\n",
    "2) Clustering, which groups data by some similarity criterion (e.g., all large green birds vs. all small red birds)\n",
    "\n",
    "3) Dimensionality reduction, which breaks data, usually timesries data, into principle components. Fourier decomposition is an example of this\n",
    "\n",
    "4) Classification. What is the difference between this and clustering? Something about if you are trying to predict instead of just describe. \n",
    "\n",
    "See also: https://scikit-learn.org/stable/tutorial/basic/tutorial.html\n",
    "\n"
   ]
  },
  {
   "cell_type": "markdown",
   "metadata": {},
   "source": [
    "# Exercises"
   ]
  },
  {
   "cell_type": "markdown",
   "metadata": {},
   "source": [
    "To start, we are folling the tutorial here: https://www.dataquest.io/blog/sci-kit-learn-tutorial/\n",
    "        \n",
    "This goes through a number of estimator methods shallowly, but gives you a good idea of how to get your data in a state to interface with sklearn and how to use the different methods\n",
    "\n",
    "## Skip the visualization part and the end of the tutorial\n",
    "\n",
    "Unless you want to fiddle around with trying to get yellowbrick installed\n",
    "\n",
    "We will go over visualization next lecture\n"
   ]
  },
  {
   "cell_type": "markdown",
   "metadata": {},
   "source": [
    "### E1. What does the despine function do? How useful is this?"
   ]
  },
  {
   "cell_type": "code",
   "execution_count": null,
   "metadata": {},
   "outputs": [],
   "source": []
  },
  {
   "cell_type": "markdown",
   "metadata": {},
   "source": [
    "### E2. Change the font size in the violin plots."
   ]
  },
  {
   "cell_type": "code",
   "execution_count": null,
   "metadata": {},
   "outputs": [],
   "source": []
  },
  {
   "cell_type": "markdown",
   "metadata": {},
   "source": [
    "### E3. Is the Label Encoder case sensitive? Show some code that demonstrates"
   ]
  },
  {
   "cell_type": "code",
   "execution_count": null,
   "metadata": {},
   "outputs": [],
   "source": []
  },
  {
   "cell_type": "markdown",
   "metadata": {},
   "source": [
    "### E4. The tutorial suggests you write over your original data, changing the text to numerical data. Suppose you wanted to keep the classification text info, linking the numerical and text information. How would you do this?"
   ]
  },
  {
   "cell_type": "code",
   "execution_count": null,
   "metadata": {},
   "outputs": [],
   "source": []
  },
  {
   "cell_type": "markdown",
   "metadata": {},
   "source": [
    "### E5 Explain how the cols for loop works. What does this piece of code do? How does it do it?"
   ]
  },
  {
   "cell_type": "code",
   "execution_count": null,
   "metadata": {},
   "outputs": [],
   "source": []
  },
  {
   "cell_type": "markdown",
   "metadata": {},
   "source": [
    "### E6. What is the random_state in the train_test_split function? Hint: use the help files"
   ]
  },
  {
   "cell_type": "code",
   "execution_count": null,
   "metadata": {},
   "outputs": [],
   "source": []
  },
  {
   "cell_type": "markdown",
   "metadata": {},
   "source": [
    "### E7. What are the sizes of the data and target training and testing variables? What would you change to have 80% of the data used for training?"
   ]
  },
  {
   "cell_type": "code",
   "execution_count": null,
   "metadata": {},
   "outputs": [],
   "source": []
  },
  {
   "cell_type": "markdown",
   "metadata": {},
   "source": [
    "### E8. What does the Naive-Bayes accuracy mean? How do you interperet this? How would this business use the information?"
   ]
  },
  {
   "cell_type": "code",
   "execution_count": null,
   "metadata": {},
   "outputs": [],
   "source": []
  }
 ],
 "metadata": {
  "kernelspec": {
   "display_name": "Python 3",
   "language": "python",
   "name": "python3"
  },
  "language_info": {
   "codemirror_mode": {
    "name": "ipython",
    "version": 3
   },
   "file_extension": ".py",
   "mimetype": "text/x-python",
   "name": "python",
   "nbconvert_exporter": "python",
   "pygments_lexer": "ipython3",
   "version": "3.7.1"
  }
 },
 "nbformat": 4,
 "nbformat_minor": 2
}
