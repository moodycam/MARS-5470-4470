{
 "cells": [
  {
   "cell_type": "markdown",
   "metadata": {},
   "source": [
    "# Lec 10.1 Predator Prey Modeling"
   ]
  },
  {
   "cell_type": "markdown",
   "metadata": {},
   "source": [
    "See original here: \n",
    "\n",
    "https://github.com/numerical-mooc/assignment-bank/blob/master/Lessons.and.Assignments/Predator.Prey.Model/Predator.Prey.Model.ipynb\n",
    "\n",
    "For a more advanced example in predator prey modeling:\n",
    "\n",
    "https://waterprogramming.wordpress.com/tag/predator-prey/\n",
    "\n",
    "Modeling the zombie aplocalypse:\n",
    "\n",
    "https://scipy-cookbook.readthedocs.io/items/Zombie_Apocalypse_ODEINT.html\n"
   ]
  },
  {
   "cell_type": "markdown",
   "metadata": {},
   "source": [
    "##  Lotka-Volterra Equations"
   ]
  },
  {
   "cell_type": "markdown",
   "metadata": {},
   "source": [
    "The Lotka–Volterra equations, also known as the predator–prey equations, are a pair of first-order, non-linear, differential\n",
    "equations. They are frequently used to describe the dynamics of biological systems in which two species interact, one as a predator and\n",
    "the other as prey. You can read more about this from Wikipedia <http://en.wikipedia.org/wiki/Lotka-Volterra_equation>."
   ]
  },
  {
   "cell_type": "markdown",
   "metadata": {},
   "source": [
    "### Equations describing the system"
   ]
  },
  {
   "cell_type": "markdown",
   "metadata": {},
   "source": [
    " Their populations change with time according to the following pair of equations:\n",
    "\n",
    "$ dx/dt = x ( \\alpha - \\beta y  ) $\n",
    "\n",
    "$ dy/dt = -y( \\gamma - \\delta x ) $\n",
    "\n",
    "Where, $x$ is the number of prey (say rabbits), $y$ is the number of predators (say foxes). $dx/dt, dy/dt$ gives the rate of change of their respective populations over \n",
    "time $t$. $\\alpha, \\beta, \\gamma, \\delta $ are the parameters describing the interaction between the two species. This models makes some assumptions about \n",
    "the predator and prey. You can read about them from the Wikipedia page mentioned above."
   ]
  },
  {
   "cell_type": "markdown",
   "metadata": {},
   "source": [
    "The above equations can be written in a slightly different form to interpret the physical meaning of the four parameters used.\n",
    "\n",
    "1.Equation for prey\n",
    "\n",
    "$dx/dt = \\alpha x - \\beta x y $\n",
    "\n",
    "The prey are supposed to have unlimited supply of food and $\\alpha x$ represents the rate of population growth of prey. Rate of decrease of population of prey is \n",
    "assumed to be proportional to the rate at which predator and prey meet and is given by $ \\beta y x$\n",
    "\n",
    "2.Equation for predator\n",
    "\n",
    "$ dy/dt = \\delta x y -\\gamma y $\n",
    "\n",
    "For the predators, $\\delta x y $ gives the rate of growth of predator population. Note that this is similar to the rate of decrease of population of prey. The second term\n",
    "$\\gamma y $ gives the rate of population decrease for predators due to natural death or emigration."
   ]
  },
  {
   "cell_type": "markdown",
   "metadata": {},
   "source": [
    "### Numerical solution using Python"
   ]
  },
  {
   "cell_type": "markdown",
   "metadata": {},
   "source": [
    "A simple python code for solving these equations is shown below."
   ]
  },
  {
   "cell_type": "code",
   "execution_count": null,
   "metadata": {},
   "outputs": [],
   "source": [
    "# importrequired libraries\n",
    "import numpy\n",
    "import matplotlib.pyplot as plt\n",
    "%matplotlib inline"
   ]
  },
  {
   "cell_type": "code",
   "execution_count": null,
   "metadata": {},
   "outputs": [],
   "source": [
    "# set the initial parameters\n",
    "alpha = 1.\n",
    "beta = 1.2\n",
    "gamma = 4.\n",
    "delta = 1."
   ]
  },
  {
   "cell_type": "code",
   "execution_count": null,
   "metadata": {},
   "outputs": [],
   "source": [
    "#define the time stepping scheme - euler forward, as used in earlier lessons\n",
    "def euler_step(u, f, dt):\n",
    "    \"\"\"Returns the solution at the next time-step using Euler's method.\n",
    "    \n",
    "    Parameters\n",
    "    ----------\n",
    "    u : array of float\n",
    "        solution at the previous time-step.\n",
    "    f : function\n",
    "        function to compute the right hand-side of the system of equation.\n",
    "    dt : float\n",
    "        time-increment.\n",
    "    \n",
    "    Returns\n",
    "    -------\n",
    "    u_n_plus_1 : array of float\n",
    "        approximate solution at the next time step.\n",
    "    \"\"\"\n",
    "    \n",
    "    return u + dt * f(u)"
   ]
  },
  {
   "cell_type": "code",
   "execution_count": null,
   "metadata": {},
   "outputs": [],
   "source": [
    "# define the function that represents the Lotka-Volterra equations\n",
    "def f(u):\n",
    "    \"\"\"Returns the rate of change of species numbers.\n",
    "    \n",
    "    Parameters\n",
    "    ----------\n",
    "    u : array of float\n",
    "        array containing the solution at time n.\n",
    "        \n",
    "    Returns\n",
    "    -------\n",
    "    dudt : array of float\n",
    "        array containing the RHS given u.\n",
    "    \"\"\"\n",
    "    x = u[0]\n",
    "    y = u[1]\n",
    "    return numpy.array([x*(alpha - beta*y), -y*(gamma - delta*x)])"
   ]
  },
  {
   "cell_type": "code",
   "execution_count": null,
   "metadata": {},
   "outputs": [],
   "source": [
    "# set time-increment and discretize the time\n",
    "T  = 15.0                           # final time\n",
    "dt = 0.01                           # set time-increment\n",
    "N  = int(T/dt) + 1                  # number of time-steps\n",
    "x0 = 10.\n",
    "y0 = 2.\n",
    "t0 = 0.\n",
    "\n",
    "# set initial conditions\n",
    "u_euler = numpy.empty((N, 2))\n",
    "\n",
    "# initialize the array containing the solution for each time-step\n",
    "u_euler[0] = numpy.array([x0, y0])\n",
    "\n",
    "# use a for loop to call the function rk2_step()\n",
    "for n in range(N-1):\n",
    "    \n",
    "    u_euler[n+1] = euler_step(u_euler[n], f, dt)"
   ]
  },
  {
   "cell_type": "code",
   "execution_count": null,
   "metadata": {},
   "outputs": [],
   "source": [
    "time = numpy.linspace(0.0, T,N)\n",
    "x_euler = u_euler[:,0]\n",
    "y_euler = u_euler[:,1]"
   ]
  },
  {
   "cell_type": "markdown",
   "metadata": {},
   "source": [
    "We will now plot the variation of population for each species with time."
   ]
  },
  {
   "cell_type": "code",
   "execution_count": null,
   "metadata": {},
   "outputs": [],
   "source": [
    "plt.plot(time, x_euler, label = 'prey ')\n",
    "plt.plot(time, y_euler, label = 'predator')\n",
    "plt.legend(loc='upper right')\n",
    "#labels\n",
    "plt.xlabel(\"time\")\n",
    "plt.ylabel(\"number of each species\")\n",
    "#title\n",
    "plt.title(\"predator prey model\")"
   ]
  },
  {
   "cell_type": "markdown",
   "metadata": {},
   "source": [
    "## System behaviour"
   ]
  },
  {
   "cell_type": "markdown",
   "metadata": {},
   "source": [
    "A better understanding of the system behaviour can be obtained by a phase plot of the population of predators vs. the population of prey. It will tell us if the system sustains or collapses over time. For the choice of parameters $ \\alpha, \\beta, \\gamma $ and $ \\delta $ made above, we see that the maximum population of each species keeps increasing each cycle. You can read more about that in the Wikipedia link mentioned above."
   ]
  },
  {
   "cell_type": "code",
   "execution_count": null,
   "metadata": {},
   "outputs": [],
   "source": [
    "plt.plot(x_euler, y_euler, '-->', markevery=5, label = 'phase plot')\n",
    "plt.legend(loc='upper right')\n",
    "#labels\n",
    "plt.xlabel(\"number of prey\")\n",
    "plt.ylabel(\"number of predators\")\n",
    "#title\n",
    "plt.title(\"predator prey model\")"
   ]
  },
  {
   "cell_type": "code",
   "execution_count": null,
   "metadata": {},
   "outputs": [],
   "source": []
  },
  {
   "cell_type": "markdown",
   "metadata": {},
   "source": [
    "## E.1 \n",
    "Plot the fixed point (steady populations) of the system on both the timeseries and phase space plots. Describe where the fixed point is in the phase space plot."
   ]
  },
  {
   "cell_type": "code",
   "execution_count": null,
   "metadata": {},
   "outputs": [],
   "source": []
  },
  {
   "cell_type": "code",
   "execution_count": null,
   "metadata": {},
   "outputs": [],
   "source": []
  },
  {
   "cell_type": "markdown",
   "metadata": {},
   "source": [
    "## E.2 \n",
    "Vary the interactions between species by changing $\\alpha, \\beta, \\gamma, \\delta$ and see what happens to the population evolution as well as phase plots."
   ]
  },
  {
   "cell_type": "code",
   "execution_count": null,
   "metadata": {},
   "outputs": [],
   "source": []
  },
  {
   "cell_type": "code",
   "execution_count": null,
   "metadata": {},
   "outputs": [],
   "source": []
  },
  {
   "cell_type": "code",
   "execution_count": null,
   "metadata": {},
   "outputs": [],
   "source": []
  },
  {
   "cell_type": "markdown",
   "metadata": {},
   "source": [
    "## Another time stepping method with higher order of accuracy"
   ]
  },
  {
   "cell_type": "markdown",
   "metadata": {},
   "source": [
    "## E.3\n",
    "Do the same exercise with a fourth order time stepping method called \"Runge-Kutta 4\" whose algorithm is given below. Do your answers differ?"
   ]
  },
  {
   "cell_type": "code",
   "execution_count": null,
   "metadata": {},
   "outputs": [],
   "source": [
    "def RK4(u,f,dt):\n",
    "    # Runge Kutta 4th order method\n",
    "    \"\"\"Returns the solution at the next time-step using Runge Kutta fourth order (RK4) method.\n",
    "    \n",
    "    Parameters\n",
    "    ----------\n",
    "    u : array of float\n",
    "        solution at the previous time-step.\n",
    "    f : function\n",
    "        function to compute the right hand-side of the system of equation.\n",
    "    dt : float\n",
    "        time-increment.\n",
    "    \n",
    "    Returns\n",
    "    -------\n",
    "    u_n_plus_1 : array of float\n",
    "        approximate solution at the next time step.\n",
    "    \"\"\"\n",
    "    #calculate slopes\n",
    "    k1 = f(u)\n",
    "    u1 = u + (dt/2.)*k1\n",
    "    k2 = f(u1)\n",
    "    u2 = u + (dt/2.)*k2\n",
    "    k3 = f(u2)\n",
    "    u3 = u + dt*k3\n",
    "    k4 = f(u3)\n",
    "    return u + (dt/6.)*(k1 + 2.*k2 + 2.*k3 + k4)"
   ]
  },
  {
   "cell_type": "code",
   "execution_count": null,
   "metadata": {},
   "outputs": [],
   "source": []
  },
  {
   "cell_type": "markdown",
   "metadata": {},
   "source": [
    "## E.4 (Advanced)\n",
    "Modify the differential equations to include other types of interactions. See advanced predator prey example at the top for ideas. Or do the zombie apocalypse example"
   ]
  },
  {
   "cell_type": "code",
   "execution_count": null,
   "metadata": {},
   "outputs": [],
   "source": []
  },
  {
   "cell_type": "code",
   "execution_count": null,
   "metadata": {},
   "outputs": [],
   "source": []
  }
 ],
 "metadata": {
  "kernelspec": {
   "display_name": "Python 3",
   "language": "python",
   "name": "python3"
  },
  "language_info": {
   "codemirror_mode": {
    "name": "ipython",
    "version": 3
   },
   "file_extension": ".py",
   "mimetype": "text/x-python",
   "name": "python",
   "nbconvert_exporter": "python",
   "pygments_lexer": "ipython3",
   "version": "3.7.1"
  }
 },
 "nbformat": 4,
 "nbformat_minor": 1
}
