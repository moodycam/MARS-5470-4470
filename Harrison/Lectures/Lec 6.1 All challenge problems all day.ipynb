{
 "cells": [
  {
   "cell_type": "markdown",
   "metadata": {},
   "source": [
    "Lec 6.1 All Challenge Problems"
   ]
  },
  {
   "cell_type": "markdown",
   "metadata": {},
   "source": [
    "Using the 1980 monthly SST netcdf file we used last time:\n",
    "\n",
    "1. Take the annual mean and plot it with the correct lat and lon. Use a different colormap than the default. Add axes labels, a colorbar and title. In the title, include what the plotted variable is and the units.\n",
    "\n",
    "2. Take seasonal averages: DJF, etc. Plot the four seasons in a 2x2 plot of subplots, label each plot and put on one colorbar for all the plots, ends extended, with a min value of 0 and a max of 30. Make a descriptive supertitle (suptitle) for all the plots. Would it be correct to label these plots Winter, etc?\n",
    "\n",
    "3. Mask out regions outside of the tropics (google definition of tropics) and plot the annual mean again. Adjust the font size of your axes labels and title. Adjust the axis limits to be constrained to the data (i.e. no whitespace).\n",
    "\n",
    "4. Mask out the tropics and plot again.\n",
    "\n",
    "5. (Advanced) Find the grid cell closest to us. How big is this cell in square km and miles? Plot the seasonal cycle of SST. What are our local seasonal averages, according to this model? Annual Mean? Are they realistic? What data sources could you use to validate this?\n"
   ]
  },
  {
   "cell_type": "code",
   "execution_count": null,
   "metadata": {
    "collapsed": true
   },
   "outputs": [],
   "source": []
  }
 ],
 "metadata": {
  "kernelspec": {
   "display_name": "Python 3",
   "language": "python",
   "name": "python3"
  },
  "language_info": {
   "codemirror_mode": {
    "name": "ipython",
    "version": 3
   },
   "file_extension": ".py",
   "mimetype": "text/x-python",
   "name": "python",
   "nbconvert_exporter": "python",
   "pygments_lexer": "ipython3",
   "version": "3.6.3"
  }
 },
 "nbformat": 4,
 "nbformat_minor": 2
}
