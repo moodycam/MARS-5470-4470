{
 "cells": [
  {
   "cell_type": "markdown",
   "metadata": {},
   "source": [
    "fibonocci problem: \n",
    "Print out first n fibonacci numbers\n",
    "\n",
    "Plan:\n",
    "- have the user enter a number of numbers to print out\n",
    "- have a while loop that counts down an prints out a number each time"
   ]
  },
  {
   "cell_type": "code",
   "execution_count": 10,
   "metadata": {},
   "outputs": [
    {
     "name": "stdout",
     "output_type": "stream",
     "text": [
      "1\n",
      "1\n",
      "2\n",
      "3\n",
      "5\n",
      "8\n",
      "13\n",
      "21\n",
      "34\n",
      "55\n",
      "89\n",
      "144\n",
      "233\n",
      "377\n",
      "610\n",
      "987\n",
      "1597\n",
      "2584\n",
      "4181\n",
      "6765\n"
     ]
    }
   ],
   "source": [
    "fib1 = 0; fib2 = 1;\n",
    "\n",
    "counter= 20\n",
    "\n",
    "print(fib2)\n",
    "while counter>1:\n",
    "    #print('counter ='+ str(counter))\n",
    "    #print('fib1 =' + str(fib1))\n",
    "    #print('fib2 =' + str(fib2))\n",
    "    # add the previous two numbers and print\n",
    "    print(fib2+fib1)\n",
    "    # replace numbers for next loop\n",
    "    # save the new number to go into fib2\n",
    "    temp = fib2 + fib1\n",
    "    # put fib2 into fib1\n",
    "    fib1 = fib2\n",
    "    # put new number in fib2\n",
    "    fib2 = temp\n",
    "    #counter = counter -1\n",
    "    counter -= 1\n",
    "    "
   ]
  },
  {
   "cell_type": "code",
   "execution_count": 11,
   "metadata": {},
   "outputs": [],
   "source": [
    "def print_fib(counter):\n",
    "\n",
    "    fib1 = 0; fib2 = 1;\n",
    "    print(fib2)\n",
    "    while counter>1:\n",
    "        #print('counter ='+ str(counter))\n",
    "        #print('fib1 =' + str(fib1))\n",
    "        #print('fib2 =' + str(fib2))\n",
    "        # add the previous two numbers and print\n",
    "        print(fib2+fib1)\n",
    "        # replace numbers for next loop\n",
    "        # save the new number to go into fib2\n",
    "        temp = fib2 + fib1\n",
    "        # put fib2 into fib1\n",
    "        fib1 = fib2\n",
    "        # put new number in fib2\n",
    "        fib2 = temp\n",
    "        #counter = counter -1\n",
    "        counter -= 1\n"
   ]
  },
  {
   "cell_type": "code",
   "execution_count": 15,
   "metadata": {},
   "outputs": [
    {
     "name": "stdout",
     "output_type": "stream",
     "text": [
      "How many do you want?10\n",
      "1\n",
      "1\n",
      "2\n",
      "3\n",
      "5\n",
      "8\n",
      "13\n",
      "21\n",
      "34\n",
      "55\n"
     ]
    }
   ],
   "source": [
    "counter = input(\"How many do you want?\")\n",
    "print_fib(int(counter))"
   ]
  },
  {
   "cell_type": "code",
   "execution_count": null,
   "metadata": {},
   "outputs": [],
   "source": []
  }
 ],
 "metadata": {
  "kernelspec": {
   "display_name": "Python 3",
   "language": "python",
   "name": "python3"
  },
  "language_info": {
   "codemirror_mode": {
    "name": "ipython",
    "version": 3
   },
   "file_extension": ".py",
   "mimetype": "text/x-python",
   "name": "python",
   "nbconvert_exporter": "python",
   "pygments_lexer": "ipython3",
   "version": "3.7.0"
  }
 },
 "nbformat": 4,
 "nbformat_minor": 2
}
