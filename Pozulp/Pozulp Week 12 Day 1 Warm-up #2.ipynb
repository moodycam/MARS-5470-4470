{
 "cells": [
  {
   "cell_type": "markdown",
   "metadata": {},
   "source": [
    "# Plot Colormap using SUM_GIS_LEM\n",
    "Use example on plotting shapefiles"
   ]
  },
  {
   "cell_type": "code",
   "execution_count": 1,
   "metadata": {},
   "outputs": [],
   "source": [
    "import numpy as np\n",
    "import matplotlib\n",
    "import matplotlib.pyplot as plt\n",
    "%matplotlib inline\n",
    "import cartopy.crs as ccrs\n",
    "import cartopy.feature as cfeature\n",
    "import cartopy.mpl.ticker as cticker\n",
    "import geopandas as gpd\n",
    "\n",
    "\n",
    "from descartes import PolygonPatch\n",
    "\n",
    "fp = \"/Users/abigailpozulp/Downloads/LME66/LMEs66.shp\""
   ]
  },
  {
   "cell_type": "code",
   "execution_count": 11,
   "metadata": {},
   "outputs": [],
   "source": [
    "def load_shape_file(fp):\n",
    "    \"\"\"Loads the shape file desired to mask a grid.\n",
    "    Args:\n",
    "        filepath: Path to *.shp file\n",
    "    \"\"\"\n",
    "    shpfile = gpd.read_file(fp)\n",
    "    return shpfile"
   ]
  },
  {
   "cell_type": "code",
   "execution_count": 13,
   "metadata": {},
   "outputs": [
    {
     "data": {
      "text/html": [
       "<div>\n",
       "<style scoped>\n",
       "    .dataframe tbody tr th:only-of-type {\n",
       "        vertical-align: middle;\n",
       "    }\n",
       "\n",
       "    .dataframe tbody tr th {\n",
       "        vertical-align: top;\n",
       "    }\n",
       "\n",
       "    .dataframe thead th {\n",
       "        text-align: right;\n",
       "    }\n",
       "</style>\n",
       "<table border=\"1\" class=\"dataframe\">\n",
       "  <thead>\n",
       "    <tr style=\"text-align: right;\">\n",
       "      <th></th>\n",
       "      <th>OBJECTID</th>\n",
       "      <th>LME_NUMBER</th>\n",
       "      <th>LME_NAME</th>\n",
       "      <th>GROUPING</th>\n",
       "      <th>ARCTIC</th>\n",
       "      <th>USLMES</th>\n",
       "      <th>Shape_Leng</th>\n",
       "      <th>Shape_Area</th>\n",
       "      <th>SUM_GIS_KM</th>\n",
       "      <th>geometry</th>\n",
       "    </tr>\n",
       "  </thead>\n",
       "  <tbody>\n",
       "    <tr>\n",
       "      <th>0</th>\n",
       "      <td>1</td>\n",
       "      <td>23.0</td>\n",
       "      <td>Baltic Sea</td>\n",
       "      <td>None</td>\n",
       "      <td>None</td>\n",
       "      <td>None</td>\n",
       "      <td>219.326402</td>\n",
       "      <td>61.950021</td>\n",
       "      <td>3.951472e+05</td>\n",
       "      <td>POLYGON ((10.97943973554271 54.38055038418429,...</td>\n",
       "    </tr>\n",
       "    <tr>\n",
       "      <th>1</th>\n",
       "      <td>2</td>\n",
       "      <td>52.0</td>\n",
       "      <td>Sea of Okhotsk</td>\n",
       "      <td>None</td>\n",
       "      <td>None</td>\n",
       "      <td>None</td>\n",
       "      <td>145.932989</td>\n",
       "      <td>213.796584</td>\n",
       "      <td>1.561297e+06</td>\n",
       "      <td>POLYGON ((156.7070450503869 51.18857905056069,...</td>\n",
       "    </tr>\n",
       "    <tr>\n",
       "      <th>2</th>\n",
       "      <td>3</td>\n",
       "      <td>22.0</td>\n",
       "      <td>North Sea</td>\n",
       "      <td>None</td>\n",
       "      <td>None</td>\n",
       "      <td>None</td>\n",
       "      <td>209.486403</td>\n",
       "      <td>103.965247</td>\n",
       "      <td>6.938472e+05</td>\n",
       "      <td>POLYGON ((5.278888225314518 61.98027038609212,...</td>\n",
       "    </tr>\n",
       "    <tr>\n",
       "      <th>3</th>\n",
       "      <td>4</td>\n",
       "      <td>2.0</td>\n",
       "      <td>Gulf of Alaska</td>\n",
       "      <td>None</td>\n",
       "      <td>None</td>\n",
       "      <td>Yes</td>\n",
       "      <td>495.473780</td>\n",
       "      <td>211.045622</td>\n",
       "      <td>1.530668e+06</td>\n",
       "      <td>POLYGON ((-149.4114074707736 61.49637985210421...</td>\n",
       "    </tr>\n",
       "    <tr>\n",
       "      <th>4</th>\n",
       "      <td>5</td>\n",
       "      <td>9.0</td>\n",
       "      <td>Labrador - Newfoundland</td>\n",
       "      <td>Arctic</td>\n",
       "      <td>Arctic</td>\n",
       "      <td>None</td>\n",
       "      <td>270.847479</td>\n",
       "      <td>114.597691</td>\n",
       "      <td>9.077923e+05</td>\n",
       "      <td>(POLYGON ((-64.56793350674803 60.4550934642860...</td>\n",
       "    </tr>\n",
       "  </tbody>\n",
       "</table>\n",
       "</div>"
      ],
      "text/plain": [
       "   OBJECTID  LME_NUMBER                 LME_NAME GROUPING  ARCTIC USLMES  \\\n",
       "0         1        23.0               Baltic Sea     None    None   None   \n",
       "1         2        52.0           Sea of Okhotsk     None    None   None   \n",
       "2         3        22.0                North Sea     None    None   None   \n",
       "3         4         2.0           Gulf of Alaska     None    None    Yes   \n",
       "4         5         9.0  Labrador - Newfoundland   Arctic  Arctic   None   \n",
       "\n",
       "   Shape_Leng  Shape_Area    SUM_GIS_KM  \\\n",
       "0  219.326402   61.950021  3.951472e+05   \n",
       "1  145.932989  213.796584  1.561297e+06   \n",
       "2  209.486403  103.965247  6.938472e+05   \n",
       "3  495.473780  211.045622  1.530668e+06   \n",
       "4  270.847479  114.597691  9.077923e+05   \n",
       "\n",
       "                                            geometry  \n",
       "0  POLYGON ((10.97943973554271 54.38055038418429,...  \n",
       "1  POLYGON ((156.7070450503869 51.18857905056069,...  \n",
       "2  POLYGON ((5.278888225314518 61.98027038609212,...  \n",
       "3  POLYGON ((-149.4114074707736 61.49637985210421...  \n",
       "4  (POLYGON ((-64.56793350674803 60.4550934642860...  "
      ]
     },
     "execution_count": 13,
     "metadata": {},
     "output_type": "execute_result"
    }
   ],
   "source": [
    "shp = load_shape_file(fp)\n",
    "shp.head()"
   ]
  },
  {
   "cell_type": "code",
   "execution_count": 14,
   "metadata": {},
   "outputs": [
    {
     "data": {
      "text/plain": [
       "array([ 395147.231641, 1561297.36029 ,  693847.221941, 1530668.23799 ,\n",
       "        907792.333424,  761666.01308 ,  989593.504638,  534350.190794,\n",
       "        284848.075049, 2220709.40559 ,  462995.385515,  322287.929835,\n",
       "       2534882.9853  ,  304640.388455, 1325473.19011 ,  441374.429324,\n",
       "       1127849.9424  ,  782301.55701 ,  302665.808428,  223206.813436,\n",
       "       1539637.44459 , 3954204.23353 ,  463248.371592,  984993.895278,\n",
       "       3281451.46235 , 3190677.27158 , 3687541.96822 , 1994795.15076 ,\n",
       "       1020133.47108 ,  382535.900494, 1060899.37411 , 1931667.6492  ,\n",
       "        845831.337911, 2281063.39607 , 1081537.30884 , 2564782.29597 ,\n",
       "       1465862.02868 ,  784714.193098, 1287337.31105 , 2638828.61546 ,\n",
       "        917126.173398,  655617.797171,  569252.645171,  969787.835109,\n",
       "       1170585.89422 , 1194982.39763 , 4343692.17964 , 1018722.21746 ,\n",
       "        582439.973015,  104259.560367,  482227.428725, 1197020.03587 ,\n",
       "       1057334.98236 , 1982526.63114 ,  989312.022604,  868966.113589,\n",
       "        632165.301548,  708294.964516,  246580.435011, 1324419.94491 ,\n",
       "       1373251.67747 , 1246934.23845 , 1086357.46501 ,  595740.846116,\n",
       "       3311757.45922 , 1343893.07085 ])"
      ]
     },
     "execution_count": 14,
     "metadata": {},
     "output_type": "execute_result"
    }
   ],
   "source": [
    "# The data of interest should map to the same indices as your shape files,\n",
    "# such as LMEs.\n",
    "total_area = shp['SUM_GIS_KM'].values\n",
    "total_area"
   ]
  },
  {
   "cell_type": "code",
   "execution_count": 20,
   "metadata": {},
   "outputs": [],
   "source": [
    "def make_colormap(data, cmap_name, norm='linear'):\n",
    "    \"\"\"\n",
    "    Make colormap for mapping shapefiles to.\n",
    "    \n",
    "    data: an array of data that the colormap will map to.\n",
    "    cmap_name: a type of colormap, the default is cmap\n",
    "    norm: defaults to 'linear'. Pass 'log' for logarithmic colorbar.\n",
    "    \"\"\"\n",
    "    #get the named colormap\n",
    "    cmap = matplotlib.cm.get_cmap(cmap_name)\n",
    "    \n",
    "    #get the colormap to treat min as a color, and max as a different color\n",
    "    if norm == 'linear':\n",
    "        norm = matplotlib.colors.Normalize(min(data), max(data))\n",
    "    elif norm == 'log':\n",
    "        norm = matplotlib.colors.LogNorm(min(data), max(data))\n",
    "    else:\n",
    "        raise ValueError(\"Supply 'linear' or 'log' for norm.\")\n",
    "    sm = matplotlib.cm.ScalarMappable(norm=norm, cmap=cmap)\n",
    "    sm._A = [] # some weird bug to make sure we can plot our colorbar later.\n",
    "    return sm"
   ]
  },
  {
   "cell_type": "markdown",
   "metadata": {},
   "source": [
    "what the elif statement does is "
   ]
  },
  {
   "cell_type": "code",
   "execution_count": 21,
   "metadata": {},
   "outputs": [
    {
     "ename": "ModuleNotFoundError",
     "evalue": "No module named 'geoplot'",
     "output_type": "error",
     "traceback": [
      "\u001b[0;31m---------------------------------------------------------------------------\u001b[0m",
      "\u001b[0;31mModuleNotFoundError\u001b[0m                       Traceback (most recent call last)",
      "\u001b[0;32m<ipython-input-21-b4351101aa29>\u001b[0m in \u001b[0;36m<module>\u001b[0;34m\u001b[0m\n\u001b[1;32m      1\u001b[0m \u001b[0;32mimport\u001b[0m \u001b[0mmatplotlib\u001b[0m\u001b[0;34m\u001b[0m\u001b[0m\n\u001b[1;32m      2\u001b[0m \u001b[0;32mimport\u001b[0m \u001b[0mcartopy\u001b[0m\u001b[0;34m.\u001b[0m\u001b[0mcrs\u001b[0m \u001b[0;32mas\u001b[0m \u001b[0mccrs\u001b[0m\u001b[0;34m\u001b[0m\u001b[0m\n\u001b[0;32m----> 3\u001b[0;31m \u001b[0;32mimport\u001b[0m \u001b[0mgeoplot\u001b[0m\u001b[0;34m.\u001b[0m\u001b[0mcrs\u001b[0m \u001b[0;32mas\u001b[0m \u001b[0mgcrs\u001b[0m\u001b[0;34m\u001b[0m\u001b[0m\n\u001b[0m",
      "\u001b[0;31mModuleNotFoundError\u001b[0m: No module named 'geoplot'"
     ]
    }
   ],
   "source": [
    "import matplotlib\n",
    "import cartopy.crs as ccrs\n",
    "import geoplot.crs as gcrs"
   ]
  },
  {
   "cell_type": "code",
   "execution_count": 23,
   "metadata": {},
   "outputs": [
    {
     "data": {
      "image/png": "[encoded data removed]",
      "text/plain": [
       "<Figure size 576x216 with 2 Axes>"
      ]
     },
     "metadata": {
      "needs_background": "light"
     },
     "output_type": "display_data"
    }
   ],
   "source": [
    "f, axes = plt.subplots(figsize=(8,3),\n",
    "                       subplot_kw=dict(projection=ccrs.PlateCarree()))\n",
    "\n",
    "# Learning how to iterate cleanly is a good skill in python.\n",
    "#\n",
    "sm = make_colormap(total_area, 'YlGnBu')\n",
    "#loops through all the LME names \n",
    "for i, LME in enumerate(shp['LME_NAME'].values):\n",
    "    poly = select_shape(shp, 'LME_NAME', LME)\n",
    "    color = sm.to_rgba(total_area[i])\n",
    "    test = axes.add_patch(PolygonPatch(poly, fc=color, zorder=4))\n",
    "axes.axis('scaled')\n",
    "\n",
    "#color land in black\n",
    "axes.add_feature(cfeature.LAND, color='k')\n",
    "\n",
    "# add colorbar.\n",
    "# reference: https://stackoverflow.com/questions/35873209/matplotlib-add-colorbar-to-cartopy-image\n",
    "cb = plt.colorbar(sm, orientation='horizontal', pad=0.05, fraction=0.09)\n",
    "cb.set_label('SUM_GIS_KM')"
   ]
  },
  {
   "cell_type": "markdown",
   "metadata": {},
   "source": [
    "# Get the Colorbar to be based on LME_NUMBER"
   ]
  },
  {
   "cell_type": "code",
   "execution_count": 24,
   "metadata": {},
   "outputs": [
    {
     "data": {
      "text/plain": [
       "array([23., 52., 22.,  2.,  9., 24., 50., 51.,  8.,  3., 62.,  7., 26.,\n",
       "       25., 49., 48., 27., 47.,  6.,  4.,  5., 32., 33., 10., 12., 36.,\n",
       "       34., 11., 37., 35., 17., 28., 31., 38., 16., 13., 29., 39., 40.,\n",
       "       30., 45., 41., 15., 46., 14., 42., 61., 43., 44., 60., 59., 19.,\n",
       "       21., 20., 58., 57., 56., 53., 65.,  1., 18., 63., 55., 66., 64.,\n",
       "       54.])"
      ]
     },
     "execution_count": 24,
     "metadata": {},
     "output_type": "execute_result"
    }
   ],
   "source": [
    "Number = shp['LME_NUMBER'].values\n",
    "Number"
   ]
  },
  {
   "cell_type": "code",
   "execution_count": 30,
   "metadata": {},
   "outputs": [
    {
     "data": {
      "image/png": "[encoded data removed]",
      "text/plain": [
       "<Figure size 576x216 with 2 Axes>"
      ]
     },
     "metadata": {
      "needs_background": "light"
     },
     "output_type": "display_data"
    }
   ],
   "source": [
    "f, axes = plt.subplots(figsize=(8,3),\n",
    "                       subplot_kw=dict(projection=ccrs.PlateCarree()))\n",
    "\n",
    "# Learning how to iterate cleanly is a good skill in python.\n",
    "#\n",
    "sm = make_colormap(Number, 'gist_rainbow')\n",
    "#loops through all the LME names \n",
    "for i, LME in enumerate(shp['LME_NAME'].values):\n",
    "    poly = select_shape(shp, 'LME_NAME', LME)\n",
    "    color = sm.to_rgba(Number[i])\n",
    "    test = axes.add_patch(PolygonPatch(poly, fc=color, zorder=4))\n",
    "axes.axis('scaled')\n",
    "\n",
    "#color land in black\n",
    "axes.add_feature(cfeature.LAND, color='k')\n",
    "\n",
    "# add colorbar.\n",
    "# reference: https://stackoverflow.com/questions/35873209/matplotlib-add-colorbar-to-cartopy-image\n",
    "cb = plt.colorbar(sm, orientation='horizontal', pad=0.05, fraction=0.09)\n",
    "cb.set_label('LME_NUMBER')"
   ]
  },
  {
   "cell_type": "code",
   "execution_count": null,
   "metadata": {},
   "outputs": [],
   "source": []
  }
 ],
 "metadata": {
  "kernelspec": {
   "display_name": "Python 3",
   "language": "python",
   "name": "python3"
  },
  "language_info": {
   "codemirror_mode": {
    "name": "ipython",
    "version": 3
   },
   "file_extension": ".py",
   "mimetype": "text/x-python",
   "name": "python",
   "nbconvert_exporter": "python",
   "pygments_lexer": "ipython3",
   "version": "3.7.0"
  }
 },
 "nbformat": 4,
 "nbformat_minor": 2
}
