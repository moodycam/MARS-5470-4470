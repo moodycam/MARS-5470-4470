{
 "cells": [
  {
   "cell_type": "markdown",
   "metadata": {},
   "source": [
    "# Warm Up\n",
    "Convert the movies excel file to a netcdf file\n",
    "#1 import as pandas data frame\n",
    "#2 convert dataframe to xarray dataset (google it)\n",
    "#3 write data set as netcdf file (google it)\n",
    "#4 load in your .nc file and check it"
   ]
  },
  {
   "cell_type": "code",
   "execution_count": 36,
   "metadata": {},
   "outputs": [],
   "source": [
    "# first i'm going to import the modules we will need\n",
    "import pandas as pd\n",
    "import xlrd \n",
    "import xlwt\n",
    "import xlsxwriter\n",
    "import netCDF4 as nc\n",
    "import xarray as xr\n"
   ]
  },
  {
   "cell_type": "markdown",
   "metadata": {},
   "source": [
    "# #1 \n",
    "### import as pandas data frame"
   ]
  },
  {
   "cell_type": "code",
   "execution_count": 37,
   "metadata": {},
   "outputs": [],
   "source": [
    "# this is the file as a pandas DataFrame\n",
    "file = \"/Users/abigailpozulp/Downloads/movies.xls\"\n",
    "movies = pd.read_excel(file)"
   ]
  },
  {
   "cell_type": "code",
   "execution_count": 38,
   "metadata": {},
   "outputs": [
    {
     "data": {
      "text/plain": [
       "pandas.core.frame.DataFrame"
      ]
     },
     "execution_count": 38,
     "metadata": {},
     "output_type": "execute_result"
    }
   ],
   "source": [
    "type(movies)"
   ]
  },
  {
   "cell_type": "markdown",
   "metadata": {},
   "source": [
    "# #2\n",
    "### convert dataframe to xarray dataset\n",
    "#http://xarray.pydata.org/en/stable/pandas.html\n"
   ]
  },
  {
   "cell_type": "code",
   "execution_count": 16,
   "metadata": {},
   "outputs": [],
   "source": [
    "# this will convert dataframe to xarray\n",
    "movies2 = xr.Dataset.from_dataframe(movies)"
   ]
  },
  {
   "cell_type": "code",
   "execution_count": 15,
   "metadata": {},
   "outputs": [
    {
     "data": {
      "text/plain": [
       "xarray.core.dataset.Dataset"
      ]
     },
     "execution_count": 15,
     "metadata": {},
     "output_type": "execute_result"
    }
   ],
   "source": [
    "type(movies2)"
   ]
  },
  {
   "cell_type": "markdown",
   "metadata": {},
   "source": [
    "# #3\n",
    "### write dataset as netcdf file\n",
    "#http://xarray.pydata.org/en/stable/generated/xarray.DataArray.to_netcdf.html\n",
    "#https://ecco-v4-python-tutorial.readthedocs.io/ECCO_v4_Saving_Datasets_and_DataArrays_to_NetCDF.html"
   ]
  },
  {
   "cell_type": "code",
   "execution_count": 39,
   "metadata": {},
   "outputs": [],
   "source": [
    "#write to netcdf file\n",
    "movies2.to_netcdf(\"movies2.nc\")"
   ]
  },
  {
   "cell_type": "markdown",
   "metadata": {},
   "source": [
    "# #4 \n",
    "### load .nc file to check"
   ]
  },
  {
   "cell_type": "code",
   "execution_count": 75,
   "metadata": {},
   "outputs": [],
   "source": [
    "movies_loaded = xr.open_dataset(\"movies2.nc\")"
   ]
  },
  {
   "cell_type": "code",
   "execution_count": 76,
   "metadata": {},
   "outputs": [
    {
     "data": {
      "text/plain": [
       "xarray.core.dataset.Dataset"
      ]
     },
     "execution_count": 76,
     "metadata": {},
     "output_type": "execute_result"
    }
   ],
   "source": [
    "type(movies_loaded)"
   ]
  },
  {
   "cell_type": "markdown",
   "metadata": {},
   "source": [
    "# Lec 9.1 Model fitting 1\n",
    "### corelation and linear regression"
   ]
  },
  {
   "cell_type": "markdown",
   "metadata": {},
   "source": [
    "# 9.1.1 Correlation\n",
    "When we get data, we want to describe how variables relate to each other. The simplest question we can ask are two variables correlated?\n",
    "\n",
    "#The metric we use for correlation is the Pearson correlation coefficient, which is hard to grasp intuitively from looking at the equation (see https://en.wikipedia.org/wiki/Correlation_and_dependence). Basically, correlation is a measure of how linearly correlated two variables are, and has values between 1 and -1. If the two variables fall on a straight line and the both increase together, then the correlation is 1. If one increases while the other decreases, the correlation is -1. Correlations near zero mean the two variables are not correlated.\n",
    "\n",
    "#Let's use the movie data we worked with previously to test if budgets and gross earnings are correlated"
   ]
  },
  {
   "cell_type": "code",
   "execution_count": 26,
   "metadata": {},
   "outputs": [],
   "source": [
    "import numpy as np\n",
    "import matplotlib.pyplot as plt\n",
    "%matplotlib inline\n",
    "import pandas as pd"
   ]
  },
  {
   "cell_type": "code",
   "execution_count": 28,
   "metadata": {},
   "outputs": [],
   "source": [
    "file = \"/Users/abigailpozulp/Downloads/movies.xls\"\n",
    "movies = pd.read_excel(file)\n",
    "movies_sheet1 = pd.read_excel(file, sheet_name=0, index_col=0)\n",
    "movies_sheet2 = pd.read_excel(file, sheet_name=1, index_col=0)\n",
    "movies_sheet3 = pd.read_excel(file, sheet_name=2, index_col=0)\n",
    "movies = pd.concat([movies_sheet1, movies_sheet2, movies_sheet3])"
   ]
  },
  {
   "cell_type": "code",
   "execution_count": 29,
   "metadata": {},
   "outputs": [
    {
     "data": {
      "text/plain": [
       "(0, 1000000000.0)"
      ]
     },
     "execution_count": 29,
     "metadata": {},
     "output_type": "execute_result"
    },
    {
     "data": {
      "image/png": "[encoded data removed]",
      "text/plain": [
       "<Figure size 432x288 with 1 Axes>"
      ]
     },
     "metadata": {
      "needs_background": "light"
     },
     "output_type": "display_data"
    }
   ],
   "source": [
    "# plot Budget vs Gross Earnings\n",
    "plt.scatter(movies['Budget'], movies['Gross Earnings'])\n",
    "plt.plot([0,1E10],[0,1E10], 'k--')\n",
    "plt.xlabel('Budget')\n",
    "plt.ylabel('Gross Earnings')\n",
    "plt.xlim([0,0.1E10])\n",
    "plt.ylim([0,1E9])"
   ]
  },
  {
   "cell_type": "markdown",
   "metadata": {},
   "source": [
    "#In the above I have added the y=x line to visualize if the gross earnings were above the budget. Because many of the data points are on top of each other, it is difficult to assess visually the relationship between the two variables\n",
    "\n",
    "#Note that pandas allows us to get the correlation of the entire dataframe all at once. There are many other packages that will do this as well, including numpy."
   ]
  },
  {
   "cell_type": "code",
   "execution_count": 30,
   "metadata": {},
   "outputs": [
    {
     "data": {
      "text/html": [
       "<div>\n",
       "<style scoped>\n",
       "    .dataframe tbody tr th:only-of-type {\n",
       "        vertical-align: middle;\n",
       "    }\n",
       "\n",
       "    .dataframe tbody tr th {\n",
       "        vertical-align: top;\n",
       "    }\n",
       "\n",
       "    .dataframe thead th {\n",
       "        text-align: right;\n",
       "    }\n",
       "</style>\n",
       "<table border=\"1\" class=\"dataframe\">\n",
       "  <thead>\n",
       "    <tr style=\"text-align: right;\">\n",
       "      <th></th>\n",
       "      <th>Year</th>\n",
       "      <th>Duration</th>\n",
       "      <th>Aspect Ratio</th>\n",
       "      <th>Budget</th>\n",
       "      <th>Gross Earnings</th>\n",
       "      <th>Facebook Likes - Director</th>\n",
       "      <th>Facebook Likes - Actor 1</th>\n",
       "      <th>Facebook Likes - Actor 2</th>\n",
       "      <th>Facebook Likes - Actor 3</th>\n",
       "      <th>Facebook Likes - cast Total</th>\n",
       "      <th>Facebook likes - Movie</th>\n",
       "      <th>Facenumber in posters</th>\n",
       "      <th>User Votes</th>\n",
       "      <th>Reviews by Users</th>\n",
       "      <th>Reviews by Crtiics</th>\n",
       "      <th>IMDB Score</th>\n",
       "    </tr>\n",
       "  </thead>\n",
       "  <tbody>\n",
       "    <tr>\n",
       "      <th>Year</th>\n",
       "      <td>1.000000</td>\n",
       "      <td>-0.135038</td>\n",
       "      <td>0.159973</td>\n",
       "      <td>0.045726</td>\n",
       "      <td>0.030886</td>\n",
       "      <td>-0.063820</td>\n",
       "      <td>0.086873</td>\n",
       "      <td>0.101890</td>\n",
       "      <td>0.096137</td>\n",
       "      <td>0.109971</td>\n",
       "      <td>0.218678</td>\n",
       "      <td>0.061504</td>\n",
       "      <td>0.007397</td>\n",
       "      <td>-0.003147</td>\n",
       "      <td>0.275707</td>\n",
       "      <td>-0.209167</td>\n",
       "    </tr>\n",
       "    <tr>\n",
       "      <th>Duration</th>\n",
       "      <td>-0.135038</td>\n",
       "      <td>1.000000</td>\n",
       "      <td>-0.090071</td>\n",
       "      <td>0.074276</td>\n",
       "      <td>0.250298</td>\n",
       "      <td>0.173296</td>\n",
       "      <td>0.088449</td>\n",
       "      <td>0.131673</td>\n",
       "      <td>0.123558</td>\n",
       "      <td>0.123074</td>\n",
       "      <td>0.196605</td>\n",
       "      <td>0.013469</td>\n",
       "      <td>0.314765</td>\n",
       "      <td>0.328403</td>\n",
       "      <td>0.258486</td>\n",
       "      <td>0.261662</td>\n",
       "    </tr>\n",
       "    <tr>\n",
       "      <th>Aspect Ratio</th>\n",
       "      <td>0.159973</td>\n",
       "      <td>-0.090071</td>\n",
       "      <td>1.000000</td>\n",
       "      <td>0.006598</td>\n",
       "      <td>0.069346</td>\n",
       "      <td>0.001642</td>\n",
       "      <td>-0.020049</td>\n",
       "      <td>-0.007783</td>\n",
       "      <td>-0.003366</td>\n",
       "      <td>-0.017885</td>\n",
       "      <td>0.025737</td>\n",
       "      <td>0.013713</td>\n",
       "      <td>-0.014761</td>\n",
       "      <td>-0.024719</td>\n",
       "      <td>-0.049786</td>\n",
       "      <td>0.059445</td>\n",
       "    </tr>\n",
       "    <tr>\n",
       "      <th>Budget</th>\n",
       "      <td>0.045726</td>\n",
       "      <td>0.074276</td>\n",
       "      <td>0.006598</td>\n",
       "      <td>1.000000</td>\n",
       "      <td>0.102179</td>\n",
       "      <td>0.021090</td>\n",
       "      <td>0.022639</td>\n",
       "      <td>0.044236</td>\n",
       "      <td>0.047451</td>\n",
       "      <td>0.036557</td>\n",
       "      <td>0.062039</td>\n",
       "      <td>-0.019559</td>\n",
       "      <td>0.079621</td>\n",
       "      <td>0.084292</td>\n",
       "      <td>0.119994</td>\n",
       "      <td>0.030688</td>\n",
       "    </tr>\n",
       "    <tr>\n",
       "      <th>Gross Earnings</th>\n",
       "      <td>0.030886</td>\n",
       "      <td>0.250298</td>\n",
       "      <td>0.069346</td>\n",
       "      <td>0.102179</td>\n",
       "      <td>1.000000</td>\n",
       "      <td>0.144945</td>\n",
       "      <td>0.154468</td>\n",
       "      <td>0.262768</td>\n",
       "      <td>0.308026</td>\n",
       "      <td>0.247400</td>\n",
       "      <td>0.378082</td>\n",
       "      <td>-0.027755</td>\n",
       "      <td>0.637271</td>\n",
       "      <td>0.559958</td>\n",
       "      <td>0.480601</td>\n",
       "      <td>0.198021</td>\n",
       "    </tr>\n",
       "    <tr>\n",
       "      <th>Facebook Likes - Director</th>\n",
       "      <td>-0.063820</td>\n",
       "      <td>0.173296</td>\n",
       "      <td>0.001642</td>\n",
       "      <td>0.021090</td>\n",
       "      <td>0.144945</td>\n",
       "      <td>1.000000</td>\n",
       "      <td>0.090707</td>\n",
       "      <td>0.119587</td>\n",
       "      <td>0.120199</td>\n",
       "      <td>0.119532</td>\n",
       "      <td>0.162036</td>\n",
       "      <td>-0.041297</td>\n",
       "      <td>0.297045</td>\n",
       "      <td>0.221890</td>\n",
       "      <td>0.180674</td>\n",
       "      <td>0.170834</td>\n",
       "    </tr>\n",
       "    <tr>\n",
       "      <th>Facebook Likes - Actor 1</th>\n",
       "      <td>0.086873</td>\n",
       "      <td>0.088449</td>\n",
       "      <td>-0.020049</td>\n",
       "      <td>0.022639</td>\n",
       "      <td>0.154468</td>\n",
       "      <td>0.090707</td>\n",
       "      <td>1.000000</td>\n",
       "      <td>0.390466</td>\n",
       "      <td>0.249927</td>\n",
       "      <td>0.951660</td>\n",
       "      <td>0.135320</td>\n",
       "      <td>0.072204</td>\n",
       "      <td>0.192763</td>\n",
       "      <td>0.145461</td>\n",
       "      <td>0.190016</td>\n",
       "      <td>0.076153</td>\n",
       "    </tr>\n",
       "    <tr>\n",
       "      <th>Facebook Likes - Actor 2</th>\n",
       "      <td>0.101890</td>\n",
       "      <td>0.131673</td>\n",
       "      <td>-0.007783</td>\n",
       "      <td>0.044236</td>\n",
       "      <td>0.262768</td>\n",
       "      <td>0.119587</td>\n",
       "      <td>0.390466</td>\n",
       "      <td>1.000000</td>\n",
       "      <td>0.559662</td>\n",
       "      <td>0.628389</td>\n",
       "      <td>0.243464</td>\n",
       "      <td>0.071177</td>\n",
       "      <td>0.270755</td>\n",
       "      <td>0.219496</td>\n",
       "      <td>0.282306</td>\n",
       "      <td>0.083860</td>\n",
       "    </tr>\n",
       "    <tr>\n",
       "      <th>Facebook Likes - Actor 3</th>\n",
       "      <td>0.096137</td>\n",
       "      <td>0.123558</td>\n",
       "      <td>-0.003366</td>\n",
       "      <td>0.047451</td>\n",
       "      <td>0.308026</td>\n",
       "      <td>0.120199</td>\n",
       "      <td>0.249927</td>\n",
       "      <td>0.559662</td>\n",
       "      <td>1.000000</td>\n",
       "      <td>0.473920</td>\n",
       "      <td>0.278844</td>\n",
       "      <td>0.099368</td>\n",
       "      <td>0.287239</td>\n",
       "      <td>0.230189</td>\n",
       "      <td>0.271646</td>\n",
       "      <td>0.052633</td>\n",
       "    </tr>\n",
       "    <tr>\n",
       "      <th>Facebook Likes - cast Total</th>\n",
       "      <td>0.109971</td>\n",
       "      <td>0.123074</td>\n",
       "      <td>-0.017885</td>\n",
       "      <td>0.036557</td>\n",
       "      <td>0.247400</td>\n",
       "      <td>0.119532</td>\n",
       "      <td>0.951660</td>\n",
       "      <td>0.628389</td>\n",
       "      <td>0.473920</td>\n",
       "      <td>1.000000</td>\n",
       "      <td>0.209754</td>\n",
       "      <td>0.091410</td>\n",
       "      <td>0.265865</td>\n",
       "      <td>0.206923</td>\n",
       "      <td>0.263203</td>\n",
       "      <td>0.085854</td>\n",
       "    </tr>\n",
       "    <tr>\n",
       "      <th>Facebook likes - Movie</th>\n",
       "      <td>0.218678</td>\n",
       "      <td>0.196605</td>\n",
       "      <td>0.025737</td>\n",
       "      <td>0.062039</td>\n",
       "      <td>0.378082</td>\n",
       "      <td>0.162036</td>\n",
       "      <td>0.135320</td>\n",
       "      <td>0.243464</td>\n",
       "      <td>0.278844</td>\n",
       "      <td>0.209754</td>\n",
       "      <td>1.000000</td>\n",
       "      <td>0.008866</td>\n",
       "      <td>0.537905</td>\n",
       "      <td>0.400594</td>\n",
       "      <td>0.683176</td>\n",
       "      <td>0.247106</td>\n",
       "    </tr>\n",
       "    <tr>\n",
       "      <th>Facenumber in posters</th>\n",
       "      <td>0.061504</td>\n",
       "      <td>0.013469</td>\n",
       "      <td>0.013713</td>\n",
       "      <td>-0.019559</td>\n",
       "      <td>-0.027755</td>\n",
       "      <td>-0.041297</td>\n",
       "      <td>0.072204</td>\n",
       "      <td>0.071177</td>\n",
       "      <td>0.099368</td>\n",
       "      <td>0.091410</td>\n",
       "      <td>0.008866</td>\n",
       "      <td>1.000000</td>\n",
       "      <td>-0.027082</td>\n",
       "      <td>-0.069018</td>\n",
       "      <td>-0.033897</td>\n",
       "      <td>-0.062883</td>\n",
       "    </tr>\n",
       "    <tr>\n",
       "      <th>User Votes</th>\n",
       "      <td>0.007397</td>\n",
       "      <td>0.314765</td>\n",
       "      <td>-0.014761</td>\n",
       "      <td>0.079621</td>\n",
       "      <td>0.637271</td>\n",
       "      <td>0.297045</td>\n",
       "      <td>0.192763</td>\n",
       "      <td>0.270755</td>\n",
       "      <td>0.287239</td>\n",
       "      <td>0.265865</td>\n",
       "      <td>0.537905</td>\n",
       "      <td>-0.027082</td>\n",
       "      <td>1.000000</td>\n",
       "      <td>0.798406</td>\n",
       "      <td>0.624943</td>\n",
       "      <td>0.411064</td>\n",
       "    </tr>\n",
       "    <tr>\n",
       "      <th>Reviews by Users</th>\n",
       "      <td>-0.003147</td>\n",
       "      <td>0.328403</td>\n",
       "      <td>-0.024719</td>\n",
       "      <td>0.084292</td>\n",
       "      <td>0.559958</td>\n",
       "      <td>0.221890</td>\n",
       "      <td>0.145461</td>\n",
       "      <td>0.219496</td>\n",
       "      <td>0.230189</td>\n",
       "      <td>0.206923</td>\n",
       "      <td>0.400594</td>\n",
       "      <td>-0.069018</td>\n",
       "      <td>0.798406</td>\n",
       "      <td>1.000000</td>\n",
       "      <td>0.609387</td>\n",
       "      <td>0.292475</td>\n",
       "    </tr>\n",
       "    <tr>\n",
       "      <th>Reviews by Crtiics</th>\n",
       "      <td>0.275707</td>\n",
       "      <td>0.258486</td>\n",
       "      <td>-0.049786</td>\n",
       "      <td>0.119994</td>\n",
       "      <td>0.480601</td>\n",
       "      <td>0.180674</td>\n",
       "      <td>0.190016</td>\n",
       "      <td>0.282306</td>\n",
       "      <td>0.271646</td>\n",
       "      <td>0.263203</td>\n",
       "      <td>0.683176</td>\n",
       "      <td>-0.033897</td>\n",
       "      <td>0.624943</td>\n",
       "      <td>0.609387</td>\n",
       "      <td>1.000000</td>\n",
       "      <td>0.305303</td>\n",
       "    </tr>\n",
       "    <tr>\n",
       "      <th>IMDB Score</th>\n",
       "      <td>-0.209167</td>\n",
       "      <td>0.261662</td>\n",
       "      <td>0.059445</td>\n",
       "      <td>0.030688</td>\n",
       "      <td>0.198021</td>\n",
       "      <td>0.170834</td>\n",
       "      <td>0.076153</td>\n",
       "      <td>0.083860</td>\n",
       "      <td>0.052633</td>\n",
       "      <td>0.085854</td>\n",
       "      <td>0.247106</td>\n",
       "      <td>-0.062883</td>\n",
       "      <td>0.411064</td>\n",
       "      <td>0.292475</td>\n",
       "      <td>0.305303</td>\n",
       "      <td>1.000000</td>\n",
       "    </tr>\n",
       "  </tbody>\n",
       "</table>\n",
       "</div>"
      ],
      "text/plain": [
       "                                 Year  Duration  Aspect Ratio    Budget  \\\n",
       "Year                         1.000000 -0.135038      0.159973  0.045726   \n",
       "Duration                    -0.135038  1.000000     -0.090071  0.074276   \n",
       "Aspect Ratio                 0.159973 -0.090071      1.000000  0.006598   \n",
       "Budget                       0.045726  0.074276      0.006598  1.000000   \n",
       "Gross Earnings               0.030886  0.250298      0.069346  0.102179   \n",
       "Facebook Likes - Director   -0.063820  0.173296      0.001642  0.021090   \n",
       "Facebook Likes - Actor 1     0.086873  0.088449     -0.020049  0.022639   \n",
       "Facebook Likes - Actor 2     0.101890  0.131673     -0.007783  0.044236   \n",
       "Facebook Likes - Actor 3     0.096137  0.123558     -0.003366  0.047451   \n",
       "Facebook Likes - cast Total  0.109971  0.123074     -0.017885  0.036557   \n",
       "Facebook likes - Movie       0.218678  0.196605      0.025737  0.062039   \n",
       "Facenumber in posters        0.061504  0.013469      0.013713 -0.019559   \n",
       "User Votes                   0.007397  0.314765     -0.014761  0.079621   \n",
       "Reviews by Users            -0.003147  0.328403     -0.024719  0.084292   \n",
       "Reviews by Crtiics           0.275707  0.258486     -0.049786  0.119994   \n",
       "IMDB Score                  -0.209167  0.261662      0.059445  0.030688   \n",
       "\n",
       "                             Gross Earnings  Facebook Likes - Director  \\\n",
       "Year                               0.030886                  -0.063820   \n",
       "Duration                           0.250298                   0.173296   \n",
       "Aspect Ratio                       0.069346                   0.001642   \n",
       "Budget                             0.102179                   0.021090   \n",
       "Gross Earnings                     1.000000                   0.144945   \n",
       "Facebook Likes - Director          0.144945                   1.000000   \n",
       "Facebook Likes - Actor 1           0.154468                   0.090707   \n",
       "Facebook Likes - Actor 2           0.262768                   0.119587   \n",
       "Facebook Likes - Actor 3           0.308026                   0.120199   \n",
       "Facebook Likes - cast Total        0.247400                   0.119532   \n",
       "Facebook likes - Movie             0.378082                   0.162036   \n",
       "Facenumber in posters             -0.027755                  -0.041297   \n",
       "User Votes                         0.637271                   0.297045   \n",
       "Reviews by Users                   0.559958                   0.221890   \n",
       "Reviews by Crtiics                 0.480601                   0.180674   \n",
       "IMDB Score                         0.198021                   0.170834   \n",
       "\n",
       "                             Facebook Likes - Actor 1  \\\n",
       "Year                                         0.086873   \n",
       "Duration                                     0.088449   \n",
       "Aspect Ratio                                -0.020049   \n",
       "Budget                                       0.022639   \n",
       "Gross Earnings                               0.154468   \n",
       "Facebook Likes - Director                    0.090707   \n",
       "Facebook Likes - Actor 1                     1.000000   \n",
       "Facebook Likes - Actor 2                     0.390466   \n",
       "Facebook Likes - Actor 3                     0.249927   \n",
       "Facebook Likes - cast Total                  0.951660   \n",
       "Facebook likes - Movie                       0.135320   \n",
       "Facenumber in posters                        0.072204   \n",
       "User Votes                                   0.192763   \n",
       "Reviews by Users                             0.145461   \n",
       "Reviews by Crtiics                           0.190016   \n",
       "IMDB Score                                   0.076153   \n",
       "\n",
       "                             Facebook Likes - Actor 2  \\\n",
       "Year                                         0.101890   \n",
       "Duration                                     0.131673   \n",
       "Aspect Ratio                                -0.007783   \n",
       "Budget                                       0.044236   \n",
       "Gross Earnings                               0.262768   \n",
       "Facebook Likes - Director                    0.119587   \n",
       "Facebook Likes - Actor 1                     0.390466   \n",
       "Facebook Likes - Actor 2                     1.000000   \n",
       "Facebook Likes - Actor 3                     0.559662   \n",
       "Facebook Likes - cast Total                  0.628389   \n",
       "Facebook likes - Movie                       0.243464   \n",
       "Facenumber in posters                        0.071177   \n",
       "User Votes                                   0.270755   \n",
       "Reviews by Users                             0.219496   \n",
       "Reviews by Crtiics                           0.282306   \n",
       "IMDB Score                                   0.083860   \n",
       "\n",
       "                             Facebook Likes - Actor 3  \\\n",
       "Year                                         0.096137   \n",
       "Duration                                     0.123558   \n",
       "Aspect Ratio                                -0.003366   \n",
       "Budget                                       0.047451   \n",
       "Gross Earnings                               0.308026   \n",
       "Facebook Likes - Director                    0.120199   \n",
       "Facebook Likes - Actor 1                     0.249927   \n",
       "Facebook Likes - Actor 2                     0.559662   \n",
       "Facebook Likes - Actor 3                     1.000000   \n",
       "Facebook Likes - cast Total                  0.473920   \n",
       "Facebook likes - Movie                       0.278844   \n",
       "Facenumber in posters                        0.099368   \n",
       "User Votes                                   0.287239   \n",
       "Reviews by Users                             0.230189   \n",
       "Reviews by Crtiics                           0.271646   \n",
       "IMDB Score                                   0.052633   \n",
       "\n",
       "                             Facebook Likes - cast Total  \\\n",
       "Year                                            0.109971   \n",
       "Duration                                        0.123074   \n",
       "Aspect Ratio                                   -0.017885   \n",
       "Budget                                          0.036557   \n",
       "Gross Earnings                                  0.247400   \n",
       "Facebook Likes - Director                       0.119532   \n",
       "Facebook Likes - Actor 1                        0.951660   \n",
       "Facebook Likes - Actor 2                        0.628389   \n",
       "Facebook Likes - Actor 3                        0.473920   \n",
       "Facebook Likes - cast Total                     1.000000   \n",
       "Facebook likes - Movie                          0.209754   \n",
       "Facenumber in posters                           0.091410   \n",
       "User Votes                                      0.265865   \n",
       "Reviews by Users                                0.206923   \n",
       "Reviews by Crtiics                              0.263203   \n",
       "IMDB Score                                      0.085854   \n",
       "\n",
       "                             Facebook likes - Movie  Facenumber in posters  \\\n",
       "Year                                       0.218678               0.061504   \n",
       "Duration                                   0.196605               0.013469   \n",
       "Aspect Ratio                               0.025737               0.013713   \n",
       "Budget                                     0.062039              -0.019559   \n",
       "Gross Earnings                             0.378082              -0.027755   \n",
       "Facebook Likes - Director                  0.162036              -0.041297   \n",
       "Facebook Likes - Actor 1                   0.135320               0.072204   \n",
       "Facebook Likes - Actor 2                   0.243464               0.071177   \n",
       "Facebook Likes - Actor 3                   0.278844               0.099368   \n",
       "Facebook Likes - cast Total                0.209754               0.091410   \n",
       "Facebook likes - Movie                     1.000000               0.008866   \n",
       "Facenumber in posters                      0.008866               1.000000   \n",
       "User Votes                                 0.537905              -0.027082   \n",
       "Reviews by Users                           0.400594              -0.069018   \n",
       "Reviews by Crtiics                         0.683176              -0.033897   \n",
       "IMDB Score                                 0.247106              -0.062883   \n",
       "\n",
       "                             User Votes  Reviews by Users  Reviews by Crtiics  \\\n",
       "Year                           0.007397         -0.003147            0.275707   \n",
       "Duration                       0.314765          0.328403            0.258486   \n",
       "Aspect Ratio                  -0.014761         -0.024719           -0.049786   \n",
       "Budget                         0.079621          0.084292            0.119994   \n",
       "Gross Earnings                 0.637271          0.559958            0.480601   \n",
       "Facebook Likes - Director      0.297045          0.221890            0.180674   \n",
       "Facebook Likes - Actor 1       0.192763          0.145461            0.190016   \n",
       "Facebook Likes - Actor 2       0.270755          0.219496            0.282306   \n",
       "Facebook Likes - Actor 3       0.287239          0.230189            0.271646   \n",
       "Facebook Likes - cast Total    0.265865          0.206923            0.263203   \n",
       "Facebook likes - Movie         0.537905          0.400594            0.683176   \n",
       "Facenumber in posters         -0.027082         -0.069018           -0.033897   \n",
       "User Votes                     1.000000          0.798406            0.624943   \n",
       "Reviews by Users               0.798406          1.000000            0.609387   \n",
       "Reviews by Crtiics             0.624943          0.609387            1.000000   \n",
       "IMDB Score                     0.411064          0.292475            0.305303   \n",
       "\n",
       "                             IMDB Score  \n",
       "Year                          -0.209167  \n",
       "Duration                       0.261662  \n",
       "Aspect Ratio                   0.059445  \n",
       "Budget                         0.030688  \n",
       "Gross Earnings                 0.198021  \n",
       "Facebook Likes - Director      0.170834  \n",
       "Facebook Likes - Actor 1       0.076153  \n",
       "Facebook Likes - Actor 2       0.083860  \n",
       "Facebook Likes - Actor 3       0.052633  \n",
       "Facebook Likes - cast Total    0.085854  \n",
       "Facebook likes - Movie         0.247106  \n",
       "Facenumber in posters         -0.062883  \n",
       "User Votes                     0.411064  \n",
       "Reviews by Users               0.292475  \n",
       "Reviews by Crtiics             0.305303  \n",
       "IMDB Score                     1.000000  "
      ]
     },
     "execution_count": 30,
     "metadata": {},
     "output_type": "execute_result"
    }
   ],
   "source": [
    "# pandas allows you to correlate an entire dataframe all at once\n",
    "movies.corr()\n",
    "# Budget and Gross earnings are not very correlated, r = 0.10\n",
    "# the diagonal of the correlation of 1 means you are comparing something with itself"
   ]
  },
  {
   "cell_type": "markdown",
   "metadata": {},
   "source": [
    "# E1. What does it mean that year and duration are negatively correlated? Plot these two variables togther and explain."
   ]
  },
  {
   "cell_type": "markdown",
   "metadata": {},
   "source": [
    "# E1 answer\n",
    "negatively correlated means that as one increases, the other decreases...thier relationship is opposite. As you can see from the plot, the correlation is not very strong, only -0.1, and it does look slightly that as the year increases, the duration decreases."
   ]
  },
  {
   "cell_type": "code",
   "execution_count": 32,
   "metadata": {},
   "outputs": [
    {
     "data": {
      "text/plain": [
       "Text(0, 0.5, 'Duration')"
      ]
     },
     "execution_count": 32,
     "metadata": {},
     "output_type": "execute_result"
    },
    {
     "data": {
      "image/png": "[encoded data removed]",
      "text/plain": [
       "<Figure size 432x288 with 1 Axes>"
      ]
     },
     "metadata": {
      "needs_background": "light"
     },
     "output_type": "display_data"
    }
   ],
   "source": [
    "plt.scatter(movies['Year'], movies['Duration'])\n",
    "plt.xlabel('Year')\n",
    "plt.ylabel('Duration')\n"
   ]
  },
  {
   "cell_type": "markdown",
   "metadata": {},
   "source": [
    "# E2. Which pairs of variables have the highest correlation? What might explain this?"
   ]
  },
  {
   "cell_type": "markdown",
   "metadata": {},
   "source": [
    "# 9.1.2 Linear regression\n",
    "See https://en.wikipedia.org/wiki/Linear_regression and http://onlinestatbook.com/2/regression/regression.html for a nice introduction. See https://towardsdatascience.com/linear-regression-using-python-b136c91bf0a2 for a good intro on the math\n",
    "\n",
    "#Supposed we were convinced that gross earnings were linearly related to budget, i.e. G = a*B +c. To test this, we would fit the scatterplot we made above to a line, which would solve for the coefficients a (slope) and c (intercept) in our linear equation.\n",
    "\n",
    "#The basic idea of linear regression is that one finds the distance of each data point to a line and minimize this (using calculus) to find the best fit line. This is commonly called ordinary least squares, as the distance of the data from the linear model is squared.\n",
    "\n",
    "#Because the movies database has a number of nans in it, it's a bit difficult to work with. Instead, let's do the tutorial here on linear regression using Boston housing data: https://towardsdatascience.com/linear-regression-on-boston-housing-dataset-f409b7e4a155\n",
    "\n",
    "#This tutorial uses the package scikit-learn"
   ]
  },
  {
   "cell_type": "markdown",
   "metadata": {},
   "source": [
    "#### notes on linear regression\n",
    "if you are trying to find out the relationship between earnings and budget, you would try to make a linear equation (y = mx + b) or (earnings = m*budget + b)\n",
    "\n",
    "#finding m and b is \"machine learning\"\n",
    "#calculate residuals of m and b, residuals are the difference between the model and the data\n",
    "#usually we square the residuals because this gets rid of the negative values \n"
   ]
  },
  {
   "cell_type": "code",
   "execution_count": 43,
   "metadata": {},
   "outputs": [],
   "source": [
    "from sklearn import datasets ## imports datasets from scikit-learn\n",
    "data = datasets.load_boston() ## loads Boston dataset from datasets library"
   ]
  },
  {
   "cell_type": "markdown",
   "metadata": {},
   "source": [
    "What we want to do here is to determine which variables contribute to housing prices"
   ]
  },
  {
   "cell_type": "code",
   "execution_count": 47,
   "metadata": {},
   "outputs": [],
   "source": [
    "data?\n",
    "#this data is a \"bunch\" container object, it coems with a discription"
   ]
  },
  {
   "cell_type": "code",
   "execution_count": 48,
   "metadata": {},
   "outputs": [
    {
     "name": "stdout",
     "output_type": "stream",
     "text": [
      ".. _boston_dataset:\n",
      "\n",
      "Boston house prices dataset\n",
      "---------------------------\n",
      "\n",
      "**Data Set Characteristics:**  \n",
      "\n",
      "    :Number of Instances: 506 \n",
      "\n",
      "    :Number of Attributes: 13 numeric/categorical predictive. Median Value (attribute 14) is usually the target.\n",
      "\n",
      "    :Attribute Information (in order):\n",
      "        - CRIM     per capita crime rate by town\n",
      "        - ZN       proportion of residential land zoned for lots over 25,000 sq.ft.\n",
      "        - INDUS    proportion of non-retail business acres per town\n",
      "        - CHAS     Charles River dummy variable (= 1 if tract bounds river; 0 otherwise)\n",
      "        - NOX      nitric oxides concentration (parts per 10 million)\n",
      "        - RM       average number of rooms per dwelling\n",
      "        - AGE      proportion of owner-occupied units built prior to 1940\n",
      "        - DIS      weighted distances to five Boston employment centres\n",
      "        - RAD      index of accessibility to radial highways\n",
      "        - TAX      full-value property-tax rate per $10,000\n",
      "        - PTRATIO  pupil-teacher ratio by town\n",
      "        - B        1000(Bk - 0.63)^2 where Bk is the proportion of blacks by town\n",
      "        - LSTAT    % lower status of the population\n",
      "        - MEDV     Median value of owner-occupied homes in $1000's\n",
      "\n",
      "    :Missing Attribute Values: None\n",
      "\n",
      "    :Creator: Harrison, D. and Rubinfeld, D.L.\n",
      "\n",
      "This is a copy of UCI ML housing dataset.\n",
      "https://archive.ics.uci.edu/ml/machine-learning-databases/housing/\n",
      "\n",
      "\n",
      "This dataset was taken from the StatLib library which is maintained at Carnegie Mellon University.\n",
      "\n",
      "The Boston house-price data of Harrison, D. and Rubinfeld, D.L. 'Hedonic\n",
      "prices and the demand for clean air', J. Environ. Economics & Management,\n",
      "vol.5, 81-102, 1978.   Used in Belsley, Kuh & Welsch, 'Regression diagnostics\n",
      "...', Wiley, 1980.   N.B. Various transformations are used in the table on\n",
      "pages 244-261 of the latter.\n",
      "\n",
      "The Boston house-price data has been used in many machine learning papers that address regression\n",
      "problems.   \n",
      "     \n",
      ".. topic:: References\n",
      "\n",
      "   - Belsley, Kuh & Welsch, 'Regression diagnostics: Identifying Influential Data and Sources of Collinearity', Wiley, 1980. 244-261.\n",
      "   - Quinlan,R. (1993). Combining Instance-Based and Model-Based Learning. In Proceedings on the Tenth International Conference of Machine Learning, 236-243, University of Massachusetts, Amherst. Morgan Kaufmann.\n",
      "\n"
     ]
    }
   ],
   "source": [
    "# information on the data:\n",
    "print(data.DESCR)"
   ]
  },
  {
   "cell_type": "code",
   "execution_count": 52,
   "metadata": {},
   "outputs": [],
   "source": [
    "# we are going to make two sets, a data fram (df) and a target"
   ]
  },
  {
   "cell_type": "code",
   "execution_count": 49,
   "metadata": {},
   "outputs": [],
   "source": [
    "# convert the data set into a pandas data frame  \n",
    "df = pd.DataFrame(data.data, columns=data.feature_names)\n",
    "\n",
    "# Put the target (housing value -- MEDV) in another DataFrame\n",
    "target = pd.DataFrame(data.target, columns=[\"MEDV\"])"
   ]
  },
  {
   "cell_type": "code",
   "execution_count": 53,
   "metadata": {},
   "outputs": [
    {
     "data": {
      "text/plain": [
       "array([[1.        , 0.69535995],\n",
       "       [0.69535995, 1.        ]])"
      ]
     },
     "execution_count": 53,
     "metadata": {},
     "output_type": "execute_result"
    }
   ],
   "source": [
    "# are room numbers and value correlated?\n",
    "# numpy can ask the correlation coefficient of two things\n",
    "np.corrcoef(df[\"RM\"], target[\"MEDV\"])"
   ]
  },
  {
   "cell_type": "code",
   "execution_count": 51,
   "metadata": {},
   "outputs": [
    {
     "data": {
      "text/plain": [
       "Text(0, 0.5, 'House value ($1000s)')"
      ]
     },
     "execution_count": 51,
     "metadata": {},
     "output_type": "execute_result"
    },
    {
     "data": {
      "image/png": "[encoded data removed]",
      "text/plain": [
       "<Figure size 432x288 with 1 Axes>"
      ]
     },
     "metadata": {
      "needs_background": "light"
     },
     "output_type": "display_data"
    }
   ],
   "source": [
    "plt.scatter(df[\"RM\"], target[\"MEDV\"])\n",
    "plt.xlabel('Number of Rooms')\n",
    "plt.ylabel('House value ($1000s)')"
   ]
  },
  {
   "cell_type": "markdown",
   "metadata": {},
   "source": [
    "## Doing a linear regression using scipy"
   ]
  },
  {
   "cell_type": "code",
   "execution_count": 55,
   "metadata": {},
   "outputs": [],
   "source": [
    "from scipy import stats"
   ]
  },
  {
   "cell_type": "code",
   "execution_count": 56,
   "metadata": {},
   "outputs": [],
   "source": [
    "slope, intercept, r_value, p_value, std_err = stats.linregress(df[\"RM\"],target[\"MEDV\"])\n"
   ]
  },
  {
   "cell_type": "markdown",
   "metadata": {},
   "source": [
    "#this gives us the slope and intercept of the line, the corrlation (r_value)\n",
    "#A low p-value (< 0.05) indicates that the linear regression is a good model\n",
    "#the standard error is the standard deviation of the data from the model (instead of the mean)"
   ]
  },
  {
   "cell_type": "code",
   "execution_count": 57,
   "metadata": {},
   "outputs": [
    {
     "data": {
      "text/plain": [
       "9.102108981180306"
      ]
     },
     "execution_count": 57,
     "metadata": {},
     "output_type": "execute_result"
    }
   ],
   "source": [
    "slope"
   ]
  },
  {
   "cell_type": "code",
   "execution_count": 58,
   "metadata": {},
   "outputs": [
    {
     "data": {
      "text/plain": [
       "-34.67062077643854"
      ]
     },
     "execution_count": 58,
     "metadata": {},
     "output_type": "execute_result"
    }
   ],
   "source": [
    "intercept"
   ]
  },
  {
   "cell_type": "code",
   "execution_count": 59,
   "metadata": {},
   "outputs": [
    {
     "data": {
      "text/plain": [
       "0.695359947071539"
      ]
     },
     "execution_count": 59,
     "metadata": {},
     "output_type": "execute_result"
    }
   ],
   "source": [
    "r_value\n",
    "#note this is the same correlation value"
   ]
  },
  {
   "cell_type": "code",
   "execution_count": 60,
   "metadata": {},
   "outputs": [
    {
     "data": {
      "text/plain": [
       "2.487228871008377e-74"
      ]
     },
     "execution_count": 60,
     "metadata": {},
     "output_type": "execute_result"
    }
   ],
   "source": [
    "p_value"
   ]
  },
  {
   "cell_type": "code",
   "execution_count": 61,
   "metadata": {},
   "outputs": [
    {
     "data": {
      "text/plain": [
       "0.41902656012134054"
      ]
     },
     "execution_count": 61,
     "metadata": {},
     "output_type": "execute_result"
    }
   ],
   "source": [
    "std_err"
   ]
  },
  {
   "cell_type": "code",
   "execution_count": 63,
   "metadata": {},
   "outputs": [
    {
     "data": {
      "text/plain": [
       "Text(0, 0.5, 'House value ($1000s)')"
      ]
     },
     "execution_count": 63,
     "metadata": {},
     "output_type": "execute_result"
    },
    {
     "data": {
      "image/png": "[encoded data removed]",
      "text/plain": [
       "<Figure size 432x288 with 1 Axes>"
      ]
     },
     "metadata": {
      "needs_background": "light"
     },
     "output_type": "display_data"
    }
   ],
   "source": [
    "#your y = mx + b\n",
    "#plug in the df, slope, and intercept that you found above\n",
    "\n",
    "\n",
    "plt.plot(df[\"RM\"], slope*df[\"RM\"]+intercept)\n",
    "plt.scatter(df[\"RM\"], target[\"MEDV\"])\n",
    "plt.xlabel('Number of Rooms')\n",
    "plt.ylabel('House value ($1000s)')"
   ]
  },
  {
   "cell_type": "markdown",
   "metadata": {},
   "source": [
    "# Doing a linear regression using statsmodels\n",
    "https://towardsdatascience.com/simple-and-multiple-linear-regression-in-python-c928425168f9\n",
    "\n",
    "https://www.statsmodels.org/dev/index.html\n",
    "#stats models allows you to do multiple linear regression easily. "
   ]
  },
  {
   "cell_type": "code",
   "execution_count": 64,
   "metadata": {},
   "outputs": [],
   "source": [
    "import statsmodels.api as sm"
   ]
  },
  {
   "cell_type": "code",
   "execution_count": 65,
   "metadata": {},
   "outputs": [],
   "source": [
    "#renaming the variables for simplification\n",
    "X = df[\"RM\"] # what we think the cost depends on\n",
    "y = target[\"MEDV\"]"
   ]
  },
  {
   "cell_type": "code",
   "execution_count": 66,
   "metadata": {},
   "outputs": [],
   "source": [
    "#define the model first\n",
    "# Note y, the target, goes first:\n",
    "model = sm.OLS(y, X).fit()\n",
    "\n",
    "# this is fitting y = aX, with no constant, or rather an intercept of zero"
   ]
  },
  {
   "cell_type": "code",
   "execution_count": 67,
   "metadata": {},
   "outputs": [
    {
     "data": {
      "text/html": [
       "<table class=\"simpletable\">\n",
       "<caption>OLS Regression Results</caption>\n",
       "<tr>\n",
       "  <th>Dep. Variable:</th>          <td>MEDV</td>       <th>  R-squared:         </th> <td>   0.901</td> \n",
       "</tr>\n",
       "<tr>\n",
       "  <th>Model:</th>                   <td>OLS</td>       <th>  Adj. R-squared:    </th> <td>   0.901</td> \n",
       "</tr>\n",
       "<tr>\n",
       "  <th>Method:</th>             <td>Least Squares</td>  <th>  F-statistic:       </th> <td>   4615.</td> \n",
       "</tr>\n",
       "<tr>\n",
       "  <th>Date:</th>             <td>Mon, 18 Mar 2019</td> <th>  Prob (F-statistic):</th> <td>3.74e-256</td>\n",
       "</tr>\n",
       "<tr>\n",
       "  <th>Time:</th>                 <td>15:27:25</td>     <th>  Log-Likelihood:    </th> <td> -1747.1</td> \n",
       "</tr>\n",
       "<tr>\n",
       "  <th>No. Observations:</th>      <td>   506</td>      <th>  AIC:               </th> <td>   3496.</td> \n",
       "</tr>\n",
       "<tr>\n",
       "  <th>Df Residuals:</th>          <td>   505</td>      <th>  BIC:               </th> <td>   3500.</td> \n",
       "</tr>\n",
       "<tr>\n",
       "  <th>Df Model:</th>              <td>     1</td>      <th>                     </th>     <td> </td>    \n",
       "</tr>\n",
       "<tr>\n",
       "  <th>Covariance Type:</th>      <td>nonrobust</td>    <th>                     </th>     <td> </td>    \n",
       "</tr>\n",
       "</table>\n",
       "<table class=\"simpletable\">\n",
       "<tr>\n",
       "   <td></td>     <th>coef</th>     <th>std err</th>      <th>t</th>      <th>P>|t|</th>  <th>[0.025</th>    <th>0.975]</th>  \n",
       "</tr>\n",
       "<tr>\n",
       "  <th>RM</th> <td>    3.6534</td> <td>    0.054</td> <td>   67.930</td> <td> 0.000</td> <td>    3.548</td> <td>    3.759</td>\n",
       "</tr>\n",
       "</table>\n",
       "<table class=\"simpletable\">\n",
       "<tr>\n",
       "  <th>Omnibus:</th>       <td>83.295</td> <th>  Durbin-Watson:     </th> <td>   0.493</td>\n",
       "</tr>\n",
       "<tr>\n",
       "  <th>Prob(Omnibus):</th> <td> 0.000</td> <th>  Jarque-Bera (JB):  </th> <td> 152.507</td>\n",
       "</tr>\n",
       "<tr>\n",
       "  <th>Skew:</th>          <td> 0.955</td> <th>  Prob(JB):          </th> <td>7.65e-34</td>\n",
       "</tr>\n",
       "<tr>\n",
       "  <th>Kurtosis:</th>      <td> 4.894</td> <th>  Cond. No.          </th> <td>    1.00</td>\n",
       "</tr>\n",
       "</table><br/><br/>Warnings:<br/>[1] Standard Errors assume that the covariance matrix of the errors is correctly specified."
      ],
      "text/plain": [
       "<class 'statsmodels.iolib.summary.Summary'>\n",
       "\"\"\"\n",
       "                            OLS Regression Results                            \n",
       "==============================================================================\n",
       "Dep. Variable:                   MEDV   R-squared:                       0.901\n",
       "Model:                            OLS   Adj. R-squared:                  0.901\n",
       "Method:                 Least Squares   F-statistic:                     4615.\n",
       "Date:                Mon, 18 Mar 2019   Prob (F-statistic):          3.74e-256\n",
       "Time:                        15:27:25   Log-Likelihood:                -1747.1\n",
       "No. Observations:                 506   AIC:                             3496.\n",
       "Df Residuals:                     505   BIC:                             3500.\n",
       "Df Model:                           1                                         \n",
       "Covariance Type:            nonrobust                                         \n",
       "==============================================================================\n",
       "                 coef    std err          t      P>|t|      [0.025      0.975]\n",
       "------------------------------------------------------------------------------\n",
       "RM             3.6534      0.054     67.930      0.000       3.548       3.759\n",
       "==============================================================================\n",
       "Omnibus:                       83.295   Durbin-Watson:                   0.493\n",
       "Prob(Omnibus):                  0.000   Jarque-Bera (JB):              152.507\n",
       "Skew:                           0.955   Prob(JB):                     7.65e-34\n",
       "Kurtosis:                       4.894   Cond. No.                         1.00\n",
       "==============================================================================\n",
       "\n",
       "Warnings:\n",
       "[1] Standard Errors assume that the covariance matrix of the errors is correctly specified.\n",
       "\"\"\""
      ]
     },
     "execution_count": 67,
     "metadata": {},
     "output_type": "execute_result"
    }
   ],
   "source": [
    "model.summary()"
   ]
  },
  {
   "cell_type": "code",
   "execution_count": 68,
   "metadata": {},
   "outputs": [],
   "source": [
    "predictions = model.predict(X) # make the predictions by the model"
   ]
  },
  {
   "cell_type": "code",
   "execution_count": 72,
   "metadata": {},
   "outputs": [
    {
     "data": {
      "text/plain": [
       "0      24.020779\n",
       "1      23.458163\n",
       "2      26.249323\n",
       "3      25.566146\n",
       "4      26.110495\n",
       "5      23.491043\n",
       "6      21.963943\n",
       "7      22.548479\n",
       "8      20.572016\n",
       "9      21.934716\n",
       "10     23.297416\n",
       "11     21.952983\n",
       "12     21.514581\n",
       "13     21.733782\n",
       "14     22.270824\n",
       "15     21.313646\n",
       "16     21.682635\n",
       "17     21.883569\n",
       "18     19.932680\n",
       "19     20.922738\n",
       "20     20.349162\n",
       "21     21.792235\n",
       "22     22.438878\n",
       "23     21.236926\n",
       "24     21.642448\n",
       "25     20.455109\n",
       "26     21.236926\n",
       "27     22.091810\n",
       "28     23.728511\n",
       "29     24.382461\n",
       "         ...    \n",
       "476    23.688324\n",
       "477    19.377371\n",
       "478    22.595972\n",
       "479    22.756720\n",
       "480    22.804213\n",
       "481    24.660115\n",
       "482    25.796307\n",
       "483    21.050605\n",
       "484    21.448820\n",
       "485    23.059948\n",
       "486    22.336584\n",
       "487    21.573034\n",
       "488    19.925373\n",
       "489    19.779239\n",
       "490    18.606514\n",
       "491    21.857995\n",
       "492    21.857995\n",
       "493    20.849671\n",
       "494    21.649754\n",
       "495    20.714497\n",
       "496    19.691559\n",
       "497    21.167512\n",
       "498    21.989516\n",
       "499    20.345508\n",
       "500    22.018743\n",
       "501    24.086539\n",
       "502    22.358504\n",
       "503    25.485772\n",
       "504    24.820863\n",
       "505    22.029703\n",
       "Length: 506, dtype: float64"
      ]
     },
     "execution_count": 72,
     "metadata": {},
     "output_type": "execute_result"
    }
   ],
   "source": [
    "predictions"
   ]
  },
  {
   "cell_type": "code",
   "execution_count": 69,
   "metadata": {},
   "outputs": [
    {
     "data": {
      "text/plain": [
       "Text(0, 0.5, 'House value ($1000s)')"
      ]
     },
     "execution_count": 69,
     "metadata": {},
     "output_type": "execute_result"
    },
    {
     "data": {
      "image/png": "[encoded data removed]",
      "text/plain": [
       "<Figure size 432x288 with 1 Axes>"
      ]
     },
     "metadata": {
      "needs_background": "light"
     },
     "output_type": "display_data"
    }
   ],
   "source": [
    "plt.plot(X,predictions, 'k--')\n",
    "plt.scatter(df[\"RM\"], target[\"MEDV\"])\n",
    "plt.xlabel('Number of Rooms')\n",
    "plt.ylabel('House value ($1000s)')\n",
    "# this is not a very good fit"
   ]
  },
  {
   "cell_type": "code",
   "execution_count": 70,
   "metadata": {},
   "outputs": [],
   "source": [
    "#Note that with statsmodels you can easily do generalized linear regression, i.e. regression with more than one variable:\n",
    "#y = aX_1 + bX_2 + ..."
   ]
  },
  {
   "cell_type": "markdown",
   "metadata": {},
   "source": [
    "# E3. do the tutorial:\n",
    "https://towardsdatascience.com/linear-regression-on-boston-housing-dataset-f409b7e4a155"
   ]
  },
  {
   "cell_type": "code",
   "execution_count": 78,
   "metadata": {},
   "outputs": [],
   "source": [
    "#First, we will import the required libraries.\n",
    "import numpy as np\n",
    "import matplotlib.pyplot as plt \n",
    "\n",
    "import pandas as pd  \n",
    "import seaborn as sns \n",
    "\n",
    "%matplotlib inline\n"
   ]
  },
  {
   "cell_type": "code",
   "execution_count": 79,
   "metadata": {},
   "outputs": [],
   "source": [
    "#Next, we will load the housing data from the scikit-learn library and understand it.\n",
    "from sklearn.datasets import load_boston\n",
    "boston_dataset = load_boston()"
   ]
  },
  {
   "cell_type": "code",
   "execution_count": 83,
   "metadata": {},
   "outputs": [
    {
     "name": "stdout",
     "output_type": "stream",
     "text": [
      "dict_keys(['data', 'target', 'feature_names', 'DESCR', 'filename'])\n"
     ]
    }
   ],
   "source": [
    "#We print the value of the boston_dataset to understand what it contains. print(boston_dataset.keys()) gives\n",
    "print(boston_dataset.keys())\n",
    "\n",
    "#data: contains the information for various houses\n",
    "#target: prices of the house\n",
    "#feature_names: names of the features\n",
    "#DESCR: describes the dataset\n",
    "\n",
    "#To know more about the features use boston_dataset.DESCR\n"
   ]
  },
  {
   "cell_type": "code",
   "execution_count": 84,
   "metadata": {},
   "outputs": [
    {
     "data": {
      "text/html": [
       "<div>\n",
       "<style scoped>\n",
       "    .dataframe tbody tr th:only-of-type {\n",
       "        vertical-align: middle;\n",
       "    }\n",
       "\n",
       "    .dataframe tbody tr th {\n",
       "        vertical-align: top;\n",
       "    }\n",
       "\n",
       "    .dataframe thead th {\n",
       "        text-align: right;\n",
       "    }\n",
       "</style>\n",
       "<table border=\"1\" class=\"dataframe\">\n",
       "  <thead>\n",
       "    <tr style=\"text-align: right;\">\n",
       "      <th></th>\n",
       "      <th>CRIM</th>\n",
       "      <th>ZN</th>\n",
       "      <th>INDUS</th>\n",
       "      <th>CHAS</th>\n",
       "      <th>NOX</th>\n",
       "      <th>RM</th>\n",
       "      <th>AGE</th>\n",
       "      <th>DIS</th>\n",
       "      <th>RAD</th>\n",
       "      <th>TAX</th>\n",
       "      <th>PTRATIO</th>\n",
       "      <th>B</th>\n",
       "      <th>LSTAT</th>\n",
       "    </tr>\n",
       "  </thead>\n",
       "  <tbody>\n",
       "    <tr>\n",
       "      <th>0</th>\n",
       "      <td>0.00632</td>\n",
       "      <td>18.0</td>\n",
       "      <td>2.31</td>\n",
       "      <td>0.0</td>\n",
       "      <td>0.538</td>\n",
       "      <td>6.575</td>\n",
       "      <td>65.2</td>\n",
       "      <td>4.0900</td>\n",
       "      <td>1.0</td>\n",
       "      <td>296.0</td>\n",
       "      <td>15.3</td>\n",
       "      <td>396.90</td>\n",
       "      <td>4.98</td>\n",
       "    </tr>\n",
       "    <tr>\n",
       "      <th>1</th>\n",
       "      <td>0.02731</td>\n",
       "      <td>0.0</td>\n",
       "      <td>7.07</td>\n",
       "      <td>0.0</td>\n",
       "      <td>0.469</td>\n",
       "      <td>6.421</td>\n",
       "      <td>78.9</td>\n",
       "      <td>4.9671</td>\n",
       "      <td>2.0</td>\n",
       "      <td>242.0</td>\n",
       "      <td>17.8</td>\n",
       "      <td>396.90</td>\n",
       "      <td>9.14</td>\n",
       "    </tr>\n",
       "    <tr>\n",
       "      <th>2</th>\n",
       "      <td>0.02729</td>\n",
       "      <td>0.0</td>\n",
       "      <td>7.07</td>\n",
       "      <td>0.0</td>\n",
       "      <td>0.469</td>\n",
       "      <td>7.185</td>\n",
       "      <td>61.1</td>\n",
       "      <td>4.9671</td>\n",
       "      <td>2.0</td>\n",
       "      <td>242.0</td>\n",
       "      <td>17.8</td>\n",
       "      <td>392.83</td>\n",
       "      <td>4.03</td>\n",
       "    </tr>\n",
       "    <tr>\n",
       "      <th>3</th>\n",
       "      <td>0.03237</td>\n",
       "      <td>0.0</td>\n",
       "      <td>2.18</td>\n",
       "      <td>0.0</td>\n",
       "      <td>0.458</td>\n",
       "      <td>6.998</td>\n",
       "      <td>45.8</td>\n",
       "      <td>6.0622</td>\n",
       "      <td>3.0</td>\n",
       "      <td>222.0</td>\n",
       "      <td>18.7</td>\n",
       "      <td>394.63</td>\n",
       "      <td>2.94</td>\n",
       "    </tr>\n",
       "    <tr>\n",
       "      <th>4</th>\n",
       "      <td>0.06905</td>\n",
       "      <td>0.0</td>\n",
       "      <td>2.18</td>\n",
       "      <td>0.0</td>\n",
       "      <td>0.458</td>\n",
       "      <td>7.147</td>\n",
       "      <td>54.2</td>\n",
       "      <td>6.0622</td>\n",
       "      <td>3.0</td>\n",
       "      <td>222.0</td>\n",
       "      <td>18.7</td>\n",
       "      <td>396.90</td>\n",
       "      <td>5.33</td>\n",
       "    </tr>\n",
       "  </tbody>\n",
       "</table>\n",
       "</div>"
      ],
      "text/plain": [
       "      CRIM    ZN  INDUS  CHAS    NOX     RM   AGE     DIS  RAD    TAX  \\\n",
       "0  0.00632  18.0   2.31   0.0  0.538  6.575  65.2  4.0900  1.0  296.0   \n",
       "1  0.02731   0.0   7.07   0.0  0.469  6.421  78.9  4.9671  2.0  242.0   \n",
       "2  0.02729   0.0   7.07   0.0  0.469  7.185  61.1  4.9671  2.0  242.0   \n",
       "3  0.03237   0.0   2.18   0.0  0.458  6.998  45.8  6.0622  3.0  222.0   \n",
       "4  0.06905   0.0   2.18   0.0  0.458  7.147  54.2  6.0622  3.0  222.0   \n",
       "\n",
       "   PTRATIO       B  LSTAT  \n",
       "0     15.3  396.90   4.98  \n",
       "1     17.8  396.90   9.14  \n",
       "2     17.8  392.83   4.03  \n",
       "3     18.7  394.63   2.94  \n",
       "4     18.7  396.90   5.33  "
      ]
     },
     "execution_count": 84,
     "metadata": {},
     "output_type": "execute_result"
    }
   ],
   "source": [
    "#We will now load the data into a pandas dataframe using pd.DataFrame. We then print the first 5 rows of the data using head()\n",
    "boston = pd.DataFrame(boston_dataset.data, columns=boston_dataset.feature_names)\n",
    "boston.head()\n"
   ]
  },
  {
   "cell_type": "code",
   "execution_count": 85,
   "metadata": {},
   "outputs": [],
   "source": [
    "#We can see that the target value MEDV is missing from the data. We create a new column of target values and add it to the dataframe.\n",
    "boston['MEDV'] = boston_dataset.target\n"
   ]
  },
  {
   "cell_type": "markdown",
   "metadata": {},
   "source": [
    "### Exploratory Data Analysis\n",
    "Exploratory Data Analysis is a very important step before training the model. In this section, we will use some visualizations to understand the relationship of the target variable with other features.\n",
    "\n",
    "#the correlation coefficient ranges from -1 to 1. If the value is close to 1, it means that there is a strong positive correlation between the two variables. When it is close to -1, the variables have a strong negative correlation.\n"
   ]
  },
  {
   "cell_type": "code",
   "execution_count": 86,
   "metadata": {
    "scrolled": true
   },
   "outputs": [
    {
     "name": "stderr",
     "output_type": "stream",
     "text": [
      "/anaconda3/lib/python3.7/site-packages/scipy/stats/stats.py:1713: FutureWarning: Using a non-tuple sequence for multidimensional indexing is deprecated; use `arr[tuple(seq)]` instead of `arr[seq]`. In the future this will be interpreted as an array index, `arr[np.array(seq)]`, which will result either in an error or a different result.\n",
      "  return np.add.reduce(sorted[indexer] * weights, axis=axis) / sumval\n"
     ]
    },
    {
     "data": {
      "image/png": "[encoded data removed]",
      "text/plain": [
       "<Figure size 842.4x595.44 with 1 Axes>"
      ]
     },
     "metadata": {},
     "output_type": "display_data"
    }
   ],
   "source": [
    "#Let’s first plot the distribution of the target variable MEDV. We will use the distplot function from the seaborn library.\n",
    "sns.set(rc={'figure.figsize':(11.7,8.27)})\n",
    "sns.distplot(boston['MEDV'], bins=30)\n",
    "plt.show()"
   ]
  },
  {
   "cell_type": "markdown",
   "metadata": {},
   "source": [
    "Next, we create a correlation matrix that measures the linear relationships between the variables. The correlation matrix can be formed by using the corr function from the pandas dataframe library. We will use the heatmap function from the seaborn library to plot the correlation matrix.\n"
   ]
  },
  {
   "cell_type": "code",
   "execution_count": 87,
   "metadata": {},
   "outputs": [
    {
     "data": {
      "text/plain": [
       "<matplotlib.axes._subplots.AxesSubplot at 0xd1a3567b8>"
      ]
     },
     "execution_count": 87,
     "metadata": {},
     "output_type": "execute_result"
    },
    {
     "data": {
      "image/png": "[encoded data removed]",
      "text/plain": [
       "<Figure size 842.4x595.44 with 2 Axes>"
      ]
     },
     "metadata": {},
     "output_type": "display_data"
    }
   ],
   "source": [
    "correlation_matrix = boston.corr().round(2)\n",
    "# annot = True to print the values inside the square\n",
    "sns.heatmap(data=correlation_matrix, annot=True)\n"
   ]
  },
  {
   "cell_type": "markdown",
   "metadata": {},
   "source": [
    "### Observations of Exploratory Analysis\n",
    "#To fit a linear regression model, we select those features which have a high correlation with our target variable MEDV. By looking at the correlation matrix we can see that RM has a strong positive correlation with MEDV (0.7) where as LSTAT has a high negative correlation with MEDV(-0.74).\n",
    "\n",
    "#An important point in selecting features for a linear regression model is to check for multi-co-linearity. The features RAD, TAX have a correlation of 0.91. These feature pairs are strongly correlated to each other. We should not select both these features together for training the model. Check this for an explanation. Same goes for the features DIS and AGE which have a correlation of -0.75."
   ]
  },
  {
   "cell_type": "markdown",
   "metadata": {},
   "source": [
    "Based on the above observations we will RM and LSTAT as our features. Using a scatter plot let’s see how these features vary with MEDV.\n"
   ]
  },
  {
   "cell_type": "code",
   "execution_count": 88,
   "metadata": {},
   "outputs": [
    {
     "data": {
      "image/png": "[encoded data removed]",
      "text/plain": [
       "<Figure size 1440x360 with 2 Axes>"
      ]
     },
     "metadata": {},
     "output_type": "display_data"
    }
   ],
   "source": [
    "plt.figure(figsize=(20, 5))\n",
    "\n",
    "features = ['LSTAT', 'RM']\n",
    "target = boston['MEDV']\n",
    "\n",
    "for i, col in enumerate(features):\n",
    "    plt.subplot(1, len(features) , i+1)\n",
    "    x = boston[col]\n",
    "    y = target\n",
    "    plt.scatter(x, y, marker='o')\n",
    "    plt.title(col)\n",
    "    plt.xlabel(col)\n",
    "    plt.ylabel('MEDV')"
   ]
  },
  {
   "cell_type": "markdown",
   "metadata": {},
   "source": [
    "### Observations:\n",
    "The prices increase as the value of RM increases linearly. There are few outliers and the data seems to be capped at 50.\n",
    "#The prices tend to decrease with an increase in LSTAT. Though it doesn’t look to be following exactly a linear line."
   ]
  },
  {
   "cell_type": "markdown",
   "metadata": {},
   "source": [
    "### Preparing the data for training the model\n",
    "We concatenate the LSTAT and RM columns using np.c_ provided by the numpy library."
   ]
  },
  {
   "cell_type": "code",
   "execution_count": 129,
   "metadata": {},
   "outputs": [],
   "source": [
    "X = pd.DataFrame(np.c_[boston['LSTAT'], boston['RM']], columns = ['LSTAT','RM'])\n",
    "Y = boston['MEDV']"
   ]
  },
  {
   "cell_type": "code",
   "execution_count": 132,
   "metadata": {},
   "outputs": [
    {
     "data": {
      "text/plain": [
       "(506, 2)"
      ]
     },
     "execution_count": 132,
     "metadata": {},
     "output_type": "execute_result"
    }
   ],
   "source": [
    "X.shape"
   ]
  },
  {
   "cell_type": "markdown",
   "metadata": {},
   "source": [
    "### Splitting the data into training and testing sets\n",
    "Next, we split the data into training and testing sets. We train the model with 80% of the samples and test with the remaining 20%. We do this to assess the model’s performance on unseen data. To split the data we use train_test_split function provided by scikit-learn library. We finally print the sizes of our training and test set to verify if the splitting has occurred properly."
   ]
  },
  {
   "cell_type": "code",
   "execution_count": 91,
   "metadata": {},
   "outputs": [
    {
     "name": "stdout",
     "output_type": "stream",
     "text": [
      "(404, 2)\n",
      "(102, 2)\n",
      "(404,)\n",
      "(102,)\n"
     ]
    }
   ],
   "source": [
    "from sklearn.model_selection import train_test_split\n",
    "\n",
    "X_train, X_test, Y_train, Y_test = train_test_split(X, Y, test_size = 0.2, random_state=5)\n",
    "print(X_train.shape)\n",
    "print(X_test.shape)\n",
    "print(Y_train.shape)\n",
    "print(Y_test.shape)"
   ]
  },
  {
   "cell_type": "markdown",
   "metadata": {},
   "source": [
    "### Training and testing the model\n",
    "We use scikit-learn’s LinearRegression to train our model on both the training and test sets."
   ]
  },
  {
   "cell_type": "code",
   "execution_count": 92,
   "metadata": {},
   "outputs": [
    {
     "data": {
      "text/plain": [
       "LinearRegression(copy_X=True, fit_intercept=True, n_jobs=None,\n",
       "         normalize=False)"
      ]
     },
     "execution_count": 92,
     "metadata": {},
     "output_type": "execute_result"
    }
   ],
   "source": [
    "from sklearn.linear_model import LinearRegression\n",
    "from sklearn.metrics import mean_squared_error\n",
    "\n",
    "lin_model = LinearRegression()\n",
    "lin_model.fit(X_train, Y_train)"
   ]
  },
  {
   "cell_type": "markdown",
   "metadata": {},
   "source": [
    "### Model evaluation\n",
    "We will evaluate our model using RMSE and R2-score.\n"
   ]
  },
  {
   "cell_type": "code",
   "execution_count": 108,
   "metadata": {},
   "outputs": [],
   "source": [
    "from sklearn.metrics import r2_score"
   ]
  },
  {
   "cell_type": "code",
   "execution_count": 109,
   "metadata": {},
   "outputs": [
    {
     "name": "stdout",
     "output_type": "stream",
     "text": [
      "The model performance for training set\n",
      "--------------------------------------\n",
      "RMSE is 5.6371293350711955\n",
      "R2 score is 0.6300745149331701\n",
      "\n",
      "\n",
      "The model performance for testing set\n",
      "--------------------------------------\n",
      "RMSE is 5.13740078470291\n",
      "R2 score is 0.6628996975186954\n"
     ]
    }
   ],
   "source": [
    "\n",
    "# model evaluation for training set\n",
    "y_train_predict = lin_model.predict(X_train)\n",
    "rmse = (np.sqrt(mean_squared_error(Y_train, y_train_predict)))\n",
    "r2 = r2_score(Y_train, y_train_predict)\n",
    "\n",
    "print(\"The model performance for training set\")\n",
    "print(\"--------------------------------------\")\n",
    "print('RMSE is {}'.format(rmse))\n",
    "print('R2 score is {}'.format(r2))\n",
    "print(\"\\n\")\n",
    "\n",
    "# model evaluation for testing set\n",
    "y_test_predict = lin_model.predict(X_test)\n",
    "rmse = (np.sqrt(mean_squared_error(Y_test, y_test_predict)))\n",
    "r2 = r2_score(Y_test, y_test_predict)\n",
    "\n",
    "print(\"The model performance for testing set\")\n",
    "print(\"--------------------------------------\")\n",
    "print('RMSE is {}'.format(rmse))\n",
    "print('R2 score is {}'.format(r2))"
   ]
  },
  {
   "cell_type": "markdown",
   "metadata": {},
   "source": [
    "# E4. Following the methods in the tutorial above, do the regression with just the rooms and not the other variable. How does this compare with the scipy result?\n",
    "This may be helpful is figuring out how to write out the slope and intercept:\n",
    "https://towardsdatascience.com/linear-regression-using-python-b136c91bf0a2"
   ]
  },
  {
   "cell_type": "code",
   "execution_count": 143,
   "metadata": {},
   "outputs": [],
   "source": [
    "# define the variables \n",
    "MEDV = boston['MEDV']\n",
    "RM = pd.DataFrame(np.c_[boston['RM'], boston['RM']], columns = ['RM','RM'])\n",
    "\n",
    "# Initially, I did RM = boston['RM']\n",
    "# But when I ran the linear regression it needed a 2D array\n",
    "# So I'm concating the RM with RM to make a repetitive 2D array\n",
    "\n"
   ]
  },
  {
   "cell_type": "code",
   "execution_count": 144,
   "metadata": {},
   "outputs": [
    {
     "data": {
      "text/plain": [
       "(506, 2)"
      ]
     },
     "execution_count": 144,
     "metadata": {},
     "output_type": "execute_result"
    }
   ],
   "source": [
    "RM.shape\n",
    "# this will preserve the 2D shape"
   ]
  },
  {
   "cell_type": "code",
   "execution_count": 140,
   "metadata": {},
   "outputs": [
    {
     "name": "stdout",
     "output_type": "stream",
     "text": [
      "(404, 2)\n",
      "(102, 2)\n",
      "(404,)\n",
      "(102,)\n"
     ]
    }
   ],
   "source": [
    "# split the data into training and testing sets\n",
    "RM_train, RM_test, MEDV_train, MEDV_test = train_test_split(RM, MEDV, test_size = 0.2, random_state=5)\n",
    "print(RM_train.shape)\n",
    "print(RM_test.shape)\n",
    "print(MEDV_train.shape)\n",
    "print(MEDV_test.shape)"
   ]
  },
  {
   "cell_type": "code",
   "execution_count": 141,
   "metadata": {},
   "outputs": [
    {
     "data": {
      "text/plain": [
       "LinearRegression(copy_X=True, fit_intercept=True, n_jobs=None,\n",
       "         normalize=False)"
      ]
     },
     "execution_count": 141,
     "metadata": {},
     "output_type": "execute_result"
    }
   ],
   "source": [
    "# train and test the model\n",
    "from sklearn.linear_model import LinearRegression\n",
    "from sklearn.metrics import mean_squared_error\n",
    "\n",
    "lin_model = LinearRegression()\n",
    "lin_model.fit(RM_train, MEDV_train)"
   ]
  },
  {
   "cell_type": "code",
   "execution_count": 142,
   "metadata": {},
   "outputs": [
    {
     "name": "stdout",
     "output_type": "stream",
     "text": [
      "The model performance for training set\n",
      "--------------------------------------\n",
      "RMSE is 6.972277149440586\n",
      "R2 score is 0.43408977906372137\n",
      "\n",
      "\n",
      "The model performance for testing set\n",
      "--------------------------------------\n",
      "RMSE is 4.895963186952216\n",
      "R2 score is 0.6938399401553497\n"
     ]
    }
   ],
   "source": [
    "# model evaluation for training set\n",
    "MEDV_train_predict = lin_model.predict(RM_train)\n",
    "rmse = (np.sqrt(mean_squared_error(MEDV_train, MEDV_train_predict)))\n",
    "r2 = r2_score(MEDV_train, MEDV_train_predict)\n",
    "\n",
    "print(\"The model performance for training set\")\n",
    "print(\"--------------------------------------\")\n",
    "print('RMSE is {}'.format(rmse))\n",
    "print('R2 score is {}'.format(r2))\n",
    "print(\"\\n\")\n",
    "\n",
    "# model evaluation for testing set\n",
    "MEDV_test_predict = lin_model.predict(RM_test)\n",
    "rmse = (np.sqrt(mean_squared_error(MEDV_test, MEDV_test_predict)))\n",
    "r2 = r2_score(MEDV_test, MEDV_test_predict)\n",
    "\n",
    "print(\"The model performance for testing set\")\n",
    "print(\"--------------------------------------\")\n",
    "print('RMSE is {}'.format(rmse))\n",
    "print('R2 score is {}'.format(r2))"
   ]
  },
  {
   "cell_type": "markdown",
   "metadata": {},
   "source": [
    "### I am incredibly pleased with this result, the first time I tried to run the linear regression with just RM data, I just copied the code from the tutorial and had plugged in just RM instead. Because the tutorial had used two variables, The model was expecting a 2D array and wouldn't run, it did give me instructions on how to what I believe is a placeholder into the array (1,-1) or something\n",
    "\n",
    "### I didn't understand so instead I went back to the place in the tutorial where it concantated the RM and LSTAT into the X value, and instead I just concanted RM with RM. \n",
    "\n",
    "### And I think it worked\n",
    "\n",
    "### QUick, easy, hacking"
   ]
  },
  {
   "cell_type": "code",
   "execution_count": null,
   "metadata": {},
   "outputs": [],
   "source": []
  }
 ],
 "metadata": {
  "kernelspec": {
   "display_name": "Python 3",
   "language": "python",
   "name": "python3"
  },
  "language_info": {
   "codemirror_mode": {
    "name": "ipython",
    "version": 3
   },
   "file_extension": ".py",
   "mimetype": "text/x-python",
   "name": "python",
   "nbconvert_exporter": "python",
   "pygments_lexer": "ipython3",
   "version": "3.7.1"
  }
 },
 "nbformat": 4,
 "nbformat_minor": 2
}
