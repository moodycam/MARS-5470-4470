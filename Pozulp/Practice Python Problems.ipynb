{
 "cells": [
  {
   "cell_type": "markdown",
   "metadata": {},
   "source": [
    "# 13 Fibonacci Sequence from Practice Python Exercises"
   ]
  },
  {
   "cell_type": "markdown",
   "metadata": {},
   "source": [
    "Write a function that displays the n first terms of the Fibonacci sequence, defined by:\n",
    "\\left\\{\n",
    "    \\begin{array}{ll}\n",
    "        U_{0} = 0 \\\\\n",
    "        U_{1} = 1 \\\\\n",
    "        U_{n+2} = U_{n+1} + U_{n}\n",
    "    \\end{array}\n"
   ]
  },
  {
   "cell_type": "markdown",
   "metadata": {},
   "source": [
    "I don't really understand the prompt, but I listened to the audio from our class and that was helpful"
   ]
  },
  {
   "cell_type": "code",
   "execution_count": 1,
   "metadata": {},
   "outputs": [
    {
     "name": "stdout",
     "output_type": "stream",
     "text": [
      "0\n",
      "1\n",
      "2\n",
      "done\n"
     ]
    }
   ],
   "source": [
    "a = 0\n",
    "\n",
    "while a < 3:\n",
    "    print(a)\n",
    "    \n",
    "    a = a + 1\n",
    "\n",
    "print(\"done\")"
   ]
  },
  {
   "cell_type": "code",
   "execution_count": 2,
   "metadata": {},
   "outputs": [],
   "source": [
    "fib0 = 0"
   ]
  },
  {
   "cell_type": "code",
   "execution_count": 3,
   "metadata": {},
   "outputs": [],
   "source": [
    "fib1 = 1"
   ]
  },
  {
   "cell_type": "code",
   "execution_count": 4,
   "metadata": {},
   "outputs": [],
   "source": [
    "sequence = 10"
   ]
  },
  {
   "cell_type": "code",
   "execution_count": 5,
   "metadata": {},
   "outputs": [
    {
     "name": "stdout",
     "output_type": "stream",
     "text": [
      "1\n",
      "sequence = 10\n",
      "fib0 =0\n",
      "fib1 =1\n",
      "1\n",
      "sequence = 9\n",
      "fib0 =1\n",
      "fib1 =1\n",
      "2\n",
      "sequence = 8\n",
      "fib0 =1\n",
      "fib1 =2\n",
      "3\n",
      "sequence = 7\n",
      "fib0 =2\n",
      "fib1 =3\n",
      "5\n",
      "sequence = 6\n",
      "fib0 =3\n",
      "fib1 =5\n",
      "8\n",
      "sequence = 5\n",
      "fib0 =5\n",
      "fib1 =8\n",
      "13\n",
      "sequence = 4\n",
      "fib0 =8\n",
      "fib1 =13\n",
      "21\n",
      "sequence = 3\n",
      "fib0 =13\n",
      "fib1 =21\n",
      "34\n",
      "sequence = 2\n",
      "fib0 =21\n",
      "fib1 =34\n",
      "55\n"
     ]
    }
   ],
   "source": [
    "print(fib1)\n",
    "while sequence>1:\n",
    "    print('sequence = ' + str(sequence))\n",
    "    print('fib0 =' + str(fib0))\n",
    "    print('fib1 =' + str(fib1))\n",
    "    print(fib1+fib0)\n",
    "    temp = fib0 + fib1\n",
    "    fib0 = fib1\n",
    "    fib1 = temp\n",
    "    sequence -= 1"
   ]
  },
  {
   "cell_type": "markdown",
   "metadata": {},
   "source": [
    "starting over: trying again"
   ]
  },
  {
   "cell_type": "code",
   "execution_count": 6,
   "metadata": {},
   "outputs": [
    {
     "name": "stdout",
     "output_type": "stream",
     "text": [
      "1\n",
      "1\n",
      "2\n",
      "3\n",
      "5\n",
      "8\n",
      "13\n",
      "21\n",
      "34\n",
      "55\n",
      "89\n",
      "144\n",
      "233\n",
      "377\n",
      "610\n",
      "987\n",
      "1597\n",
      "2584\n",
      "4181\n",
      "6765\n"
     ]
    }
   ],
   "source": [
    "fib1 = 0; fib2 = 1;\n",
    "\n",
    "counter= 20\n",
    "\n",
    "print(fib2)\n",
    "while counter>1:\n",
    "    print(fib2+fib1)\n",
    "    temp = fib2 + fib1\n",
    "    fib1 = fib2\n",
    "    fib2 = temp\n",
    "    counter -= 1"
   ]
  },
  {
   "cell_type": "markdown",
   "metadata": {},
   "source": [
    "# 1 Exercise Character Input"
   ]
  },
  {
   "cell_type": "code",
   "execution_count": 7,
   "metadata": {},
   "outputs": [
    {
     "name": "stdout",
     "output_type": "stream",
     "text": [
      "Give me your name: Mike\n",
      "Your name is Mike\n"
     ]
    }
   ],
   "source": [
    "name = input(\"Give me your name: \")\n",
    "print(\"Your name is \" + name)"
   ]
  },
  {
   "cell_type": "code",
   "execution_count": 8,
   "metadata": {},
   "outputs": [
    {
     "name": "stdout",
     "output_type": "stream",
     "text": [
      "Enter your age: 25\n"
     ]
    }
   ],
   "source": [
    "age = input(\"Enter your age: \")\n",
    "age = int(age)"
   ]
  },
  {
   "cell_type": "code",
   "execution_count": 9,
   "metadata": {},
   "outputs": [
    {
     "name": "stdout",
     "output_type": "stream",
     "text": [
      "What is your name: Mike\n",
      "How old are you: 25\n",
      "Mike will be 100 years old in the year 2094\n"
     ]
    }
   ],
   "source": [
    "name = input(\"What is your name: \")\n",
    "age = int(input(\"How old are you: \"))\n",
    "year = str((2019 - age)+100)\n",
    "print(name + \" will be 100 years old in the year \" + year)\n"
   ]
  },
  {
   "cell_type": "markdown",
   "metadata": {},
   "source": [
    "# 2 Exercise Odd or Even"
   ]
  },
  {
   "cell_type": "code",
   "execution_count": 10,
   "metadata": {},
   "outputs": [
    {
     "data": {
      "text/plain": [
       "2"
      ]
     },
     "execution_count": 10,
     "metadata": {},
     "output_type": "execute_result"
    }
   ],
   "source": [
    "5 % 3"
   ]
  },
  {
   "cell_type": "code",
   "execution_count": 11,
   "metadata": {},
   "outputs": [
    {
     "data": {
      "text/plain": [
       "0"
      ]
     },
     "execution_count": 11,
     "metadata": {},
     "output_type": "execute_result"
    }
   ],
   "source": [
    "6 % 3"
   ]
  },
  {
   "cell_type": "markdown",
   "metadata": {},
   "source": [
    "simple division will show the remainder"
   ]
  },
  {
   "cell_type": "code",
   "execution_count": 12,
   "metadata": {},
   "outputs": [
    {
     "name": "stdout",
     "output_type": "stream",
     "text": [
      "odd\n"
     ]
    }
   ],
   "source": [
    "x = 10 % 3\n",
    "\n",
    "if x > 0:\n",
    "    print(\"odd\")\n",
    "else:\n",
    "    print(\"even\")"
   ]
  },
  {
   "cell_type": "code",
   "execution_count": 13,
   "metadata": {},
   "outputs": [
    {
     "name": "stdout",
     "output_type": "stream",
     "text": [
      "even\n"
     ]
    }
   ],
   "source": [
    "x = 10 % 5\n",
    "\n",
    "if 3 > x > 1:\n",
    "    print(\"dos\")\n",
    "elif x > 0:\n",
    "    print(\"odd\")\n",
    "else:\n",
    "    print(\"even\")"
   ]
  },
  {
   "cell_type": "code",
   "execution_count": 14,
   "metadata": {},
   "outputs": [
    {
     "name": "stdout",
     "output_type": "stream",
     "text": [
      "dos\n"
     ]
    }
   ],
   "source": [
    "x = 2\n",
    "\n",
    "if 3 > x > 1:\n",
    "    print(\"dos\")\n",
    "elif x > 0:\n",
    "    print(\"odd\")\n",
    "else:\n",
    "    print(\"even\")"
   ]
  },
  {
   "cell_type": "markdown",
   "metadata": {},
   "source": [
    "# 9 Guessing Game: Generate a random number"
   ]
  },
  {
   "cell_type": "code",
   "execution_count": 15,
   "metadata": {},
   "outputs": [],
   "source": [
    "import random"
   ]
  },
  {
   "cell_type": "markdown",
   "metadata": {},
   "source": [
    "the 'random' module generates a random integer"
   ]
  },
  {
   "cell_type": "code",
   "execution_count": 16,
   "metadata": {},
   "outputs": [],
   "source": [
    "a = random.randint(2, 6)"
   ]
  },
  {
   "cell_type": "code",
   "execution_count": 17,
   "metadata": {},
   "outputs": [
    {
     "name": "stdout",
     "output_type": "stream",
     "text": [
      "5\n"
     ]
    }
   ],
   "source": [
    "print(a)"
   ]
  },
  {
   "cell_type": "code",
   "execution_count": 18,
   "metadata": {},
   "outputs": [
    {
     "name": "stdout",
     "output_type": "stream",
     "text": [
      "5\n"
     ]
    }
   ],
   "source": [
    "print(a)"
   ]
  },
  {
   "cell_type": "code",
   "execution_count": 19,
   "metadata": {},
   "outputs": [
    {
     "name": "stdout",
     "output_type": "stream",
     "text": [
      "5\n"
     ]
    }
   ],
   "source": [
    "print(a)"
   ]
  },
  {
   "cell_type": "markdown",
   "metadata": {},
   "source": [
    "if you rerun the print(a) cells a new integer will be generated randomly"
   ]
  },
  {
   "cell_type": "markdown",
   "metadata": {},
   "source": [
    "# 25 Guessing Game Two: Program guesses my number: 88"
   ]
  },
  {
   "cell_type": "code",
   "execution_count": 20,
   "metadata": {},
   "outputs": [],
   "source": [
    "### I was totally unable to figure this one, Herman helped me out"
   ]
  },
  {
   "cell_type": "code",
   "execution_count": 21,
   "metadata": {},
   "outputs": [],
   "source": [
    "import random"
   ]
  },
  {
   "cell_type": "code",
   "execution_count": 22,
   "metadata": {},
   "outputs": [
    {
     "name": "stdout",
     "output_type": "stream",
     "text": [
      "68\n",
      "no\n",
      "Higher or lower?\n",
      "Higher\n",
      "70\n",
      "no\n",
      "Higher or lower?\n",
      "Higher\n",
      "73\n",
      "no\n",
      "Higher or lower?\n",
      "Higher\n",
      "77\n",
      "no\n",
      "Higher or lower?\n",
      "Higher\n",
      "80\n",
      "no\n",
      "Higher or lower?\n",
      "Higher\n",
      "84\n",
      "no\n",
      "Higher or lower?\n",
      "Higher\n",
      "87\n",
      "no\n",
      "Higher or lower?\n",
      "Higher\n",
      "88\n",
      "yes\n",
      "No mames!\n"
     ]
    },
    {
     "ename": "TypeError",
     "evalue": "unsupported operand type(s) for %: 'NoneType' and 'str'",
     "output_type": "error",
     "traceback": [
      "\u001b[0;31m---------------------------------------------------------------------------\u001b[0m",
      "\u001b[0;31mTypeError\u001b[0m                                 Traceback (most recent call last)",
      "\u001b[0;32m<ipython-input-22-088c72530177>\u001b[0m in \u001b[0;36m<module>\u001b[0;34m\u001b[0m\n\u001b[1;32m     26\u001b[0m             \u001b[0mprint\u001b[0m \u001b[0;34m(\u001b[0m\u001b[0;34m\"Deep Blue did it better\"\u001b[0m\u001b[0;34m)\u001b[0m \u001b[0;34m%\u001b[0m \u001b[0mstr\u001b[0m\u001b[0;34m(\u001b[0m\u001b[0mTRY\u001b[0m\u001b[0;34m)\u001b[0m\u001b[0;34m\u001b[0m\u001b[0;34m\u001b[0m\u001b[0m\n\u001b[1;32m     27\u001b[0m         \u001b[0;32melse\u001b[0m\u001b[0;34m:\u001b[0m\u001b[0;34m\u001b[0m\u001b[0;34m\u001b[0m\u001b[0m\n\u001b[0;32m---> 28\u001b[0;31m             \u001b[0mprint\u001b[0m \u001b[0;34m(\u001b[0m\u001b[0;34m\"No mames!\"\u001b[0m\u001b[0;34m)\u001b[0m \u001b[0;34m%\u001b[0m \u001b[0mstr\u001b[0m\u001b[0;34m(\u001b[0m\u001b[0mTRY\u001b[0m\u001b[0;34m)\u001b[0m\u001b[0;34m\u001b[0m\u001b[0;34m\u001b[0m\u001b[0m\n\u001b[0m\u001b[1;32m     29\u001b[0m         \u001b[0mRUNNING\u001b[0m \u001b[0;34m=\u001b[0m \u001b[0;32mFalse\u001b[0m\u001b[0;34m\u001b[0m\u001b[0;34m\u001b[0m\u001b[0m\n\u001b[1;32m     30\u001b[0m     \u001b[0mTRY\u001b[0m \u001b[0;34m+=\u001b[0m \u001b[0;36m1\u001b[0m\u001b[0;34m\u001b[0m\u001b[0;34m\u001b[0m\u001b[0m\n",
      "\u001b[0;31mTypeError\u001b[0m: unsupported operand type(s) for %: 'NoneType' and 'str'"
     ]
    }
   ],
   "source": [
    "MINIMUM = 0\n",
    "MAXIMUM = 100\n",
    "NUMBER = random.randint(MINIMUM, MAXIMUM)\n",
    "TRY = 0\n",
    "RUNNING = True\n",
    "ANSWER = None\n",
    "\n",
    "while RUNNING:\n",
    "    print(str(NUMBER))\n",
    "    ANSWER = input()\n",
    "    if \"no\" in ANSWER.lower() and \"lower\" in ANSWER.lower():\n",
    "        NUMBER -= random.randint(1, 4)\n",
    "    elif \"no\" in ANSWER.lower() and \"higher\" in ANSWER.lower():\n",
    "        NUMBER += random.randint(1, 4)\n",
    "    elif ANSWER.lower() == \"no\":\n",
    "        print (\"Higher or lower?\")\n",
    "        ANSWER = input()\n",
    "        if ANSWER.lower() == \"higher\":\n",
    "            NUMBER += random.randint(1, 4)\n",
    "        elif ANSWER.lower() == \"lower\":\n",
    "            NUMBER -= random.randint(1, 4)\n",
    "    elif ANSWER.lower() == \"yes\":\n",
    "        if TRY < 2:\n",
    "            print (\"Yes!\") % str(TRY)\n",
    "        elif TRY < 2 and TRY < 10:\n",
    "            print (\"Deep Blue did it better\") % str(TRY)\n",
    "        else:\n",
    "            print (\"No mames!\") % str(TRY)\n",
    "        RUNNING = False\n",
    "    TRY += 1\n",
    "    \n",
    "print (\"Thanks for the game!\")\n",
    "\n"
   ]
  },
  {
   "cell_type": "code",
   "execution_count": null,
   "metadata": {},
   "outputs": [],
   "source": []
  }
 ],
 "metadata": {
  "kernelspec": {
   "display_name": "Python 3",
   "language": "python",
   "name": "python3"
  },
  "language_info": {
   "codemirror_mode": {
    "name": "ipython",
    "version": 3
   },
   "file_extension": ".py",
   "mimetype": "text/x-python",
   "name": "python",
   "nbconvert_exporter": "python",
   "pygments_lexer": "ipython3",
   "version": "3.7.1"
  }
 },
 "nbformat": 4,
 "nbformat_minor": 2
}
