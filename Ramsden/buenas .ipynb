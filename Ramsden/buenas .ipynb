{
 "cells": [
  {
   "cell_type": "code",
   "execution_count": 9,
   "metadata": {},
   "outputs": [],
   "source": [
    "import numpy as np\n",
    "import matplotlib.pyplot as plt\n",
    "%matplotlib inline\n",
    "import xarray as xr"
   ]
  },
  {
   "cell_type": "code",
   "execution_count": 10,
   "metadata": {},
   "outputs": [],
   "source": [
    "import pandas as pd"
   ]
  },
  {
   "cell_type": "code",
   "execution_count": 12,
   "metadata": {},
   "outputs": [],
   "source": [
    "file = 'C:\\\\Users\\gak904\\Documents\\Python_Final_Project_\\Excel_raw.xlsx'\n",
    "Excel_raw = pd.read_excel(file)"
   ]
  },
  {
   "cell_type": "code",
   "execution_count": 14,
   "metadata": {},
   "outputs": [
    {
     "data": {
      "text/html": [
       "<div>\n",
       "<style scoped>\n",
       "    .dataframe tbody tr th:only-of-type {\n",
       "        vertical-align: middle;\n",
       "    }\n",
       "\n",
       "    .dataframe tbody tr th {\n",
       "        vertical-align: top;\n",
       "    }\n",
       "\n",
       "    .dataframe thead th {\n",
       "        text-align: right;\n",
       "    }\n",
       "</style>\n",
       "<table border=\"1\" class=\"dataframe\">\n",
       "  <thead>\n",
       "    <tr style=\"text-align: right;\">\n",
       "      <th></th>\n",
       "      <th>Pool</th>\n",
       "      <th>Data Point</th>\n",
       "      <th>Average Sediment Thickness 1976</th>\n",
       "      <th>Average Sediment Thickness 2004</th>\n",
       "      <th>Current Water Depth</th>\n",
       "    </tr>\n",
       "  </thead>\n",
       "  <tbody>\n",
       "    <tr>\n",
       "      <th>0</th>\n",
       "      <td>TR02</td>\n",
       "      <td>1</td>\n",
       "      <td>43.9</td>\n",
       "      <td>51.2</td>\n",
       "      <td>99.1</td>\n",
       "    </tr>\n",
       "    <tr>\n",
       "      <th>1</th>\n",
       "      <td>TR03</td>\n",
       "      <td>2</td>\n",
       "      <td>23.0</td>\n",
       "      <td>30.5</td>\n",
       "      <td>157.8</td>\n",
       "    </tr>\n",
       "    <tr>\n",
       "      <th>2</th>\n",
       "      <td>TR04</td>\n",
       "      <td>3</td>\n",
       "      <td>28.0</td>\n",
       "      <td>34.3</td>\n",
       "      <td>70.5</td>\n",
       "    </tr>\n",
       "  </tbody>\n",
       "</table>\n",
       "</div>"
      ],
      "text/plain": [
       "   Pool  Data Point  Average Sediment Thickness 1976  \\\n",
       "0  TR02           1                             43.9   \n",
       "1  TR03           2                             23.0   \n",
       "2  TR04           3                             28.0   \n",
       "\n",
       "   Average Sediment Thickness 2004  Current Water Depth  \n",
       "0                             51.2                 99.1  \n",
       "1                             30.5                157.8  \n",
       "2                             34.3                 70.5  "
      ]
     },
     "execution_count": 14,
     "metadata": {},
     "output_type": "execute_result"
    }
   ],
   "source": [
    "Excel_raw.head(3)"
   ]
  },
  {
   "cell_type": "code",
   "execution_count": 15,
   "metadata": {},
   "outputs": [],
   "source": [
    "Excel_raw[\"Sedimentation Rate\"] = (Excel_raw[\"Average Sediment Thickness 2004\"] - Excel_raw[\"Average Sediment Thickness 1976\"]) / 28 "
   ]
  },
  {
   "cell_type": "code",
   "execution_count": 16,
   "metadata": {},
   "outputs": [
    {
     "data": {
      "text/html": [
       "<div>\n",
       "<style scoped>\n",
       "    .dataframe tbody tr th:only-of-type {\n",
       "        vertical-align: middle;\n",
       "    }\n",
       "\n",
       "    .dataframe tbody tr th {\n",
       "        vertical-align: top;\n",
       "    }\n",
       "\n",
       "    .dataframe thead th {\n",
       "        text-align: right;\n",
       "    }\n",
       "</style>\n",
       "<table border=\"1\" class=\"dataframe\">\n",
       "  <thead>\n",
       "    <tr style=\"text-align: right;\">\n",
       "      <th></th>\n",
       "      <th>Pool</th>\n",
       "      <th>Data Point</th>\n",
       "      <th>Average Sediment Thickness 1976</th>\n",
       "      <th>Average Sediment Thickness 2004</th>\n",
       "      <th>Current Water Depth</th>\n",
       "      <th>Sedimentation Rate</th>\n",
       "    </tr>\n",
       "  </thead>\n",
       "  <tbody>\n",
       "    <tr>\n",
       "      <th>0</th>\n",
       "      <td>TR02</td>\n",
       "      <td>1</td>\n",
       "      <td>43.9</td>\n",
       "      <td>51.2</td>\n",
       "      <td>99.1</td>\n",
       "      <td>0.260714</td>\n",
       "    </tr>\n",
       "    <tr>\n",
       "      <th>1</th>\n",
       "      <td>TR03</td>\n",
       "      <td>2</td>\n",
       "      <td>23.0</td>\n",
       "      <td>30.5</td>\n",
       "      <td>157.8</td>\n",
       "      <td>0.267857</td>\n",
       "    </tr>\n",
       "    <tr>\n",
       "      <th>2</th>\n",
       "      <td>TR04</td>\n",
       "      <td>3</td>\n",
       "      <td>28.0</td>\n",
       "      <td>34.3</td>\n",
       "      <td>70.5</td>\n",
       "      <td>0.225000</td>\n",
       "    </tr>\n",
       "  </tbody>\n",
       "</table>\n",
       "</div>"
      ],
      "text/plain": [
       "   Pool  Data Point  Average Sediment Thickness 1976  \\\n",
       "0  TR02           1                             43.9   \n",
       "1  TR03           2                             23.0   \n",
       "2  TR04           3                             28.0   \n",
       "\n",
       "   Average Sediment Thickness 2004  Current Water Depth  Sedimentation Rate  \n",
       "0                             51.2                 99.1            0.260714  \n",
       "1                             30.5                157.8            0.267857  \n",
       "2                             34.3                 70.5            0.225000  "
      ]
     },
     "execution_count": 16,
     "metadata": {},
     "output_type": "execute_result"
    }
   ],
   "source": [
    "Excel_raw.head(3)"
   ]
  },
  {
   "cell_type": "code",
   "execution_count": 17,
   "metadata": {},
   "outputs": [],
   "source": [
    "import numpy as np\n",
    "import matplotlib.pyplot as plt"
   ]
  },
  {
   "cell_type": "code",
   "execution_count": 18,
   "metadata": {},
   "outputs": [],
   "source": [
    "xvals = np.arange(2005., 2105., 2.)"
   ]
  },
  {
   "cell_type": "code",
   "execution_count": 19,
   "metadata": {},
   "outputs": [
    {
     "data": {
      "text/plain": [
       "array([2005., 2007., 2009., 2011., 2013., 2015., 2017., 2019., 2021.,\n",
       "       2023., 2025., 2027., 2029., 2031., 2033., 2035., 2037., 2039.,\n",
       "       2041., 2043., 2045., 2047., 2049., 2051., 2053., 2055., 2057.,\n",
       "       2059., 2061., 2063., 2065., 2067., 2069., 2071., 2073., 2075.,\n",
       "       2077., 2079., 2081., 2083., 2085., 2087., 2089., 2091., 2093.,\n",
       "       2095., 2097., 2099., 2101., 2103.])"
      ]
     },
     "execution_count": 19,
     "metadata": {},
     "output_type": "execute_result"
    }
   ],
   "source": [
    "xvals"
   ]
  },
  {
   "cell_type": "code",
   "execution_count": 20,
   "metadata": {},
   "outputs": [],
   "source": [
    "w0 = np.array(Excel_raw['Current Water Depth'])\n",
    "r0 = np.array(Excel_raw['Sedimentation Rate'])"
   ]
  },
  {
   "cell_type": "code",
   "execution_count": 21,
   "metadata": {},
   "outputs": [
    {
     "data": {
      "text/plain": [
       "array([ 99.1 , 157.8 ,  70.5 ,  78.1 ,  63.8 ,  95.3 ,  97.2 ,  76.2 ,\n",
       "        48.3 ,  47.2 ,  44.1 ,  63.3 ,  31.  ,  36.19,  32.38,  41.5 ,\n",
       "        56.16,  62.72,  85.09,  70.75,  63.2 ,  66.67,  84.29,  68.58,\n",
       "        95.3 , 113.03, 121.1 , 132.16, 171.1 ,  95.25,  64.87, 109.97,\n",
       "        15.2 ,  82.9 , 102.87, 144.78,  87.75, 102.87, 117.83, 152.87,\n",
       "       135.7 , 111.  , 105.3 ,  99.1 , 118.3 ,  95.3 ,  71.8 ,  93.3 ,\n",
       "        78.6 ,  78.7 ])"
      ]
     },
     "execution_count": 21,
     "metadata": {},
     "output_type": "execute_result"
    }
   ],
   "source": [
    "w0"
   ]
  },
  {
   "cell_type": "code",
   "execution_count": 22,
   "metadata": {},
   "outputs": [],
   "source": [
    "my_list = Excel_raw['Data Point']\n",
    "my_list_length = len(my_list)\n",
    "\n",
    "for i in (my_list):\n",
    "    Excel_raw['Water Level 2105'] = Excel_raw['Current Water Depth'] - (Excel_raw['Sedimentation Rate'] * 100)\n",
    "    \n",
    "    "
   ]
  },
  {
   "cell_type": "code",
   "execution_count": 196,
   "metadata": {},
   "outputs": [
    {
     "data": {
      "text/html": [
       "<div>\n",
       "<style scoped>\n",
       "    .dataframe tbody tr th:only-of-type {\n",
       "        vertical-align: middle;\n",
       "    }\n",
       "\n",
       "    .dataframe tbody tr th {\n",
       "        vertical-align: top;\n",
       "    }\n",
       "\n",
       "    .dataframe thead th {\n",
       "        text-align: right;\n",
       "    }\n",
       "</style>\n",
       "<table border=\"1\" class=\"dataframe\">\n",
       "  <thead>\n",
       "    <tr style=\"text-align: right;\">\n",
       "      <th></th>\n",
       "      <th>Pool</th>\n",
       "      <th>Data Point</th>\n",
       "      <th>Average Sediment Thickness 1976</th>\n",
       "      <th>Average Sediment Thickness 2004</th>\n",
       "      <th>Current Water Depth</th>\n",
       "      <th>Sedimentation Rate</th>\n",
       "      <th>Water Level 2105</th>\n",
       "    </tr>\n",
       "  </thead>\n",
       "  <tbody>\n",
       "    <tr>\n",
       "      <th>0</th>\n",
       "      <td>TR02</td>\n",
       "      <td>1</td>\n",
       "      <td>43.9</td>\n",
       "      <td>51.2</td>\n",
       "      <td>99.1</td>\n",
       "      <td>0.260714</td>\n",
       "      <td>73.028571</td>\n",
       "    </tr>\n",
       "    <tr>\n",
       "      <th>1</th>\n",
       "      <td>TR03</td>\n",
       "      <td>2</td>\n",
       "      <td>23.0</td>\n",
       "      <td>30.5</td>\n",
       "      <td>157.8</td>\n",
       "      <td>0.267857</td>\n",
       "      <td>131.014286</td>\n",
       "    </tr>\n",
       "    <tr>\n",
       "      <th>2</th>\n",
       "      <td>TR04</td>\n",
       "      <td>3</td>\n",
       "      <td>28.0</td>\n",
       "      <td>34.3</td>\n",
       "      <td>70.5</td>\n",
       "      <td>0.225000</td>\n",
       "      <td>48.000000</td>\n",
       "    </tr>\n",
       "    <tr>\n",
       "      <th>3</th>\n",
       "      <td>TR05</td>\n",
       "      <td>4</td>\n",
       "      <td>32.3</td>\n",
       "      <td>61.4</td>\n",
       "      <td>78.1</td>\n",
       "      <td>1.039286</td>\n",
       "      <td>-25.828571</td>\n",
       "    </tr>\n",
       "    <tr>\n",
       "      <th>4</th>\n",
       "      <td>TR06</td>\n",
       "      <td>5</td>\n",
       "      <td>18.0</td>\n",
       "      <td>33.5</td>\n",
       "      <td>63.8</td>\n",
       "      <td>0.553571</td>\n",
       "      <td>8.442857</td>\n",
       "    </tr>\n",
       "  </tbody>\n",
       "</table>\n",
       "</div>"
      ],
      "text/plain": [
       "   Pool  Data Point  Average Sediment Thickness 1976  \\\n",
       "0  TR02           1                             43.9   \n",
       "1  TR03           2                             23.0   \n",
       "2  TR04           3                             28.0   \n",
       "3  TR05           4                             32.3   \n",
       "4  TR06           5                             18.0   \n",
       "\n",
       "   Average Sediment Thickness 2004  Current Water Depth  Sedimentation Rate  \\\n",
       "0                             51.2                 99.1            0.260714   \n",
       "1                             30.5                157.8            0.267857   \n",
       "2                             34.3                 70.5            0.225000   \n",
       "3                             61.4                 78.1            1.039286   \n",
       "4                             33.5                 63.8            0.553571   \n",
       "\n",
       "   Water Level 2105  \n",
       "0         73.028571  \n",
       "1        131.014286  \n",
       "2         48.000000  \n",
       "3        -25.828571  \n",
       "4          8.442857  "
      ]
     },
     "execution_count": 196,
     "metadata": {},
     "output_type": "execute_result"
    }
   ],
   "source": [
    "Excel_raw.head(5)"
   ]
  },
  {
   "cell_type": "code",
   "execution_count": 24,
   "metadata": {},
   "outputs": [
    {
     "data": {
      "image/png": "[encoded data removed]",
      "text/plain": [
       "<Figure size 432x288 with 1 Axes>"
      ]
     },
     "metadata": {
      "needs_background": "light"
     },
     "output_type": "display_data"
    }
   ],
   "source": [
    "xvals = np.arange(2005., 2105., 2.)\n",
    "\n",
    "for i in (xvals):\n",
    "    yvals = w0 - r0*(xvals-2004)\n",
    "plt.plot(xvals[3], yvals[3])\n",
    "plt.show()"
   ]
  },
  {
   "cell_type": "code",
   "execution_count": 25,
   "metadata": {},
   "outputs": [
    {
     "data": {
      "text/plain": [
       "array([  98.83928571,  156.99642857,   69.375     ,   70.825     ,\n",
       "         58.81785714,   83.51428571,   79.975     ,   54.98571429,\n",
       "         46.175     ,   43.46785714,   -5.4       ,   24.44642857,\n",
       "         12.07142857,   15.55428571,   -2.00571429,   25.00357143,\n",
       "         44.96357143,   27.595     ,   58.265     ,   59.05      ,\n",
       "         26.15357143,   55.45928571,   83.48642857,   -8.29857143,\n",
       "         66.95      ,   92.08357143,   96.30357143,  121.35642857,\n",
       "        151.96428571,   65.11785714,  -68.02285714,   42.245     ,\n",
       "        -17.06785714,    0.34642857,   73.05214286,  127.03      ,\n",
       "         74.19285714,   93.495     ,   87.305     ,  151.45928571,\n",
       "        106.48214286,   38.96785714,   64.31785714,   77.35      ,\n",
       "        102.725     ,   52.4       ,   13.34285714,   25.78214286,\n",
       "       -205.81785714, -165.61785714])"
      ]
     },
     "execution_count": 25,
     "metadata": {},
     "output_type": "execute_result"
    }
   ],
   "source": [
    "yvals"
   ]
  },
  {
   "cell_type": "code",
   "execution_count": null,
   "metadata": {},
   "outputs": [],
   "source": []
  },
  {
   "cell_type": "code",
   "execution_count": 37,
   "metadata": {},
   "outputs": [
    {
     "data": {
      "text/plain": [
       "<function matplotlib.pyplot.show(*args, **kw)>"
      ]
     },
     "execution_count": 37,
     "metadata": {},
     "output_type": "execute_result"
    },
    {
     "data": {
      "image/png": "[encoded data removed]",
      "text/plain": [
       "<Figure size 432x288 with 1 Axes>"
      ]
     },
     "metadata": {
      "needs_background": "light"
     },
     "output_type": "display_data"
    }
   ],
   "source": [
    "fig = plt.figure()\n",
    "ax1 = fig.add_subplot(1,1,1)\n",
    "\n",
    "\n",
    " yvals = w0 - r0*(xvals-2004)\n",
    "y0\n",
    "ax1.scatter(xvals, , s=10, c='b', marker='s', label='first')\n",
    "plt.show"
   ]
  },
  {
   "cell_type": "code",
   "execution_count": 38,
   "metadata": {},
   "outputs": [
    {
     "data": {
      "text/plain": [
       "array([ 99.1 , 157.8 ,  70.5 ,  78.1 ,  63.8 ,  95.3 ,  97.2 ,  76.2 ,\n",
       "        48.3 ,  47.2 ,  44.1 ,  63.3 ,  31.  ,  36.19,  32.38,  41.5 ,\n",
       "        56.16,  62.72,  85.09,  70.75,  63.2 ,  66.67,  84.29,  68.58,\n",
       "        95.3 , 113.03, 121.1 , 132.16, 171.1 ,  95.25,  64.87, 109.97,\n",
       "        15.2 ,  82.9 , 102.87, 144.78,  87.75, 102.87, 117.83, 152.87,\n",
       "       135.7 , 111.  , 105.3 ,  99.1 , 118.3 ,  95.3 ,  71.8 ,  93.3 ,\n",
       "        78.6 ,  78.7 ])"
      ]
     },
     "execution_count": 38,
     "metadata": {},
     "output_type": "execute_result"
    }
   ],
   "source": [
    "w0"
   ]
  },
  {
   "cell_type": "code",
   "execution_count": 39,
   "metadata": {},
   "outputs": [
    {
     "data": {
      "text/plain": [
       "array([0.26071429, 0.26785714, 0.225     , 1.03928571, 0.55357143,\n",
       "       1.07142857, 1.325     , 1.41428571, 0.125     , 0.19642857,\n",
       "       2.35714286, 1.68928571, 0.75714286, 0.76428571, 1.18571429,\n",
       "       0.53214286, 0.33928571, 1.00357143, 0.725     , 0.3       ,\n",
       "       0.90357143, 0.26071429, 0.01785714, 1.63571429, 0.57857143,\n",
       "       0.41071429, 0.46785714, 0.19642857, 0.33571429, 0.51071429,\n",
       "       2.17857143, 1.075     , 0.49642857, 1.23214286, 0.43214286,\n",
       "       0.25      , 0.18571429, 0.125     , 0.39642857, 0.01785714,\n",
       "       0.36071429, 0.86785714, 0.48214286, 0.25      , 0.175     ,\n",
       "       0.47142857, 0.62857143, 0.71071429, 2.93214286, 2.46785714])"
      ]
     },
     "execution_count": 39,
     "metadata": {},
     "output_type": "execute_result"
    }
   ],
   "source": [
    "r0"
   ]
  },
  {
   "cell_type": "code",
   "execution_count": 36,
   "metadata": {},
   "outputs": [
    {
     "data": {
      "text/plain": [
       "array([  98.83928571,  156.99642857,   69.375     ,   70.825     ,\n",
       "         58.81785714,   83.51428571,   79.975     ,   54.98571429,\n",
       "         46.175     ,   43.46785714,   -5.4       ,   24.44642857,\n",
       "         12.07142857,   15.55428571,   -2.00571429,   25.00357143,\n",
       "         44.96357143,   27.595     ,   58.265     ,   59.05      ,\n",
       "         26.15357143,   55.45928571,   83.48642857,   -8.29857143,\n",
       "         66.95      ,   92.08357143,   96.30357143,  121.35642857,\n",
       "        151.96428571,   65.11785714,  -68.02285714,   42.245     ,\n",
       "        -17.06785714,    0.34642857,   73.05214286,  127.03      ,\n",
       "         74.19285714,   93.495     ,   87.305     ,  151.45928571,\n",
       "        106.48214286,   38.96785714,   64.31785714,   77.35      ,\n",
       "        102.725     ,   52.4       ,   13.34285714,   25.78214286,\n",
       "       -205.81785714, -165.61785714])"
      ]
     },
     "execution_count": 36,
     "metadata": {},
     "output_type": "execute_result"
    }
   ],
   "source": [
    "yvals"
   ]
  },
  {
   "cell_type": "code",
   "execution_count": 40,
   "metadata": {},
   "outputs": [
    {
     "data": {
      "text/plain": [
       "array([2005., 2007., 2009., 2011., 2013., 2015., 2017., 2019., 2021.,\n",
       "       2023., 2025., 2027., 2029., 2031., 2033., 2035., 2037., 2039.,\n",
       "       2041., 2043., 2045., 2047., 2049., 2051., 2053., 2055., 2057.,\n",
       "       2059., 2061., 2063., 2065., 2067., 2069., 2071., 2073., 2075.,\n",
       "       2077., 2079., 2081., 2083., 2085., 2087., 2089., 2091., 2093.,\n",
       "       2095., 2097., 2099., 2101., 2103.])"
      ]
     },
     "execution_count": 40,
     "metadata": {},
     "output_type": "execute_result"
    }
   ],
   "source": [
    "xvals"
   ]
  },
  {
   "cell_type": "code",
   "execution_count": 41,
   "metadata": {},
   "outputs": [
    {
     "data": {
      "text/plain": [
       "array([ 99.1 , 157.8 ,  70.5 ,  78.1 ,  63.8 ,  95.3 ,  97.2 ,  76.2 ,\n",
       "        48.3 ,  47.2 ,  44.1 ,  63.3 ,  31.  ,  36.19,  32.38,  41.5 ,\n",
       "        56.16,  62.72,  85.09,  70.75,  63.2 ,  66.67,  84.29,  68.58,\n",
       "        95.3 , 113.03, 121.1 , 132.16, 171.1 ,  95.25,  64.87, 109.97,\n",
       "        15.2 ,  82.9 , 102.87, 144.78,  87.75, 102.87, 117.83, 152.87,\n",
       "       135.7 , 111.  , 105.3 ,  99.1 , 118.3 ,  95.3 ,  71.8 ,  93.3 ,\n",
       "        78.6 ,  78.7 ])"
      ]
     },
     "execution_count": 41,
     "metadata": {},
     "output_type": "execute_result"
    }
   ],
   "source": [
    "w0"
   ]
  },
  {
   "cell_type": "code",
   "execution_count": 46,
   "metadata": {},
   "outputs": [
    {
     "ename": "SyntaxError",
     "evalue": "invalid syntax (<ipython-input-46-68aa7bcac0a2>, line 1)",
     "output_type": "error",
     "traceback": [
      "\u001b[1;36m  File \u001b[1;32m\"<ipython-input-46-68aa7bcac0a2>\"\u001b[1;36m, line \u001b[1;32m1\u001b[0m\n\u001b[1;33m    t1 = w0{'0'} - r{'0'} * (xvals{'0'} - 2004)\u001b[0m\n\u001b[1;37m           ^\u001b[0m\n\u001b[1;31mSyntaxError\u001b[0m\u001b[1;31m:\u001b[0m invalid syntax\n"
     ]
    }
   ],
   "source": [
    "t1 = w0{'0'} - r{'0'} * (xvals{'0'} - 2004)"
   ]
  },
  {
   "cell_type": "code",
   "execution_count": 47,
   "metadata": {},
   "outputs": [
    {
     "ename": "IndexError",
     "evalue": "invalid index to scalar variable.",
     "output_type": "error",
     "traceback": [
      "\u001b[1;31m---------------------------------------------------------------------------\u001b[0m",
      "\u001b[1;31mIndexError\u001b[0m                                Traceback (most recent call last)",
      "\u001b[1;32m<ipython-input-47-513c2f3458d0>\u001b[0m in \u001b[0;36m<module>\u001b[1;34m\u001b[0m\n\u001b[1;32m----> 1\u001b[1;33m \u001b[0mi0w0\u001b[0m \u001b[1;33m=\u001b[0m \u001b[1;33m[\u001b[0m\u001b[0mitem\u001b[0m\u001b[1;33m[\u001b[0m\u001b[1;36m0\u001b[0m\u001b[1;33m]\u001b[0m \u001b[1;32mfor\u001b[0m \u001b[0mitem\u001b[0m \u001b[1;32min\u001b[0m \u001b[0mw0\u001b[0m\u001b[1;33m]\u001b[0m\u001b[1;33m\u001b[0m\u001b[1;33m\u001b[0m\u001b[0m\n\u001b[0m",
      "\u001b[1;32m<ipython-input-47-513c2f3458d0>\u001b[0m in \u001b[0;36m<listcomp>\u001b[1;34m(.0)\u001b[0m\n\u001b[1;32m----> 1\u001b[1;33m \u001b[0mi0w0\u001b[0m \u001b[1;33m=\u001b[0m \u001b[1;33m[\u001b[0m\u001b[0mitem\u001b[0m\u001b[1;33m[\u001b[0m\u001b[1;36m0\u001b[0m\u001b[1;33m]\u001b[0m \u001b[1;32mfor\u001b[0m \u001b[0mitem\u001b[0m \u001b[1;32min\u001b[0m \u001b[0mw0\u001b[0m\u001b[1;33m]\u001b[0m\u001b[1;33m\u001b[0m\u001b[1;33m\u001b[0m\u001b[0m\n\u001b[0m",
      "\u001b[1;31mIndexError\u001b[0m: invalid index to scalar variable."
     ]
    }
   ],
   "source": [
    "i0w0 = [item[0] for item in w0]"
   ]
  },
  {
   "cell_type": "code",
   "execution_count": 66,
   "metadata": {},
   "outputs": [],
   "source": [
    "a = [w0, r0]"
   ]
  },
  {
   "cell_type": "code",
   "execution_count": 67,
   "metadata": {},
   "outputs": [
    {
     "data": {
      "text/plain": [
       "[array([ 99.1 , 157.8 ,  70.5 ,  78.1 ,  63.8 ,  95.3 ,  97.2 ,  76.2 ,\n",
       "         48.3 ,  47.2 ,  44.1 ,  63.3 ,  31.  ,  36.19,  32.38,  41.5 ,\n",
       "         56.16,  62.72,  85.09,  70.75,  63.2 ,  66.67,  84.29,  68.58,\n",
       "         95.3 , 113.03, 121.1 , 132.16, 171.1 ,  95.25,  64.87, 109.97,\n",
       "         15.2 ,  82.9 , 102.87, 144.78,  87.75, 102.87, 117.83, 152.87,\n",
       "        135.7 , 111.  , 105.3 ,  99.1 , 118.3 ,  95.3 ,  71.8 ,  93.3 ,\n",
       "         78.6 ,  78.7 ]),\n",
       " array([0.26071429, 0.26785714, 0.225     , 1.03928571, 0.55357143,\n",
       "        1.07142857, 1.325     , 1.41428571, 0.125     , 0.19642857,\n",
       "        2.35714286, 1.68928571, 0.75714286, 0.76428571, 1.18571429,\n",
       "        0.53214286, 0.33928571, 1.00357143, 0.725     , 0.3       ,\n",
       "        0.90357143, 0.26071429, 0.01785714, 1.63571429, 0.57857143,\n",
       "        0.41071429, 0.46785714, 0.19642857, 0.33571429, 0.51071429,\n",
       "        2.17857143, 1.075     , 0.49642857, 1.23214286, 0.43214286,\n",
       "        0.25      , 0.18571429, 0.125     , 0.39642857, 0.01785714,\n",
       "        0.36071429, 0.86785714, 0.48214286, 0.25      , 0.175     ,\n",
       "        0.47142857, 0.62857143, 0.71071429, 2.93214286, 2.46785714])]"
      ]
     },
     "execution_count": 67,
     "metadata": {},
     "output_type": "execute_result"
    }
   ],
   "source": []
  },
  {
   "cell_type": "code",
   "execution_count": 89,
   "metadata": {},
   "outputs": [
    {
     "data": {
      "text/plain": [
       "99.1"
      ]
     },
     "execution_count": 89,
     "metadata": {},
     "output_type": "execute_result"
    }
   ],
   "source": [
    "a[0][0]"
   ]
  },
  {
   "cell_type": "code",
   "execution_count": 165,
   "metadata": {},
   "outputs": [],
   "source": [
    "n05 = w0 - r0\n",
    "n10 = n05 - (r0*5)\n",
    "n15 = n10 - (r0*5)\n",
    "n20 = n15 - (r0*5)\n",
    "n25 = n20 - (r0*5)\n",
    "n30 = n25 - (r0*5)\n",
    "n35 = n30 - (r0*5)\n",
    "n40 = n35 - (r0*5)\n"
   ]
  },
  {
   "cell_type": "code",
   "execution_count": 180,
   "metadata": {},
   "outputs": [],
   "source": [
    "q = [n05, n10, n15, n20, n25, n30, n35, n40]"
   ]
  },
  {
   "cell_type": "code",
   "execution_count": null,
   "metadata": {},
   "outputs": [],
   "source": []
  },
  {
   "cell_type": "code",
   "execution_count": null,
   "metadata": {},
   "outputs": [],
   "source": []
  },
  {
   "cell_type": "code",
   "execution_count": 167,
   "metadata": {},
   "outputs": [],
   "source": []
  },
  {
   "cell_type": "code",
   "execution_count": null,
   "metadata": {},
   "outputs": [],
   "source": []
  },
  {
   "cell_type": "code",
   "execution_count": 184,
   "metadata": {},
   "outputs": [],
   "source": [
    "x05 = np.arange(2005., 2055., 1.)\n",
    "x10 = np.arange(2005., 2055., 1.)\n",
    "x15 = np.arange(2005., 2055., 1.)\n",
    "x20 = np.arange(2005., 2055., 1.)\n",
    "x25 = np.arange(2005., 2055., 1.)\n",
    "x30 = np.arange(2005., 2055., 1.)\n",
    "x35 = np.arange(2005., 2055., 1.)\n",
    "x40 = np.arange(2005., 2055., 1.)\n",
    "\n",
    "\n",
    "\n"
   ]
  },
  {
   "cell_type": "code",
   "execution_count": 185,
   "metadata": {},
   "outputs": [],
   "source": [
    "array_years = [x05, x10, x15, x20, x25, x30, x35, x40]"
   ]
  },
  {
   "cell_type": "code",
   "execution_count": 192,
   "metadata": {},
   "outputs": [
    {
     "data": {
      "text/plain": [
       "array([2005., 2006., 2007., 2008., 2009., 2010., 2011., 2012., 2013.,\n",
       "       2014., 2015., 2016., 2017., 2018., 2019., 2020., 2021., 2022.,\n",
       "       2023., 2024., 2025., 2026., 2027., 2028., 2029., 2030., 2031.,\n",
       "       2032., 2033., 2034., 2035., 2036., 2037., 2038., 2039., 2040.,\n",
       "       2041., 2042., 2043., 2044., 2045., 2046., 2047., 2048., 2049.,\n",
       "       2050., 2051., 2052., 2053., 2054.])"
      ]
     },
     "execution_count": 192,
     "metadata": {},
     "output_type": "execute_result"
    }
   ],
   "source": [
    "x05"
   ]
  },
  {
   "cell_type": "code",
   "execution_count": 197,
   "metadata": {},
   "outputs": [],
   "source": [
    "z0 = np.linspace(99.1, 86.1, num=50)\n"
   ]
  },
  {
   "cell_type": "code",
   "execution_count": 198,
   "metadata": {},
   "outputs": [
    {
     "data": {
      "text/plain": [
       "array([99.1       , 98.83469388, 98.56938776, 98.30408163, 98.03877551,\n",
       "       97.77346939, 97.50816327, 97.24285714, 96.97755102, 96.7122449 ,\n",
       "       96.44693878, 96.18163265, 95.91632653, 95.65102041, 95.38571429,\n",
       "       95.12040816, 94.85510204, 94.58979592, 94.3244898 , 94.05918367,\n",
       "       93.79387755, 93.52857143, 93.26326531, 92.99795918, 92.73265306,\n",
       "       92.46734694, 92.20204082, 91.93673469, 91.67142857, 91.40612245,\n",
       "       91.14081633, 90.8755102 , 90.61020408, 90.34489796, 90.07959184,\n",
       "       89.81428571, 89.54897959, 89.28367347, 89.01836735, 88.75306122,\n",
       "       88.4877551 , 88.22244898, 87.95714286, 87.69183673, 87.42653061,\n",
       "       87.16122449, 86.89591837, 86.63061224, 86.36530612, 86.1       ])"
      ]
     },
     "execution_count": 198,
     "metadata": {},
     "output_type": "execute_result"
    }
   ],
   "source": [
    "z0"
   ]
  },
  {
   "cell_type": "code",
   "execution_count": 200,
   "metadata": {},
   "outputs": [],
   "source": [
    "z1 = np.linspace(157.8, 144.8, num=50)"
   ]
  },
  {
   "cell_type": "code",
   "execution_count": 203,
   "metadata": {},
   "outputs": [],
   "source": [
    "z2 = np.linspace(70.5, 59.5, num=50)"
   ]
  },
  {
   "cell_type": "code",
   "execution_count": 211,
   "metadata": {},
   "outputs": [
    {
     "data": {
      "text/plain": [
       "<function matplotlib.pyplot.show(*args, **kw)>"
      ]
     },
     "execution_count": 211,
     "metadata": {},
     "output_type": "execute_result"
    },
    {
     "data": {
      "image/png": "[encoded data removed]",
      "text/plain": [
       "<Figure size 432x288 with 1 Axes>"
      ]
     },
     "metadata": {
      "needs_background": "light"
     },
     "output_type": "display_data"
    }
   ],
   "source": [
    "fig = plt.figure()\n",
    "ax1 = fig.add_subplot(1,1,1)\n",
    "\n",
    "\n",
    "ax1.scatter(x05, t0, s=10, c='b', marker='s')\n",
    "ax1.scatter(x05, z1, s=10, c='r', marker='s')\n",
    "ax1.scatter(x05, z2, s=10, c='g', marker='s')\n",
    "\n",
    "plt.show"
   ]
  },
  {
   "cell_type": "code",
   "execution_count": 122,
   "metadata": {},
   "outputs": [
    {
     "data": {
      "text/plain": [
       "[array([ 98.83928571, 157.53214286,  70.275     ,  77.06071429,\n",
       "         63.24642857,  94.22857143,  95.875     ,  74.78571429,\n",
       "         48.175     ,  47.00357143,  41.74285714,  61.61071429,\n",
       "         30.24285714,  35.42571429,  31.19428571,  40.96785714,\n",
       "         55.82071429,  61.71642857,  84.365     ,  70.45      ,\n",
       "         62.29642857,  66.40928571,  84.27214286,  66.94428571,\n",
       "         94.72142857, 112.61928571, 120.63214286, 131.96357143,\n",
       "        170.76428571,  94.73928571,  62.69142857, 108.895     ,\n",
       "         14.70357143,  81.66785714, 102.43785714, 144.53      ,\n",
       "         87.56428571, 102.745     , 117.43357143, 152.85214286,\n",
       "        135.33928571, 110.13214286, 104.81785714,  98.85      ,\n",
       "        118.125     ,  94.82857143,  71.17142857,  92.58928571,\n",
       "         75.66785714,  76.23214286]),\n",
       " array([ 98.57857143, 157.26428571,  70.05      ,  76.02142857,\n",
       "         62.69285714,  93.15714286,  94.55      ,  73.37142857,\n",
       "         48.05      ,  46.80714286,  39.38571429,  59.92142857,\n",
       "         29.48571429,  34.66142857,  30.00857143,  40.43571429,\n",
       "         55.48142857,  60.71285714,  83.64      ,  70.15      ,\n",
       "         61.39285714,  66.14857143,  84.25428571,  65.30857143,\n",
       "         94.14285714, 112.20857143, 120.16428571, 131.76714286,\n",
       "        170.42857143,  94.22857143,  60.51285714, 107.82      ,\n",
       "         14.20714286,  80.43571429, 102.00571429, 144.28      ,\n",
       "         87.37857143, 102.62      , 117.03714286, 152.83428571,\n",
       "        134.97857143, 109.26428571, 104.33571429,  98.6       ,\n",
       "        117.95      ,  94.35714286,  70.54285714,  91.87857143,\n",
       "         72.73571429,  73.76428571]),\n",
       " array([ 98.31785714, 156.99642857,  69.825     ,  74.98214286,\n",
       "         62.13928571,  92.08571429,  93.225     ,  71.95714286,\n",
       "         47.925     ,  46.61071429,  37.02857143,  58.23214286,\n",
       "         28.72857143,  33.89714286,  28.82285714,  39.90357143,\n",
       "         55.14214286,  59.70928571,  82.915     ,  69.85      ,\n",
       "         60.48928571,  65.88785714,  84.23642857,  63.67285714,\n",
       "         93.56428571, 111.79785714, 119.69642857, 131.57071429,\n",
       "        170.09285714,  93.71785714,  58.33428571, 106.745     ,\n",
       "         13.71071429,  79.20357143, 101.57357143, 144.03      ,\n",
       "         87.19285714, 102.495     , 116.64071429, 152.81642857,\n",
       "        134.61785714, 108.39642857, 103.85357143,  98.35      ,\n",
       "        117.775     ,  93.88571429,  69.91428571,  91.16785714,\n",
       "         69.80357143,  71.29642857])]"
      ]
     },
     "execution_count": 122,
     "metadata": {},
     "output_type": "execute_result"
    }
   ],
   "source": [
    "q"
   ]
  },
  {
   "cell_type": "code",
   "execution_count": 188,
   "metadata": {},
   "outputs": [
    {
     "data": {
      "image/png": "[encoded data removed]",
      "text/plain": [
       "<Figure size 432x288 with 1 Axes>"
      ]
     },
     "metadata": {
      "needs_background": "light"
     },
     "output_type": "display_data"
    }
   ],
   "source": [
    "plt.plot(array_years, q)\n",
    "plt.show()"
   ]
  },
  {
   "cell_type": "code",
   "execution_count": 135,
   "metadata": {},
   "outputs": [
    {
     "data": {
      "text/plain": [
       "[array([ 98.83928571, 157.53214286,  70.275     ,  77.06071429,\n",
       "         63.24642857,  94.22857143,  95.875     ,  74.78571429,\n",
       "         48.175     ,  47.00357143,  41.74285714,  61.61071429,\n",
       "         30.24285714,  35.42571429,  31.19428571,  40.96785714,\n",
       "         55.82071429,  61.71642857,  84.365     ,  70.45      ,\n",
       "         62.29642857,  66.40928571,  84.27214286,  66.94428571,\n",
       "         94.72142857, 112.61928571, 120.63214286, 131.96357143,\n",
       "        170.76428571,  94.73928571,  62.69142857, 108.895     ,\n",
       "         14.70357143,  81.66785714, 102.43785714, 144.53      ,\n",
       "         87.56428571, 102.745     , 117.43357143, 152.85214286,\n",
       "        135.33928571, 110.13214286, 104.81785714,  98.85      ,\n",
       "        118.125     ,  94.82857143,  71.17142857,  92.58928571,\n",
       "         75.66785714,  76.23214286]),\n",
       " array([ 98.57857143, 157.26428571,  70.05      ,  76.02142857,\n",
       "         62.69285714,  93.15714286,  94.55      ,  73.37142857,\n",
       "         48.05      ,  46.80714286,  39.38571429,  59.92142857,\n",
       "         29.48571429,  34.66142857,  30.00857143,  40.43571429,\n",
       "         55.48142857,  60.71285714,  83.64      ,  70.15      ,\n",
       "         61.39285714,  66.14857143,  84.25428571,  65.30857143,\n",
       "         94.14285714, 112.20857143, 120.16428571, 131.76714286,\n",
       "        170.42857143,  94.22857143,  60.51285714, 107.82      ,\n",
       "         14.20714286,  80.43571429, 102.00571429, 144.28      ,\n",
       "         87.37857143, 102.62      , 117.03714286, 152.83428571,\n",
       "        134.97857143, 109.26428571, 104.33571429,  98.6       ,\n",
       "        117.95      ,  94.35714286,  70.54285714,  91.87857143,\n",
       "         72.73571429,  73.76428571]),\n",
       " array([ 98.31785714, 156.99642857,  69.825     ,  74.98214286,\n",
       "         62.13928571,  92.08571429,  93.225     ,  71.95714286,\n",
       "         47.925     ,  46.61071429,  37.02857143,  58.23214286,\n",
       "         28.72857143,  33.89714286,  28.82285714,  39.90357143,\n",
       "         55.14214286,  59.70928571,  82.915     ,  69.85      ,\n",
       "         60.48928571,  65.88785714,  84.23642857,  63.67285714,\n",
       "         93.56428571, 111.79785714, 119.69642857, 131.57071429,\n",
       "        170.09285714,  93.71785714,  58.33428571, 106.745     ,\n",
       "         13.71071429,  79.20357143, 101.57357143, 144.03      ,\n",
       "         87.19285714, 102.495     , 116.64071429, 152.81642857,\n",
       "        134.61785714, 108.39642857, 103.85357143,  98.35      ,\n",
       "        117.775     ,  93.88571429,  69.91428571,  91.16785714,\n",
       "         69.80357143,  71.29642857])]"
      ]
     },
     "execution_count": 135,
     "metadata": {},
     "output_type": "execute_result"
    }
   ],
   "source": [
    "q"
   ]
  },
  {
   "cell_type": "code",
   "execution_count": 134,
   "metadata": {},
   "outputs": [
    {
     "data": {
      "text/plain": [
       "[array([ 98.83928571, 157.53214286,  70.275     ,  77.06071429,\n",
       "         63.24642857,  94.22857143,  95.875     ,  74.78571429,\n",
       "         48.175     ,  47.00357143,  41.74285714,  61.61071429,\n",
       "         30.24285714,  35.42571429,  31.19428571,  40.96785714,\n",
       "         55.82071429,  61.71642857,  84.365     ,  70.45      ,\n",
       "         62.29642857,  66.40928571,  84.27214286,  66.94428571,\n",
       "         94.72142857, 112.61928571, 120.63214286, 131.96357143,\n",
       "        170.76428571,  94.73928571,  62.69142857, 108.895     ,\n",
       "         14.70357143,  81.66785714, 102.43785714, 144.53      ,\n",
       "         87.56428571, 102.745     , 117.43357143, 152.85214286,\n",
       "        135.33928571, 110.13214286, 104.81785714,  98.85      ,\n",
       "        118.125     ,  94.82857143,  71.17142857,  92.58928571,\n",
       "         75.66785714,  76.23214286]),\n",
       " array([ 98.57857143, 157.26428571,  70.05      ,  76.02142857,\n",
       "         62.69285714,  93.15714286,  94.55      ,  73.37142857,\n",
       "         48.05      ,  46.80714286,  39.38571429,  59.92142857,\n",
       "         29.48571429,  34.66142857,  30.00857143,  40.43571429,\n",
       "         55.48142857,  60.71285714,  83.64      ,  70.15      ,\n",
       "         61.39285714,  66.14857143,  84.25428571,  65.30857143,\n",
       "         94.14285714, 112.20857143, 120.16428571, 131.76714286,\n",
       "        170.42857143,  94.22857143,  60.51285714, 107.82      ,\n",
       "         14.20714286,  80.43571429, 102.00571429, 144.28      ,\n",
       "         87.37857143, 102.62      , 117.03714286, 152.83428571,\n",
       "        134.97857143, 109.26428571, 104.33571429,  98.6       ,\n",
       "        117.95      ,  94.35714286,  70.54285714,  91.87857143,\n",
       "         72.73571429,  73.76428571]),\n",
       " array([ 98.31785714, 156.99642857,  69.825     ,  74.98214286,\n",
       "         62.13928571,  92.08571429,  93.225     ,  71.95714286,\n",
       "         47.925     ,  46.61071429,  37.02857143,  58.23214286,\n",
       "         28.72857143,  33.89714286,  28.82285714,  39.90357143,\n",
       "         55.14214286,  59.70928571,  82.915     ,  69.85      ,\n",
       "         60.48928571,  65.88785714,  84.23642857,  63.67285714,\n",
       "         93.56428571, 111.79785714, 119.69642857, 131.57071429,\n",
       "        170.09285714,  93.71785714,  58.33428571, 106.745     ,\n",
       "         13.71071429,  79.20357143, 101.57357143, 144.03      ,\n",
       "         87.19285714, 102.495     , 116.64071429, 152.81642857,\n",
       "        134.61785714, 108.39642857, 103.85357143,  98.35      ,\n",
       "        117.775     ,  93.88571429,  69.91428571,  91.16785714,\n",
       "         69.80357143,  71.29642857])]"
      ]
     },
     "execution_count": 134,
     "metadata": {},
     "output_type": "execute_result"
    }
   ],
   "source": [
    "q"
   ]
  },
  {
   "cell_type": "code",
   "execution_count": 205,
   "metadata": {},
   "outputs": [
    {
     "data": {
      "text/plain": [
       "array([ 99.1 , 157.8 ,  70.5 ,  78.1 ,  63.8 ,  95.3 ,  97.2 ,  76.2 ,\n",
       "        48.3 ,  47.2 ,  44.1 ,  63.3 ,  31.  ,  36.19,  32.38,  41.5 ,\n",
       "        56.16,  62.72,  85.09,  70.75,  63.2 ,  66.67,  84.29,  68.58,\n",
       "        95.3 , 113.03, 121.1 , 132.16, 171.1 ,  95.25,  64.87, 109.97,\n",
       "        15.2 ,  82.9 , 102.87, 144.78,  87.75, 102.87, 117.83, 152.87,\n",
       "       135.7 , 111.  , 105.3 ,  99.1 , 118.3 ,  95.3 ,  71.8 ,  93.3 ,\n",
       "        78.6 ,  78.7 ])"
      ]
     },
     "execution_count": 205,
     "metadata": {},
     "output_type": "execute_result"
    }
   ],
   "source": [
    "w0"
   ]
  },
  {
   "cell_type": "code",
   "execution_count": 206,
   "metadata": {},
   "outputs": [
    {
     "data": {
      "text/plain": [
       "array([0.26071429, 0.26785714, 0.225     , 1.03928571, 0.55357143,\n",
       "       1.07142857, 1.325     , 1.41428571, 0.125     , 0.19642857,\n",
       "       2.35714286, 1.68928571, 0.75714286, 0.76428571, 1.18571429,\n",
       "       0.53214286, 0.33928571, 1.00357143, 0.725     , 0.3       ,\n",
       "       0.90357143, 0.26071429, 0.01785714, 1.63571429, 0.57857143,\n",
       "       0.41071429, 0.46785714, 0.19642857, 0.33571429, 0.51071429,\n",
       "       2.17857143, 1.075     , 0.49642857, 1.23214286, 0.43214286,\n",
       "       0.25      , 0.18571429, 0.125     , 0.39642857, 0.01785714,\n",
       "       0.36071429, 0.86785714, 0.48214286, 0.25      , 0.175     ,\n",
       "       0.47142857, 0.62857143, 0.71071429, 2.93214286, 2.46785714])"
      ]
     },
     "execution_count": 206,
     "metadata": {},
     "output_type": "execute_result"
    }
   ],
   "source": [
    "r0"
   ]
  },
  {
   "cell_type": "code",
   "execution_count": 209,
   "metadata": {},
   "outputs": [],
   "source": [
    "t0 = np.linspace(w0[0], w0[0]-(r0[0]*50), num=50)"
   ]
  },
  {
   "cell_type": "code",
   "execution_count": 210,
   "metadata": {},
   "outputs": [
    {
     "data": {
      "text/plain": [
       "array([99.1       , 98.83396501, 98.56793003, 98.30189504, 98.03586006,\n",
       "       97.76982507, 97.50379009, 97.2377551 , 96.97172012, 96.70568513,\n",
       "       96.43965015, 96.17361516, 95.90758017, 95.64154519, 95.3755102 ,\n",
       "       95.10947522, 94.84344023, 94.57740525, 94.31137026, 94.04533528,\n",
       "       93.77930029, 93.51326531, 93.24723032, 92.98119534, 92.71516035,\n",
       "       92.44912536, 92.18309038, 91.91705539, 91.65102041, 91.38498542,\n",
       "       91.11895044, 90.85291545, 90.58688047, 90.32084548, 90.0548105 ,\n",
       "       89.78877551, 89.52274052, 89.25670554, 88.99067055, 88.72463557,\n",
       "       88.45860058, 88.1925656 , 87.92653061, 87.66049563, 87.39446064,\n",
       "       87.12842566, 86.86239067, 86.59635569, 86.3303207 , 86.06428571])"
      ]
     },
     "execution_count": 210,
     "metadata": {},
     "output_type": "execute_result"
    }
   ],
   "source": [
    "t0"
   ]
  },
  {
   "cell_type": "code",
   "execution_count": null,
   "metadata": {},
   "outputs": [],
   "source": []
  }
 ],
 "metadata": {
  "kernelspec": {
   "display_name": "Python 3",
   "language": "python",
   "name": "python3"
  },
  "language_info": {
   "codemirror_mode": {
    "name": "ipython",
    "version": 3
   },
   "file_extension": ".py",
   "mimetype": "text/x-python",
   "name": "python",
   "nbconvert_exporter": "python",
   "pygments_lexer": "ipython3",
   "version": "3.6.8"
  }
 },
 "nbformat": 4,
 "nbformat_minor": 2
}
