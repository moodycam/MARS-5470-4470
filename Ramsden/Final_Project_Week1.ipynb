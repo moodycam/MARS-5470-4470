{
 "cells": [
  {
   "cell_type": "code",
   "execution_count": 1,
   "metadata": {},
   "outputs": [
    {
     "name": "stderr",
     "output_type": "stream",
     "text": [
      "C:\\Users\\gak904\\AppData\\Local\\Continuum\\anaconda3\\lib\\site-packages\\dask\\config.py:168: YAMLLoadWarning: calling yaml.load() without Loader=... is deprecated, as the default Loader is unsafe. Please read https://msg.pyyaml.org/load for full details.\n",
      "  data = yaml.load(f.read()) or {}\n",
      "C:\\Users\\gak904\\AppData\\Local\\Continuum\\anaconda3\\lib\\site-packages\\distributed\\config.py:20: YAMLLoadWarning: calling yaml.load() without Loader=... is deprecated, as the default Loader is unsafe. Please read https://msg.pyyaml.org/load for full details.\n",
      "  defaults = yaml.load(f)\n"
     ]
    }
   ],
   "source": [
    "import numpy as np\n",
    "import matplotlib.pyplot as plt\n",
    "%matplotlib inline\n",
    "import xarray as xr"
   ]
  },
  {
   "cell_type": "code",
   "execution_count": 2,
   "metadata": {},
   "outputs": [],
   "source": [
    "import pandas as pd"
   ]
  },
  {
   "cell_type": "code",
   "execution_count": 3,
   "metadata": {},
   "outputs": [],
   "source": [
    "import openpyxl as op"
   ]
  },
  {
   "cell_type": "code",
   "execution_count": 4,
   "metadata": {},
   "outputs": [],
   "source": [
    "file = 'C:\\\\Users\\gak904\\Documents\\Python_Final_Project_\\Excel_raw.xlsx'\n",
    "Excel_raw = pd.read_excel(file, index_col=0)"
   ]
  },
  {
   "cell_type": "code",
   "execution_count": 5,
   "metadata": {},
   "outputs": [],
   "source": [
    "#The Excel file has been uploaded correctly"
   ]
  },
  {
   "cell_type": "code",
   "execution_count": 9,
   "metadata": {},
   "outputs": [
    {
     "data": {
      "text/html": [
       "<div>\n",
       "<style scoped>\n",
       "    .dataframe tbody tr th:only-of-type {\n",
       "        vertical-align: middle;\n",
       "    }\n",
       "\n",
       "    .dataframe tbody tr th {\n",
       "        vertical-align: top;\n",
       "    }\n",
       "\n",
       "    .dataframe thead th {\n",
       "        text-align: right;\n",
       "    }\n",
       "</style>\n",
       "<table border=\"1\" class=\"dataframe\">\n",
       "  <thead>\n",
       "    <tr style=\"text-align: right;\">\n",
       "      <th></th>\n",
       "      <th>Average Sediment Thickness 1976</th>\n",
       "      <th>Average Sediment Thickness 2004</th>\n",
       "      <th>Current Water Depth</th>\n",
       "    </tr>\n",
       "    <tr>\n",
       "      <th>Pool</th>\n",
       "      <th></th>\n",
       "      <th></th>\n",
       "      <th></th>\n",
       "    </tr>\n",
       "  </thead>\n",
       "  <tbody>\n",
       "    <tr>\n",
       "      <th>TR02</th>\n",
       "      <td>43.9</td>\n",
       "      <td>51.2</td>\n",
       "      <td>99.1</td>\n",
       "    </tr>\n",
       "    <tr>\n",
       "      <th>TR03</th>\n",
       "      <td>23.0</td>\n",
       "      <td>30.5</td>\n",
       "      <td>157.8</td>\n",
       "    </tr>\n",
       "    <tr>\n",
       "      <th>TR04</th>\n",
       "      <td>28.0</td>\n",
       "      <td>34.3</td>\n",
       "      <td>70.5</td>\n",
       "    </tr>\n",
       "    <tr>\n",
       "      <th>TR05</th>\n",
       "      <td>32.3</td>\n",
       "      <td>61.4</td>\n",
       "      <td>78.1</td>\n",
       "    </tr>\n",
       "    <tr>\n",
       "      <th>TR06</th>\n",
       "      <td>18.0</td>\n",
       "      <td>33.5</td>\n",
       "      <td>63.8</td>\n",
       "    </tr>\n",
       "  </tbody>\n",
       "</table>\n",
       "</div>"
      ],
      "text/plain": [
       "      Average Sediment Thickness 1976  Average Sediment Thickness 2004  \\\n",
       "Pool                                                                     \n",
       "TR02                             43.9                             51.2   \n",
       "TR03                             23.0                             30.5   \n",
       "TR04                             28.0                             34.3   \n",
       "TR05                             32.3                             61.4   \n",
       "TR06                             18.0                             33.5   \n",
       "\n",
       "      Current Water Depth  \n",
       "Pool                       \n",
       "TR02                 99.1  \n",
       "TR03                157.8  \n",
       "TR04                 70.5  \n",
       "TR05                 78.1  \n",
       "TR06                 63.8  "
      ]
     },
     "execution_count": 9,
     "metadata": {},
     "output_type": "execute_result"
    }
   ],
   "source": [
    "Excel_raw.head(5)"
   ]
  },
  {
   "cell_type": "code",
   "execution_count": 10,
   "metadata": {},
   "outputs": [],
   "source": [
    "sorted_by_water_depth = Excel_raw.sort_values(['Current Water Depth'], ascending=False)"
   ]
  },
  {
   "cell_type": "code",
   "execution_count": 11,
   "metadata": {},
   "outputs": [
    {
     "data": {
      "text/plain": [
       "Pool\n",
       "RG32    171.10\n",
       "TR03    157.80\n",
       "RG43    152.87\n",
       "RG39    144.78\n",
       "RG44    135.70\n",
       "RG31    132.16\n",
       "RG30    121.10\n",
       "RG52    118.30\n",
       "RG42    117.83\n",
       "RG29    113.03\n",
       "Name: Current Water Depth, dtype: float64"
      ]
     },
     "execution_count": 11,
     "metadata": {},
     "output_type": "execute_result"
    }
   ],
   "source": [
    "sorted_by_water_depth[\"Current Water Depth\"].head(10)"
   ]
  },
  {
   "cell_type": "code",
   "execution_count": 12,
   "metadata": {},
   "outputs": [
    {
     "data": {
      "image/png": "[encoded data removed]",
      "text/plain": [
       "<Figure size 432x288 with 1 Axes>"
      ]
     },
     "metadata": {
      "needs_background": "light"
     },
     "output_type": "display_data"
    }
   ],
   "source": [
    "sorted_by_water_depth[\"Current Water Depth\"].head(10).plot(kind=\"barh\")\n",
    "plt.show()"
   ]
  },
  {
   "cell_type": "code",
   "execution_count": 13,
   "metadata": {},
   "outputs": [],
   "source": [
    "sorted_by_water_depth = Excel_raw.sort_values(['Current Water Depth'], ascending=True)"
   ]
  },
  {
   "cell_type": "code",
   "execution_count": 14,
   "metadata": {},
   "outputs": [
    {
     "data": {
      "text/plain": [
       "Pool\n",
       "RG36    15.20\n",
       "RG16    31.00\n",
       "RG18    32.38\n",
       "RG17    36.19\n",
       "RG19    41.50\n",
       "TR13    44.10\n",
       "TR11    47.20\n",
       "TR10    48.30\n",
       "RG20    56.16\n",
       "RG21    62.72\n",
       "Name: Current Water Depth, dtype: float64"
      ]
     },
     "execution_count": 14,
     "metadata": {},
     "output_type": "execute_result"
    }
   ],
   "source": [
    "sorted_by_water_depth[\"Current Water Depth\"].head(10)"
   ]
  },
  {
   "cell_type": "code",
   "execution_count": 15,
   "metadata": {},
   "outputs": [
    {
     "data": {
      "image/png": "[encoded data removed]",
      "text/plain": [
       "<Figure size 432x288 with 1 Axes>"
      ]
     },
     "metadata": {
      "needs_background": "light"
     },
     "output_type": "display_data"
    }
   ],
   "source": [
    "sorted_by_water_depth[\"Current Water Depth\"].head(10).plot(kind=\"barh\")\n",
    "plt.show()"
   ]
  },
  {
   "cell_type": "code",
   "execution_count": 16,
   "metadata": {},
   "outputs": [],
   "source": [
    "#The pools have been sorted according to its current water depth, first, the 10 deepest pools have been sorted and also \n",
    "#the 10 pools with the lowest water depth levels."
   ]
  },
  {
   "cell_type": "code",
   "execution_count": 17,
   "metadata": {},
   "outputs": [
    {
     "data": {
      "text/plain": [
       "33.65"
      ]
     },
     "execution_count": 17,
     "metadata": {},
     "output_type": "execute_result"
    }
   ],
   "source": [
    "Excel_raw[\"Average Sediment Thickness 1976\"].mean()"
   ]
  },
  {
   "cell_type": "code",
   "execution_count": 18,
   "metadata": {},
   "outputs": [
    {
     "data": {
      "text/plain": [
       "54.474"
      ]
     },
     "execution_count": 18,
     "metadata": {},
     "output_type": "execute_result"
    }
   ],
   "source": [
    "Excel_raw[\"Average Sediment Thickness 2004\"].mean()"
   ]
  },
  {
   "cell_type": "code",
   "execution_count": 19,
   "metadata": {},
   "outputs": [],
   "source": [
    "Excel_raw[\"Sedimentation Rate\"] = (Excel_raw[\"Average Sediment Thickness 2004\"] - Excel_raw[\"Average Sediment Thickness 1976\"]) / 28 "
   ]
  },
  {
   "cell_type": "code",
   "execution_count": 20,
   "metadata": {},
   "outputs": [
    {
     "data": {
      "text/html": [
       "<div>\n",
       "<style scoped>\n",
       "    .dataframe tbody tr th:only-of-type {\n",
       "        vertical-align: middle;\n",
       "    }\n",
       "\n",
       "    .dataframe tbody tr th {\n",
       "        vertical-align: top;\n",
       "    }\n",
       "\n",
       "    .dataframe thead th {\n",
       "        text-align: right;\n",
       "    }\n",
       "</style>\n",
       "<table border=\"1\" class=\"dataframe\">\n",
       "  <thead>\n",
       "    <tr style=\"text-align: right;\">\n",
       "      <th></th>\n",
       "      <th>Average Sediment Thickness 1976</th>\n",
       "      <th>Average Sediment Thickness 2004</th>\n",
       "      <th>Current Water Depth</th>\n",
       "      <th>Sedimentation Rate</th>\n",
       "    </tr>\n",
       "    <tr>\n",
       "      <th>Pool</th>\n",
       "      <th></th>\n",
       "      <th></th>\n",
       "      <th></th>\n",
       "      <th></th>\n",
       "    </tr>\n",
       "  </thead>\n",
       "  <tbody>\n",
       "    <tr>\n",
       "      <th>TR02</th>\n",
       "      <td>43.9</td>\n",
       "      <td>51.2</td>\n",
       "      <td>99.1</td>\n",
       "      <td>0.260714</td>\n",
       "    </tr>\n",
       "    <tr>\n",
       "      <th>TR03</th>\n",
       "      <td>23.0</td>\n",
       "      <td>30.5</td>\n",
       "      <td>157.8</td>\n",
       "      <td>0.267857</td>\n",
       "    </tr>\n",
       "    <tr>\n",
       "      <th>TR04</th>\n",
       "      <td>28.0</td>\n",
       "      <td>34.3</td>\n",
       "      <td>70.5</td>\n",
       "      <td>0.225000</td>\n",
       "    </tr>\n",
       "    <tr>\n",
       "      <th>TR05</th>\n",
       "      <td>32.3</td>\n",
       "      <td>61.4</td>\n",
       "      <td>78.1</td>\n",
       "      <td>1.039286</td>\n",
       "    </tr>\n",
       "    <tr>\n",
       "      <th>TR06</th>\n",
       "      <td>18.0</td>\n",
       "      <td>33.5</td>\n",
       "      <td>63.8</td>\n",
       "      <td>0.553571</td>\n",
       "    </tr>\n",
       "  </tbody>\n",
       "</table>\n",
       "</div>"
      ],
      "text/plain": [
       "      Average Sediment Thickness 1976  Average Sediment Thickness 2004  \\\n",
       "Pool                                                                     \n",
       "TR02                             43.9                             51.2   \n",
       "TR03                             23.0                             30.5   \n",
       "TR04                             28.0                             34.3   \n",
       "TR05                             32.3                             61.4   \n",
       "TR06                             18.0                             33.5   \n",
       "\n",
       "      Current Water Depth  Sedimentation Rate  \n",
       "Pool                                           \n",
       "TR02                 99.1            0.260714  \n",
       "TR03                157.8            0.267857  \n",
       "TR04                 70.5            0.225000  \n",
       "TR05                 78.1            1.039286  \n",
       "TR06                 63.8            0.553571  "
      ]
     },
     "execution_count": 20,
     "metadata": {},
     "output_type": "execute_result"
    }
   ],
   "source": [
    "Excel_raw.head(5)"
   ]
  },
  {
   "cell_type": "code",
   "execution_count": 21,
   "metadata": {},
   "outputs": [],
   "source": [
    "sorted_by_Sedimentation_Rate = Excel_raw.sort_values(['Sedimentation Rate'], ascending=False)"
   ]
  },
  {
   "cell_type": "code",
   "execution_count": 22,
   "metadata": {},
   "outputs": [
    {
     "data": {
      "text/plain": [
       "Pool\n",
       "RG56    2.932143\n",
       "RG57    2.467857\n",
       "TR13    2.357143\n",
       "RG34    2.178571\n",
       "TR14    1.689286\n",
       "RG27    1.635714\n",
       "TR09    1.414286\n",
       "TR08    1.325000\n",
       "RG37    1.232143\n",
       "RG18    1.185714\n",
       "Name: Sedimentation Rate, dtype: float64"
      ]
     },
     "execution_count": 22,
     "metadata": {},
     "output_type": "execute_result"
    }
   ],
   "source": [
    "sorted_by_Sedimentation_Rate[\"Sedimentation Rate\"].head(10)"
   ]
  },
  {
   "cell_type": "code",
   "execution_count": 23,
   "metadata": {},
   "outputs": [
    {
     "data": {
      "image/png": "[encoded data removed]",
      "text/plain": [
       "<Figure size 432x288 with 1 Axes>"
      ]
     },
     "metadata": {
      "needs_background": "light"
     },
     "output_type": "display_data"
    }
   ],
   "source": [
    "sorted_by_Sedimentation_Rate[\"Sedimentation Rate\"].head(10).plot(kind=\"barh\")\n",
    "plt.show()"
   ]
  },
  {
   "cell_type": "code",
   "execution_count": 24,
   "metadata": {},
   "outputs": [
    {
     "data": {
      "text/html": [
       "<div>\n",
       "<style scoped>\n",
       "    .dataframe tbody tr th:only-of-type {\n",
       "        vertical-align: middle;\n",
       "    }\n",
       "\n",
       "    .dataframe tbody tr th {\n",
       "        vertical-align: top;\n",
       "    }\n",
       "\n",
       "    .dataframe thead th {\n",
       "        text-align: right;\n",
       "    }\n",
       "</style>\n",
       "<table border=\"1\" class=\"dataframe\">\n",
       "  <thead>\n",
       "    <tr style=\"text-align: right;\">\n",
       "      <th></th>\n",
       "      <th>Sedimentation Rate</th>\n",
       "    </tr>\n",
       "    <tr>\n",
       "      <th>Pool</th>\n",
       "      <th></th>\n",
       "    </tr>\n",
       "  </thead>\n",
       "  <tbody>\n",
       "    <tr>\n",
       "      <th>TR02</th>\n",
       "      <td>0.260714</td>\n",
       "    </tr>\n",
       "    <tr>\n",
       "      <th>TR03</th>\n",
       "      <td>0.267857</td>\n",
       "    </tr>\n",
       "    <tr>\n",
       "      <th>TR04</th>\n",
       "      <td>0.225000</td>\n",
       "    </tr>\n",
       "    <tr>\n",
       "      <th>TR05</th>\n",
       "      <td>1.039286</td>\n",
       "    </tr>\n",
       "    <tr>\n",
       "      <th>TR06</th>\n",
       "      <td>0.553571</td>\n",
       "    </tr>\n",
       "  </tbody>\n",
       "</table>\n",
       "</div>"
      ],
      "text/plain": [
       "      Sedimentation Rate\n",
       "Pool                    \n",
       "TR02            0.260714\n",
       "TR03            0.267857\n",
       "TR04            0.225000\n",
       "TR05            1.039286\n",
       "TR06            0.553571"
      ]
     },
     "execution_count": 24,
     "metadata": {},
     "output_type": "execute_result"
    }
   ],
   "source": [
    "Excel_raw_subset1 = Excel_raw[[ 'Sedimentation Rate']]\n",
    "Excel_raw_subset1.head()"
   ]
  },
  {
   "cell_type": "code",
   "execution_count": 25,
   "metadata": {},
   "outputs": [
    {
     "data": {
      "image/png": "[encoded data removed]",
      "text/plain": [
       "<Figure size 1440x576 with 1 Axes>"
      ]
     },
     "metadata": {
      "needs_background": "light"
     },
     "output_type": "display_data"
    }
   ],
   "source": [
    "Excel_raw_subset1.head(20).plot(kind='bar', figsize=(20,8))\n",
    "plt.show()"
   ]
  },
  {
   "cell_type": "code",
   "execution_count": 26,
   "metadata": {},
   "outputs": [],
   "source": [
    "sorted_top_sed_rate = Excel_raw_subset1.sort_values(['Sedimentation Rate'], ascending=False)"
   ]
  },
  {
   "cell_type": "code",
   "execution_count": 27,
   "metadata": {},
   "outputs": [
    {
     "data": {
      "text/html": [
       "<div>\n",
       "<style scoped>\n",
       "    .dataframe tbody tr th:only-of-type {\n",
       "        vertical-align: middle;\n",
       "    }\n",
       "\n",
       "    .dataframe tbody tr th {\n",
       "        vertical-align: top;\n",
       "    }\n",
       "\n",
       "    .dataframe thead th {\n",
       "        text-align: right;\n",
       "    }\n",
       "</style>\n",
       "<table border=\"1\" class=\"dataframe\">\n",
       "  <thead>\n",
       "    <tr style=\"text-align: right;\">\n",
       "      <th></th>\n",
       "      <th>Sedimentation Rate</th>\n",
       "    </tr>\n",
       "    <tr>\n",
       "      <th>Pool</th>\n",
       "      <th></th>\n",
       "    </tr>\n",
       "  </thead>\n",
       "  <tbody>\n",
       "    <tr>\n",
       "      <th>RG56</th>\n",
       "      <td>2.932143</td>\n",
       "    </tr>\n",
       "    <tr>\n",
       "      <th>RG57</th>\n",
       "      <td>2.467857</td>\n",
       "    </tr>\n",
       "    <tr>\n",
       "      <th>TR13</th>\n",
       "      <td>2.357143</td>\n",
       "    </tr>\n",
       "    <tr>\n",
       "      <th>RG34</th>\n",
       "      <td>2.178571</td>\n",
       "    </tr>\n",
       "    <tr>\n",
       "      <th>TR14</th>\n",
       "      <td>1.689286</td>\n",
       "    </tr>\n",
       "  </tbody>\n",
       "</table>\n",
       "</div>"
      ],
      "text/plain": [
       "      Sedimentation Rate\n",
       "Pool                    \n",
       "RG56            2.932143\n",
       "RG57            2.467857\n",
       "TR13            2.357143\n",
       "RG34            2.178571\n",
       "TR14            1.689286"
      ]
     },
     "execution_count": 27,
     "metadata": {},
     "output_type": "execute_result"
    }
   ],
   "source": [
    "sorted_top_sed_rate.head(5)"
   ]
  },
  {
   "cell_type": "code",
   "execution_count": 28,
   "metadata": {},
   "outputs": [
    {
     "data": {
      "image/png": "[encoded data removed]",
      "text/plain": [
       "<Figure size 1440x576 with 1 Axes>"
      ]
     },
     "metadata": {
      "needs_background": "light"
     },
     "output_type": "display_data"
    }
   ],
   "source": [
    "sorted_top_sed_rate.head(20).plot(kind='bar', figsize=(20,8))\n",
    "plt.show()"
   ]
  },
  {
   "cell_type": "code",
   "execution_count": 29,
   "metadata": {},
   "outputs": [
    {
     "data": {
      "text/plain": [
       "(50, 1)"
      ]
     },
     "execution_count": 29,
     "metadata": {},
     "output_type": "execute_result"
    }
   ],
   "source": [
    "sorted_top_sed_rate.shape"
   ]
  },
  {
   "cell_type": "code",
   "execution_count": 30,
   "metadata": {},
   "outputs": [
    {
     "data": {
      "text/plain": [
       "(50, 4)"
      ]
     },
     "execution_count": 30,
     "metadata": {},
     "output_type": "execute_result"
    }
   ],
   "source": [
    "Excel_raw.shape"
   ]
  },
  {
   "cell_type": "code",
   "execution_count": 31,
   "metadata": {},
   "outputs": [
    {
     "data": {
      "text/html": [
       "<div>\n",
       "<style scoped>\n",
       "    .dataframe tbody tr th:only-of-type {\n",
       "        vertical-align: middle;\n",
       "    }\n",
       "\n",
       "    .dataframe tbody tr th {\n",
       "        vertical-align: top;\n",
       "    }\n",
       "\n",
       "    .dataframe thead th {\n",
       "        text-align: right;\n",
       "    }\n",
       "</style>\n",
       "<table border=\"1\" class=\"dataframe\">\n",
       "  <thead>\n",
       "    <tr style=\"text-align: right;\">\n",
       "      <th></th>\n",
       "      <th>Average Sediment Thickness 1976</th>\n",
       "      <th>Average Sediment Thickness 2004</th>\n",
       "      <th>Current Water Depth</th>\n",
       "      <th>Sedimentation Rate</th>\n",
       "    </tr>\n",
       "    <tr>\n",
       "      <th>Pool</th>\n",
       "      <th></th>\n",
       "      <th></th>\n",
       "      <th></th>\n",
       "      <th></th>\n",
       "    </tr>\n",
       "  </thead>\n",
       "  <tbody>\n",
       "    <tr>\n",
       "      <th>TR02</th>\n",
       "      <td>43.9</td>\n",
       "      <td>51.2</td>\n",
       "      <td>99.1</td>\n",
       "      <td>0.260714</td>\n",
       "    </tr>\n",
       "    <tr>\n",
       "      <th>TR03</th>\n",
       "      <td>23.0</td>\n",
       "      <td>30.5</td>\n",
       "      <td>157.8</td>\n",
       "      <td>0.267857</td>\n",
       "    </tr>\n",
       "    <tr>\n",
       "      <th>TR04</th>\n",
       "      <td>28.0</td>\n",
       "      <td>34.3</td>\n",
       "      <td>70.5</td>\n",
       "      <td>0.225000</td>\n",
       "    </tr>\n",
       "  </tbody>\n",
       "</table>\n",
       "</div>"
      ],
      "text/plain": [
       "      Average Sediment Thickness 1976  Average Sediment Thickness 2004  \\\n",
       "Pool                                                                     \n",
       "TR02                             43.9                             51.2   \n",
       "TR03                             23.0                             30.5   \n",
       "TR04                             28.0                             34.3   \n",
       "\n",
       "      Current Water Depth  Sedimentation Rate  \n",
       "Pool                                           \n",
       "TR02                 99.1            0.260714  \n",
       "TR03                157.8            0.267857  \n",
       "TR04                 70.5            0.225000  "
      ]
     },
     "execution_count": 31,
     "metadata": {},
     "output_type": "execute_result"
    }
   ],
   "source": [
    "Excel_raw.head(3)"
   ]
  },
  {
   "cell_type": "code",
   "execution_count": 32,
   "metadata": {},
   "outputs": [],
   "source": [
    "Excel_raw[\"Water Depth 2005\"] = (Excel_raw[\"Current Water Depth\"] - Excel_raw[\"Sedimentation Rate\"])"
   ]
  },
  {
   "cell_type": "code",
   "execution_count": 33,
   "metadata": {},
   "outputs": [
    {
     "data": {
      "text/html": [
       "<div>\n",
       "<style scoped>\n",
       "    .dataframe tbody tr th:only-of-type {\n",
       "        vertical-align: middle;\n",
       "    }\n",
       "\n",
       "    .dataframe tbody tr th {\n",
       "        vertical-align: top;\n",
       "    }\n",
       "\n",
       "    .dataframe thead th {\n",
       "        text-align: right;\n",
       "    }\n",
       "</style>\n",
       "<table border=\"1\" class=\"dataframe\">\n",
       "  <thead>\n",
       "    <tr style=\"text-align: right;\">\n",
       "      <th></th>\n",
       "      <th>Average Sediment Thickness 1976</th>\n",
       "      <th>Average Sediment Thickness 2004</th>\n",
       "      <th>Current Water Depth</th>\n",
       "      <th>Sedimentation Rate</th>\n",
       "      <th>Water Depth 2005</th>\n",
       "    </tr>\n",
       "    <tr>\n",
       "      <th>Pool</th>\n",
       "      <th></th>\n",
       "      <th></th>\n",
       "      <th></th>\n",
       "      <th></th>\n",
       "      <th></th>\n",
       "    </tr>\n",
       "  </thead>\n",
       "  <tbody>\n",
       "    <tr>\n",
       "      <th>TR02</th>\n",
       "      <td>43.9</td>\n",
       "      <td>51.2</td>\n",
       "      <td>99.1</td>\n",
       "      <td>0.260714</td>\n",
       "      <td>98.839286</td>\n",
       "    </tr>\n",
       "    <tr>\n",
       "      <th>TR03</th>\n",
       "      <td>23.0</td>\n",
       "      <td>30.5</td>\n",
       "      <td>157.8</td>\n",
       "      <td>0.267857</td>\n",
       "      <td>157.532143</td>\n",
       "    </tr>\n",
       "    <tr>\n",
       "      <th>TR04</th>\n",
       "      <td>28.0</td>\n",
       "      <td>34.3</td>\n",
       "      <td>70.5</td>\n",
       "      <td>0.225000</td>\n",
       "      <td>70.275000</td>\n",
       "    </tr>\n",
       "  </tbody>\n",
       "</table>\n",
       "</div>"
      ],
      "text/plain": [
       "      Average Sediment Thickness 1976  Average Sediment Thickness 2004  \\\n",
       "Pool                                                                     \n",
       "TR02                             43.9                             51.2   \n",
       "TR03                             23.0                             30.5   \n",
       "TR04                             28.0                             34.3   \n",
       "\n",
       "      Current Water Depth  Sedimentation Rate  Water Depth 2005  \n",
       "Pool                                                             \n",
       "TR02                 99.1            0.260714         98.839286  \n",
       "TR03                157.8            0.267857        157.532143  \n",
       "TR04                 70.5            0.225000         70.275000  "
      ]
     },
     "execution_count": 33,
     "metadata": {},
     "output_type": "execute_result"
    }
   ],
   "source": [
    "Excel_raw.head(3)"
   ]
  },
  {
   "cell_type": "code",
   "execution_count": 35,
   "metadata": {},
   "outputs": [],
   "source": [
    "Excel_raw?\n",
    "    "
   ]
  },
  {
   "cell_type": "code",
   "execution_count": 45,
   "metadata": {},
   "outputs": [],
   "source": [
    "x = Excel_raw['Current Water Depth']\n"
   ]
  },
  {
   "cell_type": "code",
   "execution_count": 46,
   "metadata": {},
   "outputs": [
    {
     "data": {
      "text/plain": [
       "Pool\n",
       "TR02     99.1\n",
       "TR03    157.8\n",
       "TR04     70.5\n",
       "TR05     78.1\n",
       "TR06     63.8\n",
       "Name: Current Water Depth, dtype: float64"
      ]
     },
     "execution_count": 46,
     "metadata": {},
     "output_type": "execute_result"
    }
   ],
   "source": [
    "x.head(5)"
   ]
  },
  {
   "cell_type": "code",
   "execution_count": 58,
   "metadata": {},
   "outputs": [],
   "source": [
    "T = range(50)"
   ]
  },
  {
   "cell_type": "code",
   "execution_count": 59,
   "metadata": {},
   "outputs": [
    {
     "data": {
      "text/plain": [
       "range(0, 50)"
      ]
     },
     "execution_count": 59,
     "metadata": {},
     "output_type": "execute_result"
    }
   ],
   "source": [
    "T"
   ]
  },
  {
   "cell_type": "code",
   "execution_count": 60,
   "metadata": {},
   "outputs": [],
   "source": [
    "Water_depth = Excel_raw['Current Water Depth'] - (Excel_raw['Sedimentation Rate'] * T)"
   ]
  },
  {
   "cell_type": "code",
   "execution_count": 62,
   "metadata": {},
   "outputs": [
    {
     "data": {
      "text/plain": [
       "Pool\n",
       "TR02     99.100000\n",
       "TR03    157.532143\n",
       "TR04     70.050000\n",
       "dtype: float64"
      ]
     },
     "execution_count": 62,
     "metadata": {},
     "output_type": "execute_result"
    }
   ],
   "source": [
    "Water_depth.head(3)"
   ]
  },
  {
   "cell_type": "code",
   "execution_count": 63,
   "metadata": {},
   "outputs": [],
   "source": [
    "a = Excel_raw['Current Water Depth'] \n",
    "b = Excel_raw['Sedimentation Rate']"
   ]
  },
  {
   "cell_type": "code",
   "execution_count": 67,
   "metadata": {},
   "outputs": [],
   "source": [
    "a = Excel_raw['Current Water Depth'] \n",
    "b = Excel_raw['Sedimentation Rate']\n",
    "\n",
    "for year in range(1,50):\n",
    "    Water_depth_decrease = a - (b*year)\n",
    "    "
   ]
  },
  {
   "cell_type": "code",
   "execution_count": 69,
   "metadata": {},
   "outputs": [],
   "source": [
    "#Water_depth_decrease"
   ]
  },
  {
   "cell_type": "code",
   "execution_count": null,
   "metadata": {},
   "outputs": [],
   "source": []
  }
 ],
 "metadata": {
  "kernelspec": {
   "display_name": "Python 3",
   "language": "python",
   "name": "python3"
  },
  "language_info": {
   "codemirror_mode": {
    "name": "ipython",
    "version": 3
   },
   "file_extension": ".py",
   "mimetype": "text/x-python",
   "name": "python",
   "nbconvert_exporter": "python",
   "pygments_lexer": "ipython3",
   "version": "3.6.8"
  }
 },
 "nbformat": 4,
 "nbformat_minor": 2
}
