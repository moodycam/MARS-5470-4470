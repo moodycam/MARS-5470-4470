{
 "cells": [
  {
   "cell_type": "code",
   "execution_count": 56,
   "metadata": {
    "scrolled": false
   },
   "outputs": [],
   "source": [
    "import numpy as np\n",
    "import numpy as np\n",
    "import matplotlib.pyplot as plt\n",
    "%matplotlib inline\n",
    "import xarray as xr\n",
    "import pandas as pd\n",
    "from scipy import stats\n",
    "import statsmodels.api as sm"
   ]
  },
  {
   "cell_type": "markdown",
   "metadata": {},
   "source": [
    "## File Input and Data Preparation"
   ]
  },
  {
   "cell_type": "code",
   "execution_count": 57,
   "metadata": {
    "scrolled": true
   },
   "outputs": [
    {
     "data": {
      "text/html": [
       "<div>\n",
       "<style scoped>\n",
       "    .dataframe tbody tr th:only-of-type {\n",
       "        vertical-align: middle;\n",
       "    }\n",
       "\n",
       "    .dataframe tbody tr th {\n",
       "        vertical-align: top;\n",
       "    }\n",
       "\n",
       "    .dataframe thead th {\n",
       "        text-align: right;\n",
       "    }\n",
       "</style>\n",
       "<table border=\"1\" class=\"dataframe\">\n",
       "  <thead>\n",
       "    <tr style=\"text-align: right;\">\n",
       "      <th></th>\n",
       "      <th>Year</th>\n",
       "      <th>Population</th>\n",
       "      <th>Estimation</th>\n",
       "    </tr>\n",
       "  </thead>\n",
       "  <tbody>\n",
       "    <tr>\n",
       "      <th>0</th>\n",
       "      <td>2000</td>\n",
       "      <td>335227.0</td>\n",
       "      <td>N</td>\n",
       "    </tr>\n",
       "    <tr>\n",
       "      <th>1</th>\n",
       "      <td>2001</td>\n",
       "      <td>NaN</td>\n",
       "      <td>M</td>\n",
       "    </tr>\n",
       "    <tr>\n",
       "      <th>2</th>\n",
       "      <td>2002</td>\n",
       "      <td>NaN</td>\n",
       "      <td>M</td>\n",
       "    </tr>\n",
       "    <tr>\n",
       "      <th>3</th>\n",
       "      <td>2003</td>\n",
       "      <td>NaN</td>\n",
       "      <td>M</td>\n",
       "    </tr>\n",
       "    <tr>\n",
       "      <th>4</th>\n",
       "      <td>2004</td>\n",
       "      <td>NaN</td>\n",
       "      <td>M</td>\n",
       "    </tr>\n",
       "  </tbody>\n",
       "</table>\n",
       "</div>"
      ],
      "text/plain": [
       "   Year  Population Estimation\n",
       "0  2000    335227.0          N\n",
       "1  2001         NaN          M\n",
       "2  2002         NaN          M\n",
       "3  2003         NaN          M\n",
       "4  2004         NaN          M"
      ]
     },
     "execution_count": 57,
     "metadata": {},
     "output_type": "execute_result"
    }
   ],
   "source": [
    "excel_file = \"Cam_Pop.xlsx\"\n",
    "Cam_Pop = pd.read_excel(excel_file)\n",
    "Cam_Pop.head()"
   ]
  },
  {
   "cell_type": "code",
   "execution_count": 58,
   "metadata": {},
   "outputs": [
    {
     "data": {
      "text/html": [
       "<div>\n",
       "<style scoped>\n",
       "    .dataframe tbody tr th:only-of-type {\n",
       "        vertical-align: middle;\n",
       "    }\n",
       "\n",
       "    .dataframe tbody tr th {\n",
       "        vertical-align: top;\n",
       "    }\n",
       "\n",
       "    .dataframe thead th {\n",
       "        text-align: right;\n",
       "    }\n",
       "</style>\n",
       "<table border=\"1\" class=\"dataframe\">\n",
       "  <thead>\n",
       "    <tr style=\"text-align: right;\">\n",
       "      <th></th>\n",
       "      <th>Year</th>\n",
       "      <th>Population</th>\n",
       "      <th>Estimation</th>\n",
       "    </tr>\n",
       "  </thead>\n",
       "  <tbody>\n",
       "    <tr>\n",
       "      <th>46</th>\n",
       "      <td>2046</td>\n",
       "      <td>NaN</td>\n",
       "      <td>M</td>\n",
       "    </tr>\n",
       "    <tr>\n",
       "      <th>47</th>\n",
       "      <td>2047</td>\n",
       "      <td>NaN</td>\n",
       "      <td>M</td>\n",
       "    </tr>\n",
       "    <tr>\n",
       "      <th>48</th>\n",
       "      <td>2048</td>\n",
       "      <td>NaN</td>\n",
       "      <td>M</td>\n",
       "    </tr>\n",
       "    <tr>\n",
       "      <th>49</th>\n",
       "      <td>2049</td>\n",
       "      <td>NaN</td>\n",
       "      <td>M</td>\n",
       "    </tr>\n",
       "    <tr>\n",
       "      <th>50</th>\n",
       "      <td>2050</td>\n",
       "      <td>NaN</td>\n",
       "      <td>M</td>\n",
       "    </tr>\n",
       "  </tbody>\n",
       "</table>\n",
       "</div>"
      ],
      "text/plain": [
       "    Year  Population Estimation\n",
       "46  2046         NaN          M\n",
       "47  2047         NaN          M\n",
       "48  2048         NaN          M\n",
       "49  2049         NaN          M\n",
       "50  2050         NaN          M"
      ]
     },
     "execution_count": 58,
     "metadata": {},
     "output_type": "execute_result"
    }
   ],
   "source": [
    "Cam_Pop.tail()"
   ]
  },
  {
   "cell_type": "code",
   "execution_count": 59,
   "metadata": {},
   "outputs": [],
   "source": [
    "Cam_Pop['Population Model'] = np.zeros"
   ]
  },
  {
   "cell_type": "code",
   "execution_count": 60,
   "metadata": {
    "scrolled": true
   },
   "outputs": [
    {
     "data": {
      "text/html": [
       "<div>\n",
       "<style scoped>\n",
       "    .dataframe tbody tr th:only-of-type {\n",
       "        vertical-align: middle;\n",
       "    }\n",
       "\n",
       "    .dataframe tbody tr th {\n",
       "        vertical-align: top;\n",
       "    }\n",
       "\n",
       "    .dataframe thead th {\n",
       "        text-align: right;\n",
       "    }\n",
       "</style>\n",
       "<table border=\"1\" class=\"dataframe\">\n",
       "  <thead>\n",
       "    <tr style=\"text-align: right;\">\n",
       "      <th></th>\n",
       "      <th>Year</th>\n",
       "      <th>Population</th>\n",
       "      <th>Estimation</th>\n",
       "      <th>Population Model</th>\n",
       "    </tr>\n",
       "  </thead>\n",
       "  <tbody>\n",
       "    <tr>\n",
       "      <th>0</th>\n",
       "      <td>2000</td>\n",
       "      <td>335227.0</td>\n",
       "      <td>N</td>\n",
       "      <td>&lt;built-in function zeros&gt;</td>\n",
       "    </tr>\n",
       "    <tr>\n",
       "      <th>1</th>\n",
       "      <td>2001</td>\n",
       "      <td>NaN</td>\n",
       "      <td>M</td>\n",
       "      <td>&lt;built-in function zeros&gt;</td>\n",
       "    </tr>\n",
       "    <tr>\n",
       "      <th>2</th>\n",
       "      <td>2002</td>\n",
       "      <td>NaN</td>\n",
       "      <td>M</td>\n",
       "      <td>&lt;built-in function zeros&gt;</td>\n",
       "    </tr>\n",
       "    <tr>\n",
       "      <th>3</th>\n",
       "      <td>2003</td>\n",
       "      <td>NaN</td>\n",
       "      <td>M</td>\n",
       "      <td>&lt;built-in function zeros&gt;</td>\n",
       "    </tr>\n",
       "    <tr>\n",
       "      <th>4</th>\n",
       "      <td>2004</td>\n",
       "      <td>NaN</td>\n",
       "      <td>M</td>\n",
       "      <td>&lt;built-in function zeros&gt;</td>\n",
       "    </tr>\n",
       "    <tr>\n",
       "      <th>5</th>\n",
       "      <td>2005</td>\n",
       "      <td>374081.0</td>\n",
       "      <td>Y</td>\n",
       "      <td>&lt;built-in function zeros&gt;</td>\n",
       "    </tr>\n",
       "    <tr>\n",
       "      <th>6</th>\n",
       "      <td>2006</td>\n",
       "      <td>387717.0</td>\n",
       "      <td>Y</td>\n",
       "      <td>&lt;built-in function zeros&gt;</td>\n",
       "    </tr>\n",
       "    <tr>\n",
       "      <th>7</th>\n",
       "      <td>2007</td>\n",
       "      <td>387210.0</td>\n",
       "      <td>Y</td>\n",
       "      <td>&lt;built-in function zeros&gt;</td>\n",
       "    </tr>\n",
       "    <tr>\n",
       "      <th>8</th>\n",
       "      <td>2008</td>\n",
       "      <td>385274.0</td>\n",
       "      <td>Y</td>\n",
       "      <td>&lt;built-in function zeros&gt;</td>\n",
       "    </tr>\n",
       "    <tr>\n",
       "      <th>9</th>\n",
       "      <td>2009</td>\n",
       "      <td>396371.0</td>\n",
       "      <td>Y</td>\n",
       "      <td>&lt;built-in function zeros&gt;</td>\n",
       "    </tr>\n",
       "    <tr>\n",
       "      <th>10</th>\n",
       "      <td>2010</td>\n",
       "      <td>406220.0</td>\n",
       "      <td>N</td>\n",
       "      <td>&lt;built-in function zeros&gt;</td>\n",
       "    </tr>\n",
       "    <tr>\n",
       "      <th>11</th>\n",
       "      <td>2011</td>\n",
       "      <td>414123.0</td>\n",
       "      <td>Y</td>\n",
       "      <td>&lt;built-in function zeros&gt;</td>\n",
       "    </tr>\n",
       "    <tr>\n",
       "      <th>12</th>\n",
       "      <td>2012</td>\n",
       "      <td>415557.0</td>\n",
       "      <td>Y</td>\n",
       "      <td>&lt;built-in function zeros&gt;</td>\n",
       "    </tr>\n",
       "    <tr>\n",
       "      <th>13</th>\n",
       "      <td>2013</td>\n",
       "      <td>417276.0</td>\n",
       "      <td>Y</td>\n",
       "      <td>&lt;built-in function zeros&gt;</td>\n",
       "    </tr>\n",
       "    <tr>\n",
       "      <th>14</th>\n",
       "      <td>2014</td>\n",
       "      <td>420392.0</td>\n",
       "      <td>Y</td>\n",
       "      <td>&lt;built-in function zeros&gt;</td>\n",
       "    </tr>\n",
       "    <tr>\n",
       "      <th>15</th>\n",
       "      <td>2015</td>\n",
       "      <td>422156.0</td>\n",
       "      <td>Y</td>\n",
       "      <td>&lt;built-in function zeros&gt;</td>\n",
       "    </tr>\n",
       "    <tr>\n",
       "      <th>16</th>\n",
       "      <td>2016</td>\n",
       "      <td>422135.0</td>\n",
       "      <td>Y</td>\n",
       "      <td>&lt;built-in function zeros&gt;</td>\n",
       "    </tr>\n",
       "    <tr>\n",
       "      <th>17</th>\n",
       "      <td>2017</td>\n",
       "      <td>423725.0</td>\n",
       "      <td>Y</td>\n",
       "      <td>&lt;built-in function zeros&gt;</td>\n",
       "    </tr>\n",
       "    <tr>\n",
       "      <th>18</th>\n",
       "      <td>2018</td>\n",
       "      <td>NaN</td>\n",
       "      <td>M</td>\n",
       "      <td>&lt;built-in function zeros&gt;</td>\n",
       "    </tr>\n",
       "    <tr>\n",
       "      <th>19</th>\n",
       "      <td>2019</td>\n",
       "      <td>NaN</td>\n",
       "      <td>M</td>\n",
       "      <td>&lt;built-in function zeros&gt;</td>\n",
       "    </tr>\n",
       "    <tr>\n",
       "      <th>20</th>\n",
       "      <td>2020</td>\n",
       "      <td>NaN</td>\n",
       "      <td>M</td>\n",
       "      <td>&lt;built-in function zeros&gt;</td>\n",
       "    </tr>\n",
       "    <tr>\n",
       "      <th>21</th>\n",
       "      <td>2021</td>\n",
       "      <td>NaN</td>\n",
       "      <td>M</td>\n",
       "      <td>&lt;built-in function zeros&gt;</td>\n",
       "    </tr>\n",
       "    <tr>\n",
       "      <th>22</th>\n",
       "      <td>2022</td>\n",
       "      <td>NaN</td>\n",
       "      <td>M</td>\n",
       "      <td>&lt;built-in function zeros&gt;</td>\n",
       "    </tr>\n",
       "    <tr>\n",
       "      <th>23</th>\n",
       "      <td>2023</td>\n",
       "      <td>NaN</td>\n",
       "      <td>M</td>\n",
       "      <td>&lt;built-in function zeros&gt;</td>\n",
       "    </tr>\n",
       "    <tr>\n",
       "      <th>24</th>\n",
       "      <td>2024</td>\n",
       "      <td>NaN</td>\n",
       "      <td>M</td>\n",
       "      <td>&lt;built-in function zeros&gt;</td>\n",
       "    </tr>\n",
       "  </tbody>\n",
       "</table>\n",
       "</div>"
      ],
      "text/plain": [
       "    Year  Population Estimation           Population Model\n",
       "0   2000    335227.0          N  <built-in function zeros>\n",
       "1   2001         NaN          M  <built-in function zeros>\n",
       "2   2002         NaN          M  <built-in function zeros>\n",
       "3   2003         NaN          M  <built-in function zeros>\n",
       "4   2004         NaN          M  <built-in function zeros>\n",
       "5   2005    374081.0          Y  <built-in function zeros>\n",
       "6   2006    387717.0          Y  <built-in function zeros>\n",
       "7   2007    387210.0          Y  <built-in function zeros>\n",
       "8   2008    385274.0          Y  <built-in function zeros>\n",
       "9   2009    396371.0          Y  <built-in function zeros>\n",
       "10  2010    406220.0          N  <built-in function zeros>\n",
       "11  2011    414123.0          Y  <built-in function zeros>\n",
       "12  2012    415557.0          Y  <built-in function zeros>\n",
       "13  2013    417276.0          Y  <built-in function zeros>\n",
       "14  2014    420392.0          Y  <built-in function zeros>\n",
       "15  2015    422156.0          Y  <built-in function zeros>\n",
       "16  2016    422135.0          Y  <built-in function zeros>\n",
       "17  2017    423725.0          Y  <built-in function zeros>\n",
       "18  2018         NaN          M  <built-in function zeros>\n",
       "19  2019         NaN          M  <built-in function zeros>\n",
       "20  2020         NaN          M  <built-in function zeros>\n",
       "21  2021         NaN          M  <built-in function zeros>\n",
       "22  2022         NaN          M  <built-in function zeros>\n",
       "23  2023         NaN          M  <built-in function zeros>\n",
       "24  2024         NaN          M  <built-in function zeros>"
      ]
     },
     "execution_count": 60,
     "metadata": {},
     "output_type": "execute_result"
    }
   ],
   "source": [
    "Cam_Pop.head(n=25)"
   ]
  },
  {
   "cell_type": "markdown",
   "metadata": {},
   "source": [
    "## Variable Defining and Linear Regression"
   ]
  },
  {
   "cell_type": "code",
   "execution_count": 61,
   "metadata": {},
   "outputs": [],
   "source": [
    "#For actual Census Data from 2000-2010, census only happens in 2000 and 2010\n",
    "Population = Cam_Pop['Population']\n",
    "Year = Cam_Pop['Year']\n",
    "Model = Cam_Pop['Population Model']\n",
    "time = Year - Year[0]"
   ]
  },
  {
   "cell_type": "code",
   "execution_count": 62,
   "metadata": {},
   "outputs": [
    {
     "data": {
      "text/plain": [
       "Text(0.5, 0, 'Year')"
      ]
     },
     "execution_count": 62,
     "metadata": {},
     "output_type": "execute_result"
    },
    {
     "data": {
      "image/png": "[encoded data removed]",
      "text/plain": [
       "<Figure size 432x288 with 1 Axes>"
      ]
     },
     "metadata": {
      "needs_background": "light"
     },
     "output_type": "display_data"
    }
   ],
   "source": [
    "fig, ax = plt.subplots()\n",
    "ax.scatter(Year, Population)\n",
    "ax.set_title('Population Per Year Sample Points')\n",
    "ax.set_ylabel('Population')\n",
    "ax.set_xlabel('Year')"
   ]
  },
  {
   "cell_type": "code",
   "execution_count": 63,
   "metadata": {
    "scrolled": false
   },
   "outputs": [
    {
     "data": {
      "text/plain": [
       "0    0.000000\n",
       "1         NaN\n",
       "2         NaN\n",
       "3         NaN\n",
       "4         NaN\n",
       "5    0.109664\n",
       "6    0.145468\n",
       "7    0.144159\n",
       "8    0.139147\n",
       "9    0.167543\n",
       "Name: Population, dtype: float64"
      ]
     },
     "execution_count": 63,
     "metadata": {},
     "output_type": "execute_result"
    }
   ],
   "source": [
    "# set variable for ln(nt/No) vs t\n",
    "df = np.log(Population/Population[0])\n",
    "df.head(n=10)"
   ]
  },
  {
   "cell_type": "code",
   "execution_count": 64,
   "metadata": {},
   "outputs": [],
   "source": [
    "# get rid of NaN values, Scipy won't work if I don't do this\n",
    "Y=df[np.logical_not(np.isnan(df))]\n",
    "X=time[np.logical_not(np.isnan(df))]"
   ]
  },
  {
   "cell_type": "code",
   "execution_count": 65,
   "metadata": {},
   "outputs": [],
   "source": [
    "# Fitting a line to the k-value\n",
    "slope, intercept, r_value, p_value, std_err = stats.linregress(X, Y)"
   ]
  },
  {
   "cell_type": "code",
   "execution_count": 66,
   "metadata": {},
   "outputs": [
    {
     "data": {
      "text/plain": [
       "(0.013053834785732982,\n",
       " 0.04272980752389344,\n",
       " 0.9507106144433413,\n",
       " 1.860771640233833e-07,\n",
       " 0.001229057699291414)"
      ]
     },
     "execution_count": 66,
     "metadata": {},
     "output_type": "execute_result"
    }
   ],
   "source": [
    "slope, intercept, r_value, p_value, std_err"
   ]
  },
  {
   "cell_type": "code",
   "execution_count": 67,
   "metadata": {},
   "outputs": [
    {
     "data": {
      "text/plain": [
       "Text(0, 0.5, 'Ln(N(t)/No)')"
      ]
     },
     "execution_count": 67,
     "metadata": {},
     "output_type": "execute_result"
    },
    {
     "data": {
      "image/png": "[encoded data removed]",
      "text/plain": [
       "<Figure size 432x288 with 1 Axes>"
      ]
     },
     "metadata": {
      "needs_background": "light"
     },
     "output_type": "display_data"
    }
   ],
   "source": [
    "plt.plot(df, slope*time, 'k--')\n",
    "plt.scatter(df, time)\n",
    "plt.xlabel('Time')\n",
    "plt.ylabel('Ln(N(t)/No)')\n",
    "#plt.xlim((2000,2020))"
   ]
  },
  {
   "cell_type": "markdown",
   "metadata": {},
   "source": [
    "### Using Statsmodels(way better)"
   ]
  },
  {
   "cell_type": "code",
   "execution_count": 68,
   "metadata": {},
   "outputs": [
    {
     "name": "stderr",
     "output_type": "stream",
     "text": [
      "C:\\Users\\alvar\\Anaconda3\\lib\\site-packages\\scipy\\stats\\stats.py:1416: UserWarning: kurtosistest only valid for n>=20 ... continuing anyway, n=14\n",
      "  \"anyway, n=%i\" % int(n))\n"
     ]
    },
    {
     "data": {
      "text/html": [
       "<table class=\"simpletable\">\n",
       "<caption>OLS Regression Results</caption>\n",
       "<tr>\n",
       "  <th>Dep. Variable:</th>       <td>Population</td>    <th>  R-squared:         </th> <td>   0.980</td>\n",
       "</tr>\n",
       "<tr>\n",
       "  <th>Model:</th>                   <td>OLS</td>       <th>  Adj. R-squared:    </th> <td>   0.979</td>\n",
       "</tr>\n",
       "<tr>\n",
       "  <th>Method:</th>             <td>Least Squares</td>  <th>  F-statistic:       </th> <td>   648.2</td>\n",
       "</tr>\n",
       "<tr>\n",
       "  <th>Date:</th>             <td>Sun, 14 Apr 2019</td> <th>  Prob (F-statistic):</th> <td>1.77e-12</td>\n",
       "</tr>\n",
       "<tr>\n",
       "  <th>Time:</th>                 <td>15:30:50</td>     <th>  Log-Likelihood:    </th> <td>  31.113</td>\n",
       "</tr>\n",
       "<tr>\n",
       "  <th>No. Observations:</th>      <td>    14</td>      <th>  AIC:               </th> <td>  -60.23</td>\n",
       "</tr>\n",
       "<tr>\n",
       "  <th>Df Residuals:</th>          <td>    13</td>      <th>  BIC:               </th> <td>  -59.59</td>\n",
       "</tr>\n",
       "<tr>\n",
       "  <th>Df Model:</th>              <td>     1</td>      <th>                     </th>     <td> </td>   \n",
       "</tr>\n",
       "<tr>\n",
       "  <th>Covariance Type:</th>      <td>nonrobust</td>    <th>                     </th>     <td> </td>   \n",
       "</tr>\n",
       "</table>\n",
       "<table class=\"simpletable\">\n",
       "<tr>\n",
       "    <td></td>      <th>coef</th>     <th>std err</th>      <th>t</th>      <th>P>|t|</th>  <th>[0.025</th>    <th>0.975]</th>  \n",
       "</tr>\n",
       "<tr>\n",
       "  <th>Year</th> <td>    0.0165</td> <td>    0.001</td> <td>   25.461</td> <td> 0.000</td> <td>    0.015</td> <td>    0.018</td>\n",
       "</tr>\n",
       "</table>\n",
       "<table class=\"simpletable\">\n",
       "<tr>\n",
       "  <th>Omnibus:</th>       <td> 1.661</td> <th>  Durbin-Watson:     </th> <td>   0.321</td>\n",
       "</tr>\n",
       "<tr>\n",
       "  <th>Prob(Omnibus):</th> <td> 0.436</td> <th>  Jarque-Bera (JB):  </th> <td>   1.075</td>\n",
       "</tr>\n",
       "<tr>\n",
       "  <th>Skew:</th>          <td>-0.653</td> <th>  Prob(JB):          </th> <td>   0.584</td>\n",
       "</tr>\n",
       "<tr>\n",
       "  <th>Kurtosis:</th>      <td> 2.629</td> <th>  Cond. No.          </th> <td>    1.00</td>\n",
       "</tr>\n",
       "</table><br/><br/>Warnings:<br/>[1] Standard Errors assume that the covariance matrix of the errors is correctly specified."
      ],
      "text/plain": [
       "<class 'statsmodels.iolib.summary.Summary'>\n",
       "\"\"\"\n",
       "                            OLS Regression Results                            \n",
       "==============================================================================\n",
       "Dep. Variable:             Population   R-squared:                       0.980\n",
       "Model:                            OLS   Adj. R-squared:                  0.979\n",
       "Method:                 Least Squares   F-statistic:                     648.2\n",
       "Date:                Sun, 14 Apr 2019   Prob (F-statistic):           1.77e-12\n",
       "Time:                        15:30:50   Log-Likelihood:                 31.113\n",
       "No. Observations:                  14   AIC:                            -60.23\n",
       "Df Residuals:                      13   BIC:                            -59.59\n",
       "Df Model:                           1                                         \n",
       "Covariance Type:            nonrobust                                         \n",
       "==============================================================================\n",
       "                 coef    std err          t      P>|t|      [0.025      0.975]\n",
       "------------------------------------------------------------------------------\n",
       "Year           0.0165      0.001     25.461      0.000       0.015       0.018\n",
       "==============================================================================\n",
       "Omnibus:                        1.661   Durbin-Watson:                   0.321\n",
       "Prob(Omnibus):                  0.436   Jarque-Bera (JB):                1.075\n",
       "Skew:                          -0.653   Prob(JB):                        0.584\n",
       "Kurtosis:                       2.629   Cond. No.                         1.00\n",
       "==============================================================================\n",
       "\n",
       "Warnings:\n",
       "[1] Standard Errors assume that the covariance matrix of the errors is correctly specified.\n",
       "\"\"\""
      ]
     },
     "execution_count": 68,
     "metadata": {},
     "output_type": "execute_result"
    }
   ],
   "source": [
    "model = sm.OLS(Y,X).fit()\n",
    "model.summary()"
   ]
  },
  {
   "cell_type": "code",
   "execution_count": 69,
   "metadata": {},
   "outputs": [
    {
     "data": {
      "text/plain": [
       "0     0.000000\n",
       "1     0.016536\n",
       "2     0.033071\n",
       "3     0.049607\n",
       "4     0.066142\n",
       "5     0.082678\n",
       "6     0.099213\n",
       "7     0.115749\n",
       "8     0.132284\n",
       "9     0.148820\n",
       "10    0.165355\n",
       "11    0.181891\n",
       "12    0.198426\n",
       "13    0.214962\n",
       "14    0.231497\n",
       "15    0.248033\n",
       "16    0.264568\n",
       "17    0.281104\n",
       "18    0.297639\n",
       "19    0.314175\n",
       "20    0.330710\n",
       "21    0.347246\n",
       "22    0.363782\n",
       "23    0.380317\n",
       "24    0.396853\n",
       "25    0.413388\n",
       "26    0.429924\n",
       "27    0.446459\n",
       "28    0.462995\n",
       "29    0.479530\n",
       "30    0.496066\n",
       "31    0.512601\n",
       "32    0.529137\n",
       "33    0.545672\n",
       "34    0.562208\n",
       "35    0.578743\n",
       "36    0.595279\n",
       "37    0.611814\n",
       "38    0.628350\n",
       "39    0.644885\n",
       "40    0.661421\n",
       "41    0.677956\n",
       "42    0.694492\n",
       "43    0.711027\n",
       "44    0.727563\n",
       "45    0.744099\n",
       "46    0.760634\n",
       "47    0.777170\n",
       "48    0.793705\n",
       "49    0.810241\n",
       "50    0.826776\n",
       "dtype: float64"
      ]
     },
     "execution_count": 69,
     "metadata": {},
     "output_type": "execute_result"
    }
   ],
   "source": [
    "predictions = model.predict(time) # make the predictions by the model\n",
    "predictions"
   ]
  },
  {
   "cell_type": "code",
   "execution_count": 77,
   "metadata": {
    "scrolled": true
   },
   "outputs": [
    {
     "data": {
      "text/plain": [
       "Text(0, 0.5, 'Ln(N(t)/No)')"
      ]
     },
     "execution_count": 77,
     "metadata": {},
     "output_type": "execute_result"
    },
    {
     "data": {
      "image/png": "[encoded data removed]",
      "text/plain": [
       "<Figure size 432x288 with 1 Axes>"
      ]
     },
     "metadata": {
      "needs_background": "light"
     },
     "output_type": "display_data"
    }
   ],
   "source": [
    "plt.plot(predictions, time, 'k--')\n",
    "plt.scatter(df, time)\n",
    "plt.xlabel('Time')\n",
    "plt.ylabel('Ln(N(t)/No)')"
   ]
  },
  {
   "cell_type": "markdown",
   "metadata": {},
   "source": [
    "## Population Modeling"
   ]
  },
  {
   "cell_type": "code",
   "execution_count": 78,
   "metadata": {},
   "outputs": [
    {
     "data": {
      "text/html": [
       "<div>\n",
       "<style scoped>\n",
       "    .dataframe tbody tr th:only-of-type {\n",
       "        vertical-align: middle;\n",
       "    }\n",
       "\n",
       "    .dataframe tbody tr th {\n",
       "        vertical-align: top;\n",
       "    }\n",
       "\n",
       "    .dataframe thead th {\n",
       "        text-align: right;\n",
       "    }\n",
       "</style>\n",
       "<table border=\"1\" class=\"dataframe\">\n",
       "  <thead>\n",
       "    <tr style=\"text-align: right;\">\n",
       "      <th></th>\n",
       "      <th>Year</th>\n",
       "      <th>Population</th>\n",
       "      <th>Estimation</th>\n",
       "      <th>Population Model</th>\n",
       "    </tr>\n",
       "  </thead>\n",
       "  <tbody>\n",
       "    <tr>\n",
       "      <th>0</th>\n",
       "      <td>2000</td>\n",
       "      <td>335227.0</td>\n",
       "      <td>N</td>\n",
       "      <td>335227.000000</td>\n",
       "    </tr>\n",
       "    <tr>\n",
       "      <th>1</th>\n",
       "      <td>2001</td>\n",
       "      <td>NaN</td>\n",
       "      <td>M</td>\n",
       "      <td>340816.236828</td>\n",
       "    </tr>\n",
       "    <tr>\n",
       "      <th>2</th>\n",
       "      <td>2002</td>\n",
       "      <td>NaN</td>\n",
       "      <td>M</td>\n",
       "      <td>346498.662953</td>\n",
       "    </tr>\n",
       "    <tr>\n",
       "      <th>3</th>\n",
       "      <td>2003</td>\n",
       "      <td>NaN</td>\n",
       "      <td>M</td>\n",
       "      <td>352275.832119</td>\n",
       "    </tr>\n",
       "    <tr>\n",
       "      <th>4</th>\n",
       "      <td>2004</td>\n",
       "      <td>NaN</td>\n",
       "      <td>M</td>\n",
       "      <td>358149.323976</td>\n",
       "    </tr>\n",
       "    <tr>\n",
       "      <th>5</th>\n",
       "      <td>2005</td>\n",
       "      <td>374081.0</td>\n",
       "      <td>Y</td>\n",
       "      <td>364120.744511</td>\n",
       "    </tr>\n",
       "    <tr>\n",
       "      <th>6</th>\n",
       "      <td>2006</td>\n",
       "      <td>387717.0</td>\n",
       "      <td>Y</td>\n",
       "      <td>370191.726488</td>\n",
       "    </tr>\n",
       "    <tr>\n",
       "      <th>7</th>\n",
       "      <td>2007</td>\n",
       "      <td>387210.0</td>\n",
       "      <td>Y</td>\n",
       "      <td>376363.929894</td>\n",
       "    </tr>\n",
       "    <tr>\n",
       "      <th>8</th>\n",
       "      <td>2008</td>\n",
       "      <td>385274.0</td>\n",
       "      <td>Y</td>\n",
       "      <td>382639.042394</td>\n",
       "    </tr>\n",
       "    <tr>\n",
       "      <th>9</th>\n",
       "      <td>2009</td>\n",
       "      <td>396371.0</td>\n",
       "      <td>Y</td>\n",
       "      <td>389018.779789</td>\n",
       "    </tr>\n",
       "    <tr>\n",
       "      <th>10</th>\n",
       "      <td>2010</td>\n",
       "      <td>406220.0</td>\n",
       "      <td>N</td>\n",
       "      <td>395504.886490</td>\n",
       "    </tr>\n",
       "    <tr>\n",
       "      <th>11</th>\n",
       "      <td>2011</td>\n",
       "      <td>414123.0</td>\n",
       "      <td>Y</td>\n",
       "      <td>402099.135991</td>\n",
       "    </tr>\n",
       "    <tr>\n",
       "      <th>12</th>\n",
       "      <td>2012</td>\n",
       "      <td>415557.0</td>\n",
       "      <td>Y</td>\n",
       "      <td>408803.331355</td>\n",
       "    </tr>\n",
       "    <tr>\n",
       "      <th>13</th>\n",
       "      <td>2013</td>\n",
       "      <td>417276.0</td>\n",
       "      <td>Y</td>\n",
       "      <td>415619.305711</td>\n",
       "    </tr>\n",
       "    <tr>\n",
       "      <th>14</th>\n",
       "      <td>2014</td>\n",
       "      <td>420392.0</td>\n",
       "      <td>Y</td>\n",
       "      <td>422548.922747</td>\n",
       "    </tr>\n",
       "    <tr>\n",
       "      <th>15</th>\n",
       "      <td>2015</td>\n",
       "      <td>422156.0</td>\n",
       "      <td>Y</td>\n",
       "      <td>429594.077227</td>\n",
       "    </tr>\n",
       "    <tr>\n",
       "      <th>16</th>\n",
       "      <td>2016</td>\n",
       "      <td>422135.0</td>\n",
       "      <td>Y</td>\n",
       "      <td>436756.695505</td>\n",
       "    </tr>\n",
       "    <tr>\n",
       "      <th>17</th>\n",
       "      <td>2017</td>\n",
       "      <td>423725.0</td>\n",
       "      <td>Y</td>\n",
       "      <td>444038.736056</td>\n",
       "    </tr>\n",
       "    <tr>\n",
       "      <th>18</th>\n",
       "      <td>2018</td>\n",
       "      <td>NaN</td>\n",
       "      <td>M</td>\n",
       "      <td>451442.190004</td>\n",
       "    </tr>\n",
       "    <tr>\n",
       "      <th>19</th>\n",
       "      <td>2019</td>\n",
       "      <td>NaN</td>\n",
       "      <td>M</td>\n",
       "      <td>458969.081676</td>\n",
       "    </tr>\n",
       "    <tr>\n",
       "      <th>20</th>\n",
       "      <td>2020</td>\n",
       "      <td>NaN</td>\n",
       "      <td>M</td>\n",
       "      <td>466621.469146</td>\n",
       "    </tr>\n",
       "    <tr>\n",
       "      <th>21</th>\n",
       "      <td>2021</td>\n",
       "      <td>NaN</td>\n",
       "      <td>M</td>\n",
       "      <td>474401.444805</td>\n",
       "    </tr>\n",
       "    <tr>\n",
       "      <th>22</th>\n",
       "      <td>2022</td>\n",
       "      <td>NaN</td>\n",
       "      <td>M</td>\n",
       "      <td>482311.135930</td>\n",
       "    </tr>\n",
       "    <tr>\n",
       "      <th>23</th>\n",
       "      <td>2023</td>\n",
       "      <td>NaN</td>\n",
       "      <td>M</td>\n",
       "      <td>490352.705266</td>\n",
       "    </tr>\n",
       "    <tr>\n",
       "      <th>24</th>\n",
       "      <td>2024</td>\n",
       "      <td>NaN</td>\n",
       "      <td>M</td>\n",
       "      <td>498528.351616</td>\n",
       "    </tr>\n",
       "  </tbody>\n",
       "</table>\n",
       "</div>"
      ],
      "text/plain": [
       "    Year  Population Estimation  Population Model\n",
       "0   2000    335227.0          N     335227.000000\n",
       "1   2001         NaN          M     340816.236828\n",
       "2   2002         NaN          M     346498.662953\n",
       "3   2003         NaN          M     352275.832119\n",
       "4   2004         NaN          M     358149.323976\n",
       "5   2005    374081.0          Y     364120.744511\n",
       "6   2006    387717.0          Y     370191.726488\n",
       "7   2007    387210.0          Y     376363.929894\n",
       "8   2008    385274.0          Y     382639.042394\n",
       "9   2009    396371.0          Y     389018.779789\n",
       "10  2010    406220.0          N     395504.886490\n",
       "11  2011    414123.0          Y     402099.135991\n",
       "12  2012    415557.0          Y     408803.331355\n",
       "13  2013    417276.0          Y     415619.305711\n",
       "14  2014    420392.0          Y     422548.922747\n",
       "15  2015    422156.0          Y     429594.077227\n",
       "16  2016    422135.0          Y     436756.695505\n",
       "17  2017    423725.0          Y     444038.736056\n",
       "18  2018         NaN          M     451442.190004\n",
       "19  2019         NaN          M     458969.081676\n",
       "20  2020         NaN          M     466621.469146\n",
       "21  2021         NaN          M     474401.444805\n",
       "22  2022         NaN          M     482311.135930\n",
       "23  2023         NaN          M     490352.705266\n",
       "24  2024         NaN          M     498528.351616"
      ]
     },
     "execution_count": 78,
     "metadata": {},
     "output_type": "execute_result"
    }
   ],
   "source": [
    "Cam_Pop['Population Model'] = np.exp(predictions)*Population[0]\n",
    "Cam_Pop.head(n=25)\n",
    "#this gives me my filled in population exponential"
   ]
  },
  {
   "cell_type": "code",
   "execution_count": 88,
   "metadata": {},
   "outputs": [
    {
     "data": {
      "text/plain": [
       "Text(0.5, 0, 'Time')"
      ]
     },
     "execution_count": 88,
     "metadata": {},
     "output_type": "execute_result"
    },
    {
     "data": {
      "image/png": "[encoded data removed]",
      "text/plain": [
       "<Figure size 432x288 with 1 Axes>"
      ]
     },
     "metadata": {
      "needs_background": "light"
     },
     "output_type": "display_data"
    }
   ],
   "source": [
    "fig, ax = plt.subplots()\n",
    "plt.plot(time, Cam_Pop['Population Model'])\n",
    "ax.set_title('Cameron County Population Model Since 2000')\n",
    "ax.set_ylabel('Population')\n",
    "ax.set_xlabel('Time')"
   ]
  },
  {
   "cell_type": "markdown",
   "metadata": {},
   "source": [
    "## Raster Pixel Change Analysis\n",
    "POA : Raster cell data is array like and can be converted to a numpy array. Boolean testing function to see which cell values have changed and to what. Make a model to make predictions if about cells converted to urban areas. Further step... predict which how many forest pixels in specific will change."
   ]
  },
  {
   "cell_type": "code",
   "execution_count": null,
   "metadata": {},
   "outputs": [],
   "source": []
  }
 ],
 "metadata": {
  "kernelspec": {
   "display_name": "Python 3",
   "language": "python",
   "name": "python3"
  },
  "language_info": {
   "codemirror_mode": {
    "name": "ipython",
    "version": 3
   },
   "file_extension": ".py",
   "mimetype": "text/x-python",
   "name": "python",
   "nbconvert_exporter": "python",
   "pygments_lexer": "ipython3",
   "version": "3.6.8"
  }
 },
 "nbformat": 4,
 "nbformat_minor": 2
}
