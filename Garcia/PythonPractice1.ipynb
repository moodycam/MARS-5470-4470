{
 "cells": [
  {
   "cell_type": "code",
   "execution_count": 8,
   "metadata": {
    "scrolled": true
   },
   "outputs": [
    {
     "name": "stdout",
     "output_type": "stream",
     "text": [
      "What's ur nameBilbo Baggins\n",
      "What's ur age?50\n",
      "It will be 2069 when you're 100 years old\n"
     ]
    }
   ],
   "source": [
    "name = str(input(\"What's ur name\"))\n",
    "age = int(input(\"What's ur age?\"))\n",
    "centuryyear = (100 - age + 2019)\n",
    "print (\"It will be \" + str(centuryyear) + \" when you're 100 years old\")\n"
   ]
  },
  {
   "cell_type": "markdown",
   "metadata": {},
   "source": [
    "Definitions of variables and inputs and printing out a response. Pretty cool."
   ]
  },
  {
   "cell_type": "code",
   "execution_count": null,
   "metadata": {},
   "outputs": [],
   "source": []
  }
 ],
 "metadata": {
  "kernelspec": {
   "display_name": "Python 3",
   "language": "python",
   "name": "python3"
  },
  "language_info": {
   "codemirror_mode": {
    "name": "ipython",
    "version": 3
   },
   "file_extension": ".py",
   "mimetype": "text/x-python",
   "name": "python",
   "nbconvert_exporter": "python",
   "pygments_lexer": "ipython3",
   "version": "3.7.1"
  }
 },
 "nbformat": 4,
 "nbformat_minor": 2
}
