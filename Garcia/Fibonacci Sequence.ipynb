{
 "cells": [
  {
   "cell_type": "raw",
   "metadata": {},
   "source": [
    "# An = an-1 + an-2\n",
    "user input = # of #s\n",
    "output: fibonacci numbers\n",
    "idea: counter count down until 0\n",
    "sounds like a while loop\n",
    "while counter is greater than 0,\n",
    "add a fib to the list\n",
    "print out fib#\n",
    "\n",
    "Plan:\n",
    "- have the user enter a number of numbers to print out\n",
    "- have a while loop that counts down an prints out a number each time"
   ]
  },
  {
   "cell_type": "code",
   "execution_count": 7,
   "metadata": {},
   "outputs": [
    {
     "name": "stdout",
     "output_type": "stream",
     "text": [
      "How many numbers do you want in the fib sequence?7\n",
      "1\n",
      "counter =7\n",
      "fib1 =1\n",
      "fib2 =0\n",
      "1\n",
      "counter =6\n",
      "fib1 =1\n",
      "fib2 =1\n",
      "2\n",
      "counter =5\n",
      "fib1 =2\n",
      "fib2 =1\n",
      "3\n",
      "counter =4\n",
      "fib1 =3\n",
      "fib2 =2\n",
      "5\n",
      "counter =3\n",
      "fib1 =5\n",
      "fib2 =3\n",
      "8\n",
      "counter =2\n",
      "fib1 =8\n",
      "fib2 =5\n",
      "13\n"
     ]
    }
   ],
   "source": [
    "fib1 = 0\n",
    "\n",
    "fib2 = 1\n",
    "\n",
    "counter = int(input('How many numbers do you want in the fib sequence?'))\n",
    "\n",
    "print(fib2)\n",
    "while counter > 1:\n",
    "    print('counter =' + str(counter))\n",
    "    print('fib1 =' + str(fib2))\n",
    "    print('fib2 =' + str(fib1))\n",
    "    # add the previous two numbers and print\n",
    "    print(fib2+fib1)\n",
    "    # replace number for next loop\n",
    "    # save the new number to go into fib2\n",
    "    temp = fib2 + fib1\n",
    "    # put fib2 into fib1\n",
    "    fib1 = fib2\n",
    "    # put new number in fib2\n",
    "    fib2 = temp\n",
    "    # counter = counter - 1\n",
    "    counter = counter-1"
   ]
  },
  {
   "cell_type": "code",
   "execution_count": null,
   "metadata": {},
   "outputs": [],
   "source": []
  }
 ],
 "metadata": {
  "kernelspec": {
   "display_name": "Python 3",
   "language": "python",
   "name": "python3"
  },
  "language_info": {
   "codemirror_mode": {
    "name": "ipython",
    "version": 3
   },
   "file_extension": ".py",
   "mimetype": "text/x-python",
   "name": "python",
   "nbconvert_exporter": "python",
   "pygments_lexer": "ipython3",
   "version": "3.7.1"
  }
 },
 "nbformat": 4,
 "nbformat_minor": 2
}
