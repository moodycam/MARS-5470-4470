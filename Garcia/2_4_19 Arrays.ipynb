{
 "cells": [
  {
   "cell_type": "code",
   "execution_count": 1,
   "metadata": {},
   "outputs": [],
   "source": [
    "import numpy as np\n",
    "import matplotlib.pyplot as plt"
   ]
  },
  {
   "cell_type": "code",
   "execution_count": 2,
   "metadata": {},
   "outputs": [],
   "source": [
    "a = np.arange(10)"
   ]
  },
  {
   "cell_type": "code",
   "execution_count": 3,
   "metadata": {},
   "outputs": [
    {
     "data": {
      "text/plain": [
       "array([0, 1, 2, 3, 4, 5, 6, 7, 8, 9])"
      ]
     },
     "execution_count": 3,
     "metadata": {},
     "output_type": "execute_result"
    }
   ],
   "source": [
    "a"
   ]
  },
  {
   "cell_type": "code",
   "execution_count": 6,
   "metadata": {},
   "outputs": [
    {
     "data": {
      "text/plain": [
       "Text(0,0.5,'3a+5')"
      ]
     },
     "execution_count": 6,
     "metadata": {},
     "output_type": "execute_result"
    },
    {
     "data": {
      "image/png": "[encoded data removed]",
      "text/plain": [
       "<Figure size 432x288 with 1 Axes>"
      ]
     },
     "metadata": {
      "needs_background": "light"
     },
     "output_type": "display_data"
    }
   ],
   "source": [
    "plt.plot(a, 3*a + 5)\n",
    "plt.title('myplot')\n",
    "plt.xlabel('a')\n",
    "plt.ylabel('3a+5')"
   ]
  },
  {
   "cell_type": "markdown",
   "metadata": {},
   "source": [
    "Different versions of python require different steps"
   ]
  },
  {
   "cell_type": "markdown",
   "metadata": {},
   "source": [
    "%matplotlib inline  - - - some versions require this for plot to show\n",
    "plt.show() - - - have to have this statement to show plot in interactive python interphases"
   ]
  },
  {
   "cell_type": "code",
   "execution_count": 7,
   "metadata": {},
   "outputs": [
    {
     "data": {
      "text/plain": [
       "array([[0., 0., 0., 0., 0., 0.],\n",
       "       [0., 0., 0., 0., 0., 0.],\n",
       "       [0., 0., 0., 0., 0., 0.],\n",
       "       [0., 0., 0., 0., 0., 0.],\n",
       "       [0., 0., 0., 0., 0., 0.]])"
      ]
     },
     "execution_count": 7,
     "metadata": {},
     "output_type": "execute_result"
    }
   ],
   "source": [
    "b = np.zeros((5,6))\n",
    "b"
   ]
  },
  {
   "cell_type": "code",
   "execution_count": 8,
   "metadata": {},
   "outputs": [],
   "source": [
    "b[0,0] = 10"
   ]
  },
  {
   "cell_type": "code",
   "execution_count": 9,
   "metadata": {},
   "outputs": [
    {
     "data": {
      "text/plain": [
       "array([[10.,  0.,  0.,  0.,  0.,  0.],\n",
       "       [ 0.,  0.,  0.,  0.,  0.,  0.],\n",
       "       [ 0.,  0.,  0.,  0.,  0.,  0.],\n",
       "       [ 0.,  0.,  0.,  0.,  0.,  0.],\n",
       "       [ 0.,  0.,  0.,  0.,  0.,  0.]])"
      ]
     },
     "execution_count": 9,
     "metadata": {},
     "output_type": "execute_result"
    }
   ],
   "source": [
    "b"
   ]
  },
  {
   "cell_type": "code",
   "execution_count": 10,
   "metadata": {},
   "outputs": [],
   "source": [
    "b[0,1] = 20"
   ]
  },
  {
   "cell_type": "code",
   "execution_count": 11,
   "metadata": {},
   "outputs": [
    {
     "data": {
      "text/plain": [
       "array([[10., 20.,  0.,  0.,  0.,  0.],\n",
       "       [ 0.,  0.,  0.,  0.,  0.,  0.],\n",
       "       [ 0.,  0.,  0.,  0.,  0.,  0.],\n",
       "       [ 0.,  0.,  0.,  0.,  0.,  0.],\n",
       "       [ 0.,  0.,  0.,  0.,  0.,  0.]])"
      ]
     },
     "execution_count": 11,
     "metadata": {},
     "output_type": "execute_result"
    }
   ],
   "source": [
    "b"
   ]
  },
  {
   "cell_type": "code",
   "execution_count": 12,
   "metadata": {},
   "outputs": [],
   "source": [
    "b[1,0] = 30"
   ]
  },
  {
   "cell_type": "code",
   "execution_count": 13,
   "metadata": {},
   "outputs": [
    {
     "data": {
      "text/plain": [
       "array([[10., 20.,  0.,  0.,  0.,  0.],\n",
       "       [30.,  0.,  0.,  0.,  0.,  0.],\n",
       "       [ 0.,  0.,  0.,  0.,  0.,  0.],\n",
       "       [ 0.,  0.,  0.,  0.,  0.,  0.],\n",
       "       [ 0.,  0.,  0.,  0.,  0.,  0.]])"
      ]
     },
     "execution_count": 13,
     "metadata": {},
     "output_type": "execute_result"
    }
   ],
   "source": [
    "b"
   ]
  },
  {
   "cell_type": "code",
   "execution_count": 15,
   "metadata": {},
   "outputs": [
    {
     "data": {
      "text/plain": [
       "<matplotlib.colorbar.Colorbar at 0x1eae47645c0>"
      ]
     },
     "execution_count": 15,
     "metadata": {},
     "output_type": "execute_result"
    },
    {
     "data": {
      "image/png": "[encoded data removed]",
      "text/plain": [
       "<Figure size 432x288 with 2 Axes>"
      ]
     },
     "metadata": {
      "needs_background": "light"
     },
     "output_type": "display_data"
    }
   ],
   "source": [
    "plt.pcolormesh(b)\n",
    "plt.colorbar()"
   ]
  },
  {
   "cell_type": "code",
   "execution_count": 16,
   "metadata": {},
   "outputs": [
    {
     "data": {
      "text/plain": [
       "array([[10., 20.,  0.,  0.,  0.,  0.],\n",
       "       [ 5.,  5.,  5.,  5.,  5.,  5.],\n",
       "       [ 0.,  0.,  0.,  0.,  0.,  0.],\n",
       "       [ 0.,  0.,  0.,  0.,  0.,  0.],\n",
       "       [ 0.,  0.,  0.,  0.,  0.,  0.]])"
      ]
     },
     "execution_count": 16,
     "metadata": {},
     "output_type": "execute_result"
    }
   ],
   "source": [
    "b[1, :] = 5\n",
    "b"
   ]
  },
  {
   "cell_type": "code",
   "execution_count": 17,
   "metadata": {},
   "outputs": [
    {
     "data": {
      "text/plain": [
       "<matplotlib.colorbar.Colorbar at 0x1eae4803470>"
      ]
     },
     "execution_count": 17,
     "metadata": {},
     "output_type": "execute_result"
    },
    {
     "data": {
      "image/png": "[encoded data removed]",
      "text/plain": [
       "<Figure size 432x288 with 2 Axes>"
      ]
     },
     "metadata": {
      "needs_background": "light"
     },
     "output_type": "display_data"
    }
   ],
   "source": [
    "plt.pcolormesh(b)\n",
    "plt.colorbar()"
   ]
  },
  {
   "cell_type": "code",
   "execution_count": 19,
   "metadata": {},
   "outputs": [
    {
     "data": {
      "text/plain": [
       "<matplotlib.colorbar.Colorbar at 0x1eae4937828>"
      ]
     },
     "execution_count": 19,
     "metadata": {},
     "output_type": "execute_result"
    },
    {
     "data": {
      "image/png": "[encoded data removed]",
      "text/plain": [
       "<Figure size 432x288 with 2 Axes>"
      ]
     },
     "metadata": {
      "needs_background": "light"
     },
     "output_type": "display_data"
    }
   ],
   "source": [
    "plt.pcolormesh(b, cmap = 'inferno')\n",
    "plt.colorbar()"
   ]
  },
  {
   "cell_type": "code",
   "execution_count": 20,
   "metadata": {},
   "outputs": [
    {
     "data": {
      "text/plain": [
       "array([[10., 20.,  0.,  0.,  0.,  0.],\n",
       "       [ 5.,  5.,  5.,  5.,  5.,  5.]])"
      ]
     },
     "execution_count": 20,
     "metadata": {},
     "output_type": "execute_result"
    }
   ],
   "source": [
    "c = b[0:2,:]\n",
    "c"
   ]
  },
  {
   "cell_type": "markdown",
   "metadata": {},
   "source": [
    "Makes a new array that is part of the old array - - - slicing from arrays"
   ]
  },
  {
   "cell_type": "code",
   "execution_count": 56,
   "metadata": {},
   "outputs": [],
   "source": [
    "d = np.random.randn(1000)\n",
    "# DEFINE A VECTOR OF RANDOM NUMBERS AND CONDUCT SOME STATISTICS randn = normally distributed numbers\n",
    "# rand = random numbers, not necessarily normally distributed"
   ]
  },
  {
   "cell_type": "code",
   "execution_count": 47,
   "metadata": {},
   "outputs": [
    {
     "data": {
      "text/plain": [
       "array([-8.08482177e-02, -8.93879605e-01, -9.68756486e-01,  2.06856705e+00,\n",
       "        7.47302159e-01, -2.31498649e+00,  6.34105989e-01, -1.72159943e+00,\n",
       "       -5.91961372e-02,  3.98514061e-01, -1.52674661e-01,  5.04351896e-01,\n",
       "       -2.86617130e-01,  2.67135556e-01, -1.64226838e+00,  9.32361889e-01,\n",
       "        3.28543796e-01,  1.21635015e-01, -7.20223790e-01,  1.00135339e+00,\n",
       "        1.08424036e+00,  1.11619212e+00, -5.94357541e-01, -1.59212666e-01,\n",
       "       -7.65925483e-01,  1.15576270e-01,  1.06039152e+00,  4.11059967e-01,\n",
       "        9.24614138e-01,  5.44975131e-01, -1.04225774e+00, -8.76030963e-03,\n",
       "        8.70231823e-02, -6.45048060e-02,  2.30150243e-01,  9.58566012e-01,\n",
       "        3.32854838e-01,  1.82548260e-02,  2.23102909e-01, -1.69947000e+00,\n",
       "       -3.49923078e-01,  9.68677742e-01,  1.11776627e+00, -7.02286299e-01,\n",
       "        3.33637436e-01,  2.35271307e+00, -3.07079977e+00,  1.09961187e+00,\n",
       "       -2.14058379e+00,  1.31537358e+00,  6.65021336e-01,  2.43573462e-01,\n",
       "        1.48623522e+00,  1.83699141e+00, -5.23424843e-01, -1.38822588e+00,\n",
       "        3.18301165e-01, -2.05969699e+00,  8.61037265e-01, -1.27737693e+00,\n",
       "       -1.29355848e+00,  9.01161811e-01, -8.42432642e-01, -1.96705834e+00,\n",
       "       -8.54214152e-01,  4.61422014e-01,  7.25009158e-01, -9.21838555e-01,\n",
       "        4.30047128e-01, -1.62613296e+00, -1.65275813e-02, -6.45274272e-02,\n",
       "        9.62167811e-01,  1.08519867e+00,  4.12347354e-01, -2.82538920e-01,\n",
       "        8.90311607e-02,  4.94279951e-01,  7.61131265e-02, -2.19584263e+00,\n",
       "        7.63060583e-01, -7.05365701e-01, -2.22893992e-01,  4.42936069e-01,\n",
       "        1.91911647e+00,  1.23332011e+00, -1.98363297e-01, -6.95259193e-01,\n",
       "        2.12303911e+00,  1.78121556e+00,  2.91237761e-01, -1.18847965e+00,\n",
       "       -1.04143166e+00, -2.06919859e+00,  1.30450920e+00,  5.06345735e-01,\n",
       "        7.56913376e-01, -1.10911094e+00, -1.24753265e-01, -6.57851753e-01,\n",
       "       -1.24938993e-01, -5.24416695e-01,  1.80914015e+00, -1.00249828e+00,\n",
       "        3.85444543e-01,  2.00182989e-02,  1.00910407e+00,  9.28566398e-01,\n",
       "       -9.79816200e-01,  6.40962087e-01,  3.22668940e-01, -2.18634921e-01,\n",
       "       -8.01129719e-01, -9.57879809e-01, -4.00617842e-01, -9.72496907e-01,\n",
       "        5.55909331e-01, -1.60831115e+00,  4.03363142e-01, -1.27572644e+00,\n",
       "        1.16812963e+00, -1.18227775e-01,  2.07750760e-01,  5.06543381e-01,\n",
       "       -7.77357923e-01,  1.41023809e+00,  9.11135682e-02, -4.80965596e-01,\n",
       "        2.17686603e+00, -4.71798262e-01,  1.02164490e+00,  5.34915893e-01,\n",
       "        1.26461972e+00, -3.36934211e-01, -5.99192554e-01,  1.81449172e+00,\n",
       "       -4.97174902e-01,  1.49569405e+00, -7.49585537e-01, -1.89344811e-01,\n",
       "        3.28335253e-01,  9.24864441e-01,  2.94047690e-01,  6.03147852e-01,\n",
       "        8.14129123e-02, -3.84190171e-01,  1.81694628e+00, -1.18336733e+00,\n",
       "        1.33565206e+00,  1.80781436e+00,  6.70971155e-01, -1.60835742e+00,\n",
       "       -2.80550436e-01, -2.75011570e-01,  8.22693773e-01,  9.04069930e-01,\n",
       "        5.14978280e-01,  7.83882540e-01,  9.16475608e-01, -2.85507570e-01,\n",
       "        1.73573489e+00,  1.38622829e+00, -1.19820459e+00,  4.08990155e-01,\n",
       "        1.19736577e+00,  2.14839895e-02, -1.70626184e-01, -1.07068324e-01,\n",
       "        1.36147614e+00,  2.87079090e-01, -1.17187175e-01, -9.27674534e-01,\n",
       "       -3.74895073e-02,  1.47102035e+00,  1.46124470e-01,  1.97106523e-01,\n",
       "        1.29937751e+00,  2.53192814e-01, -9.58127921e-01,  3.73685689e-01,\n",
       "       -1.20615819e+00,  4.40715095e-02,  1.69189809e+00, -5.65508547e-01,\n",
       "        1.24679790e-01, -1.55678215e+00, -4.69838288e-01,  4.72176820e-01,\n",
       "       -5.68540667e-01, -8.22611073e-01, -5.17417660e-01,  5.49330147e-01,\n",
       "       -1.77428626e-01, -5.09432567e-01, -7.04613368e-01,  2.18689227e+00,\n",
       "        3.51797165e-01, -2.00066385e-01, -7.21621810e-01, -4.69742359e-02,\n",
       "       -2.33567739e+00,  2.57049388e-01,  8.08410675e-01, -1.61677129e+00,\n",
       "        1.90241132e+00,  5.91292552e-03, -2.74042349e-01,  8.70109748e-01,\n",
       "       -7.77662539e-01,  3.30001739e-01, -4.40687554e-01, -6.22204418e-01,\n",
       "        2.80851962e-02,  1.49280338e+00, -5.37178573e-01,  2.60394398e+00,\n",
       "       -9.52970517e-02, -2.71027709e+00,  6.83911102e-01,  2.40339950e+00,\n",
       "       -1.56875433e+00, -7.24259977e-01,  7.70365961e-01, -4.98293911e-01,\n",
       "        7.03945627e-01, -1.23619827e+00,  8.90080621e-02, -2.00331766e+00,\n",
       "       -7.26405967e-01,  2.16477464e-01, -2.99176330e-01,  4.43284180e-01,\n",
       "        1.68493190e-01, -7.10398751e-01,  5.62486719e-01,  7.92530289e-01,\n",
       "       -6.79105872e-01, -2.26188585e-01,  5.86903828e-01,  2.42500315e-01,\n",
       "        5.28868431e-01, -9.08547578e-02,  2.44053137e+00, -6.95884784e-01,\n",
       "        2.21386936e+00,  5.15622431e-01,  1.73541382e+00,  1.98220957e-01,\n",
       "        6.55297649e-02, -2.40636448e+00, -9.19111711e-01, -4.00083276e-01,\n",
       "       -1.43751377e+00,  7.39962346e-01,  1.49784398e+00, -1.94727702e+00,\n",
       "        3.81502670e-01,  8.79666397e-01,  4.98625210e-01, -7.82144986e-01,\n",
       "       -4.80664847e-01, -1.12832674e+00,  4.89464061e-01,  1.04613104e+00,\n",
       "       -1.82380733e+00, -8.07141494e-02,  6.42735130e-01,  5.18523328e-01,\n",
       "       -6.80185618e-02,  3.35464584e-01,  2.67664189e-01,  9.80932812e-01,\n",
       "       -9.30210015e-01, -5.36612799e-01,  1.68320426e+00, -2.71497374e-01,\n",
       "        4.54915475e-01, -8.43864344e-01,  7.61671328e-01,  1.21749237e+00,\n",
       "        5.69263437e-01,  9.83045551e-02,  1.54842151e+00,  1.34608122e+00,\n",
       "        9.92017497e-01,  4.70164587e-01, -1.04167876e+00,  7.89821412e-01,\n",
       "        1.12853449e+00, -5.36425684e-01,  7.40465445e-01,  1.83255152e-01,\n",
       "        9.56667759e-01, -1.27577566e+00, -8.94014722e-01, -5.77592664e-01,\n",
       "       -7.71723876e-01, -7.19249286e-01, -6.00495793e-01,  6.31685456e-01,\n",
       "       -3.40135387e-02,  9.65412628e-01, -2.45406727e-02, -6.64072937e-01,\n",
       "        2.70141718e-01,  1.45381055e+00,  1.32371073e+00, -4.24694759e-01,\n",
       "        1.38047645e+00, -1.63503723e+00,  2.27215422e+00,  5.13795331e-01,\n",
       "       -1.66440034e+00,  9.01809794e-04, -2.23070415e-01, -2.15715181e-01,\n",
       "       -6.08800096e-01,  4.43246660e-01, -1.11920355e+00, -7.76226864e-01,\n",
       "       -5.00992306e-01, -5.79435341e-01,  2.24566999e+00,  7.62167715e-01,\n",
       "        3.47228917e-01, -1.18547860e+00, -4.69239943e-01, -7.69221984e-02,\n",
       "       -3.59012313e-01,  7.63307556e-01,  1.62221193e+00,  4.92107714e-01,\n",
       "       -1.46501756e-01,  1.23063766e-01, -3.27124822e-01,  2.22955358e+00,\n",
       "        1.29128725e+00,  7.17247293e-02,  2.27251930e-01,  4.99375242e-02,\n",
       "        1.80956584e+00,  7.69201440e-01,  5.47958047e-01,  5.33668507e-02,\n",
       "        3.49885070e-01,  1.40651214e+00, -6.07902648e-01,  8.62204294e-01,\n",
       "        4.60055337e-01,  5.50194987e-01,  6.56154086e-01, -1.55514608e+00,\n",
       "       -3.28309847e-01, -1.36038055e-01,  9.37598467e-01,  4.84358916e-02,\n",
       "        1.20573083e+00, -2.92210806e-01, -2.24057951e-01, -1.74716893e+00,\n",
       "       -3.11995147e-01, -5.86809258e-01,  1.69587608e+00,  1.41793057e-01,\n",
       "       -1.21621297e+00, -2.36404410e-01, -7.55889488e-01,  9.95777755e-01,\n",
       "        6.47730393e-01,  2.59169344e-01, -3.15488625e-01,  1.32014762e+00,\n",
       "       -1.42790596e-01, -7.68739563e-01,  1.15392391e+00,  5.10226052e-01,\n",
       "       -5.39417327e-01,  4.65718950e-01,  2.41501149e-01, -1.20580253e+00,\n",
       "        1.79791847e+00, -1.20283395e+00, -1.34612244e+00,  1.37118947e+00,\n",
       "        2.43116785e-01,  2.77858399e+00,  1.11878734e+00,  2.18768276e-01,\n",
       "       -3.69218860e-01, -1.27903005e+00,  5.67160004e-01, -1.61719745e+00,\n",
       "        1.54658747e+00, -2.61327349e+00,  8.58916257e-01, -2.11235760e+00,\n",
       "        9.42995155e-01,  9.01693185e-01,  4.93109887e-02, -9.66068236e-01,\n",
       "       -8.32565109e-01,  2.32171814e+00,  1.58988625e-01, -7.27216189e-01,\n",
       "        1.90081793e-01,  1.74893733e-01,  1.34266806e+00,  5.84196333e-02,\n",
       "       -2.44935368e+00, -1.11025331e-02,  5.29835015e-02, -2.10112154e-01,\n",
       "       -1.19772478e+00,  1.78372891e+00, -2.39837683e-01, -1.57587586e-01,\n",
       "        4.09197692e-01, -4.60064177e-01, -1.78662374e+00,  7.53838130e-01,\n",
       "       -4.39743312e-01,  8.89612648e-01, -5.13278881e-01, -2.20895906e-02,\n",
       "       -7.58831060e-02, -7.93056712e-01,  4.50077073e-01,  2.38351171e-01,\n",
       "        9.95569694e-01,  3.86305586e-02,  4.39036280e-01, -9.90127795e-01,\n",
       "       -6.45095197e-01, -5.84642766e-01, -3.58546044e-01,  2.11834256e+00,\n",
       "       -6.28120420e-01, -1.34726718e+00, -7.95180985e-01,  7.13195738e-01,\n",
       "        4.23912835e-01, -7.60016503e-01,  8.95913461e-02,  2.66908951e-01,\n",
       "       -4.87123876e-01, -1.29146773e+00,  8.09511567e-01,  1.16980976e-02,\n",
       "       -1.01736924e+00, -1.50654447e-01, -2.80912186e-01,  6.06888855e-01,\n",
       "        7.01428006e-01, -6.45259570e-01, -8.92164469e-01,  8.05793995e-01,\n",
       "       -4.82081525e-02,  1.70433084e-01, -1.41730676e+00,  2.26057793e-01,\n",
       "       -3.32234503e-01,  1.83112179e+00, -1.53546760e+00, -1.39076919e+00,\n",
       "        6.15913872e-01, -3.51635798e-01,  4.73881898e-01,  5.99183022e-01,\n",
       "        1.92149611e-01, -5.38090236e-01,  3.74474428e-01,  2.11342041e+00,\n",
       "        2.42025255e-01, -6.95697877e-01,  2.77753946e-01,  4.20115965e-01,\n",
       "        3.45728473e-02,  4.24067991e-01, -1.03016163e-01,  1.57397476e+00,\n",
       "        4.90240577e-01,  3.91842220e-02, -1.86093552e+00,  7.51921622e-01,\n",
       "        4.56630078e-01, -5.68529667e-01, -4.03247593e-01, -5.69631183e-01,\n",
       "        5.08081607e-01, -1.63923839e+00, -3.20159623e-01, -1.51885975e+00,\n",
       "       -1.02972988e+00,  8.07040973e-01, -1.03078648e+00,  6.79283518e-01,\n",
       "        9.56607438e-01, -3.48576736e-01, -3.28612478e-01, -8.66796007e-01,\n",
       "        1.78621302e-01, -2.56765853e+00,  6.84423139e-02,  1.26577501e+00,\n",
       "        1.36113141e-01, -5.70011085e-01,  5.14360810e-01, -1.84107092e-01,\n",
       "       -1.93189851e+00,  2.36099452e-01,  3.98885979e-01, -1.23689898e-01,\n",
       "       -1.51322712e-01,  2.66355298e-01,  1.65910257e-01, -3.13635008e-01,\n",
       "       -7.48473821e-01, -5.19482338e-01,  3.24530638e-01, -6.05221994e-01,\n",
       "       -5.36337232e-01, -2.04268792e-01,  3.02663629e-01, -9.69213656e-01,\n",
       "       -5.07094522e-01,  1.93827467e+00,  4.45617931e-01, -1.26258732e-01,\n",
       "       -9.80875794e-01,  6.37626158e-01, -6.70395580e-01, -2.89835023e-01,\n",
       "       -8.58194324e-01,  2.84964711e+00, -2.50317560e+00, -1.08456522e+00,\n",
       "       -1.80933420e+00, -1.07989431e+00, -1.43855344e-01, -1.66310741e+00,\n",
       "        1.04176753e+00, -4.79901046e-01, -2.73553710e-01,  2.14301471e-01,\n",
       "       -1.37821790e-01,  7.07120502e-01,  3.63796513e-01, -2.11598115e-01,\n",
       "        2.23991287e+00,  1.46733665e+00,  1.20295176e+00, -3.37924518e-01,\n",
       "       -8.73447136e-02,  8.34432342e-01,  1.89446480e+00, -6.07883870e-01,\n",
       "        4.00579905e-01, -1.20292730e+00, -1.40623745e+00,  1.98744750e+00,\n",
       "       -1.09189394e+00,  1.18918201e+00,  6.65728629e-01,  9.18715880e-02,\n",
       "        1.38158776e+00, -4.67230322e-01, -1.07489027e-01,  1.24101827e+00,\n",
       "       -8.92993720e-01, -6.73407089e-01, -3.82510845e-01,  7.06978885e-03,\n",
       "        2.27064419e+00, -2.06627124e+00, -6.82362755e-01,  1.39211940e+00,\n",
       "       -4.50911645e-03, -1.28697061e+00,  2.00906827e-01, -2.72350126e+00,\n",
       "       -2.97954686e-02, -1.08750148e+00,  1.17785148e+00, -4.26378883e-02,\n",
       "       -4.87783919e-01,  2.93497763e-02, -2.27899555e-01, -1.20492558e-01,\n",
       "       -6.42497042e-01,  1.63044481e+00,  1.80912611e+00, -4.72289751e-01,\n",
       "       -1.38242681e+00, -7.66702071e-01, -7.12238455e-01,  8.19569225e-01,\n",
       "        1.15299777e+00, -2.11089251e+00,  6.99345732e-01,  1.99049832e-01,\n",
       "        4.71104647e-01, -3.41545589e-01, -3.59729218e-01,  9.42988481e-02,\n",
       "       -9.71226687e-01,  1.43882912e-01, -1.94535986e+00,  1.34162583e+00,\n",
       "       -1.26903607e+00, -9.76693759e-01,  4.94792185e-01, -1.28644414e-01,\n",
       "        1.72826295e+00,  4.89232484e-01, -1.53970404e-01, -6.52771771e-01,\n",
       "        3.78887077e-01, -8.64264884e-01, -4.79863762e-01, -4.30184248e-01,\n",
       "        9.00855159e-01, -1.16951055e+00, -1.88445483e+00,  4.10525874e-01,\n",
       "        9.01409631e-02, -4.29953693e-02,  3.77088911e-01,  2.64498824e-01,\n",
       "        1.15246140e+00,  4.45893811e-01, -2.60393664e-01,  2.18933825e-01,\n",
       "        1.31402595e+00,  9.97263907e-01,  1.03457484e+00, -1.21658301e+00,\n",
       "        8.91154419e-01, -1.63963316e+00, -7.50785900e-01,  6.52471796e-01,\n",
       "        5.33789404e-01,  1.80119264e-01,  1.16953468e+00,  7.03529141e-02,\n",
       "       -7.19984042e-01, -2.81285612e+00, -1.64151086e+00,  1.30576417e+00,\n",
       "        1.19665270e+00,  5.19007834e-01,  1.12627353e+00, -1.32507469e+00,\n",
       "        3.92953764e-01,  8.81825071e-01, -1.77643203e+00,  1.11434710e+00,\n",
       "       -9.99811788e-02, -9.29019137e-01,  1.78777072e+00,  3.81145560e-01,\n",
       "        8.04231965e-02,  9.45375449e-01,  4.83002181e-01,  7.98421440e-01,\n",
       "       -1.63860052e-01,  1.56993586e+00,  1.11751530e+00,  4.60994594e-01,\n",
       "        1.35661884e+00,  1.41205193e+00, -3.43242227e-01,  1.61218758e+00,\n",
       "        2.29192648e-01,  1.73606780e+00,  1.00348219e-02,  2.96406703e-02,\n",
       "        6.95257912e-01, -4.32753563e-01, -1.62341094e+00,  1.12663477e+00,\n",
       "        6.43326060e-01,  4.43288613e-01, -2.39139295e-01, -1.30763934e+00,\n",
       "       -5.49859138e-01, -1.06810875e+00,  6.05875961e-01, -1.14524716e+00,\n",
       "        6.37002619e-01, -4.67805241e-01, -1.12683747e+00,  6.12166735e-02,\n",
       "       -8.85703216e-01, -8.41658186e-01,  3.99027823e-01, -1.56020881e-01,\n",
       "       -1.03820769e+00,  4.57549505e-01, -1.46162737e+00,  8.29665075e-01,\n",
       "        1.52331613e-01, -2.15742788e-01,  2.96231109e+00,  4.86460008e-01,\n",
       "       -6.40327453e-01, -8.27277065e-01, -1.33437205e+00, -4.54077771e-02,\n",
       "       -1.63712637e+00, -4.86674279e-01, -1.27232636e-01, -4.28269849e-01,\n",
       "       -1.13625668e+00, -3.52011089e-01,  1.84377897e-02,  1.89051723e-01,\n",
       "        1.74936127e+00,  1.40737369e+00,  1.01232536e+00, -2.89365989e-01,\n",
       "       -1.38171703e+00, -4.67986616e-01,  1.08934791e-02,  1.26200311e+00,\n",
       "       -7.66178711e-01, -6.41027845e-01, -1.49181870e-01,  6.18828019e-01,\n",
       "        1.79150879e+00, -2.30312546e-01,  1.69992560e+00, -4.14889244e-01,\n",
       "       -1.65952612e+00, -1.92027844e+00, -4.28264580e-01,  4.52808956e-01,\n",
       "        2.17846484e-01, -1.62577128e-02,  1.62610013e+00, -2.25722393e-02,\n",
       "       -7.03859675e-01,  8.86078339e-02,  1.09932412e+00,  1.66218033e+00,\n",
       "        9.97694251e-01,  2.09957710e-01, -2.53677430e-01,  4.75921216e-01,\n",
       "       -9.60344832e-01,  9.13742735e-01,  2.19364917e+00,  1.39511158e+00,\n",
       "        3.59794506e-01, -1.67423770e+00, -7.82825426e-01,  9.93826874e-01,\n",
       "       -1.50629699e+00,  2.37685461e-01,  7.91205614e-01, -5.61125758e-01,\n",
       "       -1.73196941e+00, -3.89096523e-01, -5.47424058e-01, -7.84020840e-01,\n",
       "       -5.07390905e-01, -8.52301202e-03,  3.51652051e-01, -1.45989827e+00,\n",
       "        2.63999310e-01, -4.41826384e-02,  1.16917158e+00,  3.62476273e-01,\n",
       "        7.60622847e-01, -5.18061184e-01, -1.38557448e+00,  3.75665234e-01,\n",
       "       -8.55020164e-01,  8.96579522e-01, -5.11680987e-01,  1.95472760e-01,\n",
       "       -4.17278156e-01, -6.00414539e-01, -1.57054133e+00, -8.06667678e-01,\n",
       "        1.54386172e+00,  7.25020403e-01, -2.37509731e-01,  2.49576947e-01,\n",
       "       -2.40871714e-01,  8.48272874e-01, -1.02176290e+00,  2.56114993e-01,\n",
       "       -1.55748602e-01,  6.59364499e-01,  1.07635014e+00, -1.96932193e-01,\n",
       "       -8.20463487e-02,  1.22554029e+00,  1.68587763e+00,  2.16247970e+00,\n",
       "       -2.75743355e-01,  1.93025845e+00,  6.98104509e-02, -1.76182198e-03,\n",
       "        9.14916971e-01,  2.18632891e+00,  1.16759861e+00, -1.50150619e+00,\n",
       "       -1.02944865e-01,  1.10405043e+00, -2.95696832e-01,  2.55108892e-01,\n",
       "       -1.38931226e+00, -5.95107560e-01, -8.86899688e-03,  1.61024779e+00,\n",
       "       -1.01481236e+00, -1.18735097e+00,  6.39263635e-01,  7.95945434e-01,\n",
       "       -1.35606859e+00,  7.41115188e-01,  6.54045134e-01,  1.24755391e+00,\n",
       "        1.13192306e+00,  4.80267051e-01, -6.72554789e-01,  1.27369449e+00,\n",
       "        1.26125700e-01, -3.78554558e-01, -2.94797379e-01, -1.73065059e+00,\n",
       "       -4.54908459e-01, -5.02538730e-02, -2.55600990e+00, -8.92551309e-01,\n",
       "        2.59574987e-01, -1.02126428e+00,  2.34988549e-01,  9.76501062e-01,\n",
       "       -5.69221859e-01, -2.49358112e+00, -1.77419287e+00, -1.58721983e+00,\n",
       "        1.22442595e+00, -6.60951311e-01,  1.18541988e+00,  1.55217781e+00,\n",
       "        1.48054993e+00,  7.40957331e-01, -1.41738823e+00,  2.71114700e+00,\n",
       "        6.52219729e-01, -3.72398913e-01,  4.42577299e-01, -6.23506348e-01,\n",
       "       -6.90454469e-01, -7.64065761e-01, -5.84717316e-01,  1.37402138e+00,\n",
       "       -1.01952330e+00,  4.14857554e-02, -7.28758023e-01, -1.70616176e+00,\n",
       "       -9.01066581e-01,  6.77098995e-02,  7.65725396e-01, -1.00576568e-01,\n",
       "        1.08869044e+00,  3.75337755e-01, -8.39055210e-01, -9.90912118e-01,\n",
       "        2.18001474e-01, -9.32137160e-01, -1.31092997e-01,  9.61206561e-01,\n",
       "        3.25025167e-01, -3.71980646e-02,  8.85457714e-01, -2.09888537e-01,\n",
       "        1.92783434e+00, -7.48244862e-02,  3.25690995e-01, -7.88217314e-02,\n",
       "       -1.43140598e+00,  1.18552865e+00, -5.03794386e-01,  1.14230581e+00,\n",
       "       -4.07020542e-02,  2.51668238e-01, -4.67491881e-01, -1.24845538e+00,\n",
       "       -4.63526832e-01,  1.92601627e+00,  5.97854131e-01,  1.13240224e+00,\n",
       "       -1.41547803e+00,  9.09269346e-02,  1.46898021e+00,  7.13452188e-01,\n",
       "        1.53594922e-01,  5.71521627e-01,  4.14620224e-02, -1.10264793e+00,\n",
       "        5.85012609e-01,  1.28648208e+00, -2.66358843e-01,  2.18430429e+00,\n",
       "       -7.34993394e-01,  7.68217546e-01, -1.39909945e+00, -2.94427899e-01,\n",
       "       -6.28113553e-01, -1.25231013e+00,  1.41187766e+00, -7.42231242e-01,\n",
       "        4.30904522e-01, -7.53469592e-02, -7.55513444e-01,  9.57266715e-01,\n",
       "       -9.07968784e-01, -4.37286078e-01,  1.75226391e+00, -2.09020364e+00,\n",
       "        6.06103492e-01,  1.19069967e+00,  5.83979791e-01,  5.72027139e-01,\n",
       "        5.00570667e-01,  6.16446492e-01,  2.10288727e+00, -1.43272385e-02,\n",
       "       -8.88078213e-01, -9.26246831e-02,  3.77453506e-01,  5.26307019e-01,\n",
       "       -3.80406284e-01, -2.29278943e-01, -5.86900491e-01, -1.45001650e+00,\n",
       "        1.79542032e-01, -2.38245956e-01, -8.73002590e-01, -3.90645618e-01,\n",
       "       -6.93247998e-02, -1.32281885e+00, -2.36861058e-01,  9.40830782e-01,\n",
       "       -3.53799777e-01,  3.12898219e-02,  3.17010352e-01, -9.53852702e-01,\n",
       "        2.43768958e+00, -7.82406929e-01, -9.33464629e-01,  1.07432945e+00,\n",
       "        3.84843787e-01, -3.36899278e-01,  4.08780586e-01,  2.73749838e+00,\n",
       "       -1.23615502e+00,  1.84618476e+00, -3.50229196e-01, -1.04857910e+00,\n",
       "       -7.00102139e-01, -3.39946954e-01, -1.48529244e+00, -1.40486709e+00,\n",
       "       -2.61140134e-01,  7.85548120e-01, -1.29958226e+00,  2.83097747e-01,\n",
       "        1.29897239e-01, -9.05831038e-01,  9.01723055e-02, -3.90028849e-01,\n",
       "        8.14898129e-01, -1.28702604e+00, -2.09655233e+00, -1.15830833e+00,\n",
       "        1.78752777e+00,  2.12852707e-01,  7.95702283e-01,  1.68336290e+00,\n",
       "        8.17349395e-01,  1.12533638e+00,  1.44726611e+00, -1.34639672e+00,\n",
       "        6.95290579e-01, -2.42925176e-01,  2.42892203e-02, -2.80806035e-01,\n",
       "        1.37223921e+00, -3.37282502e-01,  2.23764745e+00, -1.41031902e-02,\n",
       "        8.07632890e-01, -2.02065101e+00,  1.88264114e-01,  1.99988330e+00])"
      ]
     },
     "execution_count": 47,
     "metadata": {},
     "output_type": "execute_result"
    }
   ],
   "source": [
    "d"
   ]
  },
  {
   "cell_type": "code",
   "execution_count": 48,
   "metadata": {},
   "outputs": [
    {
     "data": {
      "text/plain": [
       "Text(0,0.5,'d')"
      ]
     },
     "execution_count": 48,
     "metadata": {},
     "output_type": "execute_result"
    },
    {
     "data": {
      "image/png": "[encoded data removed]",
      "text/plain": [
       "<Figure size 432x288 with 1 Axes>"
      ]
     },
     "metadata": {
      "needs_background": "light"
     },
     "output_type": "display_data"
    }
   ],
   "source": [
    "plt.plot(d)\n",
    "plt.xlabel('index')\n",
    "plt.ylabel('d')"
   ]
  },
  {
   "cell_type": "code",
   "execution_count": 49,
   "metadata": {},
   "outputs": [
    {
     "data": {
      "text/plain": [
       "2.9623110905419843"
      ]
     },
     "execution_count": 49,
     "metadata": {},
     "output_type": "execute_result"
    }
   ],
   "source": [
    "d.max()"
   ]
  },
  {
   "cell_type": "code",
   "execution_count": 50,
   "metadata": {},
   "outputs": [
    {
     "data": {
      "text/plain": [
       "-3.0707997652273513"
      ]
     },
     "execution_count": 50,
     "metadata": {},
     "output_type": "execute_result"
    }
   ],
   "source": [
    "d.min()"
   ]
  },
  {
   "cell_type": "code",
   "execution_count": 51,
   "metadata": {},
   "outputs": [
    {
     "data": {
      "text/plain": [
       "0.04546006419628853"
      ]
     },
     "execution_count": 51,
     "metadata": {},
     "output_type": "execute_result"
    }
   ],
   "source": [
    "d.mean()"
   ]
  },
  {
   "cell_type": "code",
   "execution_count": 52,
   "metadata": {},
   "outputs": [
    {
     "data": {
      "text/plain": [
       "1.0145416835659469"
      ]
     },
     "execution_count": 52,
     "metadata": {},
     "output_type": "execute_result"
    }
   ],
   "source": [
    "d.std()"
   ]
  },
  {
   "cell_type": "code",
   "execution_count": 53,
   "metadata": {},
   "outputs": [],
   "source": [
    "#STATISTICS!!!!\n"
   ]
  },
  {
   "cell_type": "code",
   "execution_count": 54,
   "metadata": {},
   "outputs": [
    {
     "data": {
      "text/plain": [
       "(array([  2.,   7.,   5.,  16.,  31.,  42.,  54.,  85.,  97., 120., 127.,\n",
       "        118.,  86.,  69.,  56.,  32.,  24.,  20.,   4.,   5.]),\n",
       " array([-3.07079977, -2.76914422, -2.46748868, -2.16583314, -1.86417759,\n",
       "        -1.56252205, -1.26086651, -0.95921097, -0.65755542, -0.35589988,\n",
       "        -0.05424434,  0.24741121,  0.54906675,  0.85072229,  1.15237783,\n",
       "         1.45403338,  1.75568892,  2.05734446,  2.359     ,  2.66065555,\n",
       "         2.96231109]),\n",
       " <a list of 20 Patch objects>)"
      ]
     },
     "execution_count": 54,
     "metadata": {},
     "output_type": "execute_result"
    },
    {
     "data": {
      "image/png": "[encoded data removed]",
      "text/plain": [
       "<Figure size 432x288 with 1 Axes>"
      ]
     },
     "metadata": {
      "needs_background": "light"
     },
     "output_type": "display_data"
    }
   ],
   "source": [
    "plt.hist(d, bins = 20)"
   ]
  },
  {
   "cell_type": "code",
   "execution_count": 55,
   "metadata": {},
   "outputs": [
    {
     "name": "stdout",
     "output_type": "stream",
     "text": [
      "Help on function hist in module matplotlib.pyplot:\n",
      "\n",
      "hist(x, bins=None, range=None, density=None, weights=None, cumulative=False, bottom=None, histtype='bar', align='mid', orientation='vertical', rwidth=None, log=False, color=None, label=None, stacked=False, normed=None, hold=None, data=None, **kwargs)\n",
      "    Plot a histogram.\n",
      "    \n",
      "    Compute and draw the histogram of *x*. The return value is a\n",
      "    tuple (*n*, *bins*, *patches*) or ([*n0*, *n1*, ...], *bins*,\n",
      "    [*patches0*, *patches1*,...]) if the input contains multiple\n",
      "    data.\n",
      "    \n",
      "    Multiple data can be provided via *x* as a list of datasets\n",
      "    of potentially different length ([*x0*, *x1*, ...]), or as\n",
      "    a 2-D ndarray in which each column is a dataset.  Note that\n",
      "    the ndarray form is transposed relative to the list form.\n",
      "    \n",
      "    Masked arrays are not supported at present.\n",
      "    \n",
      "    Parameters\n",
      "    ----------\n",
      "    x : (n,) array or sequence of (n,) arrays\n",
      "        Input values, this takes either a single array or a sequence of\n",
      "        arrays which are not required to be of the same length\n",
      "    \n",
      "    bins : integer or sequence or 'auto', optional\n",
      "        If an integer is given, ``bins + 1`` bin edges are calculated and\n",
      "        returned, consistent with :func:`numpy.histogram`.\n",
      "    \n",
      "        If `bins` is a sequence, gives bin edges, including left edge of\n",
      "        first bin and right edge of last bin.  In this case, `bins` is\n",
      "        returned unmodified.\n",
      "    \n",
      "        All but the last (righthand-most) bin is half-open.  In other\n",
      "        words, if `bins` is::\n",
      "    \n",
      "            [1, 2, 3, 4]\n",
      "    \n",
      "        then the first bin is ``[1, 2)`` (including 1, but excluding 2) and\n",
      "        the second ``[2, 3)``.  The last bin, however, is ``[3, 4]``, which\n",
      "        *includes* 4.\n",
      "    \n",
      "        Unequally spaced bins are supported if *bins* is a sequence.\n",
      "    \n",
      "        If Numpy 1.11 is installed, may also be ``'auto'``.\n",
      "    \n",
      "        Default is taken from the rcParam ``hist.bins``.\n",
      "    \n",
      "    range : tuple or None, optional\n",
      "        The lower and upper range of the bins. Lower and upper outliers\n",
      "        are ignored. If not provided, *range* is ``(x.min(), x.max())``.\n",
      "        Range has no effect if *bins* is a sequence.\n",
      "    \n",
      "        If *bins* is a sequence or *range* is specified, autoscaling\n",
      "        is based on the specified bin range instead of the\n",
      "        range of x.\n",
      "    \n",
      "        Default is ``None``\n",
      "    \n",
      "    density : boolean, optional\n",
      "        If ``True``, the first element of the return tuple will\n",
      "        be the counts normalized to form a probability density, i.e.,\n",
      "        the area (or integral) under the histogram will sum to 1.\n",
      "        This is achieved by dividing the count by the number of\n",
      "        observations times the bin width and not dividing by the total\n",
      "        number of observations. If *stacked* is also ``True``, the sum of\n",
      "        the histograms is normalized to 1.\n",
      "    \n",
      "        Default is ``None`` for both *normed* and *density*. If either is\n",
      "        set, then that value will be used. If neither are set, then the\n",
      "        args will be treated as ``False``.\n",
      "    \n",
      "        If both *density* and *normed* are set an error is raised.\n",
      "    \n",
      "    weights : (n, ) array_like or None, optional\n",
      "        An array of weights, of the same shape as *x*.  Each value in *x*\n",
      "        only contributes its associated weight towards the bin count\n",
      "        (instead of 1).  If *normed* or *density* is ``True``,\n",
      "        the weights are normalized, so that the integral of the density\n",
      "        over the range remains 1.\n",
      "    \n",
      "        Default is ``None``\n",
      "    \n",
      "    cumulative : boolean, optional\n",
      "        If ``True``, then a histogram is computed where each bin gives the\n",
      "        counts in that bin plus all bins for smaller values. The last bin\n",
      "        gives the total number of datapoints. If *normed* or *density*\n",
      "        is also ``True`` then the histogram is normalized such that the\n",
      "        last bin equals 1. If *cumulative* evaluates to less than 0\n",
      "        (e.g., -1), the direction of accumulation is reversed.\n",
      "        In this case, if *normed* and/or *density* is also ``True``, then\n",
      "        the histogram is normalized such that the first bin equals 1.\n",
      "    \n",
      "        Default is ``False``\n",
      "    \n",
      "    bottom : array_like, scalar, or None\n",
      "        Location of the bottom baseline of each bin.  If a scalar,\n",
      "        the base line for each bin is shifted by the same amount.\n",
      "        If an array, each bin is shifted independently and the length\n",
      "        of bottom must match the number of bins.  If None, defaults to 0.\n",
      "    \n",
      "        Default is ``None``\n",
      "    \n",
      "    histtype : {'bar', 'barstacked', 'step',  'stepfilled'}, optional\n",
      "        The type of histogram to draw.\n",
      "    \n",
      "        - 'bar' is a traditional bar-type histogram.  If multiple data\n",
      "          are given the bars are arranged side by side.\n",
      "    \n",
      "        - 'barstacked' is a bar-type histogram where multiple\n",
      "          data are stacked on top of each other.\n",
      "    \n",
      "        - 'step' generates a lineplot that is by default\n",
      "          unfilled.\n",
      "    \n",
      "        - 'stepfilled' generates a lineplot that is by default\n",
      "          filled.\n",
      "    \n",
      "        Default is 'bar'\n",
      "    \n",
      "    align : {'left', 'mid', 'right'}, optional\n",
      "        Controls how the histogram is plotted.\n",
      "    \n",
      "            - 'left': bars are centered on the left bin edges.\n",
      "    \n",
      "            - 'mid': bars are centered between the bin edges.\n",
      "    \n",
      "            - 'right': bars are centered on the right bin edges.\n",
      "    \n",
      "        Default is 'mid'\n",
      "    \n",
      "    orientation : {'horizontal', 'vertical'}, optional\n",
      "        If 'horizontal', `~matplotlib.pyplot.barh` will be used for\n",
      "        bar-type histograms and the *bottom* kwarg will be the left edges.\n",
      "    \n",
      "    rwidth : scalar or None, optional\n",
      "        The relative width of the bars as a fraction of the bin width.  If\n",
      "        ``None``, automatically compute the width.\n",
      "    \n",
      "        Ignored if *histtype* is 'step' or 'stepfilled'.\n",
      "    \n",
      "        Default is ``None``\n",
      "    \n",
      "    log : boolean, optional\n",
      "        If ``True``, the histogram axis will be set to a log scale. If\n",
      "        *log* is ``True`` and *x* is a 1D array, empty bins will be\n",
      "        filtered out and only the non-empty ``(n, bins, patches)``\n",
      "        will be returned.\n",
      "    \n",
      "        Default is ``False``\n",
      "    \n",
      "    color : color or array_like of colors or None, optional\n",
      "        Color spec or sequence of color specs, one per dataset.  Default\n",
      "        (``None``) uses the standard line color sequence.\n",
      "    \n",
      "        Default is ``None``\n",
      "    \n",
      "    label : string or None, optional\n",
      "        String, or sequence of strings to match multiple datasets.  Bar\n",
      "        charts yield multiple patches per dataset, but only the first gets\n",
      "        the label, so that the legend command will work as expected.\n",
      "    \n",
      "        default is ``None``\n",
      "    \n",
      "    stacked : boolean, optional\n",
      "        If ``True``, multiple data are stacked on top of each other If\n",
      "        ``False`` multiple data are arranged side by side if histtype is\n",
      "        'bar' or on top of each other if histtype is 'step'\n",
      "    \n",
      "        Default is ``False``\n",
      "    \n",
      "    normed : bool, optional\n",
      "        Deprecated; use the density keyword argument instead.\n",
      "    \n",
      "    Returns\n",
      "    -------\n",
      "    n : array or list of arrays\n",
      "        The values of the histogram bins. See *normed* or *density*\n",
      "        and *weights* for a description of the possible semantics.\n",
      "        If input *x* is an array, then this is an array of length\n",
      "        *nbins*. If input is a sequence arrays\n",
      "        ``[data1, data2,..]``, then this is a list of arrays with\n",
      "        the values of the histograms for each of the arrays in the\n",
      "        same order.\n",
      "    \n",
      "    bins : array\n",
      "        The edges of the bins. Length nbins + 1 (nbins left edges and right\n",
      "        edge of last bin).  Always a single array even when multiple data\n",
      "        sets are passed in.\n",
      "    \n",
      "    patches : list or list of lists\n",
      "        Silent list of individual patches used to create the histogram\n",
      "        or list of such list if multiple input datasets.\n",
      "    \n",
      "    Other Parameters\n",
      "    ----------------\n",
      "    **kwargs : `~matplotlib.patches.Patch` properties\n",
      "    \n",
      "    See also\n",
      "    --------\n",
      "    hist2d : 2D histograms\n",
      "    \n",
      "    Notes\n",
      "    -----\n",
      "    .. [Notes section required for data comment. See #10189.]\n",
      "    \n",
      "    .. note::\n",
      "        In addition to the above described arguments, this function can take a\n",
      "        **data** keyword argument. If such a **data** argument is given, the\n",
      "        following arguments are replaced by **data[<arg>]**:\n",
      "    \n",
      "        * All arguments with the following names: 'weights', 'x'.\n",
      "\n"
     ]
    }
   ],
   "source": [
    "help(plt.hist)"
   ]
  },
  {
   "cell_type": "code",
   "execution_count": 60,
   "metadata": {},
   "outputs": [],
   "source": [
    "a = np.diag(np.arange(3))"
   ]
  },
  {
   "cell_type": "code",
   "execution_count": 61,
   "metadata": {},
   "outputs": [
    {
     "data": {
      "text/plain": [
       "array([[0, 0, 0],\n",
       "       [0, 1, 0],\n",
       "       [0, 0, 2]])"
      ]
     },
     "execution_count": 61,
     "metadata": {},
     "output_type": "execute_result"
    }
   ],
   "source": [
    "a"
   ]
  },
  {
   "cell_type": "code",
   "execution_count": 62,
   "metadata": {},
   "outputs": [
    {
     "data": {
      "text/plain": [
       "1"
      ]
     },
     "execution_count": 62,
     "metadata": {},
     "output_type": "execute_result"
    }
   ],
   "source": [
    "a[1,1]"
   ]
  },
  {
   "cell_type": "code",
   "execution_count": 63,
   "metadata": {},
   "outputs": [
    {
     "data": {
      "text/plain": [
       "0"
      ]
     },
     "execution_count": 63,
     "metadata": {},
     "output_type": "execute_result"
    }
   ],
   "source": [
    "a[2,1]"
   ]
  },
  {
   "cell_type": "code",
   "execution_count": 64,
   "metadata": {},
   "outputs": [
    {
     "data": {
      "text/plain": [
       "2"
      ]
     },
     "execution_count": 64,
     "metadata": {},
     "output_type": "execute_result"
    }
   ],
   "source": [
    "a[2,2]"
   ]
  },
  {
   "cell_type": "code",
   "execution_count": 65,
   "metadata": {},
   "outputs": [],
   "source": [
    "#columns come second"
   ]
  },
  {
   "cell_type": "code",
   "execution_count": 66,
   "metadata": {},
   "outputs": [
    {
     "data": {
      "text/plain": [
       "array([0, 1, 0])"
      ]
     },
     "execution_count": 66,
     "metadata": {},
     "output_type": "execute_result"
    }
   ],
   "source": [
    "a[1]"
   ]
  },
  {
   "cell_type": "code",
   "execution_count": 67,
   "metadata": {},
   "outputs": [
    {
     "data": {
      "text/plain": [
       "array([0, 1, 2, 3, 4, 5, 6, 7, 8, 9])"
      ]
     },
     "execution_count": 67,
     "metadata": {},
     "output_type": "execute_result"
    }
   ],
   "source": [
    "a = np.arange(10)\n",
    "a\n",
    "#indexing and slicing"
   ]
  },
  {
   "cell_type": "code",
   "execution_count": 68,
   "metadata": {},
   "outputs": [
    {
     "data": {
      "text/plain": [
       "array([0, 1, 2, 3])"
      ]
     },
     "execution_count": 68,
     "metadata": {},
     "output_type": "execute_result"
    }
   ],
   "source": [
    "a[:4]"
   ]
  },
  {
   "cell_type": "code",
   "execution_count": 70,
   "metadata": {},
   "outputs": [
    {
     "data": {
      "text/plain": [
       "array([1, 2])"
      ]
     },
     "execution_count": 70,
     "metadata": {},
     "output_type": "execute_result"
    }
   ],
   "source": [
    "a[1:3]"
   ]
  },
  {
   "cell_type": "code",
   "execution_count": 71,
   "metadata": {},
   "outputs": [
    {
     "data": {
      "text/plain": [
       "array([0, 2, 4, 6, 8])"
      ]
     },
     "execution_count": 71,
     "metadata": {},
     "output_type": "execute_result"
    }
   ],
   "source": [
    "a[::2]"
   ]
  },
  {
   "cell_type": "code",
   "execution_count": 72,
   "metadata": {},
   "outputs": [
    {
     "data": {
      "text/plain": [
       "array([3, 4, 5, 6, 7, 8, 9])"
      ]
     },
     "execution_count": 72,
     "metadata": {},
     "output_type": "execute_result"
    }
   ],
   "source": [
    "a[3:]"
   ]
  },
  {
   "cell_type": "code",
   "execution_count": 73,
   "metadata": {},
   "outputs": [
    {
     "data": {
      "text/plain": [
       "array([0, 1, 2])"
      ]
     },
     "execution_count": 73,
     "metadata": {},
     "output_type": "execute_result"
    }
   ],
   "source": [
    "a[:3]"
   ]
  },
  {
   "cell_type": "code",
   "execution_count": 74,
   "metadata": {},
   "outputs": [
    {
     "data": {
      "text/plain": [
       "array([2, 5, 8])"
      ]
     },
     "execution_count": 74,
     "metadata": {},
     "output_type": "execute_result"
    }
   ],
   "source": [
    "a[2:9:3] #start:end:step"
   ]
  },
  {
   "cell_type": "code",
   "execution_count": 75,
   "metadata": {},
   "outputs": [
    {
     "data": {
      "text/plain": [
       "array([0, 1, 2, 3])"
      ]
     },
     "execution_count": 75,
     "metadata": {},
     "output_type": "execute_result"
    }
   ],
   "source": [
    "a[:4]"
   ]
  },
  {
   "cell_type": "code",
   "execution_count": 76,
   "metadata": {},
   "outputs": [],
   "source": [
    "#Assignment and Slicing"
   ]
  },
  {
   "cell_type": "code",
   "execution_count": 78,
   "metadata": {},
   "outputs": [
    {
     "data": {
      "text/plain": [
       "array([0, 1, 2, 3, 4, 5, 6, 7, 8, 9])"
      ]
     },
     "execution_count": 78,
     "metadata": {},
     "output_type": "execute_result"
    }
   ],
   "source": [
    "a = np.arange(10)\n",
    "a"
   ]
  },
  {
   "cell_type": "code",
   "execution_count": 79,
   "metadata": {},
   "outputs": [],
   "source": [
    "a[5:] = 10"
   ]
  },
  {
   "cell_type": "code",
   "execution_count": 80,
   "metadata": {},
   "outputs": [
    {
     "data": {
      "text/plain": [
       "array([ 0,  1,  2,  3,  4, 10, 10, 10, 10, 10])"
      ]
     },
     "execution_count": 80,
     "metadata": {},
     "output_type": "execute_result"
    }
   ],
   "source": [
    "a"
   ]
  },
  {
   "cell_type": "code",
   "execution_count": 96,
   "metadata": {},
   "outputs": [
    {
     "data": {
      "text/plain": [
       "array([0, 1, 2, 3, 4, 1, 1, 1, 1, 1])"
      ]
     },
     "execution_count": 96,
     "metadata": {},
     "output_type": "execute_result"
    }
   ],
   "source": [
    "b = np.arange(5)\n",
    "a[5:] = b[1]\n",
    "a"
   ]
  },
  {
   "cell_type": "code",
   "execution_count": 95,
   "metadata": {},
   "outputs": [
    {
     "data": {
      "text/plain": [
       "array([0, 1, 2, 3, 4])"
      ]
     },
     "execution_count": 95,
     "metadata": {},
     "output_type": "execute_result"
    }
   ],
   "source": [
    "b"
   ]
  },
  {
   "cell_type": "code",
   "execution_count": 106,
   "metadata": {},
   "outputs": [
    {
     "data": {
      "text/plain": [
       "array([[ 0,  1,  2,  3,  4,  5],\n",
       "       [10, 11, 12, 13, 14, 15],\n",
       "       [20, 21, 22, 23, 24, 25],\n",
       "       [30, 31, 32, 33, 34, 35],\n",
       "       [40, 41, 42, 43, 44, 45],\n",
       "       [50, 51, 52, 53, 54, 55]])"
      ]
     },
     "execution_count": 106,
     "metadata": {},
     "output_type": "execute_result"
    }
   ],
   "source": [
    "a = np.arange(6) + np.arange(0,51, 10)[:, np.newaxis]\n",
    "a"
   ]
  },
  {
   "cell_type": "code",
   "execution_count": 108,
   "metadata": {},
   "outputs": [],
   "source": [
    "# START:STOP:STRIDE\n",
    "# :5 = start all elements before 5 not including 5\n",
    "# 5: = start all elements after 5 including 5\n"
   ]
  },
  {
   "cell_type": "markdown",
   "metadata": {},
   "source": [
    "type text"
   ]
  },
  {
   "cell_type": "code",
   "execution_count": null,
   "metadata": {},
   "outputs": [],
   "source": []
  },
  {
   "cell_type": "code",
   "execution_count": 109,
   "metadata": {},
   "outputs": [],
   "source": [
    "#Exercise = obtain these arrays ..\n",
    "#array([3,4])\n",
    "#array ([[44, 45],\n",
    "#         [54,55]])\n",
    "#array([2, 12, 22, 32, 42, 52])\n",
    "#array([[20,22,24]\n",
    "#       [40,42,44]])\n",
    "\n",
    "    "
   ]
  },
  {
   "cell_type": "code",
   "execution_count": 110,
   "metadata": {},
   "outputs": [
    {
     "data": {
      "text/plain": [
       "array([3, 4])"
      ]
     },
     "execution_count": 110,
     "metadata": {},
     "output_type": "execute_result"
    }
   ],
   "source": [
    "a[0, 3:5]"
   ]
  },
  {
   "cell_type": "markdown",
   "metadata": {},
   "source": [
    "First Row, 3rd to 5th excluding fifth"
   ]
  },
  {
   "cell_type": "code",
   "execution_count": 111,
   "metadata": {},
   "outputs": [
    {
     "data": {
      "text/plain": [
       "array([[44, 45],\n",
       "       [54, 55]])"
      ]
     },
     "execution_count": 111,
     "metadata": {},
     "output_type": "execute_result"
    }
   ],
   "source": [
    "a[4:,4:]"
   ]
  },
  {
   "cell_type": "markdown",
   "metadata": {},
   "source": [
    "(4th row, continue to last row)(4th column, continue to last column)"
   ]
  },
  {
   "cell_type": "code",
   "execution_count": 114,
   "metadata": {},
   "outputs": [
    {
     "data": {
      "text/plain": [
       "array([ 2, 12, 22, 32, 42, 52])"
      ]
     },
     "execution_count": 114,
     "metadata": {},
     "output_type": "execute_result"
    }
   ],
   "source": [
    "a[:7, 2]\n",
    "#scipy answer = a[:,2]"
   ]
  },
  {
   "cell_type": "code",
   "execution_count": 116,
   "metadata": {},
   "outputs": [
    {
     "data": {
      "text/plain": [
       "array([ 2, 12, 22, 32, 42, 52])"
      ]
     },
     "execution_count": 116,
     "metadata": {},
     "output_type": "execute_result"
    }
   ],
   "source": [
    "a[:,2]"
   ]
  },
  {
   "cell_type": "code",
   "execution_count": 115,
   "metadata": {},
   "outputs": [
    {
     "data": {
      "text/plain": [
       "(6, 6)"
      ]
     },
     "execution_count": 115,
     "metadata": {},
     "output_type": "execute_result"
    }
   ],
   "source": [
    "a.shape"
   ]
  },
  {
   "cell_type": "code",
   "execution_count": 117,
   "metadata": {},
   "outputs": [
    {
     "data": {
      "text/plain": [
       "array([[20, 22, 24],\n",
       "       [40, 42, 44]])"
      ]
     },
     "execution_count": 117,
     "metadata": {},
     "output_type": "execute_result"
    }
   ],
   "source": [
    "a[2::2,::2]"
   ]
  },
  {
   "cell_type": "code",
   "execution_count": 119,
   "metadata": {},
   "outputs": [
    {
     "data": {
      "text/plain": [
       "array([ 0,  1,  2,  3,  4,  5,  6,  7,  8,  9, 10])"
      ]
     },
     "execution_count": 119,
     "metadata": {},
     "output_type": "execute_result"
    }
   ],
   "source": [
    "b = np.arange(11)\n",
    "b"
   ]
  },
  {
   "cell_type": "code",
   "execution_count": 120,
   "metadata": {},
   "outputs": [
    {
     "data": {
      "text/plain": [
       "array([], dtype=int32)"
      ]
     },
     "execution_count": 120,
     "metadata": {},
     "output_type": "execute_result"
    }
   ],
   "source": [
    "b[:11:-1]"
   ]
  },
  {
   "cell_type": "code",
   "execution_count": 121,
   "metadata": {},
   "outputs": [
    {
     "data": {
      "text/plain": [
       "array([10,  9,  8,  7,  6,  5,  4,  3,  2,  1,  0])"
      ]
     },
     "execution_count": 121,
     "metadata": {},
     "output_type": "execute_result"
    }
   ],
   "source": [
    "b[::-1]"
   ]
  },
  {
   "cell_type": "code",
   "execution_count": 122,
   "metadata": {},
   "outputs": [],
   "source": [
    "c = b[::-1]"
   ]
  },
  {
   "cell_type": "code",
   "execution_count": 124,
   "metadata": {},
   "outputs": [
    {
     "data": {
      "text/plain": [
       "array([10,  8,  6,  4,  2,  0])"
      ]
     },
     "execution_count": 124,
     "metadata": {},
     "output_type": "execute_result"
    }
   ],
   "source": [
    "c[::2]"
   ]
  },
  {
   "cell_type": "code",
   "execution_count": 131,
   "metadata": {},
   "outputs": [
    {
     "data": {
      "text/plain": [
       "array([9, 7, 5, 3, 1])"
      ]
     },
     "execution_count": 131,
     "metadata": {},
     "output_type": "execute_result"
    }
   ],
   "source": [
    "c[1::2]"
   ]
  },
  {
   "cell_type": "code",
   "execution_count": 132,
   "metadata": {},
   "outputs": [
    {
     "data": {
      "text/plain": [
       "array([ 0,  2,  4,  6,  8, 10])"
      ]
     },
     "execution_count": 132,
     "metadata": {},
     "output_type": "execute_result"
    }
   ],
   "source": [
    "b[0::2]"
   ]
  },
  {
   "cell_type": "code",
   "execution_count": 133,
   "metadata": {},
   "outputs": [],
   "source": [
    "#Slicing Methods "
   ]
  },
  {
   "cell_type": "markdown",
   "metadata": {},
   "source": [
    "# Exercise: Array Creation"
   ]
  },
  {
   "cell_type": "code",
   "execution_count": 136,
   "metadata": {},
   "outputs": [],
   "source": [
    "d = np.ones((4,4))"
   ]
  },
  {
   "cell_type": "code",
   "execution_count": 137,
   "metadata": {},
   "outputs": [
    {
     "data": {
      "text/plain": [
       "array([[1., 1., 1., 1.],\n",
       "       [1., 1., 1., 1.],\n",
       "       [1., 1., 1., 1.],\n",
       "       [1., 1., 1., 1.]])"
      ]
     },
     "execution_count": 137,
     "metadata": {},
     "output_type": "execute_result"
    }
   ],
   "source": [
    "d"
   ]
  },
  {
   "cell_type": "code",
   "execution_count": 138,
   "metadata": {},
   "outputs": [],
   "source": [
    "d[3,1] = 6"
   ]
  },
  {
   "cell_type": "code",
   "execution_count": 139,
   "metadata": {},
   "outputs": [
    {
     "data": {
      "text/plain": [
       "array([[1., 1., 1., 1.],\n",
       "       [1., 1., 1., 1.],\n",
       "       [1., 1., 1., 1.],\n",
       "       [1., 6., 1., 1.]])"
      ]
     },
     "execution_count": 139,
     "metadata": {},
     "output_type": "execute_result"
    }
   ],
   "source": [
    "d"
   ]
  },
  {
   "cell_type": "code",
   "execution_count": 160,
   "metadata": {},
   "outputs": [],
   "source": [
    "e = np.zeros((6,5))"
   ]
  },
  {
   "cell_type": "code",
   "execution_count": 161,
   "metadata": {},
   "outputs": [
    {
     "data": {
      "text/plain": [
       "array([[0., 0., 0., 0., 0.],\n",
       "       [0., 0., 0., 0., 0.],\n",
       "       [0., 0., 0., 0., 0.],\n",
       "       [0., 0., 0., 0., 0.],\n",
       "       [0., 0., 0., 0., 0.],\n",
       "       [0., 0., 0., 0., 0.]])"
      ]
     },
     "execution_count": 161,
     "metadata": {},
     "output_type": "execute_result"
    }
   ],
   "source": [
    "e"
   ]
  },
  {
   "cell_type": "code",
   "execution_count": 162,
   "metadata": {},
   "outputs": [],
   "source": [
    "# a = np.diag(np.arange(3)) HINT"
   ]
  },
  {
   "cell_type": "code",
   "execution_count": 163,
   "metadata": {},
   "outputs": [],
   "source": [
    "a = np.diag(np.array([2,3,4,5,6]))"
   ]
  },
  {
   "cell_type": "code",
   "execution_count": 164,
   "metadata": {},
   "outputs": [
    {
     "data": {
      "text/plain": [
       "array([[2, 0, 0, 0, 0],\n",
       "       [0, 3, 0, 0, 0],\n",
       "       [0, 0, 4, 0, 0],\n",
       "       [0, 0, 0, 5, 0],\n",
       "       [0, 0, 0, 0, 6]])"
      ]
     },
     "execution_count": 164,
     "metadata": {},
     "output_type": "execute_result"
    }
   ],
   "source": [
    "a"
   ]
  },
  {
   "cell_type": "code",
   "execution_count": 168,
   "metadata": {},
   "outputs": [
    {
     "data": {
      "text/plain": [
       "array([[0., 0., 0., 0., 0.],\n",
       "       [2., 0., 0., 0., 0.],\n",
       "       [0., 3., 0., 0., 0.],\n",
       "       [0., 0., 4., 0., 0.],\n",
       "       [0., 0., 0., 5., 0.],\n",
       "       [0., 0., 0., 0., 6.]])"
      ]
     },
     "execution_count": 168,
     "metadata": {},
     "output_type": "execute_result"
    }
   ],
   "source": [
    "e[1:] = a\n",
    "e"
   ]
  },
  {
   "cell_type": "code",
   "execution_count": 169,
   "metadata": {},
   "outputs": [
    {
     "data": {
      "text/plain": [
       "array([0, 1, 2, 3, 4, 5, 6, 7, 8, 9])"
      ]
     },
     "execution_count": 169,
     "metadata": {},
     "output_type": "execute_result"
    }
   ],
   "source": [
    "a = np.arange(10)\n",
    "a"
   ]
  },
  {
   "cell_type": "code",
   "execution_count": 170,
   "metadata": {},
   "outputs": [
    {
     "data": {
      "text/plain": [
       "array([0, 2, 4, 6, 8])"
      ]
     },
     "execution_count": 170,
     "metadata": {},
     "output_type": "execute_result"
    }
   ],
   "source": [
    "b = a[::2]\n",
    "b"
   ]
  },
  {
   "cell_type": "code",
   "execution_count": 171,
   "metadata": {},
   "outputs": [],
   "source": [
    "#Cross - relating arrays"
   ]
  },
  {
   "cell_type": "markdown",
   "metadata": {},
   "source": [
    "# Prime Number Sieve"
   ]
  },
  {
   "cell_type": "code",
   "execution_count": 172,
   "metadata": {},
   "outputs": [],
   "source": [
    "is_prime = np.ones((100,), dtype=bool)"
   ]
  },
  {
   "cell_type": "code",
   "execution_count": 173,
   "metadata": {},
   "outputs": [],
   "source": [
    "#Constructs a shape (100,0) = one dimensional boolean areay filled with True"
   ]
  },
  {
   "cell_type": "code",
   "execution_count": 174,
   "metadata": {},
   "outputs": [],
   "source": [
    "is_prime[:2] = 0\n",
    "# cross out 0 and 1"
   ]
  },
  {
   "cell_type": "code",
   "execution_count": 175,
   "metadata": {},
   "outputs": [],
   "source": [
    "N_max = int(np.sqrt(len(is_prime) - 1))\n",
    "for j in range(2, N_max + 1):\n",
    "    is_prime[2*j::j] = False"
   ]
  },
  {
   "cell_type": "markdown",
   "metadata": {},
   "source": [
    "# Fancy Indexing"
   ]
  },
  {
   "cell_type": "code",
   "execution_count": 176,
   "metadata": {},
   "outputs": [
    {
     "data": {
      "text/plain": [
       "array([10,  3,  8,  0, 19, 10, 11,  9, 10,  6,  0, 20, 12,  7, 14])"
      ]
     },
     "execution_count": 176,
     "metadata": {},
     "output_type": "execute_result"
    }
   ],
   "source": [
    "np.random.seed(3)\n",
    "a = np.random.randint(0,21,15)\n",
    "a"
   ]
  },
  {
   "cell_type": "code",
   "execution_count": 177,
   "metadata": {},
   "outputs": [
    {
     "data": {
      "text/plain": [
       "array([False,  True, False,  True, False, False, False,  True, False,\n",
       "        True,  True, False,  True, False, False])"
      ]
     },
     "execution_count": 177,
     "metadata": {},
     "output_type": "execute_result"
    }
   ],
   "source": [
    "a % 3 == 0"
   ]
  },
  {
   "cell_type": "code",
   "execution_count": 178,
   "metadata": {},
   "outputs": [
    {
     "data": {
      "text/plain": [
       "array([ 3,  0,  9,  6,  0, 12])"
      ]
     },
     "execution_count": 178,
     "metadata": {},
     "output_type": "execute_result"
    }
   ],
   "source": [
    "mask = (a % 3 == 0)\n",
    "extract_from_a = a[mask] # or, a[a%3==0]\n",
    "extract_from_a"
   ]
  },
  {
   "cell_type": "code",
   "execution_count": 182,
   "metadata": {},
   "outputs": [
    {
     "data": {
      "text/plain": [
       "array([-1, 10, 20, -1, 40, 50, -1, 70, 80, -1])"
      ]
     },
     "execution_count": 182,
     "metadata": {},
     "output_type": "execute_result"
    }
   ],
   "source": [
    "a[a % 3 == 0] = -1\n",
    "a #useful to assign new values to sub-arrays"
   ]
  },
  {
   "cell_type": "code",
   "execution_count": 179,
   "metadata": {},
   "outputs": [],
   "source": [
    "# Indexing with masks can be useful to assign a new value to a sub-array"
   ]
  },
  {
   "cell_type": "code",
   "execution_count": 185,
   "metadata": {},
   "outputs": [
    {
     "data": {
      "text/plain": [
       "array([ 0, 10, 20, 30, 40, 50, 60, 70, 80, 90])"
      ]
     },
     "execution_count": 185,
     "metadata": {},
     "output_type": "execute_result"
    }
   ],
   "source": [
    "b = np.arange(0,100,10)#start:stop:stride\n",
    "b"
   ]
  },
  {
   "cell_type": "code",
   "execution_count": 186,
   "metadata": {},
   "outputs": [
    {
     "data": {
      "text/plain": [
       "array([20, 30, 20, 40, 20])"
      ]
     },
     "execution_count": 186,
     "metadata": {},
     "output_type": "execute_result"
    }
   ],
   "source": [
    "b[[2,3,2,4,2]] # note: [2,3,2,4,2] is a python list"
   ]
  },
  {
   "cell_type": "code",
   "execution_count": 188,
   "metadata": {},
   "outputs": [
    {
     "data": {
      "text/plain": [
       "array([   0,   10,   20,   30,   40,   50,   60, -100,   80, -100])"
      ]
     },
     "execution_count": 188,
     "metadata": {},
     "output_type": "execute_result"
    }
   ],
   "source": [
    "b[[9, 7]] = -100\n",
    "b\n",
    "# double brackets indicates a list rather than selecting the dimensions."
   ]
  },
  {
   "cell_type": "code",
   "execution_count": 189,
   "metadata": {},
   "outputs": [
    {
     "data": {
      "text/plain": [
       "(2, 2)"
      ]
     },
     "execution_count": 189,
     "metadata": {},
     "output_type": "execute_result"
    }
   ],
   "source": [
    "b = np.arange(10)\n",
    "idx = np.array([[3,4],[9,7]])\n",
    "idx.shape"
   ]
  },
  {
   "cell_type": "code",
   "execution_count": 190,
   "metadata": {},
   "outputs": [],
   "source": [
    "# When new aarays are created with indexing an array of integers, \n",
    "#the new array has the same shape as the array of integers."
   ]
  },
  {
   "cell_type": "code",
   "execution_count": 191,
   "metadata": {},
   "outputs": [
    {
     "data": {
      "text/plain": [
       "array([[ 0,  1,  2,  3,  4,  5],\n",
       "       [10, 11, 12, 13, 14, 15],\n",
       "       [20, 21, 22, 23, 24, 25],\n",
       "       [30, 31, 32, 33, 34, 35],\n",
       "       [40, 41, 42, 43, 44, 45],\n",
       "       [50, 51, 52, 53, 54, 55]])"
      ]
     },
     "execution_count": 191,
     "metadata": {},
     "output_type": "execute_result"
    }
   ],
   "source": [
    "np.arange(6) + np.arange(0, 51, 10)[:, np.newaxis] # np.newaxis adds an axis"
   ]
  },
  {
   "cell_type": "markdown",
   "metadata": {},
   "source": [
    "# Exercise:Fancy Indexing"
   ]
  },
  {
   "attachments": {
    "image.png": {
     "image/png": "[encoded data removed]"
    }
   },
   "cell_type": "markdown",
   "metadata": {},
   "source": [
    "![image.png](attachment:image.png)"
   ]
  },
  {
   "cell_type": "code",
   "execution_count": 192,
   "metadata": {},
   "outputs": [],
   "source": [
    "# different ways to index"
   ]
  },
  {
   "cell_type": "code",
   "execution_count": null,
   "metadata": {},
   "outputs": [],
   "source": []
  }
 ],
 "metadata": {
  "kernelspec": {
   "display_name": "Python 3",
   "language": "python",
   "name": "python3"
  },
  "language_info": {
   "codemirror_mode": {
    "name": "ipython",
    "version": 3
   },
   "file_extension": ".py",
   "mimetype": "text/x-python",
   "name": "python",
   "nbconvert_exporter": "python",
   "pygments_lexer": "ipython3",
   "version": "3.7.0"
  }
 },
 "nbformat": 4,
 "nbformat_minor": 2
}
