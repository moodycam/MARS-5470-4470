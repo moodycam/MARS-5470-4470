{
 "cells": [
  {
   "cell_type": "code",
   "execution_count": 1,
   "metadata": {
    "scrolled": false
   },
   "outputs": [
    {
     "name": "stderr",
     "output_type": "stream",
     "text": [
      "C:\\Users\\alvar\\Anaconda3\\lib\\site-packages\\dask\\config.py:168: YAMLLoadWarning: calling yaml.load() without Loader=... is deprecated, as the default Loader is unsafe. Please read https://msg.pyyaml.org/load for full details.\n",
      "  data = yaml.load(f.read()) or {}\n",
      "C:\\Users\\alvar\\Anaconda3\\lib\\site-packages\\distributed\\config.py:20: YAMLLoadWarning: calling yaml.load() without Loader=... is deprecated, as the default Loader is unsafe. Please read https://msg.pyyaml.org/load for full details.\n",
      "  defaults = yaml.load(f)\n"
     ]
    }
   ],
   "source": [
    "import numpy as np\n",
    "import numpy as np\n",
    "import matplotlib.pyplot as plt\n",
    "%matplotlib inline\n",
    "import xarray as xr\n",
    "import pandas as pd\n",
    "from scipy import stats\n",
    "import statsmodels.api as sm"
   ]
  },
  {
   "cell_type": "markdown",
   "metadata": {},
   "source": [
    "## File Input and Data Preparation"
   ]
  },
  {
   "cell_type": "code",
   "execution_count": 2,
   "metadata": {
    "scrolled": true
   },
   "outputs": [
    {
     "data": {
      "text/html": [
       "<div>\n",
       "<style scoped>\n",
       "    .dataframe tbody tr th:only-of-type {\n",
       "        vertical-align: middle;\n",
       "    }\n",
       "\n",
       "    .dataframe tbody tr th {\n",
       "        vertical-align: top;\n",
       "    }\n",
       "\n",
       "    .dataframe thead th {\n",
       "        text-align: right;\n",
       "    }\n",
       "</style>\n",
       "<table border=\"1\" class=\"dataframe\">\n",
       "  <thead>\n",
       "    <tr style=\"text-align: right;\">\n",
       "      <th></th>\n",
       "      <th>Year</th>\n",
       "      <th>Population</th>\n",
       "    </tr>\n",
       "  </thead>\n",
       "  <tbody>\n",
       "    <tr>\n",
       "      <th>0</th>\n",
       "      <td>1970</td>\n",
       "      <td>140368.0</td>\n",
       "    </tr>\n",
       "    <tr>\n",
       "      <th>1</th>\n",
       "      <td>1971</td>\n",
       "      <td>147800.0</td>\n",
       "    </tr>\n",
       "    <tr>\n",
       "      <th>2</th>\n",
       "      <td>1972</td>\n",
       "      <td>157500.0</td>\n",
       "    </tr>\n",
       "    <tr>\n",
       "      <th>3</th>\n",
       "      <td>1973</td>\n",
       "      <td>166900.0</td>\n",
       "    </tr>\n",
       "    <tr>\n",
       "      <th>4</th>\n",
       "      <td>1974</td>\n",
       "      <td>172200.0</td>\n",
       "    </tr>\n",
       "  </tbody>\n",
       "</table>\n",
       "</div>"
      ],
      "text/plain": [
       "   Year  Population\n",
       "0  1970    140368.0\n",
       "1  1971    147800.0\n",
       "2  1972    157500.0\n",
       "3  1973    166900.0\n",
       "4  1974    172200.0"
      ]
     },
     "execution_count": 2,
     "metadata": {},
     "output_type": "execute_result"
    }
   ],
   "source": [
    "#Converts my data into a Pandas dataframe\n",
    "excel_file = \"Cam_Pop.xlsx\"\n",
    "Cam_Pop = pd.read_excel(excel_file)\n",
    "Cam_Pop.head()"
   ]
  },
  {
   "cell_type": "code",
   "execution_count": 3,
   "metadata": {},
   "outputs": [
    {
     "data": {
      "text/html": [
       "<div>\n",
       "<style scoped>\n",
       "    .dataframe tbody tr th:only-of-type {\n",
       "        vertical-align: middle;\n",
       "    }\n",
       "\n",
       "    .dataframe tbody tr th {\n",
       "        vertical-align: top;\n",
       "    }\n",
       "\n",
       "    .dataframe thead th {\n",
       "        text-align: right;\n",
       "    }\n",
       "</style>\n",
       "<table border=\"1\" class=\"dataframe\">\n",
       "  <thead>\n",
       "    <tr style=\"text-align: right;\">\n",
       "      <th></th>\n",
       "      <th>Year</th>\n",
       "      <th>Population</th>\n",
       "    </tr>\n",
       "  </thead>\n",
       "  <tbody>\n",
       "    <tr>\n",
       "      <th>76</th>\n",
       "      <td>2046</td>\n",
       "      <td>NaN</td>\n",
       "    </tr>\n",
       "    <tr>\n",
       "      <th>77</th>\n",
       "      <td>2047</td>\n",
       "      <td>NaN</td>\n",
       "    </tr>\n",
       "    <tr>\n",
       "      <th>78</th>\n",
       "      <td>2048</td>\n",
       "      <td>NaN</td>\n",
       "    </tr>\n",
       "    <tr>\n",
       "      <th>79</th>\n",
       "      <td>2049</td>\n",
       "      <td>NaN</td>\n",
       "    </tr>\n",
       "    <tr>\n",
       "      <th>80</th>\n",
       "      <td>2050</td>\n",
       "      <td>NaN</td>\n",
       "    </tr>\n",
       "  </tbody>\n",
       "</table>\n",
       "</div>"
      ],
      "text/plain": [
       "    Year  Population\n",
       "76  2046         NaN\n",
       "77  2047         NaN\n",
       "78  2048         NaN\n",
       "79  2049         NaN\n",
       "80  2050         NaN"
      ]
     },
     "execution_count": 3,
     "metadata": {},
     "output_type": "execute_result"
    }
   ],
   "source": [
    "Cam_Pop.tail()"
   ]
  },
  {
   "cell_type": "code",
   "execution_count": 4,
   "metadata": {
    "scrolled": true
   },
   "outputs": [
    {
     "data": {
      "text/html": [
       "<div>\n",
       "<style scoped>\n",
       "    .dataframe tbody tr th:only-of-type {\n",
       "        vertical-align: middle;\n",
       "    }\n",
       "\n",
       "    .dataframe tbody tr th {\n",
       "        vertical-align: top;\n",
       "    }\n",
       "\n",
       "    .dataframe thead th {\n",
       "        text-align: right;\n",
       "    }\n",
       "</style>\n",
       "<table border=\"1\" class=\"dataframe\">\n",
       "  <thead>\n",
       "    <tr style=\"text-align: right;\">\n",
       "      <th></th>\n",
       "      <th>Year</th>\n",
       "      <th>Population</th>\n",
       "      <th>Population Model</th>\n",
       "    </tr>\n",
       "  </thead>\n",
       "  <tbody>\n",
       "    <tr>\n",
       "      <th>0</th>\n",
       "      <td>1970</td>\n",
       "      <td>140368.0</td>\n",
       "      <td>&lt;built-in function zeros&gt;</td>\n",
       "    </tr>\n",
       "    <tr>\n",
       "      <th>1</th>\n",
       "      <td>1971</td>\n",
       "      <td>147800.0</td>\n",
       "      <td>&lt;built-in function zeros&gt;</td>\n",
       "    </tr>\n",
       "    <tr>\n",
       "      <th>2</th>\n",
       "      <td>1972</td>\n",
       "      <td>157500.0</td>\n",
       "      <td>&lt;built-in function zeros&gt;</td>\n",
       "    </tr>\n",
       "    <tr>\n",
       "      <th>3</th>\n",
       "      <td>1973</td>\n",
       "      <td>166900.0</td>\n",
       "      <td>&lt;built-in function zeros&gt;</td>\n",
       "    </tr>\n",
       "    <tr>\n",
       "      <th>4</th>\n",
       "      <td>1974</td>\n",
       "      <td>172200.0</td>\n",
       "      <td>&lt;built-in function zeros&gt;</td>\n",
       "    </tr>\n",
       "  </tbody>\n",
       "</table>\n",
       "</div>"
      ],
      "text/plain": [
       "   Year  Population           Population Model\n",
       "0  1970    140368.0  <built-in function zeros>\n",
       "1  1971    147800.0  <built-in function zeros>\n",
       "2  1972    157500.0  <built-in function zeros>\n",
       "3  1973    166900.0  <built-in function zeros>\n",
       "4  1974    172200.0  <built-in function zeros>"
      ]
     },
     "execution_count": 4,
     "metadata": {},
     "output_type": "execute_result"
    }
   ],
   "source": [
    "Cam_Pop['Population Model'] = np.zeros # adding a new column for Population Model\n",
    "Cam_Pop.head()"
   ]
  },
  {
   "cell_type": "markdown",
   "metadata": {},
   "source": [
    "## Variable Defining and Linear Regression"
   ]
  },
  {
   "cell_type": "code",
   "execution_count": 5,
   "metadata": {},
   "outputs": [],
   "source": [
    "Cam_Popall = Cam_Pop[0:49] #This extracts values with the 48 year period of 1970 to 2018\n",
    "Population = Cam_Popall['Population'] # Some variable defining to make it easier later on\n",
    "Year = Cam_Popall['Year']\n",
    "time = Year - Year[0]"
   ]
  },
  {
   "cell_type": "code",
   "execution_count": 6,
   "metadata": {},
   "outputs": [
    {
     "data": {
      "text/plain": [
       "Text(0.5, 0, 'Year')"
      ]
     },
     "execution_count": 6,
     "metadata": {},
     "output_type": "execute_result"
    },
    {
     "data": {
      "image/png": "[encoded data removed]",
      "text/plain": [
       "<Figure size 432x288 with 1 Axes>"
      ]
     },
     "metadata": {
      "needs_background": "light"
     },
     "output_type": "display_data"
    }
   ],
   "source": [
    "fig, ax = plt.subplots() # This is a plot of my population for each year that I have data for\n",
    "ax.scatter(Year, Population)\n",
    "ax.set_title('Population Per Year Sample Points')\n",
    "ax.set_ylabel('Population')\n",
    "ax.set_xlabel('Year')"
   ]
  },
  {
   "cell_type": "code",
   "execution_count": 7,
   "metadata": {
    "scrolled": false
   },
   "outputs": [
    {
     "data": {
      "text/plain": [
       "39    1.047954\n",
       "40    1.062627\n",
       "41    1.079884\n",
       "42    1.086653\n",
       "43    1.090508\n",
       "44    1.094717\n",
       "45    1.096125\n",
       "46    1.101062\n",
       "47    1.103532\n",
       "48    1.105249\n",
       "Name: Population, dtype: float64"
      ]
     },
     "execution_count": 7,
     "metadata": {},
     "output_type": "execute_result"
    }
   ],
   "source": [
    "# sets variable for ln(nt/No) vs t\n",
    "df = np.log(Population/Population[0])\n",
    "df.tail(n=10)"
   ]
  },
  {
   "cell_type": "code",
   "execution_count": 8,
   "metadata": {},
   "outputs": [],
   "source": [
    "# Fitting a line using scipy\n",
    "slope, intercept, r_value, p_value, std_err = stats.linregress(time, df)"
   ]
  },
  {
   "cell_type": "code",
   "execution_count": 9,
   "metadata": {
    "scrolled": true
   },
   "outputs": [
    {
     "data": {
      "text/plain": [
       "(0.02217467671587426,\n",
       " 0.16628725518379495,\n",
       " 0.9851148511274568,\n",
       " 1.3411803631050339e-37,\n",
       " 0.0005644050775983078)"
      ]
     },
     "execution_count": 9,
     "metadata": {},
     "output_type": "execute_result"
    }
   ],
   "source": [
    "slope, intercept, r_value, p_value, std_err"
   ]
  },
  {
   "cell_type": "code",
   "execution_count": 10,
   "metadata": {},
   "outputs": [
    {
     "data": {
      "text/plain": [
       "Text(0, 0.5, 'Ln(N(t)/No)')"
      ]
     },
     "execution_count": 10,
     "metadata": {},
     "output_type": "execute_result"
    },
    {
     "data": {
      "image/png": "[encoded data removed]",
      "text/plain": [
       "<Figure size 432x288 with 1 Axes>"
      ]
     },
     "metadata": {
      "needs_background": "light"
     },
     "output_type": "display_data"
    }
   ],
   "source": [
    "plt.scatter(time,df) # This a plot of the line of best fit for my ln(nt/no) values\n",
    "plt.plot(time, slope*time+intercept,'k--')\n",
    "plt.xlabel('Time')\n",
    "plt.ylabel('Ln(N(t)/No)')"
   ]
  },
  {
   "cell_type": "markdown",
   "metadata": {},
   "source": [
    "### Using Statsmodels(both methods work)"
   ]
  },
  {
   "cell_type": "code",
   "execution_count": 11,
   "metadata": {},
   "outputs": [
    {
     "data": {
      "text/html": [
       "<table class=\"simpletable\">\n",
       "<caption>OLS Regression Results</caption>\n",
       "<tr>\n",
       "  <th>Dep. Variable:</th>       <td>Population</td>    <th>  R-squared:         </th> <td>   0.983</td>\n",
       "</tr>\n",
       "<tr>\n",
       "  <th>Model:</th>                   <td>OLS</td>       <th>  Adj. R-squared:    </th> <td>   0.982</td>\n",
       "</tr>\n",
       "<tr>\n",
       "  <th>Method:</th>             <td>Least Squares</td>  <th>  F-statistic:       </th> <td>   2746.</td>\n",
       "</tr>\n",
       "<tr>\n",
       "  <th>Date:</th>             <td>Sun, 05 May 2019</td> <th>  Prob (F-statistic):</th> <td>5.03e-44</td>\n",
       "</tr>\n",
       "<tr>\n",
       "  <th>Time:</th>                 <td>23:34:01</td>     <th>  Log-Likelihood:    </th> <td>  43.004</td>\n",
       "</tr>\n",
       "<tr>\n",
       "  <th>No. Observations:</th>      <td>    49</td>      <th>  AIC:               </th> <td>  -84.01</td>\n",
       "</tr>\n",
       "<tr>\n",
       "  <th>Df Residuals:</th>          <td>    48</td>      <th>  BIC:               </th> <td>  -82.12</td>\n",
       "</tr>\n",
       "<tr>\n",
       "  <th>Df Model:</th>              <td>     1</td>      <th>                     </th>     <td> </td>   \n",
       "</tr>\n",
       "<tr>\n",
       "  <th>Covariance Type:</th>      <td>nonrobust</td>    <th>                     </th>     <td> </td>   \n",
       "</tr>\n",
       "</table>\n",
       "<table class=\"simpletable\">\n",
       "<tr>\n",
       "    <td></td>      <th>coef</th>     <th>std err</th>      <th>t</th>      <th>P>|t|</th>  <th>[0.025</th>    <th>0.975]</th>  \n",
       "</tr>\n",
       "<tr>\n",
       "  <th>Year</th> <td>    0.0273</td> <td>    0.001</td> <td>   52.406</td> <td> 0.000</td> <td>    0.026</td> <td>    0.028</td>\n",
       "</tr>\n",
       "</table>\n",
       "<table class=\"simpletable\">\n",
       "<tr>\n",
       "  <th>Omnibus:</th>       <td> 7.473</td> <th>  Durbin-Watson:     </th> <td>   0.026</td>\n",
       "</tr>\n",
       "<tr>\n",
       "  <th>Prob(Omnibus):</th> <td> 0.024</td> <th>  Jarque-Bera (JB):  </th> <td>   6.714</td>\n",
       "</tr>\n",
       "<tr>\n",
       "  <th>Skew:</th>          <td>-0.884</td> <th>  Prob(JB):          </th> <td>  0.0348</td>\n",
       "</tr>\n",
       "<tr>\n",
       "  <th>Kurtosis:</th>      <td> 3.402</td> <th>  Cond. No.          </th> <td>    1.00</td>\n",
       "</tr>\n",
       "</table><br/><br/>Warnings:<br/>[1] Standard Errors assume that the covariance matrix of the errors is correctly specified."
      ],
      "text/plain": [
       "<class 'statsmodels.iolib.summary.Summary'>\n",
       "\"\"\"\n",
       "                            OLS Regression Results                            \n",
       "==============================================================================\n",
       "Dep. Variable:             Population   R-squared:                       0.983\n",
       "Model:                            OLS   Adj. R-squared:                  0.982\n",
       "Method:                 Least Squares   F-statistic:                     2746.\n",
       "Date:                Sun, 05 May 2019   Prob (F-statistic):           5.03e-44\n",
       "Time:                        23:34:01   Log-Likelihood:                 43.004\n",
       "No. Observations:                  49   AIC:                            -84.01\n",
       "Df Residuals:                      48   BIC:                            -82.12\n",
       "Df Model:                           1                                         \n",
       "Covariance Type:            nonrobust                                         \n",
       "==============================================================================\n",
       "                 coef    std err          t      P>|t|      [0.025      0.975]\n",
       "------------------------------------------------------------------------------\n",
       "Year           0.0273      0.001     52.406      0.000       0.026       0.028\n",
       "==============================================================================\n",
       "Omnibus:                        7.473   Durbin-Watson:                   0.026\n",
       "Prob(Omnibus):                  0.024   Jarque-Bera (JB):                6.714\n",
       "Skew:                          -0.884   Prob(JB):                       0.0348\n",
       "Kurtosis:                       3.402   Cond. No.                         1.00\n",
       "==============================================================================\n",
       "\n",
       "Warnings:\n",
       "[1] Standard Errors assume that the covariance matrix of the errors is correctly specified.\n",
       "\"\"\""
      ]
     },
     "execution_count": 11,
     "metadata": {},
     "output_type": "execute_result"
    }
   ],
   "source": [
    "# I like Statsmodels better for my workflow :)\n",
    "X = time\n",
    "Y = df\n",
    "model = sm.OLS(Y,X).fit()\n",
    "model.summary()"
   ]
  },
  {
   "cell_type": "code",
   "execution_count": 12,
   "metadata": {
    "scrolled": true
   },
   "outputs": [
    {
     "data": {
      "text/plain": [
       "Text(0, 0.5, 'Ln Nt/No')"
      ]
     },
     "execution_count": 12,
     "metadata": {},
     "output_type": "execute_result"
    },
    {
     "data": {
      "image/png": "[encoded data removed]",
      "text/plain": [
       "<Figure size 432x288 with 1 Axes>"
      ]
     },
     "metadata": {
      "needs_background": "light"
     },
     "output_type": "display_data"
    }
   ],
   "source": [
    "predictions = model.predict(X) # make the predictions by the model\n",
    "plt.plot(X, predictions, 'k--')\n",
    "plt.scatter(time, df)\n",
    "plt.xlabel('Time')\n",
    "plt.ylabel('Ln Nt/No')"
   ]
  },
  {
   "cell_type": "markdown",
   "metadata": {},
   "source": [
    "## Population Modeling"
   ]
  },
  {
   "cell_type": "code",
   "execution_count": 13,
   "metadata": {},
   "outputs": [],
   "source": [
    "# Now I use my model to predict a new time period for the future :)\n",
    "Year_o = Cam_Pop['Year']\n",
    "time_o = Year_o - Year_o[0]\n",
    "f_predictions = model.predict(time_o)\n",
    "Cam_Pop['Population Model'] = np.exp(f_predictions)*140368"
   ]
  },
  {
   "cell_type": "code",
   "execution_count": 14,
   "metadata": {},
   "outputs": [
    {
     "data": {
      "text/html": [
       "<div>\n",
       "<style scoped>\n",
       "    .dataframe tbody tr th:only-of-type {\n",
       "        vertical-align: middle;\n",
       "    }\n",
       "\n",
       "    .dataframe tbody tr th {\n",
       "        vertical-align: top;\n",
       "    }\n",
       "\n",
       "    .dataframe thead th {\n",
       "        text-align: right;\n",
       "    }\n",
       "</style>\n",
       "<table border=\"1\" class=\"dataframe\">\n",
       "  <thead>\n",
       "    <tr style=\"text-align: right;\">\n",
       "      <th></th>\n",
       "      <th>Year</th>\n",
       "      <th>Population</th>\n",
       "      <th>Population Model</th>\n",
       "    </tr>\n",
       "  </thead>\n",
       "  <tbody>\n",
       "    <tr>\n",
       "      <th>0</th>\n",
       "      <td>1970</td>\n",
       "      <td>140368.0</td>\n",
       "      <td>140368.000000</td>\n",
       "    </tr>\n",
       "    <tr>\n",
       "      <th>1</th>\n",
       "      <td>1971</td>\n",
       "      <td>147800.0</td>\n",
       "      <td>144255.369303</td>\n",
       "    </tr>\n",
       "    <tr>\n",
       "      <th>2</th>\n",
       "      <td>1972</td>\n",
       "      <td>157500.0</td>\n",
       "      <td>148250.395908</td>\n",
       "    </tr>\n",
       "    <tr>\n",
       "      <th>3</th>\n",
       "      <td>1973</td>\n",
       "      <td>166900.0</td>\n",
       "      <td>152356.061289</td>\n",
       "    </tr>\n",
       "    <tr>\n",
       "      <th>4</th>\n",
       "      <td>1974</td>\n",
       "      <td>172200.0</td>\n",
       "      <td>156575.429491</td>\n",
       "    </tr>\n",
       "  </tbody>\n",
       "</table>\n",
       "</div>"
      ],
      "text/plain": [
       "   Year  Population  Population Model\n",
       "0  1970    140368.0     140368.000000\n",
       "1  1971    147800.0     144255.369303\n",
       "2  1972    157500.0     148250.395908\n",
       "3  1973    166900.0     152356.061289\n",
       "4  1974    172200.0     156575.429491"
      ]
     },
     "execution_count": 14,
     "metadata": {},
     "output_type": "execute_result"
    }
   ],
   "source": [
    "Cam_Pop.head()# SUCCESS I UNDERSTAND THE BASICS OF MODELING!!!"
   ]
  },
  {
   "cell_type": "code",
   "execution_count": 15,
   "metadata": {},
   "outputs": [
    {
     "data": {
      "text/html": [
       "<div>\n",
       "<style scoped>\n",
       "    .dataframe tbody tr th:only-of-type {\n",
       "        vertical-align: middle;\n",
       "    }\n",
       "\n",
       "    .dataframe tbody tr th {\n",
       "        vertical-align: top;\n",
       "    }\n",
       "\n",
       "    .dataframe thead th {\n",
       "        text-align: right;\n",
       "    }\n",
       "</style>\n",
       "<table border=\"1\" class=\"dataframe\">\n",
       "  <thead>\n",
       "    <tr style=\"text-align: right;\">\n",
       "      <th></th>\n",
       "      <th>Year</th>\n",
       "      <th>Population</th>\n",
       "      <th>Population Model</th>\n",
       "    </tr>\n",
       "  </thead>\n",
       "  <tbody>\n",
       "    <tr>\n",
       "      <th>76</th>\n",
       "      <td>2046</td>\n",
       "      <td>NaN</td>\n",
       "      <td>1.119238e+06</td>\n",
       "    </tr>\n",
       "    <tr>\n",
       "      <th>77</th>\n",
       "      <td>2047</td>\n",
       "      <td>NaN</td>\n",
       "      <td>1.150235e+06</td>\n",
       "    </tr>\n",
       "    <tr>\n",
       "      <th>78</th>\n",
       "      <td>2048</td>\n",
       "      <td>NaN</td>\n",
       "      <td>1.182089e+06</td>\n",
       "    </tr>\n",
       "    <tr>\n",
       "      <th>79</th>\n",
       "      <td>2049</td>\n",
       "      <td>NaN</td>\n",
       "      <td>1.214826e+06</td>\n",
       "    </tr>\n",
       "    <tr>\n",
       "      <th>80</th>\n",
       "      <td>2050</td>\n",
       "      <td>NaN</td>\n",
       "      <td>1.248470e+06</td>\n",
       "    </tr>\n",
       "  </tbody>\n",
       "</table>\n",
       "</div>"
      ],
      "text/plain": [
       "    Year  Population  Population Model\n",
       "76  2046         NaN      1.119238e+06\n",
       "77  2047         NaN      1.150235e+06\n",
       "78  2048         NaN      1.182089e+06\n",
       "79  2049         NaN      1.214826e+06\n",
       "80  2050         NaN      1.248470e+06"
      ]
     },
     "execution_count": 15,
     "metadata": {},
     "output_type": "execute_result"
    }
   ],
   "source": [
    "Cam_Pop.tail() # Population Model for 48 Year Period"
   ]
  },
  {
   "cell_type": "code",
   "execution_count": 16,
   "metadata": {},
   "outputs": [
    {
     "data": {
      "text/plain": [
       "Text(0.5, 0, 'Year')"
      ]
     },
     "execution_count": 16,
     "metadata": {},
     "output_type": "execute_result"
    },
    {
     "data": {
      "image/png": "[encoded data removed]",
      "text/plain": [
       "<Figure size 432x288 with 1 Axes>"
      ]
     },
     "metadata": {
      "needs_background": "light"
     },
     "output_type": "display_data"
    }
   ],
   "source": [
    "fig, ax = plt.subplots() #plots the predicted values from 1970 to 2050\n",
    "plt.plot(Cam_Pop['Year'], Cam_Pop['Population Model'])\n",
    "ax.set_title('Cameron County Population Model Since 1970')\n",
    "ax.set_ylabel('Population')\n",
    "ax.set_xlabel('Year')"
   ]
  },
  {
   "cell_type": "markdown",
   "metadata": {},
   "source": [
    "### Now with a 10 year period (2008-2018)"
   ]
  },
  {
   "cell_type": "code",
   "execution_count": 17,
   "metadata": {},
   "outputs": [
    {
     "name": "stderr",
     "output_type": "stream",
     "text": [
      "C:\\Users\\alvar\\Anaconda3\\lib\\site-packages\\ipykernel_launcher.py:2: SettingWithCopyWarning: \n",
      "A value is trying to be set on a copy of a slice from a DataFrame.\n",
      "Try using .loc[row_indexer,col_indexer] = value instead\n",
      "\n",
      "See the caveats in the documentation: http://pandas.pydata.org/pandas-docs/stable/indexing.html#indexing-view-versus-copy\n",
      "  \n"
     ]
    },
    {
     "data": {
      "text/html": [
       "<div>\n",
       "<style scoped>\n",
       "    .dataframe tbody tr th:only-of-type {\n",
       "        vertical-align: middle;\n",
       "    }\n",
       "\n",
       "    .dataframe tbody tr th {\n",
       "        vertical-align: top;\n",
       "    }\n",
       "\n",
       "    .dataframe thead th {\n",
       "        text-align: right;\n",
       "    }\n",
       "</style>\n",
       "<table border=\"1\" class=\"dataframe\">\n",
       "  <thead>\n",
       "    <tr style=\"text-align: right;\">\n",
       "      <th></th>\n",
       "      <th>Year</th>\n",
       "      <th>Population</th>\n",
       "      <th>Population Model</th>\n",
       "    </tr>\n",
       "  </thead>\n",
       "  <tbody>\n",
       "    <tr>\n",
       "      <th>38</th>\n",
       "      <td>2008</td>\n",
       "      <td>393000.0</td>\n",
       "      <td>&lt;built-in function zeros&gt;</td>\n",
       "    </tr>\n",
       "    <tr>\n",
       "      <th>39</th>\n",
       "      <td>2009</td>\n",
       "      <td>400303.0</td>\n",
       "      <td>&lt;built-in function zeros&gt;</td>\n",
       "    </tr>\n",
       "    <tr>\n",
       "      <th>40</th>\n",
       "      <td>2010</td>\n",
       "      <td>406220.0</td>\n",
       "      <td>&lt;built-in function zeros&gt;</td>\n",
       "    </tr>\n",
       "    <tr>\n",
       "      <th>41</th>\n",
       "      <td>2011</td>\n",
       "      <td>413291.0</td>\n",
       "      <td>&lt;built-in function zeros&gt;</td>\n",
       "    </tr>\n",
       "    <tr>\n",
       "      <th>42</th>\n",
       "      <td>2012</td>\n",
       "      <td>416098.0</td>\n",
       "      <td>&lt;built-in function zeros&gt;</td>\n",
       "    </tr>\n",
       "    <tr>\n",
       "      <th>43</th>\n",
       "      <td>2013</td>\n",
       "      <td>417705.0</td>\n",
       "      <td>&lt;built-in function zeros&gt;</td>\n",
       "    </tr>\n",
       "    <tr>\n",
       "      <th>44</th>\n",
       "      <td>2014</td>\n",
       "      <td>419467.0</td>\n",
       "      <td>&lt;built-in function zeros&gt;</td>\n",
       "    </tr>\n",
       "    <tr>\n",
       "      <th>45</th>\n",
       "      <td>2015</td>\n",
       "      <td>420058.0</td>\n",
       "      <td>&lt;built-in function zeros&gt;</td>\n",
       "    </tr>\n",
       "    <tr>\n",
       "      <th>46</th>\n",
       "      <td>2016</td>\n",
       "      <td>422137.0</td>\n",
       "      <td>&lt;built-in function zeros&gt;</td>\n",
       "    </tr>\n",
       "    <tr>\n",
       "      <th>47</th>\n",
       "      <td>2017</td>\n",
       "      <td>423181.0</td>\n",
       "      <td>&lt;built-in function zeros&gt;</td>\n",
       "    </tr>\n",
       "    <tr>\n",
       "      <th>48</th>\n",
       "      <td>2018</td>\n",
       "      <td>423908.0</td>\n",
       "      <td>&lt;built-in function zeros&gt;</td>\n",
       "    </tr>\n",
       "  </tbody>\n",
       "</table>\n",
       "</div>"
      ],
      "text/plain": [
       "    Year  Population           Population Model\n",
       "38  2008    393000.0  <built-in function zeros>\n",
       "39  2009    400303.0  <built-in function zeros>\n",
       "40  2010    406220.0  <built-in function zeros>\n",
       "41  2011    413291.0  <built-in function zeros>\n",
       "42  2012    416098.0  <built-in function zeros>\n",
       "43  2013    417705.0  <built-in function zeros>\n",
       "44  2014    419467.0  <built-in function zeros>\n",
       "45  2015    420058.0  <built-in function zeros>\n",
       "46  2016    422137.0  <built-in function zeros>\n",
       "47  2017    423181.0  <built-in function zeros>\n",
       "48  2018    423908.0  <built-in function zeros>"
      ]
     },
     "execution_count": 17,
     "metadata": {},
     "output_type": "execute_result"
    }
   ],
   "source": [
    "Cam_Pop10 = Cam_Pop[38:49] #Extract values from 2008 to 2018\n",
    "Cam_Pop10['Population Model'] = np.zeros\n",
    "Cam_Pop10.head(n=11)"
   ]
  },
  {
   "cell_type": "code",
   "execution_count": 18,
   "metadata": {},
   "outputs": [
    {
     "data": {
      "text/plain": [
       "Text(0.5, 0, 'Year')"
      ]
     },
     "execution_count": 18,
     "metadata": {},
     "output_type": "execute_result"
    },
    {
     "data": {
      "image/png": "[encoded data removed]",
      "text/plain": [
       "<Figure size 432x288 with 1 Axes>"
      ]
     },
     "metadata": {
      "needs_background": "light"
     },
     "output_type": "display_data"
    }
   ],
   "source": [
    "Population10 = Cam_Pop10['Population'] #Whole new set of variables and a plot of my sample points per year\n",
    "Year10 = Cam_Pop10['Year']\n",
    "time10 = Year10 - Year10[38]\n",
    "fig, ax = plt.subplots()\n",
    "ax.scatter(Year10, Population10)\n",
    "ax.set_title('Population Per Year Sample Points')\n",
    "ax.set_ylabel('Population')\n",
    "ax.set_xlabel('Year')"
   ]
  },
  {
   "cell_type": "code",
   "execution_count": 19,
   "metadata": {},
   "outputs": [
    {
     "name": "stderr",
     "output_type": "stream",
     "text": [
      "C:\\Users\\alvar\\Anaconda3\\lib\\site-packages\\scipy\\stats\\stats.py:1416: UserWarning: kurtosistest only valid for n>=20 ... continuing anyway, n=11\n",
      "  \"anyway, n=%i\" % int(n))\n"
     ]
    },
    {
     "data": {
      "text/html": [
       "<table class=\"simpletable\">\n",
       "<caption>OLS Regression Results</caption>\n",
       "<tr>\n",
       "  <th>Dep. Variable:</th>       <td>Population</td>    <th>  R-squared:         </th> <td>   0.947</td>\n",
       "</tr>\n",
       "<tr>\n",
       "  <th>Model:</th>                   <td>OLS</td>       <th>  Adj. R-squared:    </th> <td>   0.942</td>\n",
       "</tr>\n",
       "<tr>\n",
       "  <th>Method:</th>             <td>Least Squares</td>  <th>  F-statistic:       </th> <td>   180.2</td>\n",
       "</tr>\n",
       "<tr>\n",
       "  <th>Date:</th>             <td>Sun, 05 May 2019</td> <th>  Prob (F-statistic):</th> <td>1.01e-07</td>\n",
       "</tr>\n",
       "<tr>\n",
       "  <th>Time:</th>                 <td>23:34:02</td>     <th>  Log-Likelihood:    </th> <td>  32.073</td>\n",
       "</tr>\n",
       "<tr>\n",
       "  <th>No. Observations:</th>      <td>    11</td>      <th>  AIC:               </th> <td>  -62.15</td>\n",
       "</tr>\n",
       "<tr>\n",
       "  <th>Df Residuals:</th>          <td>    10</td>      <th>  BIC:               </th> <td>  -61.75</td>\n",
       "</tr>\n",
       "<tr>\n",
       "  <th>Df Model:</th>              <td>     1</td>      <th>                     </th>     <td> </td>   \n",
       "</tr>\n",
       "<tr>\n",
       "  <th>Covariance Type:</th>      <td>nonrobust</td>    <th>                     </th>     <td> </td>   \n",
       "</tr>\n",
       "</table>\n",
       "<table class=\"simpletable\">\n",
       "<tr>\n",
       "    <td></td>      <th>coef</th>     <th>std err</th>      <th>t</th>      <th>P>|t|</th>  <th>[0.025</th>    <th>0.975]</th>  \n",
       "</tr>\n",
       "<tr>\n",
       "  <th>Year</th> <td>    0.0094</td> <td>    0.001</td> <td>   13.425</td> <td> 0.000</td> <td>    0.008</td> <td>    0.011</td>\n",
       "</tr>\n",
       "</table>\n",
       "<table class=\"simpletable\">\n",
       "<tr>\n",
       "  <th>Omnibus:</th>       <td> 0.656</td> <th>  Durbin-Watson:     </th> <td>   0.226</td>\n",
       "</tr>\n",
       "<tr>\n",
       "  <th>Prob(Omnibus):</th> <td> 0.720</td> <th>  Jarque-Bera (JB):  </th> <td>   0.627</td>\n",
       "</tr>\n",
       "<tr>\n",
       "  <th>Skew:</th>          <td>-0.411</td> <th>  Prob(JB):          </th> <td>   0.731</td>\n",
       "</tr>\n",
       "<tr>\n",
       "  <th>Kurtosis:</th>      <td> 2.168</td> <th>  Cond. No.          </th> <td>    1.00</td>\n",
       "</tr>\n",
       "</table><br/><br/>Warnings:<br/>[1] Standard Errors assume that the covariance matrix of the errors is correctly specified."
      ],
      "text/plain": [
       "<class 'statsmodels.iolib.summary.Summary'>\n",
       "\"\"\"\n",
       "                            OLS Regression Results                            \n",
       "==============================================================================\n",
       "Dep. Variable:             Population   R-squared:                       0.947\n",
       "Model:                            OLS   Adj. R-squared:                  0.942\n",
       "Method:                 Least Squares   F-statistic:                     180.2\n",
       "Date:                Sun, 05 May 2019   Prob (F-statistic):           1.01e-07\n",
       "Time:                        23:34:02   Log-Likelihood:                 32.073\n",
       "No. Observations:                  11   AIC:                            -62.15\n",
       "Df Residuals:                      10   BIC:                            -61.75\n",
       "Df Model:                           1                                         \n",
       "Covariance Type:            nonrobust                                         \n",
       "==============================================================================\n",
       "                 coef    std err          t      P>|t|      [0.025      0.975]\n",
       "------------------------------------------------------------------------------\n",
       "Year           0.0094      0.001     13.425      0.000       0.008       0.011\n",
       "==============================================================================\n",
       "Omnibus:                        0.656   Durbin-Watson:                   0.226\n",
       "Prob(Omnibus):                  0.720   Jarque-Bera (JB):                0.627\n",
       "Skew:                          -0.411   Prob(JB):                        0.731\n",
       "Kurtosis:                       2.168   Cond. No.                         1.00\n",
       "==============================================================================\n",
       "\n",
       "Warnings:\n",
       "[1] Standard Errors assume that the covariance matrix of the errors is correctly specified.\n",
       "\"\"\""
      ]
     },
     "execution_count": 19,
     "metadata": {},
     "output_type": "execute_result"
    }
   ],
   "source": [
    "# set variable for ln(nt/No) vs t\n",
    "df10 = np.log(Population10/Population10[38])\n",
    "X10 = time10\n",
    "Y10 = df10\n",
    "model10 = sm.OLS(Y10,X10).fit() #new modelfor 10 year period\n",
    "model10.summary()"
   ]
  },
  {
   "cell_type": "code",
   "execution_count": 20,
   "metadata": {},
   "outputs": [
    {
     "data": {
      "text/plain": [
       "Text(0, 0.5, 'Ln(N(t)/No)')"
      ]
     },
     "execution_count": 20,
     "metadata": {},
     "output_type": "execute_result"
    },
    {
     "data": {
      "image/png": "[encoded data removed]",
      "text/plain": [
       "<Figure size 432x288 with 1 Axes>"
      ]
     },
     "metadata": {
      "needs_background": "light"
     },
     "output_type": "display_data"
    }
   ],
   "source": [
    "predictions10 = model10.predict(X10) # make the predictions by the new 10 year model\n",
    "plt.plot(X10, predictions10, 'k--')\n",
    "plt.scatter(time10, df10)\n",
    "plt.xlabel('Time')\n",
    "plt.ylabel('Ln(N(t)/No)')"
   ]
  },
  {
   "cell_type": "code",
   "execution_count": 21,
   "metadata": {
    "scrolled": true
   },
   "outputs": [
    {
     "name": "stderr",
     "output_type": "stream",
     "text": [
      "C:\\Users\\alvar\\Anaconda3\\lib\\site-packages\\ipykernel_launcher.py:5: SettingWithCopyWarning: \n",
      "A value is trying to be set on a copy of a slice from a DataFrame.\n",
      "Try using .loc[row_indexer,col_indexer] = value instead\n",
      "\n",
      "See the caveats in the documentation: http://pandas.pydata.org/pandas-docs/stable/indexing.html#indexing-view-versus-copy\n",
      "  \"\"\"\n"
     ]
    },
    {
     "data": {
      "text/html": [
       "<div>\n",
       "<style scoped>\n",
       "    .dataframe tbody tr th:only-of-type {\n",
       "        vertical-align: middle;\n",
       "    }\n",
       "\n",
       "    .dataframe tbody tr th {\n",
       "        vertical-align: top;\n",
       "    }\n",
       "\n",
       "    .dataframe thead th {\n",
       "        text-align: right;\n",
       "    }\n",
       "</style>\n",
       "<table border=\"1\" class=\"dataframe\">\n",
       "  <thead>\n",
       "    <tr style=\"text-align: right;\">\n",
       "      <th></th>\n",
       "      <th>Year</th>\n",
       "      <th>Population</th>\n",
       "      <th>Population Model</th>\n",
       "    </tr>\n",
       "  </thead>\n",
       "  <tbody>\n",
       "    <tr>\n",
       "      <th>75</th>\n",
       "      <td>2045</td>\n",
       "      <td>NaN</td>\n",
       "      <td>556583.575146</td>\n",
       "    </tr>\n",
       "    <tr>\n",
       "      <th>76</th>\n",
       "      <td>2046</td>\n",
       "      <td>NaN</td>\n",
       "      <td>561843.282169</td>\n",
       "    </tr>\n",
       "    <tr>\n",
       "      <th>77</th>\n",
       "      <td>2047</td>\n",
       "      <td>NaN</td>\n",
       "      <td>567152.693349</td>\n",
       "    </tr>\n",
       "    <tr>\n",
       "      <th>78</th>\n",
       "      <td>2048</td>\n",
       "      <td>NaN</td>\n",
       "      <td>572512.278391</td>\n",
       "    </tr>\n",
       "    <tr>\n",
       "      <th>79</th>\n",
       "      <td>2049</td>\n",
       "      <td>NaN</td>\n",
       "      <td>577922.511437</td>\n",
       "    </tr>\n",
       "  </tbody>\n",
       "</table>\n",
       "</div>"
      ],
      "text/plain": [
       "    Year  Population  Population Model\n",
       "75  2045         NaN     556583.575146\n",
       "76  2046         NaN     561843.282169\n",
       "77  2047         NaN     567152.693349\n",
       "78  2048         NaN     572512.278391\n",
       "79  2049         NaN     577922.511437"
      ]
     },
     "execution_count": 21,
     "metadata": {},
     "output_type": "execute_result"
    }
   ],
   "source": [
    "Cam_Pop2 = Cam_Pop[38:80] #include NaN values and corresponding years so that model can populate them...no pun intended\n",
    "Year_m10 = Cam_Pop2['Year']\n",
    "time_m10 = Year_m10 - Year_m10[38]\n",
    "t_predictions = model10.predict(time_m10) # predict for the full time period now\n",
    "Cam_Pop2['Population Model'] = np.exp(t_predictions)*Population10[38]\n",
    "Cam_Pop2.tail()"
   ]
  },
  {
   "cell_type": "code",
   "execution_count": 22,
   "metadata": {},
   "outputs": [
    {
     "data": {
      "text/html": [
       "<div>\n",
       "<style scoped>\n",
       "    .dataframe tbody tr th:only-of-type {\n",
       "        vertical-align: middle;\n",
       "    }\n",
       "\n",
       "    .dataframe tbody tr th {\n",
       "        vertical-align: top;\n",
       "    }\n",
       "\n",
       "    .dataframe thead th {\n",
       "        text-align: right;\n",
       "    }\n",
       "</style>\n",
       "<table border=\"1\" class=\"dataframe\">\n",
       "  <thead>\n",
       "    <tr style=\"text-align: right;\">\n",
       "      <th></th>\n",
       "      <th>Year</th>\n",
       "      <th>Population</th>\n",
       "      <th>Population Model</th>\n",
       "    </tr>\n",
       "  </thead>\n",
       "  <tbody>\n",
       "    <tr>\n",
       "      <th>38</th>\n",
       "      <td>2008</td>\n",
       "      <td>393000.0</td>\n",
       "      <td>393000.000000</td>\n",
       "    </tr>\n",
       "    <tr>\n",
       "      <th>39</th>\n",
       "      <td>2009</td>\n",
       "      <td>400303.0</td>\n",
       "      <td>396713.844519</td>\n",
       "    </tr>\n",
       "    <tr>\n",
       "      <th>40</th>\n",
       "      <td>2010</td>\n",
       "      <td>406220.0</td>\n",
       "      <td>400462.784816</td>\n",
       "    </tr>\n",
       "    <tr>\n",
       "      <th>41</th>\n",
       "      <td>2011</td>\n",
       "      <td>413291.0</td>\n",
       "      <td>404247.152548</td>\n",
       "    </tr>\n",
       "    <tr>\n",
       "      <th>42</th>\n",
       "      <td>2012</td>\n",
       "      <td>416098.0</td>\n",
       "      <td>408067.282501</td>\n",
       "    </tr>\n",
       "  </tbody>\n",
       "</table>\n",
       "</div>"
      ],
      "text/plain": [
       "    Year  Population  Population Model\n",
       "38  2008    393000.0     393000.000000\n",
       "39  2009    400303.0     396713.844519\n",
       "40  2010    406220.0     400462.784816\n",
       "41  2011    413291.0     404247.152548\n",
       "42  2012    416098.0     408067.282501"
      ]
     },
     "execution_count": 22,
     "metadata": {},
     "output_type": "execute_result"
    }
   ],
   "source": [
    "Cam_Pop2.head()"
   ]
  },
  {
   "cell_type": "code",
   "execution_count": 23,
   "metadata": {},
   "outputs": [
    {
     "data": {
      "text/plain": [
       "Text(0.5, 0, 'Year')"
      ]
     },
     "execution_count": 23,
     "metadata": {},
     "output_type": "execute_result"
    },
    {
     "data": {
      "image/png": "[encoded data removed]",
      "text/plain": [
       "<Figure size 432x288 with 1 Axes>"
      ]
     },
     "metadata": {
      "needs_background": "light"
     },
     "output_type": "display_data"
    }
   ],
   "source": [
    "fig, ax = plt.subplots()\n",
    "plt.plot(Cam_Pop2['Year'], Cam_Pop2['Population Model'])\n",
    "ax.set_title('Cameron County Population Model Since 2008')\n",
    "ax.set_ylabel('Population')\n",
    "ax.set_xlabel('Year')\n",
    "# 10 Year model has way more linear predictions and predicts around 420,000 less people for year 2050 than 48 year model!!!"
   ]
  },
  {
   "cell_type": "markdown",
   "metadata": {},
   "source": [
    "### Now with a 25 year period (1993-2018)"
   ]
  },
  {
   "cell_type": "code",
   "execution_count": 24,
   "metadata": {},
   "outputs": [
    {
     "name": "stderr",
     "output_type": "stream",
     "text": [
      "C:\\Users\\alvar\\Anaconda3\\lib\\site-packages\\ipykernel_launcher.py:2: SettingWithCopyWarning: \n",
      "A value is trying to be set on a copy of a slice from a DataFrame.\n",
      "Try using .loc[row_indexer,col_indexer] = value instead\n",
      "\n",
      "See the caveats in the documentation: http://pandas.pydata.org/pandas-docs/stable/indexing.html#indexing-view-versus-copy\n",
      "  \n"
     ]
    },
    {
     "data": {
      "text/html": [
       "<div>\n",
       "<style scoped>\n",
       "    .dataframe tbody tr th:only-of-type {\n",
       "        vertical-align: middle;\n",
       "    }\n",
       "\n",
       "    .dataframe tbody tr th {\n",
       "        vertical-align: top;\n",
       "    }\n",
       "\n",
       "    .dataframe thead th {\n",
       "        text-align: right;\n",
       "    }\n",
       "</style>\n",
       "<table border=\"1\" class=\"dataframe\">\n",
       "  <thead>\n",
       "    <tr style=\"text-align: right;\">\n",
       "      <th></th>\n",
       "      <th>Year</th>\n",
       "      <th>Population</th>\n",
       "      <th>Population Model</th>\n",
       "    </tr>\n",
       "  </thead>\n",
       "  <tbody>\n",
       "    <tr>\n",
       "      <th>23</th>\n",
       "      <td>1993</td>\n",
       "      <td>277166.0</td>\n",
       "      <td>&lt;built-in function zeros&gt;</td>\n",
       "    </tr>\n",
       "    <tr>\n",
       "      <th>24</th>\n",
       "      <td>1994</td>\n",
       "      <td>287950.0</td>\n",
       "      <td>&lt;built-in function zeros&gt;</td>\n",
       "    </tr>\n",
       "    <tr>\n",
       "      <th>25</th>\n",
       "      <td>1995</td>\n",
       "      <td>296948.0</td>\n",
       "      <td>&lt;built-in function zeros&gt;</td>\n",
       "    </tr>\n",
       "    <tr>\n",
       "      <th>26</th>\n",
       "      <td>1996</td>\n",
       "      <td>304459.0</td>\n",
       "      <td>&lt;built-in function zeros&gt;</td>\n",
       "    </tr>\n",
       "    <tr>\n",
       "      <th>27</th>\n",
       "      <td>1997</td>\n",
       "      <td>311522.0</td>\n",
       "      <td>&lt;built-in function zeros&gt;</td>\n",
       "    </tr>\n",
       "    <tr>\n",
       "      <th>28</th>\n",
       "      <td>1998</td>\n",
       "      <td>317719.0</td>\n",
       "      <td>&lt;built-in function zeros&gt;</td>\n",
       "    </tr>\n",
       "    <tr>\n",
       "      <th>29</th>\n",
       "      <td>1999</td>\n",
       "      <td>324046.0</td>\n",
       "      <td>&lt;built-in function zeros&gt;</td>\n",
       "    </tr>\n",
       "    <tr>\n",
       "      <th>30</th>\n",
       "      <td>2000</td>\n",
       "      <td>334884.0</td>\n",
       "      <td>&lt;built-in function zeros&gt;</td>\n",
       "    </tr>\n",
       "    <tr>\n",
       "      <th>31</th>\n",
       "      <td>2001</td>\n",
       "      <td>336123.0</td>\n",
       "      <td>&lt;built-in function zeros&gt;</td>\n",
       "    </tr>\n",
       "    <tr>\n",
       "      <th>32</th>\n",
       "      <td>2002</td>\n",
       "      <td>350194.0</td>\n",
       "      <td>&lt;built-in function zeros&gt;</td>\n",
       "    </tr>\n",
       "    <tr>\n",
       "      <th>33</th>\n",
       "      <td>2003</td>\n",
       "      <td>358492.0</td>\n",
       "      <td>&lt;built-in function zeros&gt;</td>\n",
       "    </tr>\n",
       "    <tr>\n",
       "      <th>34</th>\n",
       "      <td>2004</td>\n",
       "      <td>366299.0</td>\n",
       "      <td>&lt;built-in function zeros&gt;</td>\n",
       "    </tr>\n",
       "    <tr>\n",
       "      <th>35</th>\n",
       "      <td>2005</td>\n",
       "      <td>373429.0</td>\n",
       "      <td>&lt;built-in function zeros&gt;</td>\n",
       "    </tr>\n",
       "    <tr>\n",
       "      <th>36</th>\n",
       "      <td>2006</td>\n",
       "      <td>380169.0</td>\n",
       "      <td>&lt;built-in function zeros&gt;</td>\n",
       "    </tr>\n",
       "    <tr>\n",
       "      <th>37</th>\n",
       "      <td>2007</td>\n",
       "      <td>386309.0</td>\n",
       "      <td>&lt;built-in function zeros&gt;</td>\n",
       "    </tr>\n",
       "    <tr>\n",
       "      <th>38</th>\n",
       "      <td>2008</td>\n",
       "      <td>393000.0</td>\n",
       "      <td>&lt;built-in function zeros&gt;</td>\n",
       "    </tr>\n",
       "    <tr>\n",
       "      <th>39</th>\n",
       "      <td>2009</td>\n",
       "      <td>400303.0</td>\n",
       "      <td>&lt;built-in function zeros&gt;</td>\n",
       "    </tr>\n",
       "    <tr>\n",
       "      <th>40</th>\n",
       "      <td>2010</td>\n",
       "      <td>406220.0</td>\n",
       "      <td>&lt;built-in function zeros&gt;</td>\n",
       "    </tr>\n",
       "    <tr>\n",
       "      <th>41</th>\n",
       "      <td>2011</td>\n",
       "      <td>413291.0</td>\n",
       "      <td>&lt;built-in function zeros&gt;</td>\n",
       "    </tr>\n",
       "    <tr>\n",
       "      <th>42</th>\n",
       "      <td>2012</td>\n",
       "      <td>416098.0</td>\n",
       "      <td>&lt;built-in function zeros&gt;</td>\n",
       "    </tr>\n",
       "    <tr>\n",
       "      <th>43</th>\n",
       "      <td>2013</td>\n",
       "      <td>417705.0</td>\n",
       "      <td>&lt;built-in function zeros&gt;</td>\n",
       "    </tr>\n",
       "    <tr>\n",
       "      <th>44</th>\n",
       "      <td>2014</td>\n",
       "      <td>419467.0</td>\n",
       "      <td>&lt;built-in function zeros&gt;</td>\n",
       "    </tr>\n",
       "    <tr>\n",
       "      <th>45</th>\n",
       "      <td>2015</td>\n",
       "      <td>420058.0</td>\n",
       "      <td>&lt;built-in function zeros&gt;</td>\n",
       "    </tr>\n",
       "    <tr>\n",
       "      <th>46</th>\n",
       "      <td>2016</td>\n",
       "      <td>422137.0</td>\n",
       "      <td>&lt;built-in function zeros&gt;</td>\n",
       "    </tr>\n",
       "    <tr>\n",
       "      <th>47</th>\n",
       "      <td>2017</td>\n",
       "      <td>423181.0</td>\n",
       "      <td>&lt;built-in function zeros&gt;</td>\n",
       "    </tr>\n",
       "    <tr>\n",
       "      <th>48</th>\n",
       "      <td>2018</td>\n",
       "      <td>423908.0</td>\n",
       "      <td>&lt;built-in function zeros&gt;</td>\n",
       "    </tr>\n",
       "  </tbody>\n",
       "</table>\n",
       "</div>"
      ],
      "text/plain": [
       "    Year  Population           Population Model\n",
       "23  1993    277166.0  <built-in function zeros>\n",
       "24  1994    287950.0  <built-in function zeros>\n",
       "25  1995    296948.0  <built-in function zeros>\n",
       "26  1996    304459.0  <built-in function zeros>\n",
       "27  1997    311522.0  <built-in function zeros>\n",
       "28  1998    317719.0  <built-in function zeros>\n",
       "29  1999    324046.0  <built-in function zeros>\n",
       "30  2000    334884.0  <built-in function zeros>\n",
       "31  2001    336123.0  <built-in function zeros>\n",
       "32  2002    350194.0  <built-in function zeros>\n",
       "33  2003    358492.0  <built-in function zeros>\n",
       "34  2004    366299.0  <built-in function zeros>\n",
       "35  2005    373429.0  <built-in function zeros>\n",
       "36  2006    380169.0  <built-in function zeros>\n",
       "37  2007    386309.0  <built-in function zeros>\n",
       "38  2008    393000.0  <built-in function zeros>\n",
       "39  2009    400303.0  <built-in function zeros>\n",
       "40  2010    406220.0  <built-in function zeros>\n",
       "41  2011    413291.0  <built-in function zeros>\n",
       "42  2012    416098.0  <built-in function zeros>\n",
       "43  2013    417705.0  <built-in function zeros>\n",
       "44  2014    419467.0  <built-in function zeros>\n",
       "45  2015    420058.0  <built-in function zeros>\n",
       "46  2016    422137.0  <built-in function zeros>\n",
       "47  2017    423181.0  <built-in function zeros>\n",
       "48  2018    423908.0  <built-in function zeros>"
      ]
     },
     "execution_count": 24,
     "metadata": {},
     "output_type": "execute_result"
    }
   ],
   "source": [
    "Cam_Pop25 = Cam_Pop[23:49]\n",
    "Cam_Pop25['Population Model'] = np.zeros\n",
    "Cam_Pop25.head(n=26)# get my 25 year period only"
   ]
  },
  {
   "cell_type": "code",
   "execution_count": 25,
   "metadata": {},
   "outputs": [
    {
     "data": {
      "text/plain": [
       "Text(0.5, 0, 'Year')"
      ]
     },
     "execution_count": 25,
     "metadata": {},
     "output_type": "execute_result"
    },
    {
     "data": {
      "image/png": "[encoded data removed]",
      "text/plain": [
       "<Figure size 432x288 with 1 Axes>"
      ]
     },
     "metadata": {
      "needs_background": "light"
     },
     "output_type": "display_data"
    }
   ],
   "source": [
    "Population25 = Cam_Pop25['Population'] #Whole new set of variables and a plot of my sample points per year\n",
    "Year25 = Cam_Pop25['Year']\n",
    "time25 = Year25 - Year25[23]\n",
    "fig, ax = plt.subplots()\n",
    "ax.scatter(Year25, Population25)\n",
    "ax.set_title('Population Per Year Sample Points')\n",
    "ax.set_ylabel('Population')\n",
    "ax.set_xlabel('Year')"
   ]
  },
  {
   "cell_type": "code",
   "execution_count": 26,
   "metadata": {},
   "outputs": [
    {
     "data": {
      "text/html": [
       "<table class=\"simpletable\">\n",
       "<caption>OLS Regression Results</caption>\n",
       "<tr>\n",
       "  <th>Dep. Variable:</th>       <td>Population</td>    <th>  R-squared:         </th> <td>   0.981</td>\n",
       "</tr>\n",
       "<tr>\n",
       "  <th>Model:</th>                   <td>OLS</td>       <th>  Adj. R-squared:    </th> <td>   0.980</td>\n",
       "</tr>\n",
       "<tr>\n",
       "  <th>Method:</th>             <td>Least Squares</td>  <th>  F-statistic:       </th> <td>   1301.</td>\n",
       "</tr>\n",
       "<tr>\n",
       "  <th>Date:</th>             <td>Sun, 05 May 2019</td> <th>  Prob (F-statistic):</th> <td>4.41e-23</td>\n",
       "</tr>\n",
       "<tr>\n",
       "  <th>Time:</th>                 <td>23:34:03</td>     <th>  Log-Likelihood:    </th> <td>  45.601</td>\n",
       "</tr>\n",
       "<tr>\n",
       "  <th>No. Observations:</th>      <td>    26</td>      <th>  AIC:               </th> <td>  -89.20</td>\n",
       "</tr>\n",
       "<tr>\n",
       "  <th>Df Residuals:</th>          <td>    25</td>      <th>  BIC:               </th> <td>  -87.94</td>\n",
       "</tr>\n",
       "<tr>\n",
       "  <th>Df Model:</th>              <td>     1</td>      <th>                     </th>     <td> </td>   \n",
       "</tr>\n",
       "<tr>\n",
       "  <th>Covariance Type:</th>      <td>nonrobust</td>    <th>                     </th>     <td> </td>   \n",
       "</tr>\n",
       "</table>\n",
       "<table class=\"simpletable\">\n",
       "<tr>\n",
       "    <td></td>      <th>coef</th>     <th>std err</th>      <th>t</th>      <th>P>|t|</th>  <th>[0.025</th>    <th>0.975]</th>  \n",
       "</tr>\n",
       "<tr>\n",
       "  <th>Year</th> <td>    0.0207</td> <td>    0.001</td> <td>   36.071</td> <td> 0.000</td> <td>    0.020</td> <td>    0.022</td>\n",
       "</tr>\n",
       "</table>\n",
       "<table class=\"simpletable\">\n",
       "<tr>\n",
       "  <th>Omnibus:</th>       <td>11.481</td> <th>  Durbin-Watson:     </th> <td>   0.076</td>\n",
       "</tr>\n",
       "<tr>\n",
       "  <th>Prob(Omnibus):</th> <td> 0.003</td> <th>  Jarque-Bera (JB):  </th> <td>  10.168</td>\n",
       "</tr>\n",
       "<tr>\n",
       "  <th>Skew:</th>          <td>-1.446</td> <th>  Prob(JB):          </th> <td> 0.00619</td>\n",
       "</tr>\n",
       "<tr>\n",
       "  <th>Kurtosis:</th>      <td> 4.011</td> <th>  Cond. No.          </th> <td>    1.00</td>\n",
       "</tr>\n",
       "</table><br/><br/>Warnings:<br/>[1] Standard Errors assume that the covariance matrix of the errors is correctly specified."
      ],
      "text/plain": [
       "<class 'statsmodels.iolib.summary.Summary'>\n",
       "\"\"\"\n",
       "                            OLS Regression Results                            \n",
       "==============================================================================\n",
       "Dep. Variable:             Population   R-squared:                       0.981\n",
       "Model:                            OLS   Adj. R-squared:                  0.980\n",
       "Method:                 Least Squares   F-statistic:                     1301.\n",
       "Date:                Sun, 05 May 2019   Prob (F-statistic):           4.41e-23\n",
       "Time:                        23:34:03   Log-Likelihood:                 45.601\n",
       "No. Observations:                  26   AIC:                            -89.20\n",
       "Df Residuals:                      25   BIC:                            -87.94\n",
       "Df Model:                           1                                         \n",
       "Covariance Type:            nonrobust                                         \n",
       "==============================================================================\n",
       "                 coef    std err          t      P>|t|      [0.025      0.975]\n",
       "------------------------------------------------------------------------------\n",
       "Year           0.0207      0.001     36.071      0.000       0.020       0.022\n",
       "==============================================================================\n",
       "Omnibus:                       11.481   Durbin-Watson:                   0.076\n",
       "Prob(Omnibus):                  0.003   Jarque-Bera (JB):               10.168\n",
       "Skew:                          -1.446   Prob(JB):                      0.00619\n",
       "Kurtosis:                       4.011   Cond. No.                         1.00\n",
       "==============================================================================\n",
       "\n",
       "Warnings:\n",
       "[1] Standard Errors assume that the covariance matrix of the errors is correctly specified.\n",
       "\"\"\""
      ]
     },
     "execution_count": 26,
     "metadata": {},
     "output_type": "execute_result"
    }
   ],
   "source": [
    "# set variable for ln(nt/No) vs t\n",
    "df25 = np.log(Population25/Population25[23])\n",
    "X25 = time25\n",
    "Y25 = df25\n",
    "model25 = sm.OLS(Y25,X25).fit() #new model for 25 year period\n",
    "model25.summary()"
   ]
  },
  {
   "cell_type": "code",
   "execution_count": 27,
   "metadata": {},
   "outputs": [
    {
     "data": {
      "text/plain": [
       "Text(0, 0.5, 'Ln(N(t)/No)')"
      ]
     },
     "execution_count": 27,
     "metadata": {},
     "output_type": "execute_result"
    },
    {
     "data": {
      "image/png": "[encoded data removed]",
      "text/plain": [
       "<Figure size 432x288 with 1 Axes>"
      ]
     },
     "metadata": {
      "needs_background": "light"
     },
     "output_type": "display_data"
    }
   ],
   "source": [
    "predictions25 = model25.predict(X25) # make the predictions by the new 10 year model\n",
    "plt.plot(X25, predictions25, 'k--')\n",
    "plt.scatter(time25, df25)\n",
    "plt.xlabel('Time')\n",
    "plt.ylabel('Ln(N(t)/No)')"
   ]
  },
  {
   "cell_type": "code",
   "execution_count": 28,
   "metadata": {
    "scrolled": true
   },
   "outputs": [
    {
     "name": "stderr",
     "output_type": "stream",
     "text": [
      "C:\\Users\\alvar\\Anaconda3\\lib\\site-packages\\ipykernel_launcher.py:5: SettingWithCopyWarning: \n",
      "A value is trying to be set on a copy of a slice from a DataFrame.\n",
      "Try using .loc[row_indexer,col_indexer] = value instead\n",
      "\n",
      "See the caveats in the documentation: http://pandas.pydata.org/pandas-docs/stable/indexing.html#indexing-view-versus-copy\n",
      "  \"\"\"\n"
     ]
    },
    {
     "data": {
      "text/html": [
       "<div>\n",
       "<style scoped>\n",
       "    .dataframe tbody tr th:only-of-type {\n",
       "        vertical-align: middle;\n",
       "    }\n",
       "\n",
       "    .dataframe tbody tr th {\n",
       "        vertical-align: top;\n",
       "    }\n",
       "\n",
       "    .dataframe thead th {\n",
       "        text-align: right;\n",
       "    }\n",
       "</style>\n",
       "<table border=\"1\" class=\"dataframe\">\n",
       "  <thead>\n",
       "    <tr style=\"text-align: right;\">\n",
       "      <th></th>\n",
       "      <th>Year</th>\n",
       "      <th>Population</th>\n",
       "      <th>Population Model</th>\n",
       "    </tr>\n",
       "  </thead>\n",
       "  <tbody>\n",
       "    <tr>\n",
       "      <th>75</th>\n",
       "      <td>2045</td>\n",
       "      <td>NaN</td>\n",
       "      <td>814462.925805</td>\n",
       "    </tr>\n",
       "    <tr>\n",
       "      <th>76</th>\n",
       "      <td>2046</td>\n",
       "      <td>NaN</td>\n",
       "      <td>831522.195874</td>\n",
       "    </tr>\n",
       "    <tr>\n",
       "      <th>77</th>\n",
       "      <td>2047</td>\n",
       "      <td>NaN</td>\n",
       "      <td>848938.779562</td>\n",
       "    </tr>\n",
       "    <tr>\n",
       "      <th>78</th>\n",
       "      <td>2048</td>\n",
       "      <td>NaN</td>\n",
       "      <td>866720.160953</td>\n",
       "    </tr>\n",
       "    <tr>\n",
       "      <th>79</th>\n",
       "      <td>2049</td>\n",
       "      <td>NaN</td>\n",
       "      <td>884873.980890</td>\n",
       "    </tr>\n",
       "  </tbody>\n",
       "</table>\n",
       "</div>"
      ],
      "text/plain": [
       "    Year  Population  Population Model\n",
       "75  2045         NaN     814462.925805\n",
       "76  2046         NaN     831522.195874\n",
       "77  2047         NaN     848938.779562\n",
       "78  2048         NaN     866720.160953\n",
       "79  2049         NaN     884873.980890"
      ]
     },
     "execution_count": 28,
     "metadata": {},
     "output_type": "execute_result"
    }
   ],
   "source": [
    "Cam_Pop3 = Cam_Pop[23:80] #include NaN values and corresponding years again\n",
    "Year_m25 = Cam_Pop3['Year']\n",
    "time_m25 = Year_m25 - Year_m25[23]\n",
    "tf_predictions = model25.predict(time_m25) # predict for the full time period now\n",
    "Cam_Pop3['Population Model'] = np.exp(tf_predictions)*Population25[23]\n",
    "Cam_Pop3.tail()"
   ]
  },
  {
   "cell_type": "code",
   "execution_count": 29,
   "metadata": {},
   "outputs": [
    {
     "data": {
      "text/html": [
       "<div>\n",
       "<style scoped>\n",
       "    .dataframe tbody tr th:only-of-type {\n",
       "        vertical-align: middle;\n",
       "    }\n",
       "\n",
       "    .dataframe tbody tr th {\n",
       "        vertical-align: top;\n",
       "    }\n",
       "\n",
       "    .dataframe thead th {\n",
       "        text-align: right;\n",
       "    }\n",
       "</style>\n",
       "<table border=\"1\" class=\"dataframe\">\n",
       "  <thead>\n",
       "    <tr style=\"text-align: right;\">\n",
       "      <th></th>\n",
       "      <th>Year</th>\n",
       "      <th>Population</th>\n",
       "      <th>Population Model</th>\n",
       "    </tr>\n",
       "  </thead>\n",
       "  <tbody>\n",
       "    <tr>\n",
       "      <th>23</th>\n",
       "      <td>1993</td>\n",
       "      <td>277166.0</td>\n",
       "      <td>277166.000000</td>\n",
       "    </tr>\n",
       "    <tr>\n",
       "      <th>24</th>\n",
       "      <td>1994</td>\n",
       "      <td>287950.0</td>\n",
       "      <td>282971.358965</td>\n",
       "    </tr>\n",
       "    <tr>\n",
       "      <th>25</th>\n",
       "      <td>1995</td>\n",
       "      <td>296948.0</td>\n",
       "      <td>288898.313626</td>\n",
       "    </tr>\n",
       "    <tr>\n",
       "      <th>26</th>\n",
       "      <td>1996</td>\n",
       "      <td>304459.0</td>\n",
       "      <td>294949.410857</td>\n",
       "    </tr>\n",
       "    <tr>\n",
       "      <th>27</th>\n",
       "      <td>1997</td>\n",
       "      <td>311522.0</td>\n",
       "      <td>301127.250875</td>\n",
       "    </tr>\n",
       "  </tbody>\n",
       "</table>\n",
       "</div>"
      ],
      "text/plain": [
       "    Year  Population  Population Model\n",
       "23  1993    277166.0     277166.000000\n",
       "24  1994    287950.0     282971.358965\n",
       "25  1995    296948.0     288898.313626\n",
       "26  1996    304459.0     294949.410857\n",
       "27  1997    311522.0     301127.250875"
      ]
     },
     "execution_count": 29,
     "metadata": {},
     "output_type": "execute_result"
    }
   ],
   "source": [
    "Cam_Pop3.head()"
   ]
  },
  {
   "cell_type": "code",
   "execution_count": 30,
   "metadata": {},
   "outputs": [
    {
     "data": {
      "text/plain": [
       "Text(0.5, 0, 'Year')"
      ]
     },
     "execution_count": 30,
     "metadata": {},
     "output_type": "execute_result"
    },
    {
     "data": {
      "image/png": "[encoded data removed]",
      "text/plain": [
       "<Figure size 432x288 with 1 Axes>"
      ]
     },
     "metadata": {
      "needs_background": "light"
     },
     "output_type": "display_data"
    }
   ],
   "source": [
    "fig, ax = plt.subplots()\n",
    "plt.plot(Cam_Pop3['Year'], Cam_Pop3['Population Model'])\n",
    "ax.set_title('Cameron County Population Model Since 1993')\n",
    "ax.set_ylabel('Population')\n",
    "ax.set_xlabel('Year')"
   ]
  },
  {
   "cell_type": "markdown",
   "metadata": {},
   "source": [
    "### Now to compare the 10 year, 25 year, and 48 year models"
   ]
  },
  {
   "cell_type": "code",
   "execution_count": 31,
   "metadata": {
    "scrolled": true
   },
   "outputs": [
    {
     "name": "stderr",
     "output_type": "stream",
     "text": [
      "C:\\Users\\alvar\\Anaconda3\\lib\\site-packages\\ipykernel_launcher.py:4: SettingWithCopyWarning: \n",
      "A value is trying to be set on a copy of a slice from a DataFrame.\n",
      "Try using .loc[row_indexer,col_indexer] = value instead\n",
      "\n",
      "See the caveats in the documentation: http://pandas.pydata.org/pandas-docs/stable/indexing.html#indexing-view-versus-copy\n",
      "  after removing the cwd from sys.path.\n",
      "C:\\Users\\alvar\\Anaconda3\\lib\\site-packages\\ipykernel_launcher.py:5: SettingWithCopyWarning: \n",
      "A value is trying to be set on a copy of a slice from a DataFrame.\n",
      "Try using .loc[row_indexer,col_indexer] = value instead\n",
      "\n",
      "See the caveats in the documentation: http://pandas.pydata.org/pandas-docs/stable/indexing.html#indexing-view-versus-copy\n",
      "  \"\"\"\n",
      "C:\\Users\\alvar\\Anaconda3\\lib\\site-packages\\ipykernel_launcher.py:6: SettingWithCopyWarning: \n",
      "A value is trying to be set on a copy of a slice from a DataFrame.\n",
      "Try using .loc[row_indexer,col_indexer] = value instead\n",
      "\n",
      "See the caveats in the documentation: http://pandas.pydata.org/pandas-docs/stable/indexing.html#indexing-view-versus-copy\n",
      "  \n"
     ]
    },
    {
     "data": {
      "text/html": [
       "<div>\n",
       "<style scoped>\n",
       "    .dataframe tbody tr th:only-of-type {\n",
       "        vertical-align: middle;\n",
       "    }\n",
       "\n",
       "    .dataframe tbody tr th {\n",
       "        vertical-align: top;\n",
       "    }\n",
       "\n",
       "    .dataframe thead th {\n",
       "        text-align: right;\n",
       "    }\n",
       "</style>\n",
       "<table border=\"1\" class=\"dataframe\">\n",
       "  <thead>\n",
       "    <tr style=\"text-align: right;\">\n",
       "      <th></th>\n",
       "      <th>Year</th>\n",
       "      <th>Population Model 48 Year</th>\n",
       "      <th>Population Model 25 Year</th>\n",
       "      <th>Population Model 10 Year</th>\n",
       "    </tr>\n",
       "  </thead>\n",
       "  <tbody>\n",
       "    <tr>\n",
       "      <th>50</th>\n",
       "      <td>2020</td>\n",
       "      <td>&lt;built-in function zeros&gt;</td>\n",
       "      <td>&lt;built-in function zeros&gt;</td>\n",
       "      <td>&lt;built-in function zeros&gt;</td>\n",
       "    </tr>\n",
       "    <tr>\n",
       "      <th>51</th>\n",
       "      <td>2021</td>\n",
       "      <td>&lt;built-in function zeros&gt;</td>\n",
       "      <td>&lt;built-in function zeros&gt;</td>\n",
       "      <td>&lt;built-in function zeros&gt;</td>\n",
       "    </tr>\n",
       "    <tr>\n",
       "      <th>52</th>\n",
       "      <td>2022</td>\n",
       "      <td>&lt;built-in function zeros&gt;</td>\n",
       "      <td>&lt;built-in function zeros&gt;</td>\n",
       "      <td>&lt;built-in function zeros&gt;</td>\n",
       "    </tr>\n",
       "    <tr>\n",
       "      <th>53</th>\n",
       "      <td>2023</td>\n",
       "      <td>&lt;built-in function zeros&gt;</td>\n",
       "      <td>&lt;built-in function zeros&gt;</td>\n",
       "      <td>&lt;built-in function zeros&gt;</td>\n",
       "    </tr>\n",
       "    <tr>\n",
       "      <th>54</th>\n",
       "      <td>2024</td>\n",
       "      <td>&lt;built-in function zeros&gt;</td>\n",
       "      <td>&lt;built-in function zeros&gt;</td>\n",
       "      <td>&lt;built-in function zeros&gt;</td>\n",
       "    </tr>\n",
       "  </tbody>\n",
       "</table>\n",
       "</div>"
      ],
      "text/plain": [
       "    Year   Population Model 48 Year   Population Model 25 Year  \\\n",
       "50  2020  <built-in function zeros>  <built-in function zeros>   \n",
       "51  2021  <built-in function zeros>  <built-in function zeros>   \n",
       "52  2022  <built-in function zeros>  <built-in function zeros>   \n",
       "53  2023  <built-in function zeros>  <built-in function zeros>   \n",
       "54  2024  <built-in function zeros>  <built-in function zeros>   \n",
       "\n",
       "     Population Model 10 Year  \n",
       "50  <built-in function zeros>  \n",
       "51  <built-in function zeros>  \n",
       "52  <built-in function zeros>  \n",
       "53  <built-in function zeros>  \n",
       "54  <built-in function zeros>  "
      ]
     },
     "execution_count": 31,
     "metadata": {},
     "output_type": "execute_result"
    }
   ],
   "source": [
    "Cam_Popf = Cam_Pop[50:81]\n",
    "del Cam_Popf['Population']\n",
    "del Cam_Popf['Population Model']\n",
    "Cam_Popf['Population Model 48 Year'] = np.zeros\n",
    "Cam_Popf['Population Model 25 Year'] = np.zeros\n",
    "Cam_Popf['Population Model 10 Year'] = np.zeros\n",
    "Cam_Popf.head(n=5)"
   ]
  },
  {
   "cell_type": "code",
   "execution_count": 32,
   "metadata": {
    "scrolled": true
   },
   "outputs": [],
   "source": [
    "Model_10 = Cam_Pop2['Population Model']\n",
    "Model_25 = Cam_Pop3['Population Model']\n",
    "Model_48 = Cam_Pop['Population Model']"
   ]
  },
  {
   "cell_type": "code",
   "execution_count": 33,
   "metadata": {},
   "outputs": [
    {
     "name": "stderr",
     "output_type": "stream",
     "text": [
      "C:\\Users\\alvar\\Anaconda3\\lib\\site-packages\\ipykernel_launcher.py:1: SettingWithCopyWarning: \n",
      "A value is trying to be set on a copy of a slice from a DataFrame.\n",
      "Try using .loc[row_indexer,col_indexer] = value instead\n",
      "\n",
      "See the caveats in the documentation: http://pandas.pydata.org/pandas-docs/stable/indexing.html#indexing-view-versus-copy\n",
      "  \"\"\"Entry point for launching an IPython kernel.\n",
      "C:\\Users\\alvar\\Anaconda3\\lib\\site-packages\\ipykernel_launcher.py:2: SettingWithCopyWarning: \n",
      "A value is trying to be set on a copy of a slice from a DataFrame.\n",
      "Try using .loc[row_indexer,col_indexer] = value instead\n",
      "\n",
      "See the caveats in the documentation: http://pandas.pydata.org/pandas-docs/stable/indexing.html#indexing-view-versus-copy\n",
      "  \n",
      "C:\\Users\\alvar\\Anaconda3\\lib\\site-packages\\ipykernel_launcher.py:3: SettingWithCopyWarning: \n",
      "A value is trying to be set on a copy of a slice from a DataFrame.\n",
      "Try using .loc[row_indexer,col_indexer] = value instead\n",
      "\n",
      "See the caveats in the documentation: http://pandas.pydata.org/pandas-docs/stable/indexing.html#indexing-view-versus-copy\n",
      "  This is separate from the ipykernel package so we can avoid doing imports until\n"
     ]
    },
    {
     "data": {
      "text/html": [
       "<div>\n",
       "<style scoped>\n",
       "    .dataframe tbody tr th:only-of-type {\n",
       "        vertical-align: middle;\n",
       "    }\n",
       "\n",
       "    .dataframe tbody tr th {\n",
       "        vertical-align: top;\n",
       "    }\n",
       "\n",
       "    .dataframe thead th {\n",
       "        text-align: right;\n",
       "    }\n",
       "</style>\n",
       "<table border=\"1\" class=\"dataframe\">\n",
       "  <thead>\n",
       "    <tr style=\"text-align: right;\">\n",
       "      <th></th>\n",
       "      <th>Year</th>\n",
       "      <th>Population Model 48 Year</th>\n",
       "      <th>Population Model 25 Year</th>\n",
       "      <th>Population Model 10 Year</th>\n",
       "    </tr>\n",
       "  </thead>\n",
       "  <tbody>\n",
       "    <tr>\n",
       "      <th>50</th>\n",
       "      <td>2020</td>\n",
       "      <td>550125.602950</td>\n",
       "      <td>485074.185848</td>\n",
       "      <td>439956.994763</td>\n",
       "    </tr>\n",
       "    <tr>\n",
       "      <th>51</th>\n",
       "      <td>2021</td>\n",
       "      <td>565360.851595</td>\n",
       "      <td>495234.269601</td>\n",
       "      <td>444114.582227</td>\n",
       "    </tr>\n",
       "    <tr>\n",
       "      <th>52</th>\n",
       "      <td>2022</td>\n",
       "      <td>581018.027160</td>\n",
       "      <td>505607.160601</td>\n",
       "      <td>448311.458835</td>\n",
       "    </tr>\n",
       "    <tr>\n",
       "      <th>53</th>\n",
       "      <td>2023</td>\n",
       "      <td>597108.814544</td>\n",
       "      <td>516197.316185</td>\n",
       "      <td>452547.995868</td>\n",
       "    </tr>\n",
       "    <tr>\n",
       "      <th>54</th>\n",
       "      <td>2024</td>\n",
       "      <td>613645.222246</td>\n",
       "      <td>527009.287052</td>\n",
       "      <td>456824.568117</td>\n",
       "    </tr>\n",
       "  </tbody>\n",
       "</table>\n",
       "</div>"
      ],
      "text/plain": [
       "    Year  Population Model 48 Year  Population Model 25 Year  \\\n",
       "50  2020             550125.602950             485074.185848   \n",
       "51  2021             565360.851595             495234.269601   \n",
       "52  2022             581018.027160             505607.160601   \n",
       "53  2023             597108.814544             516197.316185   \n",
       "54  2024             613645.222246             527009.287052   \n",
       "\n",
       "    Population Model 10 Year  \n",
       "50             439956.994763  \n",
       "51             444114.582227  \n",
       "52             448311.458835  \n",
       "53             452547.995868  \n",
       "54             456824.568117  "
      ]
     },
     "execution_count": 33,
     "metadata": {},
     "output_type": "execute_result"
    }
   ],
   "source": [
    "Cam_Popf['Population Model 48 Year'] = Model_48\n",
    "Cam_Popf['Population Model 25 Year'] = Model_25\n",
    "Cam_Popf['Population Model 10 Year'] = Model_10\n",
    "Cam_Popf.head()"
   ]
  },
  {
   "cell_type": "code",
   "execution_count": 34,
   "metadata": {},
   "outputs": [],
   "source": [
    "Year_f = Cam_Popf['Year']\n",
    "M48 = Cam_Popf['Population Model 48 Year']\n",
    "M25 = Cam_Popf['Population Model 25 Year']\n",
    "M10 = Cam_Popf['Population Model 10 Year']"
   ]
  },
  {
   "cell_type": "code",
   "execution_count": 35,
   "metadata": {},
   "outputs": [
    {
     "data": {
      "image/png": "[encoded data removed]",
      "text/plain": [
       "<Figure size 432x288 with 1 Axes>"
      ]
     },
     "metadata": {
      "needs_background": "light"
     },
     "output_type": "display_data"
    }
   ],
   "source": [
    "fig, ax = plt.subplots()\n",
    "plt.plot(Year_f, M10, label='10 Year Model')\n",
    "plt.plot(Year_f, M25, label='25 Year Model')\n",
    "plt.plot(Year_f, M48, label='48 Year Model')\n",
    "ax.set_ylabel('Predicted Population')\n",
    "ax.set_xlabel('Year')\n",
    "ax.set_title('Population Estimates Using 10, 25, and 48 Year Models Without Initial Input Population')\n",
    "plt.legend()\n",
    "plt.show()\n",
    "# These estimates are not in consideration of our initial starting population for 2018"
   ]
  },
  {
   "cell_type": "markdown",
   "metadata": {},
   "source": [
    "### Now with the consideration of 2018 Population"
   ]
  },
  {
   "cell_type": "code",
   "execution_count": 36,
   "metadata": {},
   "outputs": [
    {
     "name": "stderr",
     "output_type": "stream",
     "text": [
      "C:\\Users\\alvar\\Anaconda3\\lib\\site-packages\\ipykernel_launcher.py:3: SettingWithCopyWarning: \n",
      "A value is trying to be set on a copy of a slice from a DataFrame.\n",
      "Try using .loc[row_indexer,col_indexer] = value instead\n",
      "\n",
      "See the caveats in the documentation: http://pandas.pydata.org/pandas-docs/stable/indexing.html#indexing-view-versus-copy\n",
      "  This is separate from the ipykernel package so we can avoid doing imports until\n",
      "C:\\Users\\alvar\\Anaconda3\\lib\\site-packages\\ipykernel_launcher.py:4: SettingWithCopyWarning: \n",
      "A value is trying to be set on a copy of a slice from a DataFrame.\n",
      "Try using .loc[row_indexer,col_indexer] = value instead\n",
      "\n",
      "See the caveats in the documentation: http://pandas.pydata.org/pandas-docs/stable/indexing.html#indexing-view-versus-copy\n",
      "  after removing the cwd from sys.path.\n",
      "C:\\Users\\alvar\\Anaconda3\\lib\\site-packages\\ipykernel_launcher.py:5: SettingWithCopyWarning: \n",
      "A value is trying to be set on a copy of a slice from a DataFrame.\n",
      "Try using .loc[row_indexer,col_indexer] = value instead\n",
      "\n",
      "See the caveats in the documentation: http://pandas.pydata.org/pandas-docs/stable/indexing.html#indexing-view-versus-copy\n",
      "  \"\"\"\n"
     ]
    },
    {
     "data": {
      "text/html": [
       "<div>\n",
       "<style scoped>\n",
       "    .dataframe tbody tr th:only-of-type {\n",
       "        vertical-align: middle;\n",
       "    }\n",
       "\n",
       "    .dataframe tbody tr th {\n",
       "        vertical-align: top;\n",
       "    }\n",
       "\n",
       "    .dataframe thead th {\n",
       "        text-align: right;\n",
       "    }\n",
       "</style>\n",
       "<table border=\"1\" class=\"dataframe\">\n",
       "  <thead>\n",
       "    <tr style=\"text-align: right;\">\n",
       "      <th></th>\n",
       "      <th>Year</th>\n",
       "      <th>Population</th>\n",
       "      <th>Population Model 48 Year</th>\n",
       "      <th>Population Model 25 Year</th>\n",
       "      <th>Population Model 10 Year</th>\n",
       "    </tr>\n",
       "  </thead>\n",
       "  <tbody>\n",
       "    <tr>\n",
       "      <th>48</th>\n",
       "      <td>2018</td>\n",
       "      <td>423908.0</td>\n",
       "      <td>&lt;built-in function zeros&gt;</td>\n",
       "      <td>&lt;built-in function zeros&gt;</td>\n",
       "      <td>&lt;built-in function zeros&gt;</td>\n",
       "    </tr>\n",
       "    <tr>\n",
       "      <th>49</th>\n",
       "      <td>2019</td>\n",
       "      <td>NaN</td>\n",
       "      <td>&lt;built-in function zeros&gt;</td>\n",
       "      <td>&lt;built-in function zeros&gt;</td>\n",
       "      <td>&lt;built-in function zeros&gt;</td>\n",
       "    </tr>\n",
       "    <tr>\n",
       "      <th>50</th>\n",
       "      <td>2020</td>\n",
       "      <td>NaN</td>\n",
       "      <td>&lt;built-in function zeros&gt;</td>\n",
       "      <td>&lt;built-in function zeros&gt;</td>\n",
       "      <td>&lt;built-in function zeros&gt;</td>\n",
       "    </tr>\n",
       "    <tr>\n",
       "      <th>51</th>\n",
       "      <td>2021</td>\n",
       "      <td>NaN</td>\n",
       "      <td>&lt;built-in function zeros&gt;</td>\n",
       "      <td>&lt;built-in function zeros&gt;</td>\n",
       "      <td>&lt;built-in function zeros&gt;</td>\n",
       "    </tr>\n",
       "    <tr>\n",
       "      <th>52</th>\n",
       "      <td>2022</td>\n",
       "      <td>NaN</td>\n",
       "      <td>&lt;built-in function zeros&gt;</td>\n",
       "      <td>&lt;built-in function zeros&gt;</td>\n",
       "      <td>&lt;built-in function zeros&gt;</td>\n",
       "    </tr>\n",
       "  </tbody>\n",
       "</table>\n",
       "</div>"
      ],
      "text/plain": [
       "    Year  Population   Population Model 48 Year   Population Model 25 Year  \\\n",
       "48  2018    423908.0  <built-in function zeros>  <built-in function zeros>   \n",
       "49  2019         NaN  <built-in function zeros>  <built-in function zeros>   \n",
       "50  2020         NaN  <built-in function zeros>  <built-in function zeros>   \n",
       "51  2021         NaN  <built-in function zeros>  <built-in function zeros>   \n",
       "52  2022         NaN  <built-in function zeros>  <built-in function zeros>   \n",
       "\n",
       "     Population Model 10 Year  \n",
       "48  <built-in function zeros>  \n",
       "49  <built-in function zeros>  \n",
       "50  <built-in function zeros>  \n",
       "51  <built-in function zeros>  \n",
       "52  <built-in function zeros>  "
      ]
     },
     "execution_count": 36,
     "metadata": {},
     "output_type": "execute_result"
    }
   ],
   "source": [
    "Cam_Popf2 = Cam_Pop[48:80]\n",
    "del Cam_Popf2['Population Model']\n",
    "Cam_Popf2['Population Model 48 Year'] = np.zeros\n",
    "Cam_Popf2['Population Model 25 Year'] = np.zeros\n",
    "Cam_Popf2['Population Model 10 Year'] = np.zeros\n",
    "Cam_Popf2.head()"
   ]
  },
  {
   "cell_type": "code",
   "execution_count": 37,
   "metadata": {},
   "outputs": [],
   "source": [
    "f_Year = Cam_Popf2['Year'] #Using the 3 models to predict from 2018 forward\n",
    "t_final = f_Year - f_Year[48]\n",
    "Initial_Pop = Cam_Popf2['Population']\n",
    "final_10 = model10.predict(t_final)\n",
    "final_25 = model25.predict(t_final)\n",
    "final_48 = model.predict(t_final)"
   ]
  },
  {
   "cell_type": "code",
   "execution_count": 38,
   "metadata": {},
   "outputs": [],
   "source": [
    "Mf_48 = Cam_Popf2['Population Model 48 Year'] #variable for easier plotting\n",
    "Mf_25 = Cam_Popf2['Population Model 25 Year']\n",
    "Mf_10 = Cam_Popf2['Population Model 10 Year']"
   ]
  },
  {
   "cell_type": "code",
   "execution_count": 39,
   "metadata": {
    "scrolled": true
   },
   "outputs": [
    {
     "data": {
      "text/html": [
       "<div>\n",
       "<style scoped>\n",
       "    .dataframe tbody tr th:only-of-type {\n",
       "        vertical-align: middle;\n",
       "    }\n",
       "\n",
       "    .dataframe tbody tr th {\n",
       "        vertical-align: top;\n",
       "    }\n",
       "\n",
       "    .dataframe thead th {\n",
       "        text-align: right;\n",
       "    }\n",
       "</style>\n",
       "<table border=\"1\" class=\"dataframe\">\n",
       "  <thead>\n",
       "    <tr style=\"text-align: right;\">\n",
       "      <th></th>\n",
       "      <th>Year</th>\n",
       "      <th>Population</th>\n",
       "      <th>Population Model 48 Year</th>\n",
       "      <th>Population Model 25 Year</th>\n",
       "      <th>Population Model 10 Year</th>\n",
       "    </tr>\n",
       "  </thead>\n",
       "  <tbody>\n",
       "    <tr>\n",
       "      <th>48</th>\n",
       "      <td>2018</td>\n",
       "      <td>423908.0</td>\n",
       "      <td>&lt;built-in function zeros&gt;</td>\n",
       "      <td>&lt;built-in function zeros&gt;</td>\n",
       "      <td>&lt;built-in function zeros&gt;</td>\n",
       "    </tr>\n",
       "    <tr>\n",
       "      <th>49</th>\n",
       "      <td>2019</td>\n",
       "      <td>NaN</td>\n",
       "      <td>&lt;built-in function zeros&gt;</td>\n",
       "      <td>&lt;built-in function zeros&gt;</td>\n",
       "      <td>&lt;built-in function zeros&gt;</td>\n",
       "    </tr>\n",
       "    <tr>\n",
       "      <th>50</th>\n",
       "      <td>2020</td>\n",
       "      <td>NaN</td>\n",
       "      <td>&lt;built-in function zeros&gt;</td>\n",
       "      <td>&lt;built-in function zeros&gt;</td>\n",
       "      <td>&lt;built-in function zeros&gt;</td>\n",
       "    </tr>\n",
       "    <tr>\n",
       "      <th>51</th>\n",
       "      <td>2021</td>\n",
       "      <td>NaN</td>\n",
       "      <td>&lt;built-in function zeros&gt;</td>\n",
       "      <td>&lt;built-in function zeros&gt;</td>\n",
       "      <td>&lt;built-in function zeros&gt;</td>\n",
       "    </tr>\n",
       "    <tr>\n",
       "      <th>52</th>\n",
       "      <td>2022</td>\n",
       "      <td>NaN</td>\n",
       "      <td>&lt;built-in function zeros&gt;</td>\n",
       "      <td>&lt;built-in function zeros&gt;</td>\n",
       "      <td>&lt;built-in function zeros&gt;</td>\n",
       "    </tr>\n",
       "  </tbody>\n",
       "</table>\n",
       "</div>"
      ],
      "text/plain": [
       "    Year  Population   Population Model 48 Year   Population Model 25 Year  \\\n",
       "48  2018    423908.0  <built-in function zeros>  <built-in function zeros>   \n",
       "49  2019         NaN  <built-in function zeros>  <built-in function zeros>   \n",
       "50  2020         NaN  <built-in function zeros>  <built-in function zeros>   \n",
       "51  2021         NaN  <built-in function zeros>  <built-in function zeros>   \n",
       "52  2022         NaN  <built-in function zeros>  <built-in function zeros>   \n",
       "\n",
       "     Population Model 10 Year  \n",
       "48  <built-in function zeros>  \n",
       "49  <built-in function zeros>  \n",
       "50  <built-in function zeros>  \n",
       "51  <built-in function zeros>  \n",
       "52  <built-in function zeros>  "
      ]
     },
     "execution_count": 39,
     "metadata": {},
     "output_type": "execute_result"
    }
   ],
   "source": [
    "Mf_10 = np.exp(final_10)*Initial_Pop[48] #filling the columns out and transforming back from natural log\n",
    "Mf_25 = np.exp(final_25)*Initial_Pop[48]\n",
    "Mf_48 = np.exp(final_48)*Initial_Pop[48]\n",
    "Cam_Popf2.head()"
   ]
  },
  {
   "cell_type": "code",
   "execution_count": 40,
   "metadata": {},
   "outputs": [
    {
     "data": {
      "image/png": "[encoded data removed]",
      "text/plain": [
       "<Figure size 432x288 with 1 Axes>"
      ]
     },
     "metadata": {
      "needs_background": "light"
     },
     "output_type": "display_data"
    }
   ],
   "source": [
    "fig, ax = plt.subplots()\n",
    "plt.plot(f_Year, Mf_10, label = '10 Year Model' )\n",
    "plt.plot(f_Year, Mf_25, label = '25 Year Model')\n",
    "plt.plot(f_Year, Mf_48, label = '48 Year Model')\n",
    "plt.legend()\n",
    "ax.set_ylabel('Predicted Population')\n",
    "ax.set_xlabel('Year')\n",
    "ax.set_title('Population Estimates Using 10, 25, and 48 Year Models')\n",
    "plt.show()"
   ]
  },
  {
   "cell_type": "markdown",
   "metadata": {},
   "source": [
    "### Linear models instead of natural log models"
   ]
  },
  {
   "cell_type": "code",
   "execution_count": 41,
   "metadata": {},
   "outputs": [],
   "source": [
    "TP = Cam_Pop['Year']# Creating Time Periods & Population Variables\n",
    "Pop_all = Cam_Pop['Population']\n",
    "T48 = TP[0:49]\n",
    "Time_L48 = T48 - TP[0]\n",
    "T25 = TP[23:49]\n",
    "Time_L25 = T25 - TP[23]\n",
    "T10 = TP[38:49]\n",
    "Time_L10 = T10 - TP[38]\n",
    "Pop48 = Pop_all[0:49] - Pop_all[0]\n",
    "Pop25 = Pop_all[23:49] - Pop_all[23]\n",
    "Pop10 = Pop_all[38:49] - Pop_all[38]\n",
    "T18 = TP[48:80]\n",
    "Time_Final = T18 - TP[48]"
   ]
  },
  {
   "cell_type": "code",
   "execution_count": 42,
   "metadata": {},
   "outputs": [
    {
     "data": {
      "text/plain": [
       "(38        0.0\n",
       " 39     7303.0\n",
       " 40    13220.0\n",
       " 41    20291.0\n",
       " 42    23098.0\n",
       " 43    24705.0\n",
       " 44    26467.0\n",
       " 45    27058.0\n",
       " 46    29137.0\n",
       " 47    30181.0\n",
       " 48    30908.0\n",
       " Name: Population, dtype: float64, 38     0\n",
       " 39     1\n",
       " 40     2\n",
       " 41     3\n",
       " 42     4\n",
       " 43     5\n",
       " 44     6\n",
       " 45     7\n",
       " 46     8\n",
       " 47     9\n",
       " 48    10\n",
       " Name: Year, dtype: int64)"
      ]
     },
     "execution_count": 42,
     "metadata": {},
     "output_type": "execute_result"
    }
   ],
   "source": [
    "Pop10, Time_L10"
   ]
  },
  {
   "cell_type": "code",
   "execution_count": 43,
   "metadata": {},
   "outputs": [],
   "source": [
    "L_model10 = sm.OLS(Pop10,Time_L10).fit() #This creates the models\n",
    "L_model25 = sm.OLS(Pop25,Time_L25).fit()\n",
    "L_model48 = sm.OLS(Pop48,Time_L48).fit()"
   ]
  },
  {
   "cell_type": "code",
   "execution_count": 44,
   "metadata": {},
   "outputs": [],
   "source": [
    "predictions_L10 = L_model10.predict(Time_Final) # This makes predictions for pop add using the models for 2018-2050\n",
    "predictions_L25 = L_model25.predict(Time_Final)\n",
    "predictions_L48 = L_model48.predict(Time_Final)"
   ]
  },
  {
   "cell_type": "code",
   "execution_count": 45,
   "metadata": {},
   "outputs": [],
   "source": [
    "Population_L10 = predictions_L10 + Pop_all[48] # This adds the initial 2018 Population to the increases\n",
    "Population_L25 = predictions_L25 + Pop_all[48]\n",
    "Population_L48 = predictions_L48 + Pop_all[48]"
   ]
  },
  {
   "cell_type": "code",
   "execution_count": 46,
   "metadata": {},
   "outputs": [
    {
     "data": {
      "image/png": "[encoded data removed]",
      "text/plain": [
       "<Figure size 432x288 with 1 Axes>"
      ]
     },
     "metadata": {
      "needs_background": "light"
     },
     "output_type": "display_data"
    }
   ],
   "source": [
    "fig, ax = plt.subplots()\n",
    "plt.plot(f_Year, Mf_10, label = '10 Year Ln Model', color = \"red\", linestyle = '--')\n",
    "plt.plot(f_Year, Mf_25, label = '25 Year Ln Model', color = 'blue', linestyle = '--')\n",
    "plt.plot(f_Year, Mf_48, label = '48 Year Ln Model', color = 'green', linestyle = '--')\n",
    "plt.plot(f_Year, Population_L10, label = '10 Year Linear Model', color = 'red')\n",
    "plt.plot(f_Year, Population_L25, label = '25 Year Linear Model', color = 'blue')\n",
    "plt.plot(f_Year, Population_L48, label = '48 Year Linear Model', color = 'green')\n",
    "plt.legend()\n",
    "ax.set_ylabel('Predicted Population')\n",
    "ax.set_xlabel('Year')\n",
    "ax.set_title('Population Estimates Using 10, 25, and 48 Year Models')\n",
    "plt.show()"
   ]
  },
  {
   "cell_type": "code",
   "execution_count": 47,
   "metadata": {},
   "outputs": [],
   "source": [
    "Pop_ff = Pop_all[0:49]\n",
    "Year_ff = TP[0:49]"
   ]
  },
  {
   "cell_type": "code",
   "execution_count": 48,
   "metadata": {},
   "outputs": [
    {
     "data": {
      "image/png": "[encoded data removed]",
      "text/plain": [
       "<Figure size 432x288 with 1 Axes>"
      ]
     },
     "metadata": {
      "needs_background": "light"
     },
     "output_type": "display_data"
    }
   ],
   "source": [
    "# Now to see the full picture!!!\n",
    "fig, ax = plt.subplots()\n",
    "plt.plot(f_Year, Mf_10, label = '10 Year Ln Model', color = \"red\", linestyle = '--')\n",
    "plt.plot(f_Year, Mf_25, label = '25 Year Ln Model', color = 'blue', linestyle = '--')\n",
    "plt.plot(f_Year, Mf_48, label = '48 Year Ln Model', color = 'green', linestyle = '--')\n",
    "plt.plot(f_Year, Population_L10, label = '10 Year Linear Model', color = 'red')\n",
    "plt.plot(f_Year, Population_L25, label = '25 Year Linear Model', color = 'blue')\n",
    "plt.plot(f_Year, Population_L48, label = '48 Year Linear Model', color = 'green')\n",
    "plt.plot(Year_ff, Pop_ff, label = 'Population', color = 'black')\n",
    "plt.legend()\n",
    "ax.set_ylabel('Predicted Population')\n",
    "ax.set_xlabel('Year')\n",
    "ax.set_title('Population Estimates Using 10, 25, and 48 Year Models')\n",
    "plt.show()"
   ]
  },
  {
   "cell_type": "code",
   "execution_count": null,
   "metadata": {},
   "outputs": [],
   "source": []
  }
 ],
 "metadata": {
  "kernelspec": {
   "display_name": "Python 3",
   "language": "python",
   "name": "python3"
  },
  "language_info": {
   "codemirror_mode": {
    "name": "ipython",
    "version": 3
   },
   "file_extension": ".py",
   "mimetype": "text/x-python",
   "name": "python",
   "nbconvert_exporter": "python",
   "pygments_lexer": "ipython3",
   "version": "3.6.8"
  }
 },
 "nbformat": 4,
 "nbformat_minor": 2
}
